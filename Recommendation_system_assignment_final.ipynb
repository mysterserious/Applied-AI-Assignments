{
  "nbformat": 4,
  "nbformat_minor": 0,
  "metadata": {
    "colab": {
      "name": "Copy of Recommendation_system_assignment_final.ipynb",
      "provenance": [],
      "collapsed_sections": []
    },
    "kernelspec": {
      "display_name": "Python 3",
      "language": "python",
      "name": "python3"
    },
    "language_info": {
      "codemirror_mode": {
        "name": "ipython",
        "version": 3
      },
      "file_extension": ".py",
      "mimetype": "text/x-python",
      "name": "python",
      "nbconvert_exporter": "python",
      "pygments_lexer": "ipython3",
      "version": "3.6.3"
    }
  },
  "cells": [
    {
      "cell_type": "markdown",
      "metadata": {
        "id": "YeM0ZBWUVtXR"
      },
      "source": [
        "# <font color='red'>SGD Algorithm to predict movie ratings</font>"
      ]
    },
    {
      "cell_type": "markdown",
      "metadata": {
        "id": "M2vyJqSlmmjM"
      },
      "source": [
        "**There will be some functions that start with the word \"grader\" ex: grader_matrix(), grader_mean(), grader_dim() etc, you should not change those function definition.<br><br>Every Grader function has to return True.**"
      ]
    },
    {
      "cell_type": "markdown",
      "metadata": {
        "id": "AL6njTf8WBO0"
      },
      "source": [
        "<pre>\n",
        "1. Download the data from <a href='https://drive.google.com/open?id=1-1z7iDB52cB6_JpO7Dqa-eOYSs-mivpq'> here </a>\n",
        "2. The data will be of this format, each data point is represented as a triplet of user_id, movie_id and rating \n",
        "<table>\n",
        "<tr><th>user_id</th><th>movie_id</th><th>rating</th></tr>\n",
        "<tr><td>77</td><td>236</td><td>3</td></tr>\n",
        "<tr><td>471</td><td>208</td><td>5</td></tr>\n",
        "<tr><td>641</td><td>401</td><td>4</td></tr>\n",
        "<tr><td>31</td><td>298</td><td>4</td></tr>\n",
        "<tr><td>58</td><td>504</td><td>5</td></tr>\n",
        "<tr><td>235</td><td>727</td><td>5</td></tr>\n",
        "</table>"
      ]
    },
    {
      "cell_type": "markdown",
      "metadata": {
        "id": "73dhFsT0WSSB"
      },
      "source": [
        "## <font color='red'>Task 1</font>"
      ]
    },
    {
      "cell_type": "markdown",
      "metadata": {
        "id": "HY0frS6EWaEV"
      },
      "source": [
        "<font color='red'><b>Predict the rating for a given (user_id, movie_id) pair </b> </font>\n"
      ]
    },
    {
      "cell_type": "markdown",
      "metadata": {
        "id": "R-ISYxaVbT8L"
      },
      "source": [
        "Predicted rating $\\hat{y}_{ij}$ for user i, movied j pair is calcuated as $\\hat{y}_{ij} = \\mu + b_i + c_j + u_i^T v_j$ , here we will be finding the best values of $b_{i}$ and $c_{j}$ using SGD algorithm with the optimization problem for N users and M movies is defined as"
      ]
    },
    {
      "cell_type": "markdown",
      "metadata": {
        "id": "8Aj8SXeQWlZd"
      },
      "source": [
        "$$\n",
        "L = \\min_{ b, c, \\{ u_i \\}_{i=1}^N, \\{ v_j \\}_{j=1}^M}\n",
        "\\quad\n",
        "\\alpha \\Big(\n",
        "    \\sum_{j} \\sum_{k} v_{jk}^2 \n",
        "    + \\sum_{i} \\sum_{k} u_{ik}^2 \n",
        "    + \\sum_{i} b_i^2\n",
        "    + \\sum_{j} c_i^2\n",
        "    \\Big)\n",
        "+ \\sum_{i,j \\in \\mathcal{I}^{\\text{train}}}\n",
        "    (y_{ij} - \\mu - b_i - c_j - u_i^T v_j)^2\n",
        "$$"
      ]
    },
    {
      "cell_type": "markdown",
      "metadata": {
        "id": "2Q5bnWyZXrM7"
      },
      "source": [
        "<ul>\n",
        "<li><span class=\"math\">\\(\\mu\\)</span> : scalar mean rating</li>\n",
        "<li><span class=\"math\">\\(b_i\\)</span> : scalar bias term for user <span class=\"math\">\\(i\\)</span></li>\n",
        "<li><span class=\"math\">\\(c_j\\)</span> : scalar bias term for movie <span class=\"math\">\\(j\\)</span></li>\n",
        "<li><span class=\"math\">\\(u_i\\)</span> : K-dimensional vector for user <span class=\"math\">\\(i\\)</span></li>\n",
        "<li><span class=\"math\">\\(v_j\\)</span> : K-dimensional vector for movie <span class=\"math\">\\(j\\)</span></li>\n",
        "</ul>\n",
        "\n",
        " $ \\ $\n"
      ]
    },
    {
      "cell_type": "markdown",
      "metadata": {
        "id": "q1cf4CunbEr4"
      },
      "source": [
        "\n",
        "\n",
        "\n",
        "*.  We will be giving you some functions, please write code in that functions only.\n",
        "\n",
        "*.  After every function, we will be giving you expected output, please make sure that you get that output. \n",
        "\n",
        "\n",
        "\n"
      ]
    },
    {
      "cell_type": "markdown",
      "metadata": {
        "id": "ZWQyB5hfy3u7"
      },
      "source": [
        "1. Construct adjacency matrix with the given data, assuming its graph and the weight of each edge is the rating given by user to the movie\n",
        "\n",
        "<img src='https://i.imgur.com/rmUCGMb.jpg' width=200>\n",
        "\n",
        "   you can construct this matrix like $A[i][j]=r_{ij}$ here $i$ is user_id, $j$ is movie_id and $r_{ij}$ is rating given by user $i$ to the movie $j$\n",
        "\n",
        "   Hint : you can create adjacency matrix using <a href='https://docs.scipy.org/doc/scipy/reference/generated/scipy.sparse.csr_matrix.html'> csr_matrix</a>\n",
        "\n",
        "2. We will Apply SVD decomposition on the Adjaceny matrix <a href='https://stackoverflow.com/a/31528944/4084039'>link1</a>, <a href='https://machinelearningmastery.com/singular-value-decomposition-for-machine-learning/'> link2</a> and get three matrices $U, \\sum, V$ such that $U \\times \\sum \\times V^T = A$, <br> \n",
        "if $A$ is of dimensions $N \\times M$ then <br>\n",
        "U is of $N \\times k$, <br>\n",
        "$\\sum$ is of $k \\times k$ and <br>\n",
        "$V$ is $M \\times k$ dimensions. <br>\n",
        "\n",
        "   *.  So the matrix $U$ can be represented as matrix representation of users, where each row $u_{i}$ represents a k-dimensional vector for a user\n",
        "\n",
        "   *. So the matrix $V$ can be represented as matrix representation of movies, where each row $v_{j}$ represents a k-dimensional vector for a movie.\n",
        "3. Compute $\\mu$ , $\\mu$  represents the mean of all the rating given in the dataset.(write your code in <font color='blue'>def m_u()</font>)\n",
        "4. For each unique user initilize a bias value $B_{i}$ to zero, so if we have $N$ users $B$ will be a $N$ dimensional vector, the $i^{th}$ value of the $B$ will corresponds to the bias term for $i^{th}$ user (write your code in <font color='blue'>def initialize()</font>)\n",
        "\n",
        "5. For each unique movie initilize a bias value $C_{j}$ zero, so if we have $M$ movies $C$ will be a $M$ dimensional vector, the $j^{th}$ value of the $C$ will corresponds to the bias term for $j^{th}$ movie (write your code in <font color='blue'>def initialize()</font>)\n",
        "\n",
        "6. Compute dL/db_i (Write you code in <font color='blue'> def derivative_db()</font>)\n",
        "7. Compute dL/dc_j(write your code in <font color='blue'> def derivative_dc()</font>\n",
        "\n",
        "8. Print the mean squared error with predicted ratings.\n",
        "\n",
        "<pre>\n",
        "for each epoch:\n",
        "    for each pair of (user, movie):\n",
        "        b_i =  b_i - learning_rate * dL/db_i\n",
        "        c_j =  c_j - learning_rate * dL/dc_j\n",
        "predict the ratings with formula\n",
        "</pre>\n",
        "$\\hat{y}_{ij} = \\mu + b_i + c_j + \\text{dot_product}(u_i , v_j) $\n",
        "\n",
        "9. you can choose any learning rate and regularization term in the range $10^{-3}  \\text{ to } 10^2$  <br>\n",
        "  \n",
        "10. __bonus__: instead of using SVD decomposition you can learn the vectors $u_i$, $v_j$ with the help of SGD algo similar to $b_i$ and $c_j$ "
      ]
    },
    {
      "cell_type": "code",
      "metadata": {
        "id": "VlPVJoZ8JN4P"
      },
      "source": [
        ""
      ],
      "execution_count": null,
      "outputs": []
    },
    {
      "cell_type": "code",
      "metadata": {
        "id": "Q2XrlYeuJOFq"
      },
      "source": [
        ""
      ],
      "execution_count": null,
      "outputs": []
    },
    {
      "cell_type": "markdown",
      "metadata": {
        "id": "3-aBnRepA6gy"
      },
      "source": [
        "<br>"
      ]
    },
    {
      "cell_type": "markdown",
      "metadata": {
        "id": "IP_6xMAZA4mE"
      },
      "source": [
        " # <font color='red'>Task 2 </font>"
      ]
    },
    {
      "cell_type": "markdown",
      "metadata": {
        "id": "-9HCN_3WA2au"
      },
      "source": [
        "As we know U is the learned matrix of user vectors, with its i-th row as the vector ui for user i. Each row of U can be seen as a \"feature vector\" for a particular user.\n",
        "\n",
        "The question we'd like to investigate is this: do our computed per-user features that are optimized for predicting movie ratings contain anything to do with gender?\n",
        "\n",
        "The provided data file <a href='https://drive.google.com/open?id=1PHFdJh_4gIPiLH5Q4UErH8GK71hTrzlY'>user_info.csv</a> contains an is_male column indicating which users in the dataset are male. Can you predict this signal given the features U?\n",
        "\n",
        "\n",
        "> __Note 1__ : there is no train test split in the data, the goal of this assignment is to give an intution about how to do matrix factorization with the help of SGD and application of truncated SVD. for better understanding of the collabarative fillerting please check netflix case study. <br><br>\n",
        "> __Note 2__ : Check if scaling of $U$, $V$ matrices improve the metric "
      ]
    },
    {
      "cell_type": "markdown",
      "metadata": {
        "id": "ovFCo1JCBIXM"
      },
      "source": [
        "<br>\n",
        "\n",
        "\n",
        "<br>"
      ]
    },
    {
      "cell_type": "markdown",
      "metadata": {
        "id": "iVJo-3njBQLf"
      },
      "source": [
        "<font color='red'> Reading the csv file </font>"
      ]
    },
    {
      "cell_type": "code",
      "source": [
        "!gdown --id 1-1z7iDB52cB6_JpO7Dqa-eOYSs-mivpq"
      ],
      "metadata": {
        "colab": {
          "base_uri": "https://localhost:8080/"
        },
        "id": "H980fBSaoPKo",
        "outputId": "9bb938d1-813a-472f-c869-2cfc708ae475"
      },
      "execution_count": 1,
      "outputs": [
        {
          "output_type": "stream",
          "name": "stdout",
          "text": [
            "Downloading...\n",
            "From: https://drive.google.com/uc?id=1-1z7iDB52cB6_JpO7Dqa-eOYSs-mivpq\n",
            "To: /content/ratings_train.csv\n",
            "\r  0% 0.00/880k [00:00<?, ?B/s]\r100% 880k/880k [00:00<00:00, 76.2MB/s]\n"
          ]
        }
      ]
    },
    {
      "cell_type": "code",
      "metadata": {
        "colab": {
          "base_uri": "https://localhost:8080/",
          "height": 206
        },
        "id": "hEhmfRD637EW",
        "outputId": "ec498811-4c26-470e-c7eb-4cd894a658af"
      },
      "source": [
        "import pandas as pd\n",
        "data=pd.read_csv('ratings_train.csv')\n",
        "data.head()"
      ],
      "execution_count": 2,
      "outputs": [
        {
          "output_type": "execute_result",
          "data": {
            "text/html": [
              "\n",
              "  <div id=\"df-cef349ed-5384-446b-885c-5939981b186b\">\n",
              "    <div class=\"colab-df-container\">\n",
              "      <div>\n",
              "<style scoped>\n",
              "    .dataframe tbody tr th:only-of-type {\n",
              "        vertical-align: middle;\n",
              "    }\n",
              "\n",
              "    .dataframe tbody tr th {\n",
              "        vertical-align: top;\n",
              "    }\n",
              "\n",
              "    .dataframe thead th {\n",
              "        text-align: right;\n",
              "    }\n",
              "</style>\n",
              "<table border=\"1\" class=\"dataframe\">\n",
              "  <thead>\n",
              "    <tr style=\"text-align: right;\">\n",
              "      <th></th>\n",
              "      <th>user_id</th>\n",
              "      <th>item_id</th>\n",
              "      <th>rating</th>\n",
              "    </tr>\n",
              "  </thead>\n",
              "  <tbody>\n",
              "    <tr>\n",
              "      <th>0</th>\n",
              "      <td>772</td>\n",
              "      <td>36</td>\n",
              "      <td>3</td>\n",
              "    </tr>\n",
              "    <tr>\n",
              "      <th>1</th>\n",
              "      <td>471</td>\n",
              "      <td>228</td>\n",
              "      <td>5</td>\n",
              "    </tr>\n",
              "    <tr>\n",
              "      <th>2</th>\n",
              "      <td>641</td>\n",
              "      <td>401</td>\n",
              "      <td>4</td>\n",
              "    </tr>\n",
              "    <tr>\n",
              "      <th>3</th>\n",
              "      <td>312</td>\n",
              "      <td>98</td>\n",
              "      <td>4</td>\n",
              "    </tr>\n",
              "    <tr>\n",
              "      <th>4</th>\n",
              "      <td>58</td>\n",
              "      <td>504</td>\n",
              "      <td>5</td>\n",
              "    </tr>\n",
              "  </tbody>\n",
              "</table>\n",
              "</div>\n",
              "      <button class=\"colab-df-convert\" onclick=\"convertToInteractive('df-cef349ed-5384-446b-885c-5939981b186b')\"\n",
              "              title=\"Convert this dataframe to an interactive table.\"\n",
              "              style=\"display:none;\">\n",
              "        \n",
              "  <svg xmlns=\"http://www.w3.org/2000/svg\" height=\"24px\"viewBox=\"0 0 24 24\"\n",
              "       width=\"24px\">\n",
              "    <path d=\"M0 0h24v24H0V0z\" fill=\"none\"/>\n",
              "    <path d=\"M18.56 5.44l.94 2.06.94-2.06 2.06-.94-2.06-.94-.94-2.06-.94 2.06-2.06.94zm-11 1L8.5 8.5l.94-2.06 2.06-.94-2.06-.94L8.5 2.5l-.94 2.06-2.06.94zm10 10l.94 2.06.94-2.06 2.06-.94-2.06-.94-.94-2.06-.94 2.06-2.06.94z\"/><path d=\"M17.41 7.96l-1.37-1.37c-.4-.4-.92-.59-1.43-.59-.52 0-1.04.2-1.43.59L10.3 9.45l-7.72 7.72c-.78.78-.78 2.05 0 2.83L4 21.41c.39.39.9.59 1.41.59.51 0 1.02-.2 1.41-.59l7.78-7.78 2.81-2.81c.8-.78.8-2.07 0-2.86zM5.41 20L4 18.59l7.72-7.72 1.47 1.35L5.41 20z\"/>\n",
              "  </svg>\n",
              "      </button>\n",
              "      \n",
              "  <style>\n",
              "    .colab-df-container {\n",
              "      display:flex;\n",
              "      flex-wrap:wrap;\n",
              "      gap: 12px;\n",
              "    }\n",
              "\n",
              "    .colab-df-convert {\n",
              "      background-color: #E8F0FE;\n",
              "      border: none;\n",
              "      border-radius: 50%;\n",
              "      cursor: pointer;\n",
              "      display: none;\n",
              "      fill: #1967D2;\n",
              "      height: 32px;\n",
              "      padding: 0 0 0 0;\n",
              "      width: 32px;\n",
              "    }\n",
              "\n",
              "    .colab-df-convert:hover {\n",
              "      background-color: #E2EBFA;\n",
              "      box-shadow: 0px 1px 2px rgba(60, 64, 67, 0.3), 0px 1px 3px 1px rgba(60, 64, 67, 0.15);\n",
              "      fill: #174EA6;\n",
              "    }\n",
              "\n",
              "    [theme=dark] .colab-df-convert {\n",
              "      background-color: #3B4455;\n",
              "      fill: #D2E3FC;\n",
              "    }\n",
              "\n",
              "    [theme=dark] .colab-df-convert:hover {\n",
              "      background-color: #434B5C;\n",
              "      box-shadow: 0px 1px 3px 1px rgba(0, 0, 0, 0.15);\n",
              "      filter: drop-shadow(0px 1px 2px rgba(0, 0, 0, 0.3));\n",
              "      fill: #FFFFFF;\n",
              "    }\n",
              "  </style>\n",
              "\n",
              "      <script>\n",
              "        const buttonEl =\n",
              "          document.querySelector('#df-cef349ed-5384-446b-885c-5939981b186b button.colab-df-convert');\n",
              "        buttonEl.style.display =\n",
              "          google.colab.kernel.accessAllowed ? 'block' : 'none';\n",
              "\n",
              "        async function convertToInteractive(key) {\n",
              "          const element = document.querySelector('#df-cef349ed-5384-446b-885c-5939981b186b');\n",
              "          const dataTable =\n",
              "            await google.colab.kernel.invokeFunction('convertToInteractive',\n",
              "                                                     [key], {});\n",
              "          if (!dataTable) return;\n",
              "\n",
              "          const docLinkHtml = 'Like what you see? Visit the ' +\n",
              "            '<a target=\"_blank\" href=https://colab.research.google.com/notebooks/data_table.ipynb>data table notebook</a>'\n",
              "            + ' to learn more about interactive tables.';\n",
              "          element.innerHTML = '';\n",
              "          dataTable['output_type'] = 'display_data';\n",
              "          await google.colab.output.renderOutput(dataTable, element);\n",
              "          const docLink = document.createElement('div');\n",
              "          docLink.innerHTML = docLinkHtml;\n",
              "          element.appendChild(docLink);\n",
              "        }\n",
              "      </script>\n",
              "    </div>\n",
              "  </div>\n",
              "  "
            ],
            "text/plain": [
              "   user_id  item_id  rating\n",
              "0      772       36       3\n",
              "1      471      228       5\n",
              "2      641      401       4\n",
              "3      312       98       4\n",
              "4       58      504       5"
            ]
          },
          "metadata": {},
          "execution_count": 2
        }
      ]
    },
    {
      "cell_type": "code",
      "metadata": {
        "colab": {
          "base_uri": "https://localhost:8080/"
        },
        "id": "66ibGJ74hCde",
        "outputId": "f2da8b9e-6a48-4087-e8bd-3a39a1809936"
      },
      "source": [
        "data.shape"
      ],
      "execution_count": 3,
      "outputs": [
        {
          "output_type": "execute_result",
          "data": {
            "text/plain": [
              "(89992, 3)"
            ]
          },
          "metadata": {},
          "execution_count": 3
        }
      ]
    },
    {
      "cell_type": "markdown",
      "metadata": {
        "id": "mvB8SDS_hW03"
      },
      "source": [
        "<font color='red'>Create your adjacency matrix </font>"
      ]
    },
    {
      "cell_type": "code",
      "source": [
        "data.columns"
      ],
      "metadata": {
        "colab": {
          "base_uri": "https://localhost:8080/"
        },
        "id": "PH8eI1e3sLDB",
        "outputId": "07a40b1f-8fe5-4e6a-d9d9-0e0d8ef89c76"
      },
      "execution_count": 4,
      "outputs": [
        {
          "output_type": "execute_result",
          "data": {
            "text/plain": [
              "Index(['user_id', 'item_id', 'rating'], dtype='object')"
            ]
          },
          "metadata": {},
          "execution_count": 4
        }
      ]
    },
    {
      "cell_type": "code",
      "source": [
        "unique_users=list(set(data['user_id'].values))\n",
        "unique_movies=list(range(0,1681))\n",
        "print(len(unique_users))\n",
        "print(len(unique_movies))"
      ],
      "metadata": {
        "colab": {
          "base_uri": "https://localhost:8080/"
        },
        "id": "kc4x7SMksPds",
        "outputId": "476e40c5-6cb7-45a6-cb56-88914daee013"
      },
      "execution_count": 5,
      "outputs": [
        {
          "output_type": "stream",
          "name": "stdout",
          "text": [
            "943\n",
            "1681\n"
          ]
        }
      ]
    },
    {
      "cell_type": "code",
      "source": [
        "import numpy as np\n",
        "ajc=np.zeros(shape=(len(unique_users),len(unique_movies)))\n",
        "ajc.shape"
      ],
      "metadata": {
        "colab": {
          "base_uri": "https://localhost:8080/"
        },
        "id": "5mKU1oYNs1iN",
        "outputId": "35d3e3e7-25c8-4235-ea15-ab1ae73b4405"
      },
      "execution_count": 6,
      "outputs": [
        {
          "output_type": "execute_result",
          "data": {
            "text/plain": [
              "(943, 1681)"
            ]
          },
          "metadata": {},
          "execution_count": 6
        }
      ]
    },
    {
      "cell_type": "code",
      "source": [
        "print(len(unique_movies))"
      ],
      "metadata": {
        "colab": {
          "base_uri": "https://localhost:8080/"
        },
        "id": "cHDO4URmQnfR",
        "outputId": "1810c9e1-4b70-4aa5-e01c-7b3fa7c9458c"
      },
      "execution_count": 7,
      "outputs": [
        {
          "output_type": "stream",
          "name": "stdout",
          "text": [
            "1681\n"
          ]
        }
      ]
    },
    {
      "cell_type": "code",
      "source": [
        "for i in range(len(unique_users)):\n",
        "  for j in range(len(unique_movies)):\n",
        "    rating=0\n",
        "    d=data.loc[(data['user_id']==unique_users[i]) & (data['item_id']==unique_movies[j])]\n",
        "    if d.empty:\n",
        "      continue\n",
        "    else:\n",
        "      ajc[i][j]=d.iat[0,2]  "
      ],
      "metadata": {
        "id": "H8JYn34FGDwc"
      },
      "execution_count": 8,
      "outputs": []
    },
    {
      "cell_type": "code",
      "metadata": {
        "id": "t44MNT40hZQW"
      },
      "source": [
        "from scipy.sparse import csr_matrix\n",
        "adjacency_matrix = csr_matrix(ajc)"
      ],
      "execution_count": 9,
      "outputs": []
    },
    {
      "cell_type": "code",
      "metadata": {
        "id": "-mCgC0WbhZTO",
        "colab": {
          "base_uri": "https://localhost:8080/"
        },
        "outputId": "69d852f2-a3c5-4567-8cad-6eb6108311c1"
      },
      "source": [
        "adjacency_matrix.shape"
      ],
      "execution_count": 10,
      "outputs": [
        {
          "output_type": "execute_result",
          "data": {
            "text/plain": [
              "(943, 1681)"
            ]
          },
          "metadata": {},
          "execution_count": 10
        }
      ]
    },
    {
      "cell_type": "markdown",
      "metadata": {
        "id": "4acJD4ujEtD6"
      },
      "source": [
        "<font color='cyan'>Grader function - 1</font>"
      ]
    },
    {
      "cell_type": "code",
      "metadata": {
        "id": "2QuTzFBREsDV",
        "colab": {
          "base_uri": "https://localhost:8080/"
        },
        "outputId": "a8f4e000-f98a-4dea-d691-a9be591787fe"
      },
      "source": [
        "def grader_matrix(matrix):\n",
        "  assert(matrix.shape==(943,1681))\n",
        "  return True\n",
        "grader_matrix(adjacency_matrix)"
      ],
      "execution_count": 11,
      "outputs": [
        {
          "output_type": "execute_result",
          "data": {
            "text/plain": [
              "True"
            ]
          },
          "metadata": {},
          "execution_count": 11
        }
      ]
    },
    {
      "cell_type": "markdown",
      "metadata": {
        "id": "U7VwkRNeHpWE"
      },
      "source": [
        "**The unique items in the given csv file are 1662 only . But the id's vary from 0-1681 but they are not continuous and hence \n",
        "you'll get matrix of size 943x1681.**"
      ]
    },
    {
      "cell_type": "markdown",
      "metadata": {
        "id": "gXDf1RCUBsYN"
      },
      "source": [
        "<font color='red'> SVD decompostion</font>"
      ]
    },
    {
      "cell_type": "markdown",
      "metadata": {
        "id": "OJPWI9VwD_ih"
      },
      "source": [
        "Sample code for SVD decompostion"
      ]
    },
    {
      "cell_type": "code",
      "metadata": {
        "id": "GATD35bmBszc",
        "colab": {
          "base_uri": "https://localhost:8080/"
        },
        "outputId": "2febc7ba-5c7c-4228-83d3-4f07790661c5"
      },
      "source": [
        "from sklearn.utils.extmath import randomized_svd\n",
        "import numpy as np \n",
        "matrix = np.random.random((20, 10))\n",
        "U, Sigma, VT = randomized_svd(matrix, n_components=5,n_iter=5, random_state=None)\n",
        "print(U.shape)\n",
        "print(Sigma.shape)\n",
        "print(VT.T.shape)"
      ],
      "execution_count": 12,
      "outputs": [
        {
          "output_type": "stream",
          "name": "stdout",
          "text": [
            "(20, 5)\n",
            "(5,)\n",
            "(10, 5)\n"
          ]
        }
      ]
    },
    {
      "cell_type": "markdown",
      "metadata": {
        "id": "ePDgwALQEJoB"
      },
      "source": [
        "<font color='red'>Write your code for SVD decompostion</font>"
      ]
    },
    {
      "cell_type": "code",
      "metadata": {
        "id": "ZYnsKBmFEIg3",
        "colab": {
          "base_uri": "https://localhost:8080/"
        },
        "outputId": "7b57c48a-20c6-4099-c6d9-dc98481e3835"
      },
      "source": [
        "# Please use adjacency_matrix as matrix for SVD decompostion\n",
        "# You can choose n_components as your choice\n",
        "U,sigma,M=randomized_svd(adjacency_matrix,n_components=10,random_state=1)\n",
        "print(U.shape)\n",
        "print(sigma.shape)\n",
        "print(M.T.shape)"
      ],
      "execution_count": 13,
      "outputs": [
        {
          "output_type": "stream",
          "name": "stdout",
          "text": [
            "(943, 10)\n",
            "(10,)\n",
            "(1681, 10)\n"
          ]
        }
      ]
    },
    {
      "cell_type": "markdown",
      "metadata": {
        "id": "83Vh4NoO_JyU"
      },
      "source": [
        "<font color='red'>Compute mean of ratings</font>"
      ]
    },
    {
      "cell_type": "code",
      "metadata": {
        "id": "cBHuCn2QSEnl"
      },
      "source": [
        "def m_u(ratings):\n",
        "    '''In this function, we will compute mean for all the ratings'''\n",
        "    mu=sum(ratings)/len(ratings)\n",
        "    # you can use mean() function to do this\n",
        "    # check this (https://pandas.pydata.org/pandas-docs/stable/reference/api/pandas.DataFrame.mean.html) link for more details.\n",
        "    \n",
        "\n",
        "    return mu"
      ],
      "execution_count": 14,
      "outputs": []
    },
    {
      "cell_type": "code",
      "metadata": {
        "id": "iu1nn-1x3ebp",
        "colab": {
          "base_uri": "https://localhost:8080/"
        },
        "outputId": "f4cb23a3-f732-41fb-a74a-6d7fef5d3fd1"
      },
      "source": [
        "mu=m_u(data['rating'])\n",
        "print(mu)"
      ],
      "execution_count": 15,
      "outputs": [
        {
          "output_type": "stream",
          "name": "stdout",
          "text": [
            "3.529480398257623\n"
          ]
        }
      ]
    },
    {
      "cell_type": "markdown",
      "metadata": {
        "id": "76ooYQIdG_tf"
      },
      "source": [
        "<font color='cyan'>Grader function -2 </font>"
      ]
    },
    {
      "cell_type": "code",
      "metadata": {
        "id": "TZy1m67oG9r9",
        "colab": {
          "base_uri": "https://localhost:8080/"
        },
        "outputId": "57122799-b7ba-4ae1-cce0-8ba58f42ec29"
      },
      "source": [
        "def grader_mean(mu):\n",
        "  assert(np.round(mu,3)==3.529)\n",
        "  return True\n",
        "mu=m_u(data['rating'])\n",
        "grader_mean(mu)"
      ],
      "execution_count": 16,
      "outputs": [
        {
          "output_type": "execute_result",
          "data": {
            "text/plain": [
              "True"
            ]
          },
          "metadata": {},
          "execution_count": 16
        }
      ]
    },
    {
      "cell_type": "markdown",
      "metadata": {
        "id": "qSvAW1X94g3G"
      },
      "source": [
        "<font color='red'>Initialize $B_{i}$ and $C_{j}$"
      ]
    },
    {
      "cell_type": "markdown",
      "metadata": {
        "id": "qsOl-4xq5aUG"
      },
      "source": [
        "Hint : Number of rows of adjacent matrix corresponds to user dimensions($B_{i}$), number of columns of adjacent matrix corresponds to movie dimensions ($C_{j}$)"
      ]
    },
    {
      "cell_type": "code",
      "metadata": {
        "id": "AyEJqPka4lBW"
      },
      "source": [
        "def initialize(dim):\n",
        "    '''In this function, we will initialize bias value 'B' and 'C'.'''\n",
        "    # initalize the value to zeros \n",
        "    # return output as a list of zeros \n",
        "    B=np.zeros(dim)\n",
        "    \n",
        "\n",
        "    return B"
      ],
      "execution_count": 17,
      "outputs": []
    },
    {
      "cell_type": "code",
      "source": [
        "print(adjacency_matrix.shape[0])"
      ],
      "metadata": {
        "colab": {
          "base_uri": "https://localhost:8080/"
        },
        "id": "0K3t1IvtVa4C",
        "outputId": "e691e052-4530-48c9-f499-bbd54693c580"
      },
      "execution_count": 18,
      "outputs": [
        {
          "output_type": "stream",
          "name": "stdout",
          "text": [
            "943\n"
          ]
        }
      ]
    },
    {
      "cell_type": "code",
      "metadata": {
        "id": "Nlae9QAQ43Xz"
      },
      "source": [
        "dim=adjacency_matrix.shape[0] # give the number of dimensions for b_i (Here b_i corresponds to users)\n",
        "b_i=initialize(dim)"
      ],
      "execution_count": 19,
      "outputs": []
    },
    {
      "cell_type": "code",
      "metadata": {
        "id": "rwuopn4HoEbP"
      },
      "source": [
        "dim=adjacency_matrix.shape[1] # give the number of dimensions for c_j (Here c_j corresponds to movies)\n",
        "c_j=initialize(dim)"
      ],
      "execution_count": 20,
      "outputs": []
    },
    {
      "cell_type": "markdown",
      "metadata": {
        "id": "nfPJ3_h6JIkI"
      },
      "source": [
        "<font color='cyan'>Grader function -3 </font>"
      ]
    },
    {
      "cell_type": "code",
      "metadata": {
        "id": "dQhiNjw0Hz4m",
        "colab": {
          "base_uri": "https://localhost:8080/"
        },
        "outputId": "6c06f099-6283-449c-9865-0be00439a43d"
      },
      "source": [
        "def grader_dim(b_i,c_j):\n",
        "  assert(len(b_i)==943 and np.sum(b_i)==0)\n",
        "  assert(len(c_j)==1681 and np.sum(c_j)==0)\n",
        "  return True\n",
        "grader_dim(b_i,c_j)"
      ],
      "execution_count": 21,
      "outputs": [
        {
          "output_type": "execute_result",
          "data": {
            "text/plain": [
              "True"
            ]
          },
          "metadata": {},
          "execution_count": 21
        }
      ]
    },
    {
      "cell_type": "markdown",
      "metadata": {
        "id": "DTDK4ZR18MrZ"
      },
      "source": [
        "<font color='red'>Compute dL/db_i</font>"
      ]
    },
    {
      "cell_type": "code",
      "metadata": {
        "id": "3NFzVC1N8S4L"
      },
      "source": [
        "def derivative_db(user_id,item_id,rating,U,V,mu,alpha):\n",
        "    '''In this function, we will compute dL/db_i'''\n",
        "    b=(alpha*2*b_i[user_id])+(2*(rating-mu-b_i[user_id]-c_j[item_id]-np.dot(U[user_id],V.T[item_id]))*(-1))\n",
        "    return b\n"
      ],
      "execution_count": 22,
      "outputs": []
    },
    {
      "cell_type": "markdown",
      "source": [
        "L = \\min_{ b, c, { u_i }{i=1}^N, { v_j }{j=1}^M} "
      ],
      "metadata": {
        "id": "zBckkffm0d5_"
      }
    },
    {
      "cell_type": "markdown",
      "metadata": {
        "id": "ilISrTeQ0f0v"
      },
      "source": [
        "<font color='cyan'>Grader function -4 </font>"
      ]
    },
    {
      "cell_type": "code",
      "metadata": {
        "id": "Wt5ixEVZ043U",
        "colab": {
          "base_uri": "https://localhost:8080/"
        },
        "outputId": "87c458e4-0e85-481b-f9fb-e99a23fb335e"
      },
      "source": [
        "def grader_db(value):\n",
        "    assert(np.round(value,3)==-0.931)\n",
        "    return True\n",
        "U1, Sigma, V1 = randomized_svd(adjacency_matrix, n_components=2,n_iter=5, random_state=24)\n",
        "# Please don't change random state\n",
        "# Here we are considering n_componets = 2 for our convinence\n",
        "alpha=0.01 \n",
        "value=derivative_db(312,98,4,U1,V1,mu,alpha)\n",
        "grader_db(value)"
      ],
      "execution_count": 23,
      "outputs": [
        {
          "output_type": "execute_result",
          "data": {
            "text/plain": [
              "True"
            ]
          },
          "metadata": {},
          "execution_count": 23
        }
      ]
    },
    {
      "cell_type": "markdown",
      "metadata": {
        "id": "1Kp0hC_b9v60"
      },
      "source": [
        "<font color='red'>Compute dL/dc_j</font>"
      ]
    },
    {
      "cell_type": "code",
      "metadata": {
        "id": "FAtSYMrc9UqJ"
      },
      "source": [
        "def derivative_dc(user_id,item_id,rating,U,V,mu, alpha):\n",
        "    '''In this function, we will compute dL/dc_j'''\n",
        "    c=(alpha*2*c_j[item_id])+(2*(rating-mu-b_i[user_id]-c_j[item_id]-np.dot(U[user_id],V.T[item_id]))*(-1))\n",
        "    return c\n"
      ],
      "execution_count": 24,
      "outputs": []
    },
    {
      "cell_type": "markdown",
      "metadata": {
        "id": "lxkAm8aH1SBF"
      },
      "source": [
        "<font color='cyan'>Grader function - 5 </font>"
      ]
    },
    {
      "cell_type": "code",
      "metadata": {
        "id": "RaIN9yie1US8",
        "colab": {
          "base_uri": "https://localhost:8080/"
        },
        "outputId": "140ed779-0770-439b-f0f1-96e3b4f89cb8"
      },
      "source": [
        "def grader_dc(value):\n",
        "    assert(np.round(value,3)==-2.929)\n",
        "    return True\n",
        "U1, Sigma, V1 = randomized_svd(adjacency_matrix, n_components=2,n_iter=5, random_state=24)\n",
        "# Please don't change random state\n",
        "# Here we are considering n_componets = 2 for our convinence\n",
        "r=0.01 \n",
        "value=derivative_dc(58,504,5,U1,V1,mu,r)\n",
        "grader_dc(value)"
      ],
      "execution_count": 25,
      "outputs": [
        {
          "output_type": "execute_result",
          "data": {
            "text/plain": [
              "True"
            ]
          },
          "metadata": {},
          "execution_count": 25
        }
      ]
    },
    {
      "cell_type": "markdown",
      "metadata": {
        "id": "lg5XNbDWCIKI"
      },
      "source": [
        "<font color='red'>Compute MSE (mean squared error) for predicted ratings</font>\n"
      ]
    },
    {
      "cell_type": "markdown",
      "metadata": {
        "id": "7WUjNy0TDQX6"
      },
      "source": [
        "for each epoch, print the MSE value"
      ]
    },
    {
      "cell_type": "markdown",
      "metadata": {
        "id": "D2pCy1AKCafw"
      },
      "source": [
        "<pre>\n",
        "for each epoch:\n",
        "\n",
        "    for each pair of (user, movie):\n",
        "\n",
        "        b_i =  b_i - learning_rate * dL/db_i\n",
        "\n",
        "        c_j =  c_j - learning_rate * dL/dc_j\n",
        "\n",
        "predict the ratings with formula\n",
        "</pre>\n",
        "\n",
        "$\\hat{y}_{ij} = \\mu + b_i + c_j + \\text{dot_product}(u_i , v_j) $"
      ]
    },
    {
      "cell_type": "code",
      "metadata": {
        "id": "kiKj-M6d2a-Y"
      },
      "source": [
        "from sklearn.metrics import mean_squared_error\n",
        "alpha=0.01\n",
        "learning_rate=0.01\n",
        "mse=[]\n",
        "epoch=10\n",
        "b_i=initialize(len(unique_users))\n",
        "c_j=initialize(len(unique_movies))\n",
        "for i in range(epoch):\n",
        "  y_preds=[]\n",
        "  for j in range(len(unique_users)):\n",
        "    for k in range(len(unique_movies)):\n",
        "      b=derivative_db(unique_users[j],unique_movies[k],ajc[j][k],U,M,mu,alpha)\n",
        "      c=derivative_dc(unique_users[j],unique_movies[k],ajc[j][k],U,M,mu,alpha)\n",
        "      b_i[j]=b_i[j]-learning_rate*b\n",
        "      c_j[k]=c_j[k]-learning_rate*c\n",
        "  for i in range(len(unique_users)):\n",
        "    for j in range(len(unique_movies)):\n",
        "      y_pred= mu+b_i[i]+c_j[j]+np.dot(U[i],M.T[j])\n",
        "      y_preds.append(y_pred)\n",
        "  mse.append(mean_squared_error(list(ajc.flatten(order='C')),y_preds))"
      ],
      "execution_count": 26,
      "outputs": []
    },
    {
      "cell_type": "code",
      "source": [
        "print(mse)"
      ],
      "metadata": {
        "id": "n_T9v5F1qucD",
        "outputId": "54981274-22cd-4f39-fa21-6d75e30737da",
        "colab": {
          "base_uri": "https://localhost:8080/"
        }
      },
      "execution_count": 27,
      "outputs": [
        {
          "output_type": "stream",
          "name": "stdout",
          "text": [
            "[4.85082956312598, 1.38668621680385, 1.1940661860818527, 0.9222415684984137, 0.7281917042897245, 0.6841760543900471, 0.6769005354668255, 0.6618108956439154, 0.6554682447977823, 0.6552471353292355]\n"
          ]
        }
      ]
    },
    {
      "cell_type": "markdown",
      "metadata": {
        "id": "hTXYZFFUVSg5"
      },
      "source": [
        "<font color='red'>Plot epoch number vs MSE </font>\n",
        "\n",
        "* epoch number on X-axis\n",
        "* MSE on Y-axis"
      ]
    },
    {
      "cell_type": "code",
      "metadata": {
        "id": "igkkO3EvVRt6",
        "colab": {
          "base_uri": "https://localhost:8080/",
          "height": 294
        },
        "outputId": "81e7e546-8c21-43e3-aac9-18710a6236a6"
      },
      "source": [
        "epochs=list(range(0,10))\n",
        "import matplotlib.pyplot as plt\n",
        "plt.plot(mse,epochs)\n",
        "plt.xlabel('MSEs')\n",
        "plt.ylabel('epochs')\n",
        "plt.title('epoch vs MSE plot')\n",
        "plt.show()"
      ],
      "execution_count": 28,
      "outputs": [
        {
          "output_type": "display_data",
          "data": {
            "image/png": "[encoded data removed]",
            "text/plain": [
              "<Figure size 432x288 with 1 Axes>"
            ]
          },
          "metadata": {
            "needs_background": "light"
          }
        }
      ]
    },
    {
      "cell_type": "markdown",
      "metadata": {
        "id": "NeWAGkT6C9kq"
      },
      "source": [
        "<br>"
      ]
    },
    {
      "cell_type": "markdown",
      "metadata": {
        "id": "lkIQOOo1C9o7"
      },
      "source": [
        "# <font color='red'> Task 2</font>"
      ]
    },
    {
      "cell_type": "markdown",
      "metadata": {
        "id": "9kl4Ryi_7E_T"
      },
      "source": [
        "- For this task you have to consider the user_matrix U and the user_info.csv file.\n",
        "- You have to consider is_male columns as  output features and rest as input features. Now you have to fit a model by posing this problem as binary classification task.\n",
        "- You can apply any model like Logistic regression or Decision tree and check the performance of the model. \n",
        "- Do plot confusion matrix after fitting your model and write your observations how your model is performing in this task.\n",
        "\n",
        "- Optional work- You can try scaling your U matrix.Scaling means changing the values of n_componenets while performing svd\n",
        "  and then check your results."
      ]
    },
    {
      "cell_type": "code",
      "metadata": {
        "id": "c1FTc39gDdti",
        "colab": {
          "base_uri": "https://localhost:8080/"
        },
        "outputId": "ada7adf4-8a1b-457c-b46e-7c43bf3a5fe8"
      },
      "source": [
        "!gdown --id 1PHFdJh_4gIPiLH5Q4UErH8GK71hTrzlY"
      ],
      "execution_count": 29,
      "outputs": [
        {
          "output_type": "stream",
          "name": "stdout",
          "text": [
            "Downloading...\n",
            "From: https://drive.google.com/uc?id=1PHFdJh_4gIPiLH5Q4UErH8GK71hTrzlY\n",
            "To: /content/user_info.csv.txt\n",
            "\r  0% 0.00/12.1k [00:00<?, ?B/s]\r100% 12.1k/12.1k [00:00<00:00, 17.0MB/s]\n"
          ]
        }
      ]
    },
    {
      "cell_type": "code",
      "metadata": {
        "id": "s7e_3BBsHpWO"
      },
      "source": [
        "data1=pd.read_csv('user_info.csv.txt')"
      ],
      "execution_count": 30,
      "outputs": []
    },
    {
      "cell_type": "code",
      "source": [
        "print(data1.head())"
      ],
      "metadata": {
        "colab": {
          "base_uri": "https://localhost:8080/"
        },
        "id": "_JQCoqeUDtOo",
        "outputId": "53a542ef-6389-4cc4-9a53-dc683ad8bd8e"
      },
      "execution_count": 31,
      "outputs": [
        {
          "output_type": "stream",
          "name": "stdout",
          "text": [
            "   user_id  age  is_male  orig_user_id\n",
            "0        0   24        1             1\n",
            "1        1   53        0             2\n",
            "2        2   23        1             3\n",
            "3        3   24        1             4\n",
            "4        4   33        0             5\n"
          ]
        }
      ]
    },
    {
      "cell_type": "code",
      "source": [
        "print(data1.shape)"
      ],
      "metadata": {
        "colab": {
          "base_uri": "https://localhost:8080/"
        },
        "id": "NwG3LQ4fEOh4",
        "outputId": "65d0a25f-ff89-44ae-81b3-00871294fbfa"
      },
      "execution_count": 32,
      "outputs": [
        {
          "output_type": "stream",
          "name": "stdout",
          "text": [
            "(943, 4)\n"
          ]
        }
      ]
    },
    {
      "cell_type": "code",
      "metadata": {
        "id": "M3K5ZHmSHpWO"
      },
      "source": [
        "y=data1['is_male']"
      ],
      "execution_count": 33,
      "outputs": []
    },
    {
      "cell_type": "code",
      "source": [
        "from sklearn.linear_model import LogisticRegression\n",
        "from sklearn.metrics import roc_auc_score,ConfusionMatrixDisplay\n",
        "n=10\n",
        "errors=[]\n",
        "for i in range(3):\n",
        "  U,sigma,M=randomized_svd(adjacency_matrix,n_components=n,random_state=1)\n",
        "  print(U.shape)\n",
        "  clf=LogisticRegression(random_state=1)\n",
        "  clf.fit(U,y)\n",
        "  y_pred1=clf.predict(U)\n",
        "  ConfusionMatrixDisplay.from_predictions(y,y_pred1)\n",
        "  error=roc_auc_score(y,y_pred1)\n",
        "  errors.append(error)\n",
        "  n=n+5"
      ],
      "metadata": {
        "colab": {
          "base_uri": "https://localhost:8080/",
          "height": 858
        },
        "id": "0iGzAm7KFl5m",
        "outputId": "2767bb70-05b8-4cf3-df29-523b2798986e"
      },
      "execution_count": 36,
      "outputs": [
        {
          "output_type": "stream",
          "name": "stdout",
          "text": [
            "(943, 10)\n",
            "(943, 15)\n",
            "(943, 20)\n"
          ]
        },
        {
          "output_type": "display_data",
          "data": {
            "image/png": "[encoded data removed]",
            "text/plain": [
              "<Figure size 432x288 with 2 Axes>"
            ]
          },
          "metadata": {
            "needs_background": "light"
          }
        },
        {
          "output_type": "display_data",
          "data": {
            "image/png": "[encoded data removed]",
            "text/plain": [
              "<Figure size 432x288 with 2 Axes>"
            ]
          },
          "metadata": {
            "needs_background": "light"
          }
        },
        {
          "output_type": "display_data",
          "data": {
            "image/png": "[encoded data removed]",
            "text/plain": [
              "<Figure size 432x288 with 2 Axes>"
            ]
          },
          "metadata": {
            "needs_background": "light"
          }
        }
      ]
    },
    {
      "cell_type": "code",
      "source": [
        "print(errors)"
      ],
      "metadata": {
        "colab": {
          "base_uri": "https://localhost:8080/"
        },
        "id": "8NUjLjbcJjRC",
        "outputId": "be18bd60-a8e2-4a06-992a-49460cafe3ec"
      },
      "execution_count": 35,
      "outputs": [
        {
          "output_type": "stream",
          "name": "stdout",
          "text": [
            "[1.0, 1.0, 1.0]\n"
          ]
        }
      ]
    },
    {
      "cell_type": "markdown",
      "source": [
        "# **Observations:**\n",
        "In the above task, we can see that roc auc score in all three cases were same but here we are not splitting the data into train-test data. So if we do train-test split, then the result can be different but in our case we can say that scaling U matrix does not affect loss metric."
      ],
      "metadata": {
        "id": "JHI6cwKXgn9Z"
      }
    }
  ]
}