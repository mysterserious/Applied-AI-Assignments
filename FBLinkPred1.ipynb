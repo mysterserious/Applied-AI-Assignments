{
  "cells": [
    {
      "cell_type": "code",
      "execution_count": 32,
      "metadata": {
        "id": "AMSA2EeMrtEf"
      },
      "outputs": [],
      "source": [
        "#Importing Libraries\n",
        "# please do go through this python notebook: \n",
        "import warnings\n",
        "warnings.filterwarnings(\"ignore\")\n",
        "from sklearn.model_selection import GridSearchCV\n",
        "import csv\n",
        "import pandas as pd#pandas to create small dataframes \n",
        "import datetime #Convert to unix time\n",
        "import time #Convert to unix time\n",
        "# if numpy is not installed already : pip3 install numpy\n",
        "import numpy as np#Do aritmetic operations on arrays\n",
        "# matplotlib: used to plot graphs\n",
        "import matplotlib\n",
        "import matplotlib.pylab as plt\n",
        "import seaborn as sns#Plots\n",
        "from matplotlib import rcParams#Size of plots  \n",
        "from sklearn.cluster import MiniBatchKMeans, KMeans#Clustering\n",
        "import math\n",
        "import pickle\n",
        "import os\n",
        "# to install xgboost: pip3 install xgboost\n",
        "import xgboost as xgb\n",
        "\n",
        "import warnings\n",
        "import networkx as nx\n",
        "import pdb\n",
        "import pickle\n",
        "from pandas import HDFStore,DataFrame\n",
        "from pandas import read_hdf\n",
        "from scipy.sparse.linalg import svds, eigs\n",
        "import gc\n",
        "from tqdm import tqdm\n",
        "from sklearn.ensemble import RandomForestClassifier\n",
        "from sklearn.metrics import f1_score\n",
        "from sklearn.metrics import roc_curve, auc"
      ]
    },
    {
      "cell_type": "code",
      "execution_count": 2,
      "metadata": {
        "colab": {
          "base_uri": "https://localhost:8080/",
          "height": 0
        },
        "id": "g7esPvfStxpV",
        "outputId": "b1e4a8b8-eed6-4613-bd16-740484ee9183"
      },
      "outputs": [
        {
          "output_type": "stream",
          "name": "stdout",
          "text": [
            "Downloading...\n",
            "From: https://drive.google.com/uc?id=1fDJptlCFEWNV5UNGPc4geTykgFI3PDCV\n",
            "To: /content/storage_sample_stage4.h5\n",
            "100% 103M/103M [00:01<00:00, 54.1MB/s]\n"
          ]
        }
      ],
      "source": [
        "!gdown --id 1fDJptlCFEWNV5UNGPc4geTykgFI3PDCV"
      ]
    },
    {
      "cell_type": "code",
      "execution_count": 3,
      "metadata": {
        "id": "HDYINDH4rsP2"
      },
      "outputs": [],
      "source": [
        "from pandas import read_hdf\n",
        "df_final_train = read_hdf('storage_sample_stage4.h5', 'train_df',mode='r')\n",
        "df_final_test = read_hdf('storage_sample_stage4.h5', 'test_df',mode='r')"
      ]
    },
    {
      "cell_type": "code",
      "execution_count": 4,
      "metadata": {
        "colab": {
          "base_uri": "https://localhost:8080/",
          "height": 0
        },
        "id": "EM2pW25XuwsV",
        "outputId": "73762e0e-aabd-40ab-b8a7-236581542d41"
      },
      "outputs": [
        {
          "output_type": "execute_result",
          "data": {
            "text/plain": [
              "Index(['source_node', 'destination_node', 'indicator_link',\n",
              "       'jaccard_followers', 'jaccard_followees', 'cosine_followers',\n",
              "       'cosine_followees', 'num_followers_s', 'num_followees_s',\n",
              "       'num_followees_d', 'inter_followers', 'inter_followees', 'adar_index',\n",
              "       'follows_back', 'same_comp', 'shortest_path', 'weight_in', 'weight_out',\n",
              "       'weight_f1', 'weight_f2', 'weight_f3', 'weight_f4', 'page_rank_s',\n",
              "       'page_rank_d', 'katz_s', 'katz_d', 'hubs_s', 'hubs_d', 'authorities_s',\n",
              "       'authorities_d', 'svd_u_s_1', 'svd_u_s_2', 'svd_u_s_3', 'svd_u_s_4',\n",
              "       'svd_u_s_5', 'svd_u_s_6', 'svd_u_d_1', 'svd_u_d_2', 'svd_u_d_3',\n",
              "       'svd_u_d_4', 'svd_u_d_5', 'svd_u_d_6', 'svd_v_s_1', 'svd_v_s_2',\n",
              "       'svd_v_s_3', 'svd_v_s_4', 'svd_v_s_5', 'svd_v_s_6', 'svd_v_d_1',\n",
              "       'svd_v_d_2', 'svd_v_d_3', 'svd_v_d_4', 'svd_v_d_5', 'svd_v_d_6'],\n",
              "      dtype='object')"
            ]
          },
          "metadata": {},
          "execution_count": 4
        }
      ],
      "source": [
        "df_final_train.columns"
      ]
    },
    {
      "cell_type": "code",
      "execution_count": 6,
      "metadata": {
        "colab": {
          "base_uri": "https://localhost:8080/",
          "height": 0
        },
        "id": "PIwuRpG7gFcR",
        "outputId": "38cb6a00-4971-48e3-e808-49fb1282decc"
      },
      "outputs": [
        {
          "output_type": "stream",
          "name": "stdout",
          "text": [
            "DiGraph with 1780722 nodes and 7550015 edges\n"
          ]
        }
      ],
      "source": [
        "train_graph=nx.read_edgelist('/content/drive/MyDrive/train_pos_after_eda.csv',delimiter=',',create_using=nx.DiGraph(),nodetype=int)\n",
        "print(nx.info(train_graph))"
      ]
    },
    {
      "cell_type": "code",
      "execution_count": 7,
      "metadata": {
        "id": "FyUuvuie3bWM"
      },
      "outputs": [],
      "source": [
        "def compute_features_stage1(df_final):\n",
        "    #calculating no of followers followees for source and destination\n",
        "    #calculating intersection of followers and followees for source and destination\n",
        "    num_followers_s=[]\n",
        "    num_followees_s=[]\n",
        "    num_followers_d=[]\n",
        "    num_followees_d=[]\n",
        "    inter_followers=[]\n",
        "    inter_followees=[]\n",
        "    for i,row in df_final.iterrows():\n",
        "        try:\n",
        "            s1=set(train_graph.predecessors(row['source_node']))\n",
        "            s2=set(train_graph.successors(row['source_node']))\n",
        "        except:\n",
        "            s1 = set()\n",
        "            s2 = set()\n",
        "        try:\n",
        "            d1=set(train_graph.predecessors(row['destination_node']))\n",
        "            d2=set(train_graph.successors(row['destination_node']))\n",
        "        except:\n",
        "            d1 = set()\n",
        "            d2 = set()\n",
        "        num_followers_s.append(len(s1))\n",
        "        num_followees_s.append(len(s2))\n",
        "\n",
        "        num_followers_d.append(len(d1))\n",
        "        num_followees_d.append(len(d2))\n",
        "\n",
        "        inter_followers.append(len(s1.intersection(d1)))\n",
        "        inter_followees.append(len(s2.intersection(d2)))\n",
        "    \n",
        "    return  num_followers_s,num_followees_s,num_followers_d,num_followees_d,inter_followers,inter_followees"
      ]
    },
    {
      "cell_type": "code",
      "execution_count": 8,
      "metadata": {
        "id": "y5nei_8Pw82L"
      },
      "outputs": [],
      "source": [
        "a,b,num_followers_d,c,d,e=compute_features_stage1(df_final_train)"
      ]
    },
    {
      "cell_type": "code",
      "execution_count": 9,
      "metadata": {
        "id": "ofHTClfJxu0a"
      },
      "outputs": [],
      "source": [
        "df_final_train['num_followers_d']=num_followers_d"
      ]
    },
    {
      "cell_type": "code",
      "execution_count": 10,
      "metadata": {
        "id": "Evc57L3Txl4I"
      },
      "outputs": [],
      "source": [
        "a,b,num_followers_d,c,d,e=compute_features_stage1(df_final_test)\n",
        "df_final_test['num_followers_d']=num_followers_d"
      ]
    },
    {
      "cell_type": "code",
      "execution_count": 12,
      "metadata": {
        "id": "VJNSI2_pzMQO"
      },
      "outputs": [],
      "source": [
        "def pref_attach(df):\n",
        "  pref_attach=[]\n",
        "  for i in range(len(df)):\n",
        "    pref_attach.append(df['num_followers_s'][i]*df['num_followers_d'][i])\n",
        "  return pref_attach  "
      ]
    },
    {
      "cell_type": "code",
      "execution_count": 13,
      "metadata": {
        "id": "IrdP_ai_zcDQ"
      },
      "outputs": [],
      "source": [
        "df_final_train['pref_attach']=pref_attach(df_final_train)\n",
        "df_final_test['pref_attach']=pref_attach(df_final_test)"
      ]
    },
    {
      "cell_type": "code",
      "execution_count": 16,
      "metadata": {
        "id": "K2z_lCAJ46q7"
      },
      "outputs": [],
      "source": [
        "def svd_dot(df):\n",
        "  svd_dot_u=[]\n",
        "  svd_dot_v=[]\n",
        "  for i in range(len(df)):\n",
        "    svd_dot_u.append(np.dot(df[[ 'svd_u_s_1', 'svd_u_s_2', 'svd_u_s_3', 'svd_u_s_4',\n",
        "       'svd_u_s_5', 'svd_u_s_6']].values[i],df[['svd_u_d_1', 'svd_u_d_2', 'svd_u_d_3',\n",
        "       'svd_u_d_4', 'svd_u_d_5', 'svd_u_d_6']].values[i]))\n",
        "    svd_dot_v.append(np.dot(df[['svd_v_s_1', 'svd_v_s_2',\n",
        "       'svd_v_s_3', 'svd_v_s_4', 'svd_v_s_5', 'svd_v_s_6']].values[i],df[['svd_v_d_1',\n",
        "       'svd_v_d_2', 'svd_v_d_3', 'svd_v_d_4', 'svd_v_d_5', 'svd_v_d_6']].values[i]))\n",
        "  return svd_dot_u,svd_dot_v  "
      ]
    },
    {
      "cell_type": "code",
      "execution_count": 19,
      "metadata": {
        "id": "c8VeDUAR5b_N"
      },
      "outputs": [],
      "source": [
        "df_final_train['svd_dot_u'],df_final_train['svd_dot_v']=svd_dot(df_final_train)\n",
        "df_final_test['svd_dot_u'],df_final_test['svd_dot_v']=svd_dot(df_final_test)"
      ]
    },
    {
      "cell_type": "code",
      "source": [
        "print(df_final_train.columns,df_final_test.columns)"
      ],
      "metadata": {
        "colab": {
          "base_uri": "https://localhost:8080/",
          "height": 0
        },
        "id": "gnt52AYLnaMZ",
        "outputId": "abde80d5-d350-4501-e1db-7a87e3bb02e1"
      },
      "execution_count": 20,
      "outputs": [
        {
          "output_type": "stream",
          "name": "stdout",
          "text": [
            "Index(['source_node', 'destination_node', 'indicator_link',\n",
            "       'jaccard_followers', 'jaccard_followees', 'cosine_followers',\n",
            "       'cosine_followees', 'num_followers_s', 'num_followees_s',\n",
            "       'num_followees_d', 'inter_followers', 'inter_followees', 'adar_index',\n",
            "       'follows_back', 'same_comp', 'shortest_path', 'weight_in', 'weight_out',\n",
            "       'weight_f1', 'weight_f2', 'weight_f3', 'weight_f4', 'page_rank_s',\n",
            "       'page_rank_d', 'katz_s', 'katz_d', 'hubs_s', 'hubs_d', 'authorities_s',\n",
            "       'authorities_d', 'svd_u_s_1', 'svd_u_s_2', 'svd_u_s_3', 'svd_u_s_4',\n",
            "       'svd_u_s_5', 'svd_u_s_6', 'svd_u_d_1', 'svd_u_d_2', 'svd_u_d_3',\n",
            "       'svd_u_d_4', 'svd_u_d_5', 'svd_u_d_6', 'svd_v_s_1', 'svd_v_s_2',\n",
            "       'svd_v_s_3', 'svd_v_s_4', 'svd_v_s_5', 'svd_v_s_6', 'svd_v_d_1',\n",
            "       'svd_v_d_2', 'svd_v_d_3', 'svd_v_d_4', 'svd_v_d_5', 'svd_v_d_6',\n",
            "       'num_followers_d', 'pref_attach', 'svd_dot_u', 'svd_dot_v'],\n",
            "      dtype='object') Index(['source_node', 'destination_node', 'indicator_link',\n",
            "       'jaccard_followers', 'jaccard_followees', 'cosine_followers',\n",
            "       'cosine_followees', 'num_followers_s', 'num_followees_s',\n",
            "       'num_followees_d', 'inter_followers', 'inter_followees', 'adar_index',\n",
            "       'follows_back', 'same_comp', 'shortest_path', 'weight_in', 'weight_out',\n",
            "       'weight_f1', 'weight_f2', 'weight_f3', 'weight_f4', 'page_rank_s',\n",
            "       'page_rank_d', 'katz_s', 'katz_d', 'hubs_s', 'hubs_d', 'authorities_s',\n",
            "       'authorities_d', 'svd_u_s_1', 'svd_u_s_2', 'svd_u_s_3', 'svd_u_s_4',\n",
            "       'svd_u_s_5', 'svd_u_s_6', 'svd_u_d_1', 'svd_u_d_2', 'svd_u_d_3',\n",
            "       'svd_u_d_4', 'svd_u_d_5', 'svd_u_d_6', 'svd_v_s_1', 'svd_v_s_2',\n",
            "       'svd_v_s_3', 'svd_v_s_4', 'svd_v_s_5', 'svd_v_s_6', 'svd_v_d_1',\n",
            "       'svd_v_d_2', 'svd_v_d_3', 'svd_v_d_4', 'svd_v_d_5', 'svd_v_d_6',\n",
            "       'num_followers_d', 'pref_attach', 'svd_dot_u', 'svd_dot_v'],\n",
            "      dtype='object')\n"
          ]
        }
      ]
    },
    {
      "cell_type": "code",
      "source": [
        "y_tr=df_final_train['indicator_link']\n",
        "y_te=df_final_test['indicator_link']\n",
        "x_tr=df_final_train.drop(['source_node','destination_node','indicator_link'],axis=1)\n",
        "x_te=df_final_test.drop(['source_node','destination_node','indicator_link'],axis=1)"
      ],
      "metadata": {
        "id": "jkub3PDHujbq"
      },
      "execution_count": 23,
      "outputs": []
    },
    {
      "cell_type": "code",
      "source": [
        "params={'max_depth':[2,4,6,8,10],'n_estimators':[10,15,20,25,30]}\n",
        "clf=xgb.XGBClassifier(random_state=1)\n",
        "gs=GridSearchCV(clf,params,n_jobs=-1,scoring='f1')\n",
        "gs.fit(x_tr,y_tr)\n",
        "best_clf=gs.best_estimator_\n",
        "print('Best Params are :',gs.best_params_)\n",
        "print('Best f1 score =',gs.best_score_)"
      ],
      "metadata": {
        "colab": {
          "base_uri": "https://localhost:8080/",
          "height": 0
        },
        "id": "MwdrViLQnnPK",
        "outputId": "40557934-cc38-4bee-f8fc-89ca438fffee"
      },
      "execution_count": 25,
      "outputs": [
        {
          "output_type": "stream",
          "name": "stdout",
          "text": [
            "Best Params are : {'max_depth': 10, 'n_estimators': 30}\n",
            "Best f1 score = 0.9756753027849957\n"
          ]
        }
      ]
    },
    {
      "cell_type": "code",
      "source": [
        "best_clf.fit(x_tr,y_tr)\n",
        "y_tr_pred=best_clf.predict(x_tr)\n",
        "y_te_pred=best_clf.predict(x_te)"
      ],
      "metadata": {
        "id": "3UXVoYNZ1Z45"
      },
      "execution_count": 26,
      "outputs": []
    },
    {
      "cell_type": "code",
      "source": [
        "print('Train f1 score',f1_score(y_tr,y_tr_pred))\n",
        "print('Test f1 score',f1_score(y_te,y_te_pred))"
      ],
      "metadata": {
        "colab": {
          "base_uri": "https://localhost:8080/",
          "height": 0
        },
        "id": "NL3Cy-PK4Aq6",
        "outputId": "4998c961-c442-46c1-f563-3793be1bab49"
      },
      "execution_count": 28,
      "outputs": [
        {
          "output_type": "stream",
          "name": "stdout",
          "text": [
            "Train f1 score 0.9802911375781637\n",
            "Test f1 score 0.9340082252451755\n"
          ]
        }
      ]
    },
    {
      "cell_type": "code",
      "source": [
        "from sklearn.metrics import confusion_matrix\n",
        "def plot_confusion_matrix(test_y, predict_y):\n",
        "    C = confusion_matrix(test_y, predict_y)\n",
        "    \n",
        "    A =(((C.T)/(C.sum(axis=1))).T)\n",
        "    \n",
        "    B =(C/C.sum(axis=0))\n",
        "    plt.figure(figsize=(20,4))\n",
        "    \n",
        "    labels = [0,1]\n",
        "    # representing A in heatmap format\n",
        "    cmap=sns.light_palette(\"blue\")\n",
        "    plt.subplot(1, 3, 1)\n",
        "    sns.heatmap(C, annot=True, cmap=cmap, fmt=\".3f\", xticklabels=labels, yticklabels=labels)\n",
        "    plt.xlabel('Predicted Class')\n",
        "    plt.ylabel('Original Class')\n",
        "    plt.title(\"Confusion matrix\")\n",
        "    \n",
        "    plt.subplot(1, 3, 2)\n",
        "    sns.heatmap(B, annot=True, cmap=cmap, fmt=\".3f\", xticklabels=labels, yticklabels=labels)\n",
        "    plt.xlabel('Predicted Class')\n",
        "    plt.ylabel('Original Class')\n",
        "    plt.title(\"Precision matrix\")\n",
        "    \n",
        "    plt.subplot(1, 3, 3)\n",
        "    # representing B in heatmap format\n",
        "    sns.heatmap(A, annot=True, cmap=cmap, fmt=\".3f\", xticklabels=labels, yticklabels=labels)\n",
        "    plt.xlabel('Predicted Class')\n",
        "    plt.ylabel('Original Class')\n",
        "    plt.title(\"Recall matrix\")\n",
        "    \n",
        "    plt.show()"
      ],
      "metadata": {
        "id": "pz9a5wJe4jzR"
      },
      "execution_count": 29,
      "outputs": []
    },
    {
      "cell_type": "code",
      "source": [
        "print('Train confusion_matrix')\n",
        "plot_confusion_matrix(y_tr,y_tr_pred)\n",
        "print('Test confusion_matrix')\n",
        "plot_confusion_matrix(y_te,y_te_pred)"
      ],
      "metadata": {
        "colab": {
          "base_uri": "https://localhost:8080/",
          "height": 610
        },
        "id": "rMTb2RXM5bSQ",
        "outputId": "951332db-ed6d-4377-9949-00f604aa005c"
      },
      "execution_count": 30,
      "outputs": [
        {
          "output_type": "stream",
          "name": "stdout",
          "text": [
            "Train confusion_matrix\n"
          ]
        },
        {
          "output_type": "display_data",
          "data": {
            "text/plain": [
              "<Figure size 1440x288 with 6 Axes>"
            ],
            "image/png": "[encoded data removed]"
          },
          "metadata": {
            "needs_background": "light"
          }
        },
        {
          "output_type": "stream",
          "name": "stdout",
          "text": [
            "Test confusion_matrix\n"
          ]
        },
        {
          "output_type": "display_data",
          "data": {
            "text/plain": [
              "<Figure size 1440x288 with 6 Axes>"
            ],
            "image/png": "[encoded data removed]"
          },
          "metadata": {
            "needs_background": "light"
          }
        }
      ]
    },
    {
      "cell_type": "code",
      "source": [
        "fpr,tpr,ths = roc_curve(y_te,y_te_pred)\n",
        "auc_sc = auc(fpr, tpr)\n",
        "plt.plot(fpr, tpr, color='navy',label='ROC curve (area = %0.2f)' % auc_sc)\n",
        "plt.xlabel('False Positive Rate')\n",
        "plt.ylabel('True Positive Rate')\n",
        "plt.title('Receiver operating characteristic with test data')\n",
        "plt.legend()\n",
        "plt.show()"
      ],
      "metadata": {
        "colab": {
          "base_uri": "https://localhost:8080/",
          "height": 294
        },
        "id": "55cRrZjI5qwP",
        "outputId": "b386ee7b-7337-4572-d766-1dee03c57a0c"
      },
      "execution_count": 33,
      "outputs": [
        {
          "output_type": "display_data",
          "data": {
            "text/plain": [
              "<Figure size 432x288 with 1 Axes>"
            ],
            "image/png": "[encoded data removed]"
          },
          "metadata": {
            "needs_background": "light"
          }
        }
      ]
    },
    {
      "cell_type": "code",
      "source": [
        "features = x_tr.columns\n",
        "importances = best_clf.feature_importances_\n",
        "indices = (np.argsort(importances))[-25:]\n",
        "plt.figure(figsize=(10,12))\n",
        "plt.title('Feature Importances')\n",
        "plt.barh(range(len(indices)), importances[indices], color='r', align='center')\n",
        "plt.yticks(range(len(indices)), [features[i] for i in indices])\n",
        "plt.xlabel('Relative Importance')\n",
        "plt.show()"
      ],
      "metadata": {
        "colab": {
          "base_uri": "https://localhost:8080/",
          "height": 730
        },
        "id": "D4kbJD6o6TGc",
        "outputId": "08ccc267-7116-4ae4-ab76-2c74b0524d93"
      },
      "execution_count": 35,
      "outputs": [
        {
          "output_type": "display_data",
          "data": {
            "text/plain": [
              "<Figure size 720x864 with 1 Axes>"
            ],
            "image/png": "[encoded data removed]"
          },
          "metadata": {
            "needs_background": "light"
          }
        }
      ]
    },
    {
      "cell_type": "markdown",
      "source": [
        "# **Conclusion:**\n",
        "\n",
        "1. First I loaded the important libraries and data.\n",
        "2. Then I noticed num_followers_d feature was missing in the train and test dataframe.\n",
        "3. Then I evaluated and added that feature in thr dataset using the graph.\n",
        "4. Another reason of adding num_followers_d was to evaluate feature preferential attachment that is the multiplication of followers of source and destination node.\n",
        "5. After evalauating and adding preferential attachment feature in the dataset, I evaluated SVD Dot features which are the dot product of components of right singular matrix of source and destination node named as svd_dot_u and dot product of components of left singular matrix of source and destination named as svd_dot_v.\n",
        "6. After evaluating and adding both the features in the dataset, I tuned the hyperparameters of XGBoost Classifier using Grid Search.\n",
        "7. After getting the best classifier, I fitted the model and calculated f1 score, confusion matrix and roc curve."
      ],
      "metadata": {
        "id": "XK6xIzH_94qM"
      }
    }
  ],
  "metadata": {
    "colab": {
      "collapsed_sections": [],
      "name": "FBLinkPred.ipynb",
      "provenance": []
    },
    "kernelspec": {
      "display_name": "Python 3",
      "name": "python3"
    },
    "language_info": {
      "name": "python"
    }
  },
  "nbformat": 4,
  "nbformat_minor": 0
}