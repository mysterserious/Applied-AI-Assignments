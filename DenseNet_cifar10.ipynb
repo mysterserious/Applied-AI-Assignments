{
  "cells": [
    {
      "cell_type": "code",
      "execution_count": 1,
      "metadata": {
        "id": "wVIx_KIigxPV"
      },
      "outputs": [],
      "source": [
        "# import keras\n",
        "# from keras.datasets import cifar10\n",
        "# from keras.models import Model, Sequential\n",
        "# from keras.layers import Dense, Dropout, Flatten, Input, AveragePooling2D, merge, Activation\n",
        "# from keras.layers import Conv2D, MaxPooling2D, BatchNormalization\n",
        "# from keras.layers import Concatenate\n",
        "# from keras.optimizers import Adam\n",
        "from tensorflow.keras import models, layers\n",
        "from tensorflow.keras.models import Model\n",
        "from tensorflow.keras.layers import BatchNormalization, Activation, Flatten\n",
        "from tensorflow.keras.optimizers import Adam\n",
        "from tensorflow.keras.preprocessing.image import ImageDataGenerator\n",
        "from PIL import Image"
      ]
    },
    {
      "cell_type": "code",
      "execution_count": 2,
      "metadata": {
        "id": "UNHw6luQg3gc"
      },
      "outputs": [],
      "source": [
        "# this part will prevent tensorflow to allocate all the avaliable GPU Memory\n",
        "# backend\n",
        "import tensorflow as tf\n",
        "from keras import regularizers"
      ]
    },
    {
      "cell_type": "code",
      "execution_count": 3,
      "metadata": {
        "id": "dsO_yGxcg5D8"
      },
      "outputs": [],
      "source": [
        "# Hyperparameters\n",
        "batch_size = 128\n",
        "num_classes = 10\n",
        "epochs = 25\n",
        "l = 40\n",
        "num_filter = 12\n",
        "compression = 0.5\n",
        "dropout_rate = 0.2"
      ]
    },
    {
      "cell_type": "code",
      "execution_count": 4,
      "metadata": {
        "colab": {
          "base_uri": "https://localhost:8080/"
        },
        "id": "mB7o3zu1g6eT",
        "outputId": "b276e99d-27d9-4ab5-e404-57b6c499f783"
      },
      "outputs": [
        {
          "output_type": "stream",
          "name": "stdout",
          "text": [
            "Downloading data from https://www.cs.toronto.edu/~kriz/cifar-10-python.tar.gz\n",
            "170500096/170498071 [==============================] - 3s 0us/step\n",
            "170508288/170498071 [==============================] - 3s 0us/step\n"
          ]
        }
      ],
      "source": [
        "# Load CIFAR10 Data\n",
        "(X_train, y_train), (X_test, y_test) = tf.keras.datasets.cifar10.load_data()\n",
        "img_height, img_width, channel = X_train.shape[1],X_train.shape[2],X_train.shape[3]\n",
        "\n",
        "# convert to one hot encoing \n",
        "y_train = tf.keras.utils.to_categorical(y_train, num_classes)\n",
        "y_test = tf.keras.utils.to_categorical(y_test, num_classes) "
      ]
    },
    {
      "cell_type": "code",
      "execution_count": 5,
      "metadata": {
        "colab": {
          "base_uri": "https://localhost:8080/"
        },
        "id": "3lAk_Mw_5-rn",
        "outputId": "1dd2f17f-c81c-4798-ce50-b24d31e250e6"
      },
      "outputs": [
        {
          "output_type": "execute_result",
          "data": {
            "text/plain": [
              "(50000, 32, 32, 3)"
            ]
          },
          "metadata": {},
          "execution_count": 5
        }
      ],
      "source": [
        "X_train.shape"
      ]
    },
    {
      "cell_type": "code",
      "execution_count": 6,
      "metadata": {
        "colab": {
          "base_uri": "https://localhost:8080/"
        },
        "id": "DVkpgHsc5-rp",
        "outputId": "3094eb25-49eb-45a1-bf50-6eedd7c5d5a9"
      },
      "outputs": [
        {
          "output_type": "execute_result",
          "data": {
            "text/plain": [
              "(10000, 32, 32, 3)"
            ]
          },
          "metadata": {},
          "execution_count": 6
        }
      ],
      "source": [
        "X_test.shape"
      ]
    },
    {
      "cell_type": "code",
      "execution_count": 7,
      "metadata": {
        "colab": {
          "base_uri": "https://localhost:8080/"
        },
        "id": "dPU0oAjzIoY_",
        "outputId": "9b1f2465-9d96-4d29-d841-f709107e6c4b"
      },
      "outputs": [
        {
          "output_type": "execute_result",
          "data": {
            "text/plain": [
              "array([[[ 59,  62,  63],\n",
              "        [ 43,  46,  45],\n",
              "        [ 50,  48,  43],\n",
              "        ...,\n",
              "        [158, 132, 108],\n",
              "        [152, 125, 102],\n",
              "        [148, 124, 103]],\n",
              "\n",
              "       [[ 16,  20,  20],\n",
              "        [  0,   0,   0],\n",
              "        [ 18,   8,   0],\n",
              "        ...,\n",
              "        [123,  88,  55],\n",
              "        [119,  83,  50],\n",
              "        [122,  87,  57]],\n",
              "\n",
              "       [[ 25,  24,  21],\n",
              "        [ 16,   7,   0],\n",
              "        [ 49,  27,   8],\n",
              "        ...,\n",
              "        [118,  84,  50],\n",
              "        [120,  84,  50],\n",
              "        [109,  73,  42]],\n",
              "\n",
              "       ...,\n",
              "\n",
              "       [[208, 170,  96],\n",
              "        [201, 153,  34],\n",
              "        [198, 161,  26],\n",
              "        ...,\n",
              "        [160, 133,  70],\n",
              "        [ 56,  31,   7],\n",
              "        [ 53,  34,  20]],\n",
              "\n",
              "       [[180, 139,  96],\n",
              "        [173, 123,  42],\n",
              "        [186, 144,  30],\n",
              "        ...,\n",
              "        [184, 148,  94],\n",
              "        [ 97,  62,  34],\n",
              "        [ 83,  53,  34]],\n",
              "\n",
              "       [[177, 144, 116],\n",
              "        [168, 129,  94],\n",
              "        [179, 142,  87],\n",
              "        ...,\n",
              "        [216, 184, 140],\n",
              "        [151, 118,  84],\n",
              "        [123,  92,  72]]], dtype=uint8)"
            ]
          },
          "metadata": {},
          "execution_count": 7
        }
      ],
      "source": [
        "X_train[0]"
      ]
    },
    {
      "cell_type": "code",
      "execution_count": 8,
      "metadata": {
        "id": "wJ1Zi8OmIu1Q"
      },
      "outputs": [],
      "source": [
        "import numpy as np\n",
        "x_tr=X_train.astype('float')/255"
      ]
    },
    {
      "cell_type": "code",
      "execution_count": 9,
      "metadata": {
        "colab": {
          "base_uri": "https://localhost:8080/"
        },
        "id": "6y29ZHDcI7l3",
        "outputId": "2ed6e0d7-8670-4282-e47e-e6f85301a165"
      },
      "outputs": [
        {
          "output_type": "execute_result",
          "data": {
            "text/plain": [
              "array([[[0.23137255, 0.24313725, 0.24705882],\n",
              "        [0.16862745, 0.18039216, 0.17647059],\n",
              "        [0.19607843, 0.18823529, 0.16862745],\n",
              "        ...,\n",
              "        [0.61960784, 0.51764706, 0.42352941],\n",
              "        [0.59607843, 0.49019608, 0.4       ],\n",
              "        [0.58039216, 0.48627451, 0.40392157]],\n",
              "\n",
              "       [[0.0627451 , 0.07843137, 0.07843137],\n",
              "        [0.        , 0.        , 0.        ],\n",
              "        [0.07058824, 0.03137255, 0.        ],\n",
              "        ...,\n",
              "        [0.48235294, 0.34509804, 0.21568627],\n",
              "        [0.46666667, 0.3254902 , 0.19607843],\n",
              "        [0.47843137, 0.34117647, 0.22352941]],\n",
              "\n",
              "       [[0.09803922, 0.09411765, 0.08235294],\n",
              "        [0.0627451 , 0.02745098, 0.        ],\n",
              "        [0.19215686, 0.10588235, 0.03137255],\n",
              "        ...,\n",
              "        [0.4627451 , 0.32941176, 0.19607843],\n",
              "        [0.47058824, 0.32941176, 0.19607843],\n",
              "        [0.42745098, 0.28627451, 0.16470588]],\n",
              "\n",
              "       ...,\n",
              "\n",
              "       [[0.81568627, 0.66666667, 0.37647059],\n",
              "        [0.78823529, 0.6       , 0.13333333],\n",
              "        [0.77647059, 0.63137255, 0.10196078],\n",
              "        ...,\n",
              "        [0.62745098, 0.52156863, 0.2745098 ],\n",
              "        [0.21960784, 0.12156863, 0.02745098],\n",
              "        [0.20784314, 0.13333333, 0.07843137]],\n",
              "\n",
              "       [[0.70588235, 0.54509804, 0.37647059],\n",
              "        [0.67843137, 0.48235294, 0.16470588],\n",
              "        [0.72941176, 0.56470588, 0.11764706],\n",
              "        ...,\n",
              "        [0.72156863, 0.58039216, 0.36862745],\n",
              "        [0.38039216, 0.24313725, 0.13333333],\n",
              "        [0.3254902 , 0.20784314, 0.13333333]],\n",
              "\n",
              "       [[0.69411765, 0.56470588, 0.45490196],\n",
              "        [0.65882353, 0.50588235, 0.36862745],\n",
              "        [0.70196078, 0.55686275, 0.34117647],\n",
              "        ...,\n",
              "        [0.84705882, 0.72156863, 0.54901961],\n",
              "        [0.59215686, 0.4627451 , 0.32941176],\n",
              "        [0.48235294, 0.36078431, 0.28235294]]])"
            ]
          },
          "metadata": {},
          "execution_count": 9
        }
      ],
      "source": [
        "x_tr[0]"
      ]
    },
    {
      "cell_type": "code",
      "execution_count": 10,
      "metadata": {
        "id": "3vqCNeBC_ZzS"
      },
      "outputs": [],
      "source": [
        "x_te=X_test.astype('float')/255"
      ]
    },
    {
      "cell_type": "code",
      "execution_count": 11,
      "metadata": {
        "colab": {
          "base_uri": "https://localhost:8080/"
        },
        "id": "esLF0O9f_w9G",
        "outputId": "f341f509-8714-4de3-9e01-6334ff80d8c4"
      },
      "outputs": [
        {
          "output_type": "execute_result",
          "data": {
            "text/plain": [
              "array([[[0.61960784, 0.43921569, 0.19215686],\n",
              "        [0.62352941, 0.43529412, 0.18431373],\n",
              "        [0.64705882, 0.45490196, 0.2       ],\n",
              "        ...,\n",
              "        [0.5372549 , 0.37254902, 0.14117647],\n",
              "        [0.49411765, 0.35686275, 0.14117647],\n",
              "        [0.45490196, 0.33333333, 0.12941176]],\n",
              "\n",
              "       [[0.59607843, 0.43921569, 0.2       ],\n",
              "        [0.59215686, 0.43137255, 0.15686275],\n",
              "        [0.62352941, 0.44705882, 0.17647059],\n",
              "        ...,\n",
              "        [0.53333333, 0.37254902, 0.12156863],\n",
              "        [0.49019608, 0.35686275, 0.1254902 ],\n",
              "        [0.46666667, 0.34509804, 0.13333333]],\n",
              "\n",
              "       [[0.59215686, 0.43137255, 0.18431373],\n",
              "        [0.59215686, 0.42745098, 0.12941176],\n",
              "        [0.61960784, 0.43529412, 0.14117647],\n",
              "        ...,\n",
              "        [0.54509804, 0.38431373, 0.13333333],\n",
              "        [0.50980392, 0.37254902, 0.13333333],\n",
              "        [0.47058824, 0.34901961, 0.12941176]],\n",
              "\n",
              "       ...,\n",
              "\n",
              "       [[0.26666667, 0.48627451, 0.69411765],\n",
              "        [0.16470588, 0.39215686, 0.58039216],\n",
              "        [0.12156863, 0.34509804, 0.5372549 ],\n",
              "        ...,\n",
              "        [0.14901961, 0.38039216, 0.57254902],\n",
              "        [0.05098039, 0.25098039, 0.42352941],\n",
              "        [0.15686275, 0.33333333, 0.49803922]],\n",
              "\n",
              "       [[0.23921569, 0.45490196, 0.65882353],\n",
              "        [0.19215686, 0.4       , 0.58039216],\n",
              "        [0.1372549 , 0.33333333, 0.51764706],\n",
              "        ...,\n",
              "        [0.10196078, 0.32156863, 0.50980392],\n",
              "        [0.11372549, 0.32156863, 0.49411765],\n",
              "        [0.07843137, 0.25098039, 0.41960784]],\n",
              "\n",
              "       [[0.21176471, 0.41960784, 0.62745098],\n",
              "        [0.21960784, 0.41176471, 0.58431373],\n",
              "        [0.17647059, 0.34901961, 0.51764706],\n",
              "        ...,\n",
              "        [0.09411765, 0.30196078, 0.48627451],\n",
              "        [0.13333333, 0.32941176, 0.50588235],\n",
              "        [0.08235294, 0.2627451 , 0.43137255]]])"
            ]
          },
          "metadata": {},
          "execution_count": 11
        }
      ],
      "source": [
        "x_te[0]"
      ]
    },
    {
      "cell_type": "code",
      "execution_count": 13,
      "metadata": {
        "id": "qNRKAdoVKYth"
      },
      "outputs": [],
      "source": [
        "datagen=ImageDataGenerator(\n",
        "    featurewise_center=False,\n",
        "    featurewise_std_normalization=False,\n",
        "    rotation_range=20,\n",
        "    width_shift_range=0.1,\n",
        "    height_shift_range=0.1,\n",
        "    zoom_range=0.2,\n",
        "    shear_range=0.2,\n",
        "    horizontal_flip=True)"
      ]
    },
    {
      "cell_type": "code",
      "execution_count": 14,
      "metadata": {
        "id": "LrJGr-X-Vohl"
      },
      "outputs": [],
      "source": [
        "#datagen.fit(x_tr_16)"
      ]
    },
    {
      "cell_type": "code",
      "execution_count": 15,
      "metadata": {
        "id": "ee-sge5Kg7vr"
      },
      "outputs": [],
      "source": [
        "# Dense Block\n",
        "def denseblock(input, num_filter = 12, dropout_rate = 0.2):\n",
        "    global compression\n",
        "    temp = input\n",
        "    for _ in range(l): \n",
        "        BatchNorm = layers.BatchNormalization()(temp)\n",
        "        relu = layers.Activation('relu')(BatchNorm)\n",
        "        Conv2D_3_3 = layers.Conv2D(int(num_filter*compression), (3,3), use_bias=False,padding='same')(relu)\n",
        "        if dropout_rate>0:\n",
        "            Conv2D_3_3 = layers.Dropout(dropout_rate,name='Dropout'+str(block)+str(_))(Conv2D_3_3)\n",
        "        concat = layers.Concatenate(axis=-1)([temp,Conv2D_3_3])\n",
        "        \n",
        "        temp = concat\n",
        "        \n",
        "    return temp\n",
        "\n",
        "## transition Blosck\n",
        "def transition(input, num_filter = 12, dropout_rate = 0.2):\n",
        "    global compression\n",
        "    BatchNorm = layers.BatchNormalization()(input)\n",
        "    relu = layers.Activation('relu')(BatchNorm)\n",
        "    Conv2D_BottleNeck = layers.Conv2D(int(num_filter*compression), (1,1), use_bias=False,kernel_regularizer=regularizers.l2(0.0003) ,padding='same')(relu)\n",
        "    if dropout_rate>0:\n",
        "         Conv2D_BottleNeck = layers.Dropout(dropout_rate)(Conv2D_BottleNeck)\n",
        "    avg = layers.AveragePooling2D(pool_size=(2,2))(Conv2D_BottleNeck)\n",
        "    return avg\n",
        "\n",
        "#output layer\n",
        "def output_layer(input):\n",
        "    global compression\n",
        "    BatchNorm = layers.BatchNormalization()(input)\n",
        "    relu = layers.Activation('relu')(BatchNorm)\n",
        "    AvgPooling = layers.AveragePooling2D(pool_size=(2,2))(relu)\n",
        "    flat = layers.Flatten()(AvgPooling)\n",
        "    output = layers.Dense(num_classes, activation='softmax')(flat)\n",
        "    return output"
      ]
    },
    {
      "cell_type": "code",
      "execution_count": 17,
      "metadata": {
        "id": "anPCpQWhhGb7"
      },
      "outputs": [],
      "source": [
        "num_filter = 36\n",
        "dropout_rate = 0\n",
        "l = 12\n",
        "input = layers.Input(shape=(img_height, img_width, channel,),name='input_layer')\n",
        "First_Conv2D = layers.Conv2D(num_filter, (3,3), use_bias=False ,padding='same',name='first_conv',kernel_regularizer=regularizers.l2(0.0003))(input)\n",
        "block=1\n",
        "First_Block = denseblock(First_Conv2D, num_filter, dropout_rate)\n",
        "First_Transition = transition(First_Block, num_filter, dropout_rate)\n",
        "block=2\n",
        "Second_Block = denseblock(First_Transition, num_filter, dropout_rate)\n",
        "Second_Transition = transition(Second_Block, num_filter, dropout_rate)\n",
        "block=3\n",
        "Third_Block = denseblock(Second_Transition, num_filter, dropout_rate)\n",
        "Third_Transition = transition(Third_Block, num_filter, dropout_rate)\n",
        "block=4\n",
        "Last_Block = denseblock(Third_Transition,  num_filter, dropout_rate)\n",
        "output = output_layer(Last_Block)"
      ]
    },
    {
      "cell_type": "code",
      "execution_count": 18,
      "metadata": {
        "colab": {
          "base_uri": "https://localhost:8080/",
          "height": 321
        },
        "id": "c5Wksy8z5-rw",
        "outputId": "66006fd8-a07e-4d6f-bf30-94bb1f18c49e"
      },
      "outputs": [
        {
          "output_type": "execute_result",
          "data": {
            "text/plain": [
              "<IPython.lib.display.YouTubeVideo at 0x7f99db0ed110>"
            ],
            "text/html": [
              "\n",
              "        <iframe\n",
              "            width=\"600\"\n",
              "            height=\"300\"\n",
              "            src=\"https://www.youtube.com/embed/-W6y8xnd--U\"\n",
              "            frameborder=\"0\"\n",
              "            allowfullscreen\n",
              "        ></iframe>\n",
              "        "
            ],
            "image/jpeg": "[encoded data removed]"
          },
          "metadata": {},
          "execution_count": 18
        }
      ],
      "source": [
        "#https://arxiv.org/pdf/1608.06993.pdf\n",
        "from IPython.display import IFrame, YouTubeVideo\n",
        "YouTubeVideo(id='-W6y8xnd--U', width=600)"
      ]
    },
    {
      "cell_type": "code",
      "execution_count": 19,
      "metadata": {
        "colab": {
          "base_uri": "https://localhost:8080/"
        },
        "id": "1kFh7pdxhNtT",
        "outputId": "ea3702fa-7f39-4ba4-dfea-a312ecf0bc1f",
        "scrolled": true
      },
      "outputs": [
        {
          "output_type": "stream",
          "name": "stdout",
          "text": [
            "Model: \"model\"\n",
            "__________________________________________________________________________________________________\n",
            " Layer (type)                   Output Shape         Param #     Connected to                     \n",
            "==================================================================================================\n",
            " input_layer (InputLayer)       [(None, 32, 32, 3)]  0           []                               \n",
            "                                                                                                  \n",
            " first_conv (Conv2D)            (None, 32, 32, 36)   972         ['input_layer[0][0]']            \n",
            "                                                                                                  \n",
            " batch_normalization (BatchNorm  (None, 32, 32, 36)  144         ['first_conv[0][0]']             \n",
            " alization)                                                                                       \n",
            "                                                                                                  \n",
            " activation (Activation)        (None, 32, 32, 36)   0           ['batch_normalization[0][0]']    \n",
            "                                                                                                  \n",
            " conv2d (Conv2D)                (None, 32, 32, 18)   5832        ['activation[0][0]']             \n",
            "                                                                                                  \n",
            " concatenate (Concatenate)      (None, 32, 32, 54)   0           ['first_conv[0][0]',             \n",
            "                                                                  'conv2d[0][0]']                 \n",
            "                                                                                                  \n",
            " batch_normalization_1 (BatchNo  (None, 32, 32, 54)  216         ['concatenate[0][0]']            \n",
            " rmalization)                                                                                     \n",
            "                                                                                                  \n",
            " activation_1 (Activation)      (None, 32, 32, 54)   0           ['batch_normalization_1[0][0]']  \n",
            "                                                                                                  \n",
            " conv2d_1 (Conv2D)              (None, 32, 32, 18)   8748        ['activation_1[0][0]']           \n",
            "                                                                                                  \n",
            " concatenate_1 (Concatenate)    (None, 32, 32, 72)   0           ['concatenate[0][0]',            \n",
            "                                                                  'conv2d_1[0][0]']               \n",
            "                                                                                                  \n",
            " batch_normalization_2 (BatchNo  (None, 32, 32, 72)  288         ['concatenate_1[0][0]']          \n",
            " rmalization)                                                                                     \n",
            "                                                                                                  \n",
            " activation_2 (Activation)      (None, 32, 32, 72)   0           ['batch_normalization_2[0][0]']  \n",
            "                                                                                                  \n",
            " conv2d_2 (Conv2D)              (None, 32, 32, 18)   11664       ['activation_2[0][0]']           \n",
            "                                                                                                  \n",
            " concatenate_2 (Concatenate)    (None, 32, 32, 90)   0           ['concatenate_1[0][0]',          \n",
            "                                                                  'conv2d_2[0][0]']               \n",
            "                                                                                                  \n",
            " batch_normalization_3 (BatchNo  (None, 32, 32, 90)  360         ['concatenate_2[0][0]']          \n",
            " rmalization)                                                                                     \n",
            "                                                                                                  \n",
            " activation_3 (Activation)      (None, 32, 32, 90)   0           ['batch_normalization_3[0][0]']  \n",
            "                                                                                                  \n",
            " conv2d_3 (Conv2D)              (None, 32, 32, 18)   14580       ['activation_3[0][0]']           \n",
            "                                                                                                  \n",
            " concatenate_3 (Concatenate)    (None, 32, 32, 108)  0           ['concatenate_2[0][0]',          \n",
            "                                                                  'conv2d_3[0][0]']               \n",
            "                                                                                                  \n",
            " batch_normalization_4 (BatchNo  (None, 32, 32, 108)  432        ['concatenate_3[0][0]']          \n",
            " rmalization)                                                                                     \n",
            "                                                                                                  \n",
            " activation_4 (Activation)      (None, 32, 32, 108)  0           ['batch_normalization_4[0][0]']  \n",
            "                                                                                                  \n",
            " conv2d_4 (Conv2D)              (None, 32, 32, 18)   17496       ['activation_4[0][0]']           \n",
            "                                                                                                  \n",
            " concatenate_4 (Concatenate)    (None, 32, 32, 126)  0           ['concatenate_3[0][0]',          \n",
            "                                                                  'conv2d_4[0][0]']               \n",
            "                                                                                                  \n",
            " batch_normalization_5 (BatchNo  (None, 32, 32, 126)  504        ['concatenate_4[0][0]']          \n",
            " rmalization)                                                                                     \n",
            "                                                                                                  \n",
            " activation_5 (Activation)      (None, 32, 32, 126)  0           ['batch_normalization_5[0][0]']  \n",
            "                                                                                                  \n",
            " conv2d_5 (Conv2D)              (None, 32, 32, 18)   20412       ['activation_5[0][0]']           \n",
            "                                                                                                  \n",
            " concatenate_5 (Concatenate)    (None, 32, 32, 144)  0           ['concatenate_4[0][0]',          \n",
            "                                                                  'conv2d_5[0][0]']               \n",
            "                                                                                                  \n",
            " batch_normalization_6 (BatchNo  (None, 32, 32, 144)  576        ['concatenate_5[0][0]']          \n",
            " rmalization)                                                                                     \n",
            "                                                                                                  \n",
            " activation_6 (Activation)      (None, 32, 32, 144)  0           ['batch_normalization_6[0][0]']  \n",
            "                                                                                                  \n",
            " conv2d_6 (Conv2D)              (None, 32, 32, 18)   23328       ['activation_6[0][0]']           \n",
            "                                                                                                  \n",
            " concatenate_6 (Concatenate)    (None, 32, 32, 162)  0           ['concatenate_5[0][0]',          \n",
            "                                                                  'conv2d_6[0][0]']               \n",
            "                                                                                                  \n",
            " batch_normalization_7 (BatchNo  (None, 32, 32, 162)  648        ['concatenate_6[0][0]']          \n",
            " rmalization)                                                                                     \n",
            "                                                                                                  \n",
            " activation_7 (Activation)      (None, 32, 32, 162)  0           ['batch_normalization_7[0][0]']  \n",
            "                                                                                                  \n",
            " conv2d_7 (Conv2D)              (None, 32, 32, 18)   26244       ['activation_7[0][0]']           \n",
            "                                                                                                  \n",
            " concatenate_7 (Concatenate)    (None, 32, 32, 180)  0           ['concatenate_6[0][0]',          \n",
            "                                                                  'conv2d_7[0][0]']               \n",
            "                                                                                                  \n",
            " batch_normalization_8 (BatchNo  (None, 32, 32, 180)  720        ['concatenate_7[0][0]']          \n",
            " rmalization)                                                                                     \n",
            "                                                                                                  \n",
            " activation_8 (Activation)      (None, 32, 32, 180)  0           ['batch_normalization_8[0][0]']  \n",
            "                                                                                                  \n",
            " conv2d_8 (Conv2D)              (None, 32, 32, 18)   29160       ['activation_8[0][0]']           \n",
            "                                                                                                  \n",
            " concatenate_8 (Concatenate)    (None, 32, 32, 198)  0           ['concatenate_7[0][0]',          \n",
            "                                                                  'conv2d_8[0][0]']               \n",
            "                                                                                                  \n",
            " batch_normalization_9 (BatchNo  (None, 32, 32, 198)  792        ['concatenate_8[0][0]']          \n",
            " rmalization)                                                                                     \n",
            "                                                                                                  \n",
            " activation_9 (Activation)      (None, 32, 32, 198)  0           ['batch_normalization_9[0][0]']  \n",
            "                                                                                                  \n",
            " conv2d_9 (Conv2D)              (None, 32, 32, 18)   32076       ['activation_9[0][0]']           \n",
            "                                                                                                  \n",
            " concatenate_9 (Concatenate)    (None, 32, 32, 216)  0           ['concatenate_8[0][0]',          \n",
            "                                                                  'conv2d_9[0][0]']               \n",
            "                                                                                                  \n",
            " batch_normalization_10 (BatchN  (None, 32, 32, 216)  864        ['concatenate_9[0][0]']          \n",
            " ormalization)                                                                                    \n",
            "                                                                                                  \n",
            " activation_10 (Activation)     (None, 32, 32, 216)  0           ['batch_normalization_10[0][0]'] \n",
            "                                                                                                  \n",
            " conv2d_10 (Conv2D)             (None, 32, 32, 18)   34992       ['activation_10[0][0]']          \n",
            "                                                                                                  \n",
            " concatenate_10 (Concatenate)   (None, 32, 32, 234)  0           ['concatenate_9[0][0]',          \n",
            "                                                                  'conv2d_10[0][0]']              \n",
            "                                                                                                  \n",
            " batch_normalization_11 (BatchN  (None, 32, 32, 234)  936        ['concatenate_10[0][0]']         \n",
            " ormalization)                                                                                    \n",
            "                                                                                                  \n",
            " activation_11 (Activation)     (None, 32, 32, 234)  0           ['batch_normalization_11[0][0]'] \n",
            "                                                                                                  \n",
            " conv2d_11 (Conv2D)             (None, 32, 32, 18)   37908       ['activation_11[0][0]']          \n",
            "                                                                                                  \n",
            " concatenate_11 (Concatenate)   (None, 32, 32, 252)  0           ['concatenate_10[0][0]',         \n",
            "                                                                  'conv2d_11[0][0]']              \n",
            "                                                                                                  \n",
            " batch_normalization_12 (BatchN  (None, 32, 32, 252)  1008       ['concatenate_11[0][0]']         \n",
            " ormalization)                                                                                    \n",
            "                                                                                                  \n",
            " activation_12 (Activation)     (None, 32, 32, 252)  0           ['batch_normalization_12[0][0]'] \n",
            "                                                                                                  \n",
            " conv2d_12 (Conv2D)             (None, 32, 32, 18)   4536        ['activation_12[0][0]']          \n",
            "                                                                                                  \n",
            " average_pooling2d (AveragePool  (None, 16, 16, 18)  0           ['conv2d_12[0][0]']              \n",
            " ing2D)                                                                                           \n",
            "                                                                                                  \n",
            " batch_normalization_13 (BatchN  (None, 16, 16, 18)  72          ['average_pooling2d[0][0]']      \n",
            " ormalization)                                                                                    \n",
            "                                                                                                  \n",
            " activation_13 (Activation)     (None, 16, 16, 18)   0           ['batch_normalization_13[0][0]'] \n",
            "                                                                                                  \n",
            " conv2d_13 (Conv2D)             (None, 16, 16, 18)   2916        ['activation_13[0][0]']          \n",
            "                                                                                                  \n",
            " concatenate_12 (Concatenate)   (None, 16, 16, 36)   0           ['average_pooling2d[0][0]',      \n",
            "                                                                  'conv2d_13[0][0]']              \n",
            "                                                                                                  \n",
            " batch_normalization_14 (BatchN  (None, 16, 16, 36)  144         ['concatenate_12[0][0]']         \n",
            " ormalization)                                                                                    \n",
            "                                                                                                  \n",
            " activation_14 (Activation)     (None, 16, 16, 36)   0           ['batch_normalization_14[0][0]'] \n",
            "                                                                                                  \n",
            " conv2d_14 (Conv2D)             (None, 16, 16, 18)   5832        ['activation_14[0][0]']          \n",
            "                                                                                                  \n",
            " concatenate_13 (Concatenate)   (None, 16, 16, 54)   0           ['concatenate_12[0][0]',         \n",
            "                                                                  'conv2d_14[0][0]']              \n",
            "                                                                                                  \n",
            " batch_normalization_15 (BatchN  (None, 16, 16, 54)  216         ['concatenate_13[0][0]']         \n",
            " ormalization)                                                                                    \n",
            "                                                                                                  \n",
            " activation_15 (Activation)     (None, 16, 16, 54)   0           ['batch_normalization_15[0][0]'] \n",
            "                                                                                                  \n",
            " conv2d_15 (Conv2D)             (None, 16, 16, 18)   8748        ['activation_15[0][0]']          \n",
            "                                                                                                  \n",
            " concatenate_14 (Concatenate)   (None, 16, 16, 72)   0           ['concatenate_13[0][0]',         \n",
            "                                                                  'conv2d_15[0][0]']              \n",
            "                                                                                                  \n",
            " batch_normalization_16 (BatchN  (None, 16, 16, 72)  288         ['concatenate_14[0][0]']         \n",
            " ormalization)                                                                                    \n",
            "                                                                                                  \n",
            " activation_16 (Activation)     (None, 16, 16, 72)   0           ['batch_normalization_16[0][0]'] \n",
            "                                                                                                  \n",
            " conv2d_16 (Conv2D)             (None, 16, 16, 18)   11664       ['activation_16[0][0]']          \n",
            "                                                                                                  \n",
            " concatenate_15 (Concatenate)   (None, 16, 16, 90)   0           ['concatenate_14[0][0]',         \n",
            "                                                                  'conv2d_16[0][0]']              \n",
            "                                                                                                  \n",
            " batch_normalization_17 (BatchN  (None, 16, 16, 90)  360         ['concatenate_15[0][0]']         \n",
            " ormalization)                                                                                    \n",
            "                                                                                                  \n",
            " activation_17 (Activation)     (None, 16, 16, 90)   0           ['batch_normalization_17[0][0]'] \n",
            "                                                                                                  \n",
            " conv2d_17 (Conv2D)             (None, 16, 16, 18)   14580       ['activation_17[0][0]']          \n",
            "                                                                                                  \n",
            " concatenate_16 (Concatenate)   (None, 16, 16, 108)  0           ['concatenate_15[0][0]',         \n",
            "                                                                  'conv2d_17[0][0]']              \n",
            "                                                                                                  \n",
            " batch_normalization_18 (BatchN  (None, 16, 16, 108)  432        ['concatenate_16[0][0]']         \n",
            " ormalization)                                                                                    \n",
            "                                                                                                  \n",
            " activation_18 (Activation)     (None, 16, 16, 108)  0           ['batch_normalization_18[0][0]'] \n",
            "                                                                                                  \n",
            " conv2d_18 (Conv2D)             (None, 16, 16, 18)   17496       ['activation_18[0][0]']          \n",
            "                                                                                                  \n",
            " concatenate_17 (Concatenate)   (None, 16, 16, 126)  0           ['concatenate_16[0][0]',         \n",
            "                                                                  'conv2d_18[0][0]']              \n",
            "                                                                                                  \n",
            " batch_normalization_19 (BatchN  (None, 16, 16, 126)  504        ['concatenate_17[0][0]']         \n",
            " ormalization)                                                                                    \n",
            "                                                                                                  \n",
            " activation_19 (Activation)     (None, 16, 16, 126)  0           ['batch_normalization_19[0][0]'] \n",
            "                                                                                                  \n",
            " conv2d_19 (Conv2D)             (None, 16, 16, 18)   20412       ['activation_19[0][0]']          \n",
            "                                                                                                  \n",
            " concatenate_18 (Concatenate)   (None, 16, 16, 144)  0           ['concatenate_17[0][0]',         \n",
            "                                                                  'conv2d_19[0][0]']              \n",
            "                                                                                                  \n",
            " batch_normalization_20 (BatchN  (None, 16, 16, 144)  576        ['concatenate_18[0][0]']         \n",
            " ormalization)                                                                                    \n",
            "                                                                                                  \n",
            " activation_20 (Activation)     (None, 16, 16, 144)  0           ['batch_normalization_20[0][0]'] \n",
            "                                                                                                  \n",
            " conv2d_20 (Conv2D)             (None, 16, 16, 18)   23328       ['activation_20[0][0]']          \n",
            "                                                                                                  \n",
            " concatenate_19 (Concatenate)   (None, 16, 16, 162)  0           ['concatenate_18[0][0]',         \n",
            "                                                                  'conv2d_20[0][0]']              \n",
            "                                                                                                  \n",
            " batch_normalization_21 (BatchN  (None, 16, 16, 162)  648        ['concatenate_19[0][0]']         \n",
            " ormalization)                                                                                    \n",
            "                                                                                                  \n",
            " activation_21 (Activation)     (None, 16, 16, 162)  0           ['batch_normalization_21[0][0]'] \n",
            "                                                                                                  \n",
            " conv2d_21 (Conv2D)             (None, 16, 16, 18)   26244       ['activation_21[0][0]']          \n",
            "                                                                                                  \n",
            " concatenate_20 (Concatenate)   (None, 16, 16, 180)  0           ['concatenate_19[0][0]',         \n",
            "                                                                  'conv2d_21[0][0]']              \n",
            "                                                                                                  \n",
            " batch_normalization_22 (BatchN  (None, 16, 16, 180)  720        ['concatenate_20[0][0]']         \n",
            " ormalization)                                                                                    \n",
            "                                                                                                  \n",
            " activation_22 (Activation)     (None, 16, 16, 180)  0           ['batch_normalization_22[0][0]'] \n",
            "                                                                                                  \n",
            " conv2d_22 (Conv2D)             (None, 16, 16, 18)   29160       ['activation_22[0][0]']          \n",
            "                                                                                                  \n",
            " concatenate_21 (Concatenate)   (None, 16, 16, 198)  0           ['concatenate_20[0][0]',         \n",
            "                                                                  'conv2d_22[0][0]']              \n",
            "                                                                                                  \n",
            " batch_normalization_23 (BatchN  (None, 16, 16, 198)  792        ['concatenate_21[0][0]']         \n",
            " ormalization)                                                                                    \n",
            "                                                                                                  \n",
            " activation_23 (Activation)     (None, 16, 16, 198)  0           ['batch_normalization_23[0][0]'] \n",
            "                                                                                                  \n",
            " conv2d_23 (Conv2D)             (None, 16, 16, 18)   32076       ['activation_23[0][0]']          \n",
            "                                                                                                  \n",
            " concatenate_22 (Concatenate)   (None, 16, 16, 216)  0           ['concatenate_21[0][0]',         \n",
            "                                                                  'conv2d_23[0][0]']              \n",
            "                                                                                                  \n",
            " batch_normalization_24 (BatchN  (None, 16, 16, 216)  864        ['concatenate_22[0][0]']         \n",
            " ormalization)                                                                                    \n",
            "                                                                                                  \n",
            " activation_24 (Activation)     (None, 16, 16, 216)  0           ['batch_normalization_24[0][0]'] \n",
            "                                                                                                  \n",
            " conv2d_24 (Conv2D)             (None, 16, 16, 18)   34992       ['activation_24[0][0]']          \n",
            "                                                                                                  \n",
            " concatenate_23 (Concatenate)   (None, 16, 16, 234)  0           ['concatenate_22[0][0]',         \n",
            "                                                                  'conv2d_24[0][0]']              \n",
            "                                                                                                  \n",
            " batch_normalization_25 (BatchN  (None, 16, 16, 234)  936        ['concatenate_23[0][0]']         \n",
            " ormalization)                                                                                    \n",
            "                                                                                                  \n",
            " activation_25 (Activation)     (None, 16, 16, 234)  0           ['batch_normalization_25[0][0]'] \n",
            "                                                                                                  \n",
            " conv2d_25 (Conv2D)             (None, 16, 16, 18)   4212        ['activation_25[0][0]']          \n",
            "                                                                                                  \n",
            " average_pooling2d_1 (AveragePo  (None, 8, 8, 18)    0           ['conv2d_25[0][0]']              \n",
            " oling2D)                                                                                         \n",
            "                                                                                                  \n",
            " batch_normalization_26 (BatchN  (None, 8, 8, 18)    72          ['average_pooling2d_1[0][0]']    \n",
            " ormalization)                                                                                    \n",
            "                                                                                                  \n",
            " activation_26 (Activation)     (None, 8, 8, 18)     0           ['batch_normalization_26[0][0]'] \n",
            "                                                                                                  \n",
            " conv2d_26 (Conv2D)             (None, 8, 8, 18)     2916        ['activation_26[0][0]']          \n",
            "                                                                                                  \n",
            " concatenate_24 (Concatenate)   (None, 8, 8, 36)     0           ['average_pooling2d_1[0][0]',    \n",
            "                                                                  'conv2d_26[0][0]']              \n",
            "                                                                                                  \n",
            " batch_normalization_27 (BatchN  (None, 8, 8, 36)    144         ['concatenate_24[0][0]']         \n",
            " ormalization)                                                                                    \n",
            "                                                                                                  \n",
            " activation_27 (Activation)     (None, 8, 8, 36)     0           ['batch_normalization_27[0][0]'] \n",
            "                                                                                                  \n",
            " conv2d_27 (Conv2D)             (None, 8, 8, 18)     5832        ['activation_27[0][0]']          \n",
            "                                                                                                  \n",
            " concatenate_25 (Concatenate)   (None, 8, 8, 54)     0           ['concatenate_24[0][0]',         \n",
            "                                                                  'conv2d_27[0][0]']              \n",
            "                                                                                                  \n",
            " batch_normalization_28 (BatchN  (None, 8, 8, 54)    216         ['concatenate_25[0][0]']         \n",
            " ormalization)                                                                                    \n",
            "                                                                                                  \n",
            " activation_28 (Activation)     (None, 8, 8, 54)     0           ['batch_normalization_28[0][0]'] \n",
            "                                                                                                  \n",
            " conv2d_28 (Conv2D)             (None, 8, 8, 18)     8748        ['activation_28[0][0]']          \n",
            "                                                                                                  \n",
            " concatenate_26 (Concatenate)   (None, 8, 8, 72)     0           ['concatenate_25[0][0]',         \n",
            "                                                                  'conv2d_28[0][0]']              \n",
            "                                                                                                  \n",
            " batch_normalization_29 (BatchN  (None, 8, 8, 72)    288         ['concatenate_26[0][0]']         \n",
            " ormalization)                                                                                    \n",
            "                                                                                                  \n",
            " activation_29 (Activation)     (None, 8, 8, 72)     0           ['batch_normalization_29[0][0]'] \n",
            "                                                                                                  \n",
            " conv2d_29 (Conv2D)             (None, 8, 8, 18)     11664       ['activation_29[0][0]']          \n",
            "                                                                                                  \n",
            " concatenate_27 (Concatenate)   (None, 8, 8, 90)     0           ['concatenate_26[0][0]',         \n",
            "                                                                  'conv2d_29[0][0]']              \n",
            "                                                                                                  \n",
            " batch_normalization_30 (BatchN  (None, 8, 8, 90)    360         ['concatenate_27[0][0]']         \n",
            " ormalization)                                                                                    \n",
            "                                                                                                  \n",
            " activation_30 (Activation)     (None, 8, 8, 90)     0           ['batch_normalization_30[0][0]'] \n",
            "                                                                                                  \n",
            " conv2d_30 (Conv2D)             (None, 8, 8, 18)     14580       ['activation_30[0][0]']          \n",
            "                                                                                                  \n",
            " concatenate_28 (Concatenate)   (None, 8, 8, 108)    0           ['concatenate_27[0][0]',         \n",
            "                                                                  'conv2d_30[0][0]']              \n",
            "                                                                                                  \n",
            " batch_normalization_31 (BatchN  (None, 8, 8, 108)   432         ['concatenate_28[0][0]']         \n",
            " ormalization)                                                                                    \n",
            "                                                                                                  \n",
            " activation_31 (Activation)     (None, 8, 8, 108)    0           ['batch_normalization_31[0][0]'] \n",
            "                                                                                                  \n",
            " conv2d_31 (Conv2D)             (None, 8, 8, 18)     17496       ['activation_31[0][0]']          \n",
            "                                                                                                  \n",
            " concatenate_29 (Concatenate)   (None, 8, 8, 126)    0           ['concatenate_28[0][0]',         \n",
            "                                                                  'conv2d_31[0][0]']              \n",
            "                                                                                                  \n",
            " batch_normalization_32 (BatchN  (None, 8, 8, 126)   504         ['concatenate_29[0][0]']         \n",
            " ormalization)                                                                                    \n",
            "                                                                                                  \n",
            " activation_32 (Activation)     (None, 8, 8, 126)    0           ['batch_normalization_32[0][0]'] \n",
            "                                                                                                  \n",
            " conv2d_32 (Conv2D)             (None, 8, 8, 18)     20412       ['activation_32[0][0]']          \n",
            "                                                                                                  \n",
            " concatenate_30 (Concatenate)   (None, 8, 8, 144)    0           ['concatenate_29[0][0]',         \n",
            "                                                                  'conv2d_32[0][0]']              \n",
            "                                                                                                  \n",
            " batch_normalization_33 (BatchN  (None, 8, 8, 144)   576         ['concatenate_30[0][0]']         \n",
            " ormalization)                                                                                    \n",
            "                                                                                                  \n",
            " activation_33 (Activation)     (None, 8, 8, 144)    0           ['batch_normalization_33[0][0]'] \n",
            "                                                                                                  \n",
            " conv2d_33 (Conv2D)             (None, 8, 8, 18)     23328       ['activation_33[0][0]']          \n",
            "                                                                                                  \n",
            " concatenate_31 (Concatenate)   (None, 8, 8, 162)    0           ['concatenate_30[0][0]',         \n",
            "                                                                  'conv2d_33[0][0]']              \n",
            "                                                                                                  \n",
            " batch_normalization_34 (BatchN  (None, 8, 8, 162)   648         ['concatenate_31[0][0]']         \n",
            " ormalization)                                                                                    \n",
            "                                                                                                  \n",
            " activation_34 (Activation)     (None, 8, 8, 162)    0           ['batch_normalization_34[0][0]'] \n",
            "                                                                                                  \n",
            " conv2d_34 (Conv2D)             (None, 8, 8, 18)     26244       ['activation_34[0][0]']          \n",
            "                                                                                                  \n",
            " concatenate_32 (Concatenate)   (None, 8, 8, 180)    0           ['concatenate_31[0][0]',         \n",
            "                                                                  'conv2d_34[0][0]']              \n",
            "                                                                                                  \n",
            " batch_normalization_35 (BatchN  (None, 8, 8, 180)   720         ['concatenate_32[0][0]']         \n",
            " ormalization)                                                                                    \n",
            "                                                                                                  \n",
            " activation_35 (Activation)     (None, 8, 8, 180)    0           ['batch_normalization_35[0][0]'] \n",
            "                                                                                                  \n",
            " conv2d_35 (Conv2D)             (None, 8, 8, 18)     29160       ['activation_35[0][0]']          \n",
            "                                                                                                  \n",
            " concatenate_33 (Concatenate)   (None, 8, 8, 198)    0           ['concatenate_32[0][0]',         \n",
            "                                                                  'conv2d_35[0][0]']              \n",
            "                                                                                                  \n",
            " batch_normalization_36 (BatchN  (None, 8, 8, 198)   792         ['concatenate_33[0][0]']         \n",
            " ormalization)                                                                                    \n",
            "                                                                                                  \n",
            " activation_36 (Activation)     (None, 8, 8, 198)    0           ['batch_normalization_36[0][0]'] \n",
            "                                                                                                  \n",
            " conv2d_36 (Conv2D)             (None, 8, 8, 18)     32076       ['activation_36[0][0]']          \n",
            "                                                                                                  \n",
            " concatenate_34 (Concatenate)   (None, 8, 8, 216)    0           ['concatenate_33[0][0]',         \n",
            "                                                                  'conv2d_36[0][0]']              \n",
            "                                                                                                  \n",
            " batch_normalization_37 (BatchN  (None, 8, 8, 216)   864         ['concatenate_34[0][0]']         \n",
            " ormalization)                                                                                    \n",
            "                                                                                                  \n",
            " activation_37 (Activation)     (None, 8, 8, 216)    0           ['batch_normalization_37[0][0]'] \n",
            "                                                                                                  \n",
            " conv2d_37 (Conv2D)             (None, 8, 8, 18)     34992       ['activation_37[0][0]']          \n",
            "                                                                                                  \n",
            " concatenate_35 (Concatenate)   (None, 8, 8, 234)    0           ['concatenate_34[0][0]',         \n",
            "                                                                  'conv2d_37[0][0]']              \n",
            "                                                                                                  \n",
            " batch_normalization_38 (BatchN  (None, 8, 8, 234)   936         ['concatenate_35[0][0]']         \n",
            " ormalization)                                                                                    \n",
            "                                                                                                  \n",
            " activation_38 (Activation)     (None, 8, 8, 234)    0           ['batch_normalization_38[0][0]'] \n",
            "                                                                                                  \n",
            " conv2d_38 (Conv2D)             (None, 8, 8, 18)     4212        ['activation_38[0][0]']          \n",
            "                                                                                                  \n",
            " average_pooling2d_2 (AveragePo  (None, 4, 4, 18)    0           ['conv2d_38[0][0]']              \n",
            " oling2D)                                                                                         \n",
            "                                                                                                  \n",
            " batch_normalization_39 (BatchN  (None, 4, 4, 18)    72          ['average_pooling2d_2[0][0]']    \n",
            " ormalization)                                                                                    \n",
            "                                                                                                  \n",
            " activation_39 (Activation)     (None, 4, 4, 18)     0           ['batch_normalization_39[0][0]'] \n",
            "                                                                                                  \n",
            " conv2d_39 (Conv2D)             (None, 4, 4, 18)     2916        ['activation_39[0][0]']          \n",
            "                                                                                                  \n",
            " concatenate_36 (Concatenate)   (None, 4, 4, 36)     0           ['average_pooling2d_2[0][0]',    \n",
            "                                                                  'conv2d_39[0][0]']              \n",
            "                                                                                                  \n",
            " batch_normalization_40 (BatchN  (None, 4, 4, 36)    144         ['concatenate_36[0][0]']         \n",
            " ormalization)                                                                                    \n",
            "                                                                                                  \n",
            " activation_40 (Activation)     (None, 4, 4, 36)     0           ['batch_normalization_40[0][0]'] \n",
            "                                                                                                  \n",
            " conv2d_40 (Conv2D)             (None, 4, 4, 18)     5832        ['activation_40[0][0]']          \n",
            "                                                                                                  \n",
            " concatenate_37 (Concatenate)   (None, 4, 4, 54)     0           ['concatenate_36[0][0]',         \n",
            "                                                                  'conv2d_40[0][0]']              \n",
            "                                                                                                  \n",
            " batch_normalization_41 (BatchN  (None, 4, 4, 54)    216         ['concatenate_37[0][0]']         \n",
            " ormalization)                                                                                    \n",
            "                                                                                                  \n",
            " activation_41 (Activation)     (None, 4, 4, 54)     0           ['batch_normalization_41[0][0]'] \n",
            "                                                                                                  \n",
            " conv2d_41 (Conv2D)             (None, 4, 4, 18)     8748        ['activation_41[0][0]']          \n",
            "                                                                                                  \n",
            " concatenate_38 (Concatenate)   (None, 4, 4, 72)     0           ['concatenate_37[0][0]',         \n",
            "                                                                  'conv2d_41[0][0]']              \n",
            "                                                                                                  \n",
            " batch_normalization_42 (BatchN  (None, 4, 4, 72)    288         ['concatenate_38[0][0]']         \n",
            " ormalization)                                                                                    \n",
            "                                                                                                  \n",
            " activation_42 (Activation)     (None, 4, 4, 72)     0           ['batch_normalization_42[0][0]'] \n",
            "                                                                                                  \n",
            " conv2d_42 (Conv2D)             (None, 4, 4, 18)     11664       ['activation_42[0][0]']          \n",
            "                                                                                                  \n",
            " concatenate_39 (Concatenate)   (None, 4, 4, 90)     0           ['concatenate_38[0][0]',         \n",
            "                                                                  'conv2d_42[0][0]']              \n",
            "                                                                                                  \n",
            " batch_normalization_43 (BatchN  (None, 4, 4, 90)    360         ['concatenate_39[0][0]']         \n",
            " ormalization)                                                                                    \n",
            "                                                                                                  \n",
            " activation_43 (Activation)     (None, 4, 4, 90)     0           ['batch_normalization_43[0][0]'] \n",
            "                                                                                                  \n",
            " conv2d_43 (Conv2D)             (None, 4, 4, 18)     14580       ['activation_43[0][0]']          \n",
            "                                                                                                  \n",
            " concatenate_40 (Concatenate)   (None, 4, 4, 108)    0           ['concatenate_39[0][0]',         \n",
            "                                                                  'conv2d_43[0][0]']              \n",
            "                                                                                                  \n",
            " batch_normalization_44 (BatchN  (None, 4, 4, 108)   432         ['concatenate_40[0][0]']         \n",
            " ormalization)                                                                                    \n",
            "                                                                                                  \n",
            " activation_44 (Activation)     (None, 4, 4, 108)    0           ['batch_normalization_44[0][0]'] \n",
            "                                                                                                  \n",
            " conv2d_44 (Conv2D)             (None, 4, 4, 18)     17496       ['activation_44[0][0]']          \n",
            "                                                                                                  \n",
            " concatenate_41 (Concatenate)   (None, 4, 4, 126)    0           ['concatenate_40[0][0]',         \n",
            "                                                                  'conv2d_44[0][0]']              \n",
            "                                                                                                  \n",
            " batch_normalization_45 (BatchN  (None, 4, 4, 126)   504         ['concatenate_41[0][0]']         \n",
            " ormalization)                                                                                    \n",
            "                                                                                                  \n",
            " activation_45 (Activation)     (None, 4, 4, 126)    0           ['batch_normalization_45[0][0]'] \n",
            "                                                                                                  \n",
            " conv2d_45 (Conv2D)             (None, 4, 4, 18)     20412       ['activation_45[0][0]']          \n",
            "                                                                                                  \n",
            " concatenate_42 (Concatenate)   (None, 4, 4, 144)    0           ['concatenate_41[0][0]',         \n",
            "                                                                  'conv2d_45[0][0]']              \n",
            "                                                                                                  \n",
            " batch_normalization_46 (BatchN  (None, 4, 4, 144)   576         ['concatenate_42[0][0]']         \n",
            " ormalization)                                                                                    \n",
            "                                                                                                  \n",
            " activation_46 (Activation)     (None, 4, 4, 144)    0           ['batch_normalization_46[0][0]'] \n",
            "                                                                                                  \n",
            " conv2d_46 (Conv2D)             (None, 4, 4, 18)     23328       ['activation_46[0][0]']          \n",
            "                                                                                                  \n",
            " concatenate_43 (Concatenate)   (None, 4, 4, 162)    0           ['concatenate_42[0][0]',         \n",
            "                                                                  'conv2d_46[0][0]']              \n",
            "                                                                                                  \n",
            " batch_normalization_47 (BatchN  (None, 4, 4, 162)   648         ['concatenate_43[0][0]']         \n",
            " ormalization)                                                                                    \n",
            "                                                                                                  \n",
            " activation_47 (Activation)     (None, 4, 4, 162)    0           ['batch_normalization_47[0][0]'] \n",
            "                                                                                                  \n",
            " conv2d_47 (Conv2D)             (None, 4, 4, 18)     26244       ['activation_47[0][0]']          \n",
            "                                                                                                  \n",
            " concatenate_44 (Concatenate)   (None, 4, 4, 180)    0           ['concatenate_43[0][0]',         \n",
            "                                                                  'conv2d_47[0][0]']              \n",
            "                                                                                                  \n",
            " batch_normalization_48 (BatchN  (None, 4, 4, 180)   720         ['concatenate_44[0][0]']         \n",
            " ormalization)                                                                                    \n",
            "                                                                                                  \n",
            " activation_48 (Activation)     (None, 4, 4, 180)    0           ['batch_normalization_48[0][0]'] \n",
            "                                                                                                  \n",
            " conv2d_48 (Conv2D)             (None, 4, 4, 18)     29160       ['activation_48[0][0]']          \n",
            "                                                                                                  \n",
            " concatenate_45 (Concatenate)   (None, 4, 4, 198)    0           ['concatenate_44[0][0]',         \n",
            "                                                                  'conv2d_48[0][0]']              \n",
            "                                                                                                  \n",
            " batch_normalization_49 (BatchN  (None, 4, 4, 198)   792         ['concatenate_45[0][0]']         \n",
            " ormalization)                                                                                    \n",
            "                                                                                                  \n",
            " activation_49 (Activation)     (None, 4, 4, 198)    0           ['batch_normalization_49[0][0]'] \n",
            "                                                                                                  \n",
            " conv2d_49 (Conv2D)             (None, 4, 4, 18)     32076       ['activation_49[0][0]']          \n",
            "                                                                                                  \n",
            " concatenate_46 (Concatenate)   (None, 4, 4, 216)    0           ['concatenate_45[0][0]',         \n",
            "                                                                  'conv2d_49[0][0]']              \n",
            "                                                                                                  \n",
            " batch_normalization_50 (BatchN  (None, 4, 4, 216)   864         ['concatenate_46[0][0]']         \n",
            " ormalization)                                                                                    \n",
            "                                                                                                  \n",
            " activation_50 (Activation)     (None, 4, 4, 216)    0           ['batch_normalization_50[0][0]'] \n",
            "                                                                                                  \n",
            " conv2d_50 (Conv2D)             (None, 4, 4, 18)     34992       ['activation_50[0][0]']          \n",
            "                                                                                                  \n",
            " concatenate_47 (Concatenate)   (None, 4, 4, 234)    0           ['concatenate_46[0][0]',         \n",
            "                                                                  'conv2d_50[0][0]']              \n",
            "                                                                                                  \n",
            " batch_normalization_51 (BatchN  (None, 4, 4, 234)   936         ['concatenate_47[0][0]']         \n",
            " ormalization)                                                                                    \n",
            "                                                                                                  \n",
            " activation_51 (Activation)     (None, 4, 4, 234)    0           ['batch_normalization_51[0][0]'] \n",
            "                                                                                                  \n",
            " average_pooling2d_3 (AveragePo  (None, 2, 2, 234)   0           ['activation_51[0][0]']          \n",
            " oling2D)                                                                                         \n",
            "                                                                                                  \n",
            " flatten (Flatten)              (None, 936)          0           ['average_pooling2d_3[0][0]']    \n",
            "                                                                                                  \n",
            " dense (Dense)                  (None, 10)           9370        ['flatten[0][0]']                \n",
            "                                                                                                  \n",
            "==================================================================================================\n",
            "Total params: 995,230\n",
            "Trainable params: 981,658\n",
            "Non-trainable params: 13,572\n",
            "__________________________________________________________________________________________________\n"
          ]
        }
      ],
      "source": [
        "model= Model(inputs=[input], outputs=[output])\n",
        "model.summary()"
      ]
    },
    {
      "cell_type": "code",
      "execution_count": 20,
      "metadata": {
        "colab": {
          "base_uri": "https://localhost:8080/"
        },
        "id": "8Aqzk9AFXb1y",
        "outputId": "d2341329-ee39-429c-8d15-bfe67daf994e"
      },
      "outputs": [
        {
          "output_type": "stream",
          "name": "stdout",
          "text": [
            "211\n"
          ]
        }
      ],
      "source": [
        "print(len(model.layers))"
      ]
    },
    {
      "cell_type": "code",
      "source": [
        "datagen.fit(x_tr)"
      ],
      "metadata": {
        "id": "DtXOL4QZzbx6"
      },
      "execution_count": 21,
      "outputs": []
    },
    {
      "cell_type": "code",
      "execution_count": 22,
      "metadata": {
        "id": "b4XOsW3ahSkL"
      },
      "outputs": [],
      "source": [
        "# determine Loss function and Optimizer\n",
        "model.compile(loss='categorical_crossentropy',\n",
        "              optimizer=Adam(0.01),\n",
        "              metrics=['accuracy'])"
      ]
    },
    {
      "cell_type": "code",
      "execution_count": 27,
      "metadata": {
        "id": "KEz4C6zPbbV8"
      },
      "outputs": [],
      "source": [
        "filepath=\"model_save/weights-{epoch:02d}-{val_accuracy:.4f}.hdf5\"\n",
        "checkpoint=tf.keras.callbacks.ModelCheckpoint(\n",
        "    filepath,\n",
        "    monitor='val_accuracy',\n",
        "    verbose=0,\n",
        "    save_best_only=True,\n",
        "    save_weights_only=False,\n",
        "    mode='auto')\n",
        "tensorboard=tf.keras.callbacks.TensorBoard(\n",
        "    log_dir='logs/DenseNet',\n",
        "    histogram_freq=0,\n",
        "    write_graph=True,\n",
        "    write_images=False,\n",
        "    write_steps_per_second=False,\n",
        "    update_freq='epoch')\n",
        "def lr_update(epoch):\n",
        "  lr=0.01\n",
        "  if epoch>=25 and epoch<50 :\n",
        "    lr=0.005\n",
        "  elif epoch>=50:\n",
        "    lr=0.001  \n",
        "  return lr  \n",
        "lr_scheduler=tf.keras.callbacks.LearningRateScheduler(lr_update)"
      ]
    },
    {
      "cell_type": "code",
      "execution_count": 24,
      "metadata": {
        "id": "KyBLEL_0nXjy"
      },
      "outputs": [],
      "source": [
        "!rm -rf logs\n",
        "!rm -rf model_save"
      ]
    },
    {
      "cell_type": "code",
      "execution_count": 25,
      "metadata": {
        "colab": {
          "base_uri": "https://localhost:8080/"
        },
        "id": "HFQz7PzsJ1zW",
        "outputId": "a6e762c9-1bf0-438c-8ded-68bca2a2469f"
      },
      "outputs": [
        {
          "output_type": "execute_result",
          "data": {
            "text/plain": [
              "390"
            ]
          },
          "metadata": {},
          "execution_count": 25
        }
      ],
      "source": [
        "len(x_tr)//128"
      ]
    },
    {
      "cell_type": "code",
      "execution_count": 28,
      "metadata": {
        "colab": {
          "base_uri": "https://localhost:8080/",
          "height": 1000
        },
        "id": "ymT_WGiRWfmQ",
        "outputId": "83cfb469-f444-4cc3-be87-c5fa30f3a15e"
      },
      "outputs": [
        {
          "output_type": "stream",
          "name": "stdout",
          "text": [
            "Epoch 1/75\n",
            "390/390 [==============================] - 121s 259ms/step - loss: 1.9557 - accuracy: 0.3195 - val_loss: 1.8309 - val_accuracy: 0.3568 - lr: 0.0100\n",
            "Epoch 2/75\n",
            "390/390 [==============================] - 96s 245ms/step - loss: 1.5054 - accuracy: 0.4641 - val_loss: 1.5265 - val_accuracy: 0.4800 - lr: 0.0100\n",
            "Epoch 3/75\n",
            "390/390 [==============================] - 96s 245ms/step - loss: 1.2712 - accuracy: 0.5581 - val_loss: 1.4437 - val_accuracy: 0.5198 - lr: 0.0100\n",
            "Epoch 4/75\n",
            "390/390 [==============================] - 95s 244ms/step - loss: 1.1275 - accuracy: 0.6110 - val_loss: 1.8800 - val_accuracy: 0.4484 - lr: 0.0100\n",
            "Epoch 5/75\n",
            "390/390 [==============================] - 96s 245ms/step - loss: 1.0189 - accuracy: 0.6571 - val_loss: 1.5745 - val_accuracy: 0.5377 - lr: 0.0100\n",
            "Epoch 6/75\n",
            "390/390 [==============================] - 95s 244ms/step - loss: 0.9298 - accuracy: 0.6919 - val_loss: 1.3092 - val_accuracy: 0.5975 - lr: 0.0100\n",
            "Epoch 7/75\n",
            "390/390 [==============================] - 96s 245ms/step - loss: 0.8622 - accuracy: 0.7194 - val_loss: 1.1628 - val_accuracy: 0.6358 - lr: 0.0100\n",
            "Epoch 8/75\n",
            "390/390 [==============================] - 96s 245ms/step - loss: 0.8081 - accuracy: 0.7369 - val_loss: 0.9944 - val_accuracy: 0.6979 - lr: 0.0100\n",
            "Epoch 9/75\n",
            "390/390 [==============================] - 95s 243ms/step - loss: 0.7688 - accuracy: 0.7506 - val_loss: 0.9826 - val_accuracy: 0.6847 - lr: 0.0100\n",
            "Epoch 10/75\n",
            "390/390 [==============================] - 95s 244ms/step - loss: 0.7225 - accuracy: 0.7666 - val_loss: 1.0411 - val_accuracy: 0.6913 - lr: 0.0100\n",
            "Epoch 11/75\n",
            "390/390 [==============================] - 95s 243ms/step - loss: 0.7012 - accuracy: 0.7753 - val_loss: 0.8933 - val_accuracy: 0.7205 - lr: 0.0100\n",
            "Epoch 12/75\n",
            "390/390 [==============================] - 95s 243ms/step - loss: 0.6658 - accuracy: 0.7893 - val_loss: 1.4600 - val_accuracy: 0.6113 - lr: 0.0100\n",
            "Epoch 13/75\n",
            "390/390 [==============================] - 95s 244ms/step - loss: 0.6461 - accuracy: 0.7970 - val_loss: 0.7450 - val_accuracy: 0.7731 - lr: 0.0100\n",
            "Epoch 14/75\n",
            "390/390 [==============================] - 94s 242ms/step - loss: 0.6193 - accuracy: 0.8036 - val_loss: 0.8361 - val_accuracy: 0.7525 - lr: 0.0100\n",
            "Epoch 15/75\n",
            "390/390 [==============================] - 95s 242ms/step - loss: 0.5970 - accuracy: 0.8133 - val_loss: 0.8275 - val_accuracy: 0.7663 - lr: 0.0100\n",
            "Epoch 16/75\n",
            "390/390 [==============================] - 94s 242ms/step - loss: 0.5833 - accuracy: 0.8180 - val_loss: 0.7953 - val_accuracy: 0.7706 - lr: 0.0100\n",
            "Epoch 17/75\n",
            "390/390 [==============================] - 94s 242ms/step - loss: 0.5654 - accuracy: 0.8232 - val_loss: 0.9653 - val_accuracy: 0.7317 - lr: 0.0100\n",
            "Epoch 18/75\n",
            "390/390 [==============================] - 94s 242ms/step - loss: 0.5605 - accuracy: 0.8249 - val_loss: 0.9290 - val_accuracy: 0.7609 - lr: 0.0100\n",
            "Epoch 19/75\n",
            "390/390 [==============================] - 95s 243ms/step - loss: 0.5369 - accuracy: 0.8328 - val_loss: 0.7141 - val_accuracy: 0.7925 - lr: 0.0100\n",
            "Epoch 20/75\n",
            "390/390 [==============================] - 94s 241ms/step - loss: 0.5229 - accuracy: 0.8371 - val_loss: 0.9057 - val_accuracy: 0.7397 - lr: 0.0100\n",
            "Epoch 21/75\n",
            "390/390 [==============================] - 94s 241ms/step - loss: 0.5128 - accuracy: 0.8415 - val_loss: 0.6952 - val_accuracy: 0.7869 - lr: 0.0100\n",
            "Epoch 22/75\n",
            "390/390 [==============================] - 94s 241ms/step - loss: 0.5057 - accuracy: 0.8413 - val_loss: 0.7283 - val_accuracy: 0.7864 - lr: 0.0100\n",
            "Epoch 23/75\n",
            "390/390 [==============================] - 95s 242ms/step - loss: 0.4915 - accuracy: 0.8474 - val_loss: 0.7090 - val_accuracy: 0.8054 - lr: 0.0100\n",
            "Epoch 24/75\n",
            "390/390 [==============================] - 94s 241ms/step - loss: 0.4862 - accuracy: 0.8483 - val_loss: 0.7402 - val_accuracy: 0.7890 - lr: 0.0100\n",
            "Epoch 25/75\n",
            "390/390 [==============================] - 94s 241ms/step - loss: 0.4757 - accuracy: 0.8514 - val_loss: 0.9056 - val_accuracy: 0.7549 - lr: 0.0100\n",
            "Epoch 26/75\n",
            "390/390 [==============================] - 95s 242ms/step - loss: 0.3975 - accuracy: 0.8778 - val_loss: 0.4167 - val_accuracy: 0.8745 - lr: 0.0050\n",
            "Epoch 27/75\n",
            "390/390 [==============================] - 94s 241ms/step - loss: 0.3729 - accuracy: 0.8844 - val_loss: 0.4796 - val_accuracy: 0.8584 - lr: 0.0050\n",
            "Epoch 28/75\n",
            "390/390 [==============================] - 94s 242ms/step - loss: 0.3651 - accuracy: 0.8870 - val_loss: 0.4466 - val_accuracy: 0.8662 - lr: 0.0050\n",
            "Epoch 29/75\n",
            "390/390 [==============================] - 95s 244ms/step - loss: 0.3549 - accuracy: 0.8902 - val_loss: 0.4295 - val_accuracy: 0.8750 - lr: 0.0050\n",
            "Epoch 30/75\n",
            "390/390 [==============================] - 94s 242ms/step - loss: 0.3488 - accuracy: 0.8910 - val_loss: 0.5585 - val_accuracy: 0.8378 - lr: 0.0050\n",
            "Epoch 31/75\n",
            "390/390 [==============================] - 95s 242ms/step - loss: 0.3448 - accuracy: 0.8926 - val_loss: 0.5554 - val_accuracy: 0.8410 - lr: 0.0050\n",
            "Epoch 32/75\n",
            "390/390 [==============================] - 95s 243ms/step - loss: 0.3381 - accuracy: 0.8942 - val_loss: 0.5864 - val_accuracy: 0.8300 - lr: 0.0050\n",
            "Epoch 33/75\n",
            "390/390 [==============================] - 95s 242ms/step - loss: 0.3340 - accuracy: 0.8960 - val_loss: 0.3991 - val_accuracy: 0.8855 - lr: 0.0050\n",
            "Epoch 34/75\n",
            "390/390 [==============================] - 94s 240ms/step - loss: 0.3280 - accuracy: 0.8985 - val_loss: 0.4991 - val_accuracy: 0.8555 - lr: 0.0050\n",
            "Epoch 35/75\n",
            "390/390 [==============================] - 94s 241ms/step - loss: 0.3272 - accuracy: 0.8974 - val_loss: 0.3972 - val_accuracy: 0.8836 - lr: 0.0050\n",
            "Epoch 36/75\n",
            "390/390 [==============================] - 94s 242ms/step - loss: 0.3143 - accuracy: 0.9018 - val_loss: 0.4883 - val_accuracy: 0.8622 - lr: 0.0050\n",
            "Epoch 37/75\n",
            "390/390 [==============================] - 94s 242ms/step - loss: 0.3117 - accuracy: 0.9014 - val_loss: 0.3952 - val_accuracy: 0.8819 - lr: 0.0050\n",
            "Epoch 38/75\n",
            "390/390 [==============================] - 94s 241ms/step - loss: 0.3098 - accuracy: 0.9027 - val_loss: 0.4724 - val_accuracy: 0.8649 - lr: 0.0050\n",
            "Epoch 39/75\n",
            "390/390 [==============================] - 94s 241ms/step - loss: 0.3040 - accuracy: 0.9031 - val_loss: 0.4409 - val_accuracy: 0.8706 - lr: 0.0050\n",
            "Epoch 40/75\n",
            "390/390 [==============================] - 94s 242ms/step - loss: 0.3034 - accuracy: 0.9045 - val_loss: 0.6310 - val_accuracy: 0.8269 - lr: 0.0050\n",
            "Epoch 41/75\n",
            "390/390 [==============================] - 94s 241ms/step - loss: 0.2990 - accuracy: 0.9067 - val_loss: 0.6040 - val_accuracy: 0.8322 - lr: 0.0050\n",
            "Epoch 42/75\n",
            "390/390 [==============================] - 94s 241ms/step - loss: 0.2915 - accuracy: 0.9089 - val_loss: 0.5135 - val_accuracy: 0.8564 - lr: 0.0050\n",
            "Epoch 43/75\n",
            "390/390 [==============================] - 94s 242ms/step - loss: 0.2901 - accuracy: 0.9113 - val_loss: 0.4557 - val_accuracy: 0.8694 - lr: 0.0050\n",
            "Epoch 44/75\n",
            "390/390 [==============================] - 95s 243ms/step - loss: 0.2907 - accuracy: 0.9106 - val_loss: 0.4704 - val_accuracy: 0.8635 - lr: 0.0050\n",
            "Epoch 45/75\n",
            "390/390 [==============================] - 94s 242ms/step - loss: 0.2855 - accuracy: 0.9128 - val_loss: 0.4882 - val_accuracy: 0.8659 - lr: 0.0050\n",
            "Epoch 46/75\n",
            "390/390 [==============================] - 94s 242ms/step - loss: 0.2800 - accuracy: 0.9127 - val_loss: 0.8506 - val_accuracy: 0.7907 - lr: 0.0050\n",
            "Epoch 47/75\n",
            "390/390 [==============================] - 94s 242ms/step - loss: 0.2785 - accuracy: 0.9138 - val_loss: 0.4300 - val_accuracy: 0.8790 - lr: 0.0050\n",
            "Epoch 48/75\n",
            "390/390 [==============================] - 94s 242ms/step - loss: 0.2753 - accuracy: 0.9151 - val_loss: 0.4064 - val_accuracy: 0.8831 - lr: 0.0050\n",
            "Epoch 49/75\n",
            "390/390 [==============================] - 95s 243ms/step - loss: 0.2726 - accuracy: 0.9152 - val_loss: 0.4854 - val_accuracy: 0.8692 - lr: 0.0050\n",
            "Epoch 50/75\n",
            "390/390 [==============================] - 95s 242ms/step - loss: 0.2667 - accuracy: 0.9187 - val_loss: 0.4109 - val_accuracy: 0.8803 - lr: 0.0050\n",
            "Epoch 51/75\n",
            "390/390 [==============================] - 95s 243ms/step - loss: 0.2175 - accuracy: 0.9345 - val_loss: 0.3375 - val_accuracy: 0.9031 - lr: 0.0010\n",
            "Epoch 52/75\n",
            "390/390 [==============================] - 95s 243ms/step - loss: 0.1977 - accuracy: 0.9409 - val_loss: 0.3316 - val_accuracy: 0.9055 - lr: 0.0010\n",
            "Epoch 53/75\n",
            "390/390 [==============================] - 94s 242ms/step - loss: 0.1924 - accuracy: 0.9428 - val_loss: 0.3615 - val_accuracy: 0.8995 - lr: 0.0010\n",
            "Epoch 54/75\n",
            "390/390 [==============================] - 95s 243ms/step - loss: 0.1918 - accuracy: 0.9426 - val_loss: 0.3150 - val_accuracy: 0.9120 - lr: 0.0010\n",
            "Epoch 55/75\n",
            "390/390 [==============================] - 94s 242ms/step - loss: 0.1868 - accuracy: 0.9439 - val_loss: 0.3249 - val_accuracy: 0.9108 - lr: 0.0010\n",
            "Epoch 56/75\n",
            "390/390 [==============================] - 94s 242ms/step - loss: 0.1836 - accuracy: 0.9448 - val_loss: 0.3539 - val_accuracy: 0.8995 - lr: 0.0010\n",
            "Epoch 57/75\n",
            "390/390 [==============================] - 94s 242ms/step - loss: 0.1788 - accuracy: 0.9463 - val_loss: 0.3419 - val_accuracy: 0.9043 - lr: 0.0010\n",
            "Epoch 58/75\n",
            "390/390 [==============================] - 95s 244ms/step - loss: 0.1758 - accuracy: 0.9470 - val_loss: 0.3144 - val_accuracy: 0.9126 - lr: 0.0010\n"
          ]
        },
        {
          "output_type": "error",
          "ename": "KeyboardInterrupt",
          "evalue": "ignored",
          "traceback": [
            "\u001b[0;31m---------------------------------------------------------------------------\u001b[0m",
            "\u001b[0;31mKeyboardInterrupt\u001b[0m                         Traceback (most recent call last)",
            "\u001b[0;32m<ipython-input-28-691a471d3458>\u001b[0m in \u001b[0;36m<module>\u001b[0;34m()\u001b[0m\n\u001b[1;32m      1\u001b[0m model.fit(datagen.flow(x_tr,y_train,batch_size=128),\n\u001b[1;32m      2\u001b[0m          \u001b[0mvalidation_data\u001b[0m\u001b[0;34m=\u001b[0m\u001b[0;34m(\u001b[0m\u001b[0mx_te\u001b[0m\u001b[0;34m,\u001b[0m\u001b[0my_test\u001b[0m\u001b[0;34m)\u001b[0m\u001b[0;34m,\u001b[0m\u001b[0mverbose\u001b[0m\u001b[0;34m=\u001b[0m\u001b[0;36m1\u001b[0m\u001b[0;34m,\u001b[0m\u001b[0;34m\u001b[0m\u001b[0;34m\u001b[0m\u001b[0m\n\u001b[0;32m----> 3\u001b[0;31m          steps_per_epoch=len(x_tr)//128, epochs=75,callbacks=[checkpoint,tensorboard,lr_scheduler])\n\u001b[0m",
            "\u001b[0;32m/usr/local/lib/python3.7/dist-packages/keras/utils/traceback_utils.py\u001b[0m in \u001b[0;36merror_handler\u001b[0;34m(*args, **kwargs)\u001b[0m\n\u001b[1;32m     62\u001b[0m     \u001b[0mfiltered_tb\u001b[0m \u001b[0;34m=\u001b[0m \u001b[0;32mNone\u001b[0m\u001b[0;34m\u001b[0m\u001b[0;34m\u001b[0m\u001b[0m\n\u001b[1;32m     63\u001b[0m     \u001b[0;32mtry\u001b[0m\u001b[0;34m:\u001b[0m\u001b[0;34m\u001b[0m\u001b[0;34m\u001b[0m\u001b[0m\n\u001b[0;32m---> 64\u001b[0;31m       \u001b[0;32mreturn\u001b[0m \u001b[0mfn\u001b[0m\u001b[0;34m(\u001b[0m\u001b[0;34m*\u001b[0m\u001b[0margs\u001b[0m\u001b[0;34m,\u001b[0m \u001b[0;34m**\u001b[0m\u001b[0mkwargs\u001b[0m\u001b[0;34m)\u001b[0m\u001b[0;34m\u001b[0m\u001b[0;34m\u001b[0m\u001b[0m\n\u001b[0m\u001b[1;32m     65\u001b[0m     \u001b[0;32mexcept\u001b[0m \u001b[0mException\u001b[0m \u001b[0;32mas\u001b[0m \u001b[0me\u001b[0m\u001b[0;34m:\u001b[0m  \u001b[0;31m# pylint: disable=broad-except\u001b[0m\u001b[0;34m\u001b[0m\u001b[0;34m\u001b[0m\u001b[0m\n\u001b[1;32m     66\u001b[0m       \u001b[0mfiltered_tb\u001b[0m \u001b[0;34m=\u001b[0m \u001b[0m_process_traceback_frames\u001b[0m\u001b[0;34m(\u001b[0m\u001b[0me\u001b[0m\u001b[0;34m.\u001b[0m\u001b[0m__traceback__\u001b[0m\u001b[0;34m)\u001b[0m\u001b[0;34m\u001b[0m\u001b[0;34m\u001b[0m\u001b[0m\n",
            "\u001b[0;32m/usr/local/lib/python3.7/dist-packages/keras/engine/training.py\u001b[0m in \u001b[0;36mfit\u001b[0;34m(self, x, y, batch_size, epochs, verbose, callbacks, validation_split, validation_data, shuffle, class_weight, sample_weight, initial_epoch, steps_per_epoch, validation_steps, validation_batch_size, validation_freq, max_queue_size, workers, use_multiprocessing)\u001b[0m\n\u001b[1;32m   1371\u001b[0m       \u001b[0mlogs\u001b[0m \u001b[0;34m=\u001b[0m \u001b[0;32mNone\u001b[0m\u001b[0;34m\u001b[0m\u001b[0;34m\u001b[0m\u001b[0m\n\u001b[1;32m   1372\u001b[0m       \u001b[0;32mfor\u001b[0m \u001b[0mepoch\u001b[0m\u001b[0;34m,\u001b[0m \u001b[0miterator\u001b[0m \u001b[0;32min\u001b[0m \u001b[0mdata_handler\u001b[0m\u001b[0;34m.\u001b[0m\u001b[0menumerate_epochs\u001b[0m\u001b[0;34m(\u001b[0m\u001b[0;34m)\u001b[0m\u001b[0;34m:\u001b[0m\u001b[0;34m\u001b[0m\u001b[0;34m\u001b[0m\u001b[0m\n\u001b[0;32m-> 1373\u001b[0;31m         \u001b[0mself\u001b[0m\u001b[0;34m.\u001b[0m\u001b[0mreset_metrics\u001b[0m\u001b[0;34m(\u001b[0m\u001b[0;34m)\u001b[0m\u001b[0;34m\u001b[0m\u001b[0;34m\u001b[0m\u001b[0m\n\u001b[0m\u001b[1;32m   1374\u001b[0m         \u001b[0mcallbacks\u001b[0m\u001b[0;34m.\u001b[0m\u001b[0mon_epoch_begin\u001b[0m\u001b[0;34m(\u001b[0m\u001b[0mepoch\u001b[0m\u001b[0;34m)\u001b[0m\u001b[0;34m\u001b[0m\u001b[0;34m\u001b[0m\u001b[0m\n\u001b[1;32m   1375\u001b[0m         \u001b[0;32mwith\u001b[0m \u001b[0mdata_handler\u001b[0m\u001b[0;34m.\u001b[0m\u001b[0mcatch_stop_iteration\u001b[0m\u001b[0;34m(\u001b[0m\u001b[0;34m)\u001b[0m\u001b[0;34m:\u001b[0m\u001b[0;34m\u001b[0m\u001b[0;34m\u001b[0m\u001b[0m\n",
            "\u001b[0;31mKeyboardInterrupt\u001b[0m: "
          ]
        }
      ],
      "source": [
        "model.fit(datagen.flow(x_tr,y_train,batch_size=128),\n",
        "         validation_data=(x_te,y_test),verbose=1,\n",
        "         steps_per_epoch=len(x_tr)//128, epochs=75,callbacks=[checkpoint,tensorboard,lr_scheduler])"
      ]
    },
    {
      "cell_type": "code",
      "execution_count": 29,
      "metadata": {
        "colab": {
          "base_uri": "https://localhost:8080/"
        },
        "id": "ZcWydmIVhZGr",
        "outputId": "6dc452d9-6619-401f-8884-570d8425d769"
      },
      "outputs": [
        {
          "output_type": "stream",
          "name": "stdout",
          "text": [
            "313/313 [==============================] - 6s 18ms/step - loss: 0.3144 - accuracy: 0.9126\n",
            "Test loss: 0.314426064491272\n",
            "Test accuracy: 0.9125999808311462\n"
          ]
        }
      ],
      "source": [
        "# Test the model\n",
        "score = model.evaluate(x_te, y_test, verbose=1)\n",
        "print('Test loss:', score[0])\n",
        "print('Test accuracy:', score[1])"
      ]
    },
    {
      "cell_type": "code",
      "execution_count": 32,
      "metadata": {
        "colab": {
          "base_uri": "https://localhost:8080/"
        },
        "id": "UE3lF6EH1r_L",
        "outputId": "9eb83aae-5499-4927-ae0f-7d491c74f679"
      },
      "outputs": [
        {
          "output_type": "stream",
          "name": "stdout",
          "text": [
            "Saved model to disk\n"
          ]
        }
      ],
      "source": [
        "# Save the trained weights in to .h5 format\n",
        "model.save_weights(\"/content/drive/MyDrive/Kaggle/DNST_model58.h5\")\n",
        "print(\"Saved model to disk\")"
      ]
    },
    {
      "cell_type": "code",
      "execution_count": 31,
      "metadata": {
        "colab": {
          "base_uri": "https://localhost:8080/"
        },
        "id": "JtorwMzAaO6u",
        "outputId": "f1fdee62-73f6-44b0-d3fd-7594206073fd"
      },
      "outputs": [
        {
          "output_type": "stream",
          "name": "stdout",
          "text": [
            "Mounted at /content/drive\n"
          ]
        }
      ],
      "source": [
        "from google.colab import drive\n",
        "drive.mount('/content/drive')"
      ]
    }
  ],
  "metadata": {
    "accelerator": "GPU",
    "colab": {
      "collapsed_sections": [],
      "name": "Copy of DenseNet - cifar10.ipynb",
      "provenance": []
    },
    "kernelspec": {
      "display_name": "Python 3",
      "language": "python",
      "name": "python3"
    },
    "language_info": {
      "codemirror_mode": {
        "name": "ipython",
        "version": 3
      },
      "file_extension": ".py",
      "mimetype": "text/x-python",
      "name": "python",
      "nbconvert_exporter": "python",
      "pygments_lexer": "ipython3",
      "version": "3.7.1"
    }
  },
  "nbformat": 4,
  "nbformat_minor": 0
}