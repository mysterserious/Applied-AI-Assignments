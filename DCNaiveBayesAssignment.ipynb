{
  "nbformat": 4,
  "nbformat_minor": 0,
  "metadata": {
    "colab": {
      "name": "DCNaiveBayesAssignment.ipynb",
      "provenance": [],
      "collapsed_sections": []
    },
    "kernelspec": {
      "name": "python3",
      "display_name": "Python 3"
    },
    "language_info": {
      "name": "python"
    }
  },
  "cells": [
    {
      "cell_type": "code",
      "metadata": {
        "id": "j5Hq1khusaOE"
      },
      "source": [
        "%matplotlib inline\n",
        "import warnings\n",
        "warnings.filterwarnings(\"ignore\")\n",
        "import pandas\n",
        "from sklearn.model_selection import train_test_split\n",
        "from sklearn.feature_extraction.text import TfidfVectorizer\n",
        "from sklearn.feature_extraction.text import CountVectorizer\n",
        "from sklearn.preprocessing import OneHotEncoder\n",
        "from sklearn.preprocessing import Normalizer\n",
        "from scipy.sparse import hstack\n",
        "from sklearn.naive_bayes import BernoulliNB,MultinomialNB\n",
        "from sklearn.metrics import roc_curve, auc\n",
        "from sklearn.metrics import roc_auc_score,confusion_matrix\n",
        "import math\n",
        "import matplotlib.pyplot as plt\n",
        "import random\n",
        "import seaborn as sns\n",
        "import numpy as np"
      ],
      "execution_count": 1,
      "outputs": []
    },
    {
      "cell_type": "markdown",
      "metadata": {
        "id": "rmYjXHq0dE25"
      },
      "source": [
        "# ***Loading dataset***"
      ]
    },
    {
      "cell_type": "code",
      "metadata": {
        "colab": {
          "base_uri": "https://localhost:8080/"
        },
        "id": "hlCVsvNQ6ILc",
        "outputId": "a3808435-1df2-447a-94aa-2e0d4b82b812"
      },
      "source": [
        "! gdown --id 1OLZzxnsv8kp2wvawvH3uqyOGsus7IAh0"
      ],
      "execution_count": 2,
      "outputs": [
        {
          "output_type": "stream",
          "name": "stdout",
          "text": [
            "Downloading...\n",
            "From: https://drive.google.com/uc?id=1OLZzxnsv8kp2wvawvH3uqyOGsus7IAh0\n",
            "To: /content/preprocessed_data.csv\n",
            "100% 124M/124M [00:01<00:00, 122MB/s] \n"
          ]
        }
      ]
    },
    {
      "cell_type": "code",
      "metadata": {
        "id": "Kjfkr3nWYoBv"
      },
      "source": [
        "set1 = pandas.read_csv('preprocessed_data.csv',nrows=50000)\n",
        "set2 = pandas.read_csv('preprocessed_data.csv',nrows=50000)"
      ],
      "execution_count": 3,
      "outputs": []
    },
    {
      "cell_type": "code",
      "metadata": {
        "colab": {
          "base_uri": "https://localhost:8080/",
          "height": 570
        },
        "id": "NxCD1m7ssXvU",
        "outputId": "38af0af8-1ab3-4aaf-89b1-68bd150ff050"
      },
      "source": [
        "set1.head()"
      ],
      "execution_count": 4,
      "outputs": [
        {
          "output_type": "execute_result",
          "data": {
            "text/html": [
              "<div>\n",
              "<style scoped>\n",
              "    .dataframe tbody tr th:only-of-type {\n",
              "        vertical-align: middle;\n",
              "    }\n",
              "\n",
              "    .dataframe tbody tr th {\n",
              "        vertical-align: top;\n",
              "    }\n",
              "\n",
              "    .dataframe thead th {\n",
              "        text-align: right;\n",
              "    }\n",
              "</style>\n",
              "<table border=\"1\" class=\"dataframe\">\n",
              "  <thead>\n",
              "    <tr style=\"text-align: right;\">\n",
              "      <th></th>\n",
              "      <th>school_state</th>\n",
              "      <th>teacher_prefix</th>\n",
              "      <th>project_grade_category</th>\n",
              "      <th>teacher_number_of_previously_posted_projects</th>\n",
              "      <th>project_is_approved</th>\n",
              "      <th>clean_categories</th>\n",
              "      <th>clean_subcategories</th>\n",
              "      <th>essay</th>\n",
              "      <th>price</th>\n",
              "    </tr>\n",
              "  </thead>\n",
              "  <tbody>\n",
              "    <tr>\n",
              "      <th>0</th>\n",
              "      <td>ca</td>\n",
              "      <td>mrs</td>\n",
              "      <td>grades_prek_2</td>\n",
              "      <td>53</td>\n",
              "      <td>1</td>\n",
              "      <td>math_science</td>\n",
              "      <td>appliedsciences health_lifescience</td>\n",
              "      <td>i fortunate enough use fairy tale stem kits cl...</td>\n",
              "      <td>725.05</td>\n",
              "    </tr>\n",
              "    <tr>\n",
              "      <th>1</th>\n",
              "      <td>ut</td>\n",
              "      <td>ms</td>\n",
              "      <td>grades_3_5</td>\n",
              "      <td>4</td>\n",
              "      <td>1</td>\n",
              "      <td>specialneeds</td>\n",
              "      <td>specialneeds</td>\n",
              "      <td>imagine 8 9 years old you third grade classroo...</td>\n",
              "      <td>213.03</td>\n",
              "    </tr>\n",
              "    <tr>\n",
              "      <th>2</th>\n",
              "      <td>ca</td>\n",
              "      <td>mrs</td>\n",
              "      <td>grades_prek_2</td>\n",
              "      <td>10</td>\n",
              "      <td>1</td>\n",
              "      <td>literacy_language</td>\n",
              "      <td>literacy</td>\n",
              "      <td>having class 24 students comes diverse learner...</td>\n",
              "      <td>329.00</td>\n",
              "    </tr>\n",
              "    <tr>\n",
              "      <th>3</th>\n",
              "      <td>ga</td>\n",
              "      <td>mrs</td>\n",
              "      <td>grades_prek_2</td>\n",
              "      <td>2</td>\n",
              "      <td>1</td>\n",
              "      <td>appliedlearning</td>\n",
              "      <td>earlydevelopment</td>\n",
              "      <td>i recently read article giving students choice...</td>\n",
              "      <td>481.04</td>\n",
              "    </tr>\n",
              "    <tr>\n",
              "      <th>4</th>\n",
              "      <td>wa</td>\n",
              "      <td>mrs</td>\n",
              "      <td>grades_3_5</td>\n",
              "      <td>2</td>\n",
              "      <td>1</td>\n",
              "      <td>literacy_language</td>\n",
              "      <td>literacy</td>\n",
              "      <td>my students crave challenge eat obstacles brea...</td>\n",
              "      <td>17.74</td>\n",
              "    </tr>\n",
              "  </tbody>\n",
              "</table>\n",
              "</div>"
            ],
            "text/plain": [
              "  school_state  ...   price\n",
              "0           ca  ...  725.05\n",
              "1           ut  ...  213.03\n",
              "2           ca  ...  329.00\n",
              "3           ga  ...  481.04\n",
              "4           wa  ...   17.74\n",
              "\n",
              "[5 rows x 9 columns]"
            ]
          },
          "metadata": {},
          "execution_count": 4
        }
      ]
    },
    {
      "cell_type": "code",
      "metadata": {
        "colab": {
          "base_uri": "https://localhost:8080/",
          "height": 97
        },
        "id": "us3ssZoUsWRp",
        "outputId": "aea8610e-a1a6-4a68-f9c5-cd6cd24be0ca"
      },
      "source": [
        "y1=set1['project_is_approved'].values\n",
        "x1=set1.drop(['project_is_approved'],axis=1)\n",
        "y2=set2['project_is_approved'].values\n",
        "x2=set2.drop(labels='project_is_approved',axis=1)\n",
        "x2.head(1)"
      ],
      "execution_count": 5,
      "outputs": [
        {
          "output_type": "execute_result",
          "data": {
            "text/html": [
              "<div>\n",
              "<style scoped>\n",
              "    .dataframe tbody tr th:only-of-type {\n",
              "        vertical-align: middle;\n",
              "    }\n",
              "\n",
              "    .dataframe tbody tr th {\n",
              "        vertical-align: top;\n",
              "    }\n",
              "\n",
              "    .dataframe thead th {\n",
              "        text-align: right;\n",
              "    }\n",
              "</style>\n",
              "<table border=\"1\" class=\"dataframe\">\n",
              "  <thead>\n",
              "    <tr style=\"text-align: right;\">\n",
              "      <th></th>\n",
              "      <th>school_state</th>\n",
              "      <th>teacher_prefix</th>\n",
              "      <th>project_grade_category</th>\n",
              "      <th>teacher_number_of_previously_posted_projects</th>\n",
              "      <th>clean_categories</th>\n",
              "      <th>clean_subcategories</th>\n",
              "      <th>essay</th>\n",
              "      <th>price</th>\n",
              "    </tr>\n",
              "  </thead>\n",
              "  <tbody>\n",
              "    <tr>\n",
              "      <th>0</th>\n",
              "      <td>ca</td>\n",
              "      <td>mrs</td>\n",
              "      <td>grades_prek_2</td>\n",
              "      <td>53</td>\n",
              "      <td>math_science</td>\n",
              "      <td>appliedsciences health_lifescience</td>\n",
              "      <td>i fortunate enough use fairy tale stem kits cl...</td>\n",
              "      <td>725.05</td>\n",
              "    </tr>\n",
              "  </tbody>\n",
              "</table>\n",
              "</div>"
            ],
            "text/plain": [
              "  school_state  ...   price\n",
              "0           ca  ...  725.05\n",
              "\n",
              "[1 rows x 8 columns]"
            ]
          },
          "metadata": {},
          "execution_count": 5
        }
      ]
    },
    {
      "cell_type": "markdown",
      "metadata": {
        "id": "1MZBssQQc7fc"
      },
      "source": [
        "# ***Splitting dataset***"
      ]
    },
    {
      "cell_type": "code",
      "metadata": {
        "id": "PUYJo8DgZ6Ia"
      },
      "source": [
        "x_train1,x_test1,y_train1,y_test1=train_test_split(x1,y1,test_size=0.33,stratify=y1)\n",
        "x_train1,x_cv1,y_train1,y_cv1=train_test_split(x_train1,y_train1,test_size=0.33,stratify=y_train1)\n",
        "x_train2,x_test2,y_train2,y_test2=train_test_split(x2,y2,test_size=0.33,stratify=y2)\n",
        "x_train2,x_cv2,y_train2,y_cv2=train_test_split(x_train2,y_train2,test_size=0.33,stratify=y_train2)"
      ],
      "execution_count": 6,
      "outputs": []
    },
    {
      "cell_type": "markdown",
      "metadata": {
        "id": "TAfDyKQvb9Zr"
      },
      "source": [
        "# ***Encoding feature - essay (using BOW)***"
      ]
    },
    {
      "cell_type": "code",
      "metadata": {
        "colab": {
          "base_uri": "https://localhost:8080/"
        },
        "id": "kKlWWPazcWJx",
        "outputId": "6e7f59d3-436d-4a2f-eb31-e0a72ae11bc5"
      },
      "source": [
        "vectorizer=CountVectorizer(min_df=10,ngram_range=(1,2),max_features=5000)\n",
        "vectorizer.fit(x_train1['essay'].values)\n",
        "x_train1_essay_bow=vectorizer.transform(x_train1['essay'].values)\n",
        "x_cv1_essay_bow=vectorizer.transform(x_cv1['essay'].values)\n",
        "x_test1_essay_bow=vectorizer.transform(x_test1['essay'].values)\n",
        "print(x_train1_essay_bow.shape,x_cv1_essay_bow.shape,x_test1_essay_bow.shape)"
      ],
      "execution_count": 7,
      "outputs": [
        {
          "output_type": "stream",
          "name": "stdout",
          "text": [
            "(22445, 5000) (11055, 5000) (16500, 5000)\n"
          ]
        }
      ]
    },
    {
      "cell_type": "markdown",
      "metadata": {
        "id": "xXFzdFM5cLGw"
      },
      "source": [
        "# ***Encoding feature - essay (using TFIDF)***"
      ]
    },
    {
      "cell_type": "code",
      "metadata": {
        "colab": {
          "base_uri": "https://localhost:8080/"
        },
        "id": "mI_9k2FBj_G3",
        "outputId": "7afe18f6-0160-4cde-b2d5-4d23706bace1"
      },
      "source": [
        "tfidf=TfidfVectorizer(min_df=10,ngram_range=(1,2),max_features=5000)\n",
        "tfidf.fit(x_train2['essay'].values)\n",
        "x_train2_essay_tfidf=tfidf.transform(x_train2['essay'].values)\n",
        "x_cv2_essay_tfidf=tfidf.transform(x_cv2['essay'].values)\n",
        "x_test2_essay_tfidf=tfidf.transform(x_test2['essay'].values)\n",
        "print(x_train2_essay_tfidf.shape,x_cv2_essay_tfidf.shape,x_test2_essay_tfidf.shape)\n"
      ],
      "execution_count": 8,
      "outputs": [
        {
          "output_type": "stream",
          "name": "stdout",
          "text": [
            "(22445, 5000) (11055, 5000) (16500, 5000)\n"
          ]
        }
      ]
    },
    {
      "cell_type": "markdown",
      "metadata": {
        "id": "c6RbyTNcbwQu"
      },
      "source": [
        "# ***Encoding feature - school_state***"
      ]
    },
    {
      "cell_type": "code",
      "metadata": {
        "colab": {
          "base_uri": "https://localhost:8080/"
        },
        "id": "NMD4Jb4irQDH",
        "outputId": "01716459-82c9-4bcc-c451-65c4bdf3f3c8"
      },
      "source": [
        "#set1\n",
        "encoder=OneHotEncoder()\n",
        "encoder.fit(x_train1['school_state'].values.reshape(-1,1))\n",
        "x_train1_ss_enc=encoder.transform(x_train1['school_state'].values.reshape(-1,1))\n",
        "x_cv1_ss_enc=encoder.transform(x_cv1['school_state'].values.reshape(-1,1))\n",
        "x_test1_ss_enc=encoder.transform(x_test1['school_state'].values.reshape(-1,1))\n",
        "print(x_train1_ss_enc.shape,x_cv1_ss_enc.shape,x_test1_ss_enc.shape)"
      ],
      "execution_count": 9,
      "outputs": [
        {
          "output_type": "stream",
          "name": "stdout",
          "text": [
            "(22445, 51) (11055, 51) (16500, 51)\n"
          ]
        }
      ]
    },
    {
      "cell_type": "code",
      "metadata": {
        "colab": {
          "base_uri": "https://localhost:8080/"
        },
        "id": "S8lIKhRft39e",
        "outputId": "ff9842b4-93f4-43a2-cb41-caef14276c16"
      },
      "source": [
        "#set2\n",
        "encoder=OneHotEncoder()\n",
        "encoder.fit(x_train2['school_state'].values.reshape(-1,1))\n",
        "x_train2_ss_enc=encoder.transform(x_train2['school_state'].values.reshape(-1,1))\n",
        "x_cv2_ss_enc=encoder.transform(x_cv2['school_state'].values.reshape(-1,1))\n",
        "x_test2_ss_enc=encoder.transform(x_test2['school_state'].values.reshape(-1,1))\n",
        "print(x_train2_ss_enc.shape,x_cv2_ss_enc.shape,x_test2_ss_enc.shape)"
      ],
      "execution_count": 10,
      "outputs": [
        {
          "output_type": "stream",
          "name": "stdout",
          "text": [
            "(22445, 51) (11055, 51) (16500, 51)\n"
          ]
        }
      ]
    },
    {
      "cell_type": "markdown",
      "metadata": {
        "id": "ddHJUVOZblC5"
      },
      "source": [
        "# ***Encoding feature - teacher_prefix***"
      ]
    },
    {
      "cell_type": "code",
      "metadata": {
        "colab": {
          "base_uri": "https://localhost:8080/"
        },
        "id": "YAdiNHqpuJ9i",
        "outputId": "bc0a235e-485d-4ce4-df0d-947ddf767ed2"
      },
      "source": [
        "#set1\n",
        "encoder=OneHotEncoder(handle_unknown='ignore')\n",
        "encoder.fit(x_train1['teacher_prefix'].values.reshape(-1,1))\n",
        "x_train1_tp_enc=encoder.transform(x_train1['teacher_prefix'].values.reshape(-1,1))\n",
        "x_cv1_tp_enc=encoder.transform(x_cv1['teacher_prefix'].values.reshape(-1,1))\n",
        "x_test1_tp_enc=encoder.transform(x_test1['teacher_prefix'].values.reshape(-1,1))\n",
        "print(x_train1_tp_enc.shape,x_cv1_tp_enc.shape,x_test1_tp_enc.shape)"
      ],
      "execution_count": 11,
      "outputs": [
        {
          "output_type": "stream",
          "name": "stdout",
          "text": [
            "(22445, 5) (11055, 5) (16500, 5)\n"
          ]
        }
      ]
    },
    {
      "cell_type": "code",
      "metadata": {
        "colab": {
          "base_uri": "https://localhost:8080/"
        },
        "id": "AlBAba1kvGBV",
        "outputId": "084d5893-f372-4770-de0f-2dd1fea20a5f"
      },
      "source": [
        "#set2\n",
        "encoder=OneHotEncoder()\n",
        "encoder.fit(x_train2['teacher_prefix'].values.reshape(-1,1))\n",
        "x_train2_tp_enc=encoder.transform(x_train2['teacher_prefix'].values.reshape(-1,1))\n",
        "x_cv2_tp_enc=encoder.transform(x_cv2['teacher_prefix'].values.reshape(-1,1))\n",
        "x_test2_tp_enc=encoder.transform(x_test2['teacher_prefix'].values.reshape(-1,1))\n",
        "print(x_train2_tp_enc.shape,x_cv2_tp_enc.shape,x_test2_tp_enc.shape)"
      ],
      "execution_count": 12,
      "outputs": [
        {
          "output_type": "stream",
          "name": "stdout",
          "text": [
            "(22445, 5) (11055, 5) (16500, 5)\n"
          ]
        }
      ]
    },
    {
      "cell_type": "markdown",
      "metadata": {
        "id": "fr5MZSISbZ9k"
      },
      "source": [
        "# ***Encoding feature - project_grade_category***"
      ]
    },
    {
      "cell_type": "code",
      "metadata": {
        "colab": {
          "base_uri": "https://localhost:8080/"
        },
        "id": "JokdWQqIvwvx",
        "outputId": "f3ebf927-b448-4022-b180-70a933a55f51"
      },
      "source": [
        "#set1\n",
        "encoder=OneHotEncoder()\n",
        "encoder.fit(x_train1['project_grade_category'].values.reshape(-1,1))\n",
        "x_train1_pgc_enc=encoder.transform(x_train1['project_grade_category'].values.reshape(-1,1))\n",
        "x_cv1_pgc_enc=encoder.transform(x_cv1['project_grade_category'].values.reshape(-1,1))\n",
        "x_test1_pgc_enc=encoder.transform(x_test1['project_grade_category'].values.reshape(-1,1))\n",
        "print(x_train1_pgc_enc.shape,x_cv1_pgc_enc.shape,x_test1_pgc_enc.shape)"
      ],
      "execution_count": 13,
      "outputs": [
        {
          "output_type": "stream",
          "name": "stdout",
          "text": [
            "(22445, 4) (11055, 4) (16500, 4)\n"
          ]
        }
      ]
    },
    {
      "cell_type": "code",
      "metadata": {
        "colab": {
          "base_uri": "https://localhost:8080/"
        },
        "id": "qYBaRmxQwEX1",
        "outputId": "43838a04-2c54-4fee-99ca-f51438b47ca5"
      },
      "source": [
        "#set2\n",
        "encoder=OneHotEncoder()\n",
        "encoder.fit(x_train2['project_grade_category'].values.reshape(-1,1))\n",
        "x_train2_pgc_enc=encoder.transform(x_train2['project_grade_category'].values.reshape(-1,1))\n",
        "x_cv2_pgc_enc=encoder.transform(x_cv2['project_grade_category'].values.reshape(-1,1))\n",
        "x_test2_pgc_enc=encoder.transform(x_test2['project_grade_category'].values.reshape(-1,1))\n",
        "print(x_train2_pgc_enc.shape,x_cv2_pgc_enc.shape,x_test2_pgc_enc.shape)"
      ],
      "execution_count": 14,
      "outputs": [
        {
          "output_type": "stream",
          "name": "stdout",
          "text": [
            "(22445, 4) (11055, 4) (16500, 4)\n"
          ]
        }
      ]
    },
    {
      "cell_type": "markdown",
      "metadata": {
        "id": "6DLwf2XXbNUN"
      },
      "source": [
        "# ***Encoding feature - clean_categories***"
      ]
    },
    {
      "cell_type": "code",
      "metadata": {
        "colab": {
          "base_uri": "https://localhost:8080/"
        },
        "id": "4CB-1SVQx7Yn",
        "outputId": "68f20f81-6456-43b0-8d47-68de38c70163"
      },
      "source": [
        "#set1\n",
        "encoder=OneHotEncoder(handle_unknown='ignore')\n",
        "encoder.fit(x_train1['clean_categories'].values.reshape(-1,1))\n",
        "x_train1_cat_enc=encoder.transform(x_train1['clean_categories'].values.reshape(-1,1))\n",
        "x_cv1_cat_enc=encoder.transform(x_cv1['clean_categories'].values.reshape(-1,1))\n",
        "x_test1_cat_enc=encoder.transform(x_test1['clean_categories'].values.reshape(-1,1))\n",
        "print(x_train1_cat_enc.shape,x_cv1_cat_enc.shape,x_test1_cat_enc.shape)"
      ],
      "execution_count": 15,
      "outputs": [
        {
          "output_type": "stream",
          "name": "stdout",
          "text": [
            "(22445, 44) (11055, 44) (16500, 44)\n"
          ]
        }
      ]
    },
    {
      "cell_type": "code",
      "metadata": {
        "colab": {
          "base_uri": "https://localhost:8080/"
        },
        "id": "nawWNRovm51j",
        "outputId": "24e8f59c-8453-4045-8ddd-30e598083f6f"
      },
      "source": [
        "#set2\n",
        "encoder=OneHotEncoder(handle_unknown='ignore')\n",
        "encoder.fit(x_train2['clean_categories'].values.reshape(-1,1))\n",
        "x_train2_cat_enc=encoder.transform(x_train2['clean_categories'].values.reshape(-1,1))\n",
        "x_cv2_cat_enc=encoder.transform(x_cv2['clean_categories'].values.reshape(-1,1))\n",
        "x_test2_cat_enc=encoder.transform(x_test2['clean_categories'].values.reshape(-1,1))\n",
        "print(x_train2_cat_enc.shape,x_cv2_cat_enc.shape,x_test2_cat_enc.shape)"
      ],
      "execution_count": 16,
      "outputs": [
        {
          "output_type": "stream",
          "name": "stdout",
          "text": [
            "(22445, 44) (11055, 44) (16500, 44)\n"
          ]
        }
      ]
    },
    {
      "cell_type": "markdown",
      "metadata": {
        "id": "Rf-GemGDa_p4"
      },
      "source": [
        "# ***Encoding feature - clean_subcategories***"
      ]
    },
    {
      "cell_type": "code",
      "metadata": {
        "colab": {
          "base_uri": "https://localhost:8080/"
        },
        "id": "1Q-ICm-Vm1hl",
        "outputId": "78460a2b-817b-48cb-9b6a-dd51c018d5a1"
      },
      "source": [
        "#set1\n",
        "encoder=OneHotEncoder(handle_unknown='ignore')\n",
        "encoder.fit(x_train1['clean_subcategories'].values.reshape(-1,1))\n",
        "x_train1_scat_enc=encoder.transform(x_train1['clean_subcategories'].values.reshape(-1,1))\n",
        "x_cv1_scat_enc=encoder.transform(x_cv1['clean_subcategories'].values.reshape(-1,1))\n",
        "x_test1_scat_enc=encoder.transform(x_test1['clean_subcategories'].values.reshape(-1,1))\n",
        "print(x_train1_scat_enc.shape,x_cv1_scat_enc.shape,x_test1_scat_enc.shape)"
      ],
      "execution_count": 17,
      "outputs": [
        {
          "output_type": "stream",
          "name": "stdout",
          "text": [
            "(22445, 323) (11055, 323) (16500, 323)\n"
          ]
        }
      ]
    },
    {
      "cell_type": "code",
      "metadata": {
        "colab": {
          "base_uri": "https://localhost:8080/"
        },
        "id": "lTZofrQan11o",
        "outputId": "6034315f-8a0d-4e0f-b4d3-ce630b23b289"
      },
      "source": [
        "#set2\n",
        "encoder=OneHotEncoder(handle_unknown='ignore')\n",
        "encoder.fit(x_train2['clean_subcategories'].values.reshape(-1,1))\n",
        "x_train2_scat_enc=encoder.transform(x_train2['clean_subcategories'].values.reshape(-1,1))\n",
        "x_cv2_scat_enc=encoder.transform(x_cv2['clean_subcategories'].values.reshape(-1,1))\n",
        "x_test2_scat_enc=encoder.transform(x_test2['clean_subcategories'].values.reshape(-1,1))\n",
        "print(x_train2_scat_enc.shape,x_cv2_scat_enc.shape,x_test2_scat_enc.shape)"
      ],
      "execution_count": 18,
      "outputs": [
        {
          "output_type": "stream",
          "name": "stdout",
          "text": [
            "(22445, 322) (11055, 322) (16500, 322)\n"
          ]
        }
      ]
    },
    {
      "cell_type": "markdown",
      "metadata": {
        "id": "2NeUEP8LZ8I1"
      },
      "source": [
        "# ***Encoding feature - teacher_number_of_previously_posted_projects***"
      ]
    },
    {
      "cell_type": "code",
      "metadata": {
        "colab": {
          "base_uri": "https://localhost:8080/"
        },
        "id": "gSc6Tk3ZoRWK",
        "outputId": "cd5b339e-3604-4d74-969b-2f2e506ed33c"
      },
      "source": [
        "#set1\n",
        "normalizer=Normalizer()\n",
        "normalizer.fit(x_train1['teacher_number_of_previously_posted_projects'].values.reshape(-1,1))\n",
        "x_train1_tnpp_norm=normalizer.transform(x_train1['teacher_number_of_previously_posted_projects'].values.reshape(-1,1))\n",
        "x_cv1_tnpp_norm=normalizer.transform(x_cv1['teacher_number_of_previously_posted_projects'].values.reshape(-1,1))\n",
        "x_test1_tnpp_norm=normalizer.transform(x_test1['teacher_number_of_previously_posted_projects'].values.reshape(-1,1))\n",
        "print(x_train1_tnpp_norm.shape,x_cv1_tnpp_norm.shape,x_test1_tnpp_norm.shape)"
      ],
      "execution_count": 19,
      "outputs": [
        {
          "output_type": "stream",
          "name": "stdout",
          "text": [
            "(22445, 1) (11055, 1) (16500, 1)\n"
          ]
        }
      ]
    },
    {
      "cell_type": "code",
      "metadata": {
        "colab": {
          "base_uri": "https://localhost:8080/"
        },
        "id": "wjCrI9c2qyq9",
        "outputId": "eb7699a9-cfcc-48ea-ef9f-7921d8d0f534"
      },
      "source": [
        "#set2\n",
        "normalizer=Normalizer()\n",
        "normalizer.fit(x_train2['teacher_number_of_previously_posted_projects'].values.reshape(-1,1))\n",
        "x_train2_tnpp_norm=normalizer.transform(x_train2['teacher_number_of_previously_posted_projects'].values.reshape(-1,1))\n",
        "x_cv2_tnpp_norm=normalizer.transform(x_cv2['teacher_number_of_previously_posted_projects'].values.reshape(-1,1))\n",
        "x_test2_tnpp_norm=normalizer.transform(x_test2['teacher_number_of_previously_posted_projects'].values.reshape(-1,1))\n",
        "print(x_train2_tnpp_norm.shape,x_cv2_tnpp_norm.shape,x_test2_tnpp_norm.shape)"
      ],
      "execution_count": 20,
      "outputs": [
        {
          "output_type": "stream",
          "name": "stdout",
          "text": [
            "(22445, 1) (11055, 1) (16500, 1)\n"
          ]
        }
      ]
    },
    {
      "cell_type": "markdown",
      "metadata": {
        "id": "cwJBvSoZZktm"
      },
      "source": [
        "# ***Encoding feature - Price***"
      ]
    },
    {
      "cell_type": "code",
      "metadata": {
        "colab": {
          "base_uri": "https://localhost:8080/"
        },
        "id": "NIm_k7-Er9iC",
        "outputId": "3ec55db2-e433-4068-cfcc-08755a4f5bff"
      },
      "source": [
        "#set1\n",
        "normalizer=Normalizer()\n",
        "normalizer.fit(x_train1['price'].values.reshape(-1,1))\n",
        "x_train1_price_norm=normalizer.transform(x_train1['price'].values.reshape(-1,1))\n",
        "x_cv1_price_norm=normalizer.transform(x_cv1['price'].values.reshape(-1,1))\n",
        "x_test1_price_norm=normalizer.transform(x_test1['price'].values.reshape(-1,1))\n",
        "print(x_train1_price_norm.shape,x_cv1_price_norm.shape,x_test1_price_norm.shape)"
      ],
      "execution_count": 21,
      "outputs": [
        {
          "output_type": "stream",
          "name": "stdout",
          "text": [
            "(22445, 1) (11055, 1) (16500, 1)\n"
          ]
        }
      ]
    },
    {
      "cell_type": "code",
      "metadata": {
        "colab": {
          "base_uri": "https://localhost:8080/"
        },
        "id": "8j55rnnZsh2y",
        "outputId": "37e0f782-18b7-4c7b-8b64-924bd8c3f26d"
      },
      "source": [
        "#set2\n",
        "normalizer=Normalizer()\n",
        "normalizer.fit(x_train2['price'].values.reshape(-1,1))\n",
        "x_train2_price_norm=normalizer.transform(x_train2['price'].values.reshape(-1,1))\n",
        "x_cv2_price_norm=normalizer.transform(x_cv2['price'].values.reshape(-1,1))\n",
        "x_test2_price_norm=normalizer.transform(x_test2['price'].values.reshape(-1,1))\n",
        "print(x_train2_price_norm.shape,x_cv2_price_norm.shape,x_test2_price_norm.shape)"
      ],
      "execution_count": 22,
      "outputs": [
        {
          "output_type": "stream",
          "name": "stdout",
          "text": [
            "(22445, 1) (11055, 1) (16500, 1)\n"
          ]
        }
      ]
    },
    {
      "cell_type": "markdown",
      "metadata": {
        "id": "RSElUJRmY8_S"
      },
      "source": [
        "# ***Horizontally stacking above encoded features***"
      ]
    },
    {
      "cell_type": "code",
      "metadata": {
        "colab": {
          "base_uri": "https://localhost:8080/"
        },
        "id": "DkXmklbvtTbL",
        "outputId": "c86f2466-51d2-43d1-a95f-b82a0a083859"
      },
      "source": [
        "#set1\n",
        "x_tr1=hstack((x_train1_essay_bow,x_train1_ss_enc,x_train1_tp_enc,x_train1_pgc_enc,x_train1_cat_enc,x_train1_scat_enc,x_train1_tnpp_norm,x_train1_price_norm)).tocsr()\n",
        "x_cd1=hstack((x_cv1_essay_bow,x_cv1_ss_enc,x_cv1_tp_enc,x_cv1_pgc_enc,x_cv1_cat_enc,x_cv1_scat_enc,x_cv1_tnpp_norm,x_cv1_price_norm)).tocsr()\n",
        "x_te1=hstack((x_test1_essay_bow,x_test1_ss_enc,x_test1_tp_enc,x_test1_pgc_enc,x_test1_cat_enc,x_test1_scat_enc,x_test1_tnpp_norm,x_test1_price_norm)).tocsr()\n",
        "\n",
        "#set2\n",
        "x_tr2=hstack((x_train2_essay_tfidf,x_train2_ss_enc,x_train2_tp_enc,x_train2_pgc_enc,x_train2_cat_enc,x_train2_scat_enc,x_train2_tnpp_norm,x_train2_price_norm)).tocsr()\n",
        "x_cd2=hstack((x_cv2_essay_tfidf,x_cv2_ss_enc,x_cv2_tp_enc,x_cv2_pgc_enc,x_cv2_cat_enc,x_cv2_scat_enc,x_cv2_tnpp_norm,x_cv2_price_norm)).tocsr()\n",
        "x_te2=hstack((x_test2_essay_tfidf,x_test2_ss_enc,x_test2_tp_enc,x_test2_pgc_enc,x_test2_cat_enc,x_test2_scat_enc,x_test2_tnpp_norm,x_test2_price_norm)).tocsr()\n",
        "\n",
        "print(\"final data matrix of set1\")\n",
        "print(x_tr1.shape,y_train1.shape)\n",
        "print(x_cd1.shape,y_cv1.shape)\n",
        "print(x_te1.shape,y_test1.shape)\n",
        "\n",
        "print(\"\\nfinal data matrix of set2\")\n",
        "print(x_tr2.shape,y_train2.shape)\n",
        "print(x_cd2.shape,y_cv2.shape)\n",
        "print(x_te2.shape,y_test2.shape)\n"
      ],
      "execution_count": 23,
      "outputs": [
        {
          "output_type": "stream",
          "name": "stdout",
          "text": [
            "final data matrix of set1\n",
            "(22445, 5429) (22445,)\n",
            "(11055, 5429) (11055,)\n",
            "(16500, 5429) (16500,)\n",
            "\n",
            "final data matrix of set2\n",
            "(22445, 5428) (22445,)\n",
            "(11055, 5428) (11055,)\n",
            "(16500, 5428) (16500,)\n"
          ]
        }
      ]
    },
    {
      "cell_type": "markdown",
      "metadata": {
        "id": "JbpeawnyZPvN"
      },
      "source": [
        "# ***Applying Naive Bayes on set 1***"
      ]
    },
    {
      "cell_type": "code",
      "metadata": {
        "id": "nQgUet8jyWTP"
      },
      "source": [
        "def batch_pred(clf,data):\n",
        "    loop=data.shape[0] - data.shape[0]%1000\n",
        "    y_prob=[]\n",
        "    for i in range(0,loop,1000):\n",
        "        y_prob.extend(clf.predict_proba(data[i:i+1000])[:,1])\n",
        "    if data.shape[0]%1000 !=0:\n",
        "        y_prob.extend(clf.predict_proba(data[loop:])[:,1])    \n",
        "    return y_prob    "
      ],
      "execution_count": 24,
      "outputs": []
    },
    {
      "cell_type": "code",
      "metadata": {
        "id": "XODVD2YQ0fmT"
      },
      "source": [
        "train1_auc=[]\n",
        "cv1_auc=[]\n",
        "a=[0.00001,0.0005, 0.0001,0.005,0.001,0.05,0.01,0.1,0.5,1,5,10,50,100]\n",
        "for i in a:\n",
        "    naive=MultinomialNB(alpha=i)\n",
        "    naive.fit(x_tr1,y_train1)\n",
        "    y_train1_pred=batch_pred(naive,x_tr1)\n",
        "    y_cv1_pred=batch_pred(naive,x_cd1)\n",
        "    train1_auc.append(roc_auc_score(y_train1,y_train1_pred))\n",
        "    cv1_auc.append(roc_auc_score(y_cv1,y_cv1_pred))\n"
      ],
      "execution_count": 25,
      "outputs": []
    },
    {
      "cell_type": "code",
      "metadata": {
        "colab": {
          "base_uri": "https://localhost:8080/",
          "height": 264
        },
        "id": "YI29BoEMDg7T",
        "outputId": "d83100f7-ea64-4997-a2bc-32c6fa2ed3a8"
      },
      "source": [
        "loga=[math.log(x) for x in a]\n",
        "plt.plot(loga,train1_auc,label='Train AUC')\n",
        "plt.plot(loga,cv1_auc,label='CV AUC')\n",
        "plt.scatter(loga,train1_auc,label='Train scatter AUC')\n",
        "plt.scatter(loga,cv1_auc,label='CV scatter AUC')\n",
        "plt.legend()\n",
        "plt.grid()\n",
        "plt.show()"
      ],
      "execution_count": 26,
      "outputs": [
        {
          "output_type": "display_data",
          "data": {
            "image/png": "[encoded data removed]",
            "text/plain": [
              "<Figure size 432x288 with 1 Axes>"
            ]
          },
          "metadata": {
            "needs_background": "light"
          }
        }
      ]
    },
    {
      "cell_type": "code",
      "metadata": {
        "id": "s_Um7_WErfOt"
      },
      "source": [
        "best_a=5\n",
        "naive=MultinomialNB(alpha=best_a)\n",
        "naive.fit(x_tr1,y_train1)\n",
        "y_tr1_pred=batch_pred(naive,x_tr1)\n",
        "y_test1_pred=batch_pred(naive,x_te1)\n",
        "tr1_fpr,tr1_tpr,tr1_th=roc_curve(y_train1,y_tr1_pred)\n",
        "te1_fpr,te1_tpr,te1_th=roc_curve(y_test1,y_test1_pred)"
      ],
      "execution_count": 27,
      "outputs": []
    },
    {
      "cell_type": "code",
      "metadata": {
        "colab": {
          "base_uri": "https://localhost:8080/",
          "height": 621
        },
        "id": "CuzLA10i6tVl",
        "outputId": "65ceb4f3-2d66-4ba4-94b4-b7e031f3d826"
      },
      "source": [
        "plt.figure(figsize=(20,10))\n",
        "plt.plot(tr1_fpr,tr1_tpr,label='Train AUC')\n",
        "plt.plot(te1_fpr,te1_tpr,label='Test AUC')\n",
        "plt.grid()\n",
        "plt.xlabel('FPRs')\n",
        "plt.ylabel('TPRs')\n",
        "plt.title('ROC Curve with optimal alpha')\n",
        "plt.legend()\n",
        "plt.show()"
      ],
      "execution_count": 58,
      "outputs": [
        {
          "output_type": "display_data",
          "data": {
            "image/png": "[encoded data removed]",
            "text/plain": [
              "<Figure size 1440x720 with 1 Axes>"
            ]
          },
          "metadata": {
            "needs_background": "light"
          }
        }
      ]
    },
    {
      "cell_type": "code",
      "metadata": {
        "id": "yNQssCHb6uvP"
      },
      "source": [
        "def best_threshold(thresholds,tprs,fprs):\n",
        "    t=thresholds[np.argmax(tprs*(1-fprs))]\n",
        "    return t\n",
        "def predict_using_best_t(prob,threshold):\n",
        "    predictions=[]\n",
        "    for i in prob:\n",
        "        if i<threshold:\n",
        "            predictions.append(0)  \n",
        "        else:\n",
        "            predictions.append(1)\n",
        "    return predictions            "
      ],
      "execution_count": 29,
      "outputs": []
    },
    {
      "cell_type": "code",
      "metadata": {
        "colab": {
          "base_uri": "https://localhost:8080/",
          "height": 386
        },
        "id": "8Gczb95_6roJ",
        "outputId": "294ff9b1-54c1-4f52-cc59-b35c9a603057"
      },
      "source": [
        "best_t=best_threshold(tr1_th,tr1_tpr,tr1_fpr)\n",
        "print(best_t)\n",
        "train1_cm=confusion_matrix(y_train1,predict_using_best_t(y_tr1_pred,best_t))\n",
        "test1_cm=confusion_matrix(y_test1,predict_using_best_t(y_test1_pred,best_t))\n",
        "plt.figure(figsize=(15,5))\n",
        "plt.subplot(121)\n",
        "plt.title('Confusion Matrix of test dataset')\n",
        "sns.heatmap(test1_cm,annot=True,fmt=\"d\",cmap='Blues',cbar=True,linewidths=.5)\n",
        "plt.ylabel('Predicted Label')\n",
        "plt.xlabel('True Label')\n",
        "plt.subplot(122)\n",
        "plt.title('Confusion Matrix of Train dataset')\n",
        "sns.heatmap(train1_cm,annot=True,fmt=\"d\",cmap='Blues',cbar=True,linewidths=.5)\n",
        "plt.ylabel('Predicted Label')\n",
        "plt.xlabel('True Label')"
      ],
      "execution_count": 62,
      "outputs": [
        {
          "output_type": "stream",
          "name": "stdout",
          "text": [
            "0.8852716276412651\n"
          ]
        },
        {
          "output_type": "execute_result",
          "data": {
            "text/plain": [
              "Text(0.5, 24.0, 'True Label')"
            ]
          },
          "metadata": {},
          "execution_count": 62
        },
        {
          "output_type": "display_data",
          "data": {
            "image/png": "[encoded data removed]",
            "text/plain": [
              "<Figure size 1080x360 with 4 Axes>"
            ]
          },
          "metadata": {
            "needs_background": "light"
          }
        }
      ]
    },
    {
      "cell_type": "code",
      "metadata": {
        "colab": {
          "base_uri": "https://localhost:8080/"
        },
        "id": "Gu0HyFyj6jJ6",
        "outputId": "a7c4a11e-9aff-4801-8c45-e0ef67ee7c21"
      },
      "source": [
        "indices=np.argsort(naive.feature_log_prob_[0])[-20:]\n",
        "print(indices)\n",
        "l=[]\n",
        "for i in indices:\n",
        "    if i<5000: \n",
        "        l.append(vectorizer.get_feature_names()[i])\n",
        "l.append('teacher_number_of_previously_posted_projects')\n",
        "print('Top 20 features are :',l)    "
      ],
      "execution_count": 54,
      "outputs": [
        {
          "output_type": "stream",
          "name": "stdout",
          "text": [
            "[4951   93  804 4878 2840 4776 2617 2825 5428 2821 4403 4453 1901 2927\n",
            " 2295  711 2806 2347 3610 4035]\n",
            "Top 20 features are : ['year', 'able', 'come', 'work', 'need', 'we', 'many', 'nannan', 'my students', 'the', 'they', 'help', 'not', 'learn', 'classroom', 'my', 'learning', 'school', 'students', 'teacher_number_of_previously_posted_projects']\n"
          ]
        }
      ]
    },
    {
      "cell_type": "markdown",
      "metadata": {
        "id": "wgBJrQbXYfCb"
      },
      "source": [
        "# ***Applying Naive Bayes on SET 2***"
      ]
    },
    {
      "cell_type": "code",
      "metadata": {
        "id": "Lc6BpdnfLPl1"
      },
      "source": [
        "train2_auc=[]\n",
        "cv2_auc=[]\n",
        "a=[0.00001,0.0005, 0.0001,0.005,0.001,0.05,0.01,0.1,0.5,1,5,10,50,100]\n",
        "for i in a:\n",
        "    naive=MultinomialNB(alpha=i)\n",
        "    naive.fit(x_tr2,y_train2)\n",
        "    y_train2_pred=batch_pred(naive,x_tr2)\n",
        "    y_cv2_pred=batch_pred(naive,x_cd2)\n",
        "    train2_auc.append(roc_auc_score(y_train2,y_train2_pred))\n",
        "    cv2_auc.append(roc_auc_score(y_cv2,y_cv2_pred))"
      ],
      "execution_count": 55,
      "outputs": []
    },
    {
      "cell_type": "code",
      "metadata": {
        "colab": {
          "base_uri": "https://localhost:8080/",
          "height": 264
        },
        "id": "z0AwMtt0LxBp",
        "outputId": "4eef8d2f-f70f-4550-e8c1-f7f5c98c8343"
      },
      "source": [
        "plt.plot(loga,train2_auc,label='Train AUC')\n",
        "plt.plot(loga,cv2_auc,label='CV AUC')\n",
        "plt.scatter(loga,train2_auc,label='Train scatter AUC')\n",
        "plt.scatter(loga,cv2_auc,label='CV scatter AUC')\n",
        "plt.legend()\n",
        "plt.grid()\n",
        "plt.show()"
      ],
      "execution_count": 56,
      "outputs": [
        {
          "output_type": "display_data",
          "data": {
            "image/png": "[encoded data removed]",
            "text/plain": [
              "<Figure size 432x288 with 1 Axes>"
            ]
          },
          "metadata": {
            "needs_background": "light"
          }
        }
      ]
    },
    {
      "cell_type": "code",
      "metadata": {
        "id": "Uq_7i_YAMCVg"
      },
      "source": [
        "best_a2=0.5\n",
        "naive=MultinomialNB(alpha=best_a2)\n",
        "naive.fit(x_tr2,y_train2)\n",
        "y_tr2_pred=batch_pred(naive,x_tr2)\n",
        "y_test2_pred=batch_pred(naive,x_te2)\n",
        "tr2_fpr,tr2_tpr,tr2_th=roc_curve(y_train2,y_tr2_pred)\n",
        "te2_fpr,te2_tpr,te2_th=roc_curve(y_test2,y_test2_pred)"
      ],
      "execution_count": 57,
      "outputs": []
    },
    {
      "cell_type": "code",
      "metadata": {
        "colab": {
          "base_uri": "https://localhost:8080/",
          "height": 621
        },
        "id": "n_4Kj8AQOpSp",
        "outputId": "349f472c-8951-4a6e-bf28-4debdecb73d1"
      },
      "source": [
        "plt.figure(figsize=(20,10))\n",
        "plt.plot(tr2_fpr,tr2_tpr,label='Train AUC')\n",
        "plt.plot(te2_fpr,te2_tpr,label='Test AUC')\n",
        "plt.grid()\n",
        "plt.xlabel('FPRs')\n",
        "plt.ylabel('TPRs')\n",
        "plt.title('ROC Curve with optimal alpha')\n",
        "plt.legend()\n",
        "plt.show()"
      ],
      "execution_count": 59,
      "outputs": [
        {
          "output_type": "display_data",
          "data": {
            "image/png": "[encoded data removed]",
            "text/plain": [
              "<Figure size 1440x720 with 1 Axes>"
            ]
          },
          "metadata": {
            "needs_background": "light"
          }
        }
      ]
    },
    {
      "cell_type": "code",
      "metadata": {
        "colab": {
          "base_uri": "https://localhost:8080/",
          "height": 386
        },
        "id": "FoeRCu6TUM6V",
        "outputId": "aa1b39d3-c3cf-4d55-9573-568c8f996e00"
      },
      "source": [
        "best_t2=best_threshold(tr2_th,tr2_tpr,tr2_fpr)\n",
        "print(best_t2)\n",
        "train2_cm=confusion_matrix(y_train2,predict_using_best_t(y_tr2_pred,best_t2))\n",
        "test2_cm=confusion_matrix(y_test2,predict_using_best_t(y_test2_pred,best_t2))\n",
        "plt.figure(figsize=(15,5))\n",
        "plt.subplot(121)\n",
        "plt.title('Confusion Matrix of test dataset')\n",
        "sns.heatmap(test2_cm,annot=True,fmt=\"d\",cmap='Blues',cbar=True,linewidths=.5)\n",
        "plt.ylabel('Predicted Label')\n",
        "plt.xlabel('True Label')\n",
        "plt.subplot(122)\n",
        "plt.title('Confusion Matrix of Train dataset')\n",
        "sns.heatmap(train2_cm,annot=True,fmt=\"d\",cmap='Blues',cbar=True,linewidths=.5)\n",
        "plt.ylabel('Predicted Label')\n",
        "plt.xlabel('True Label')"
      ],
      "execution_count": 63,
      "outputs": [
        {
          "output_type": "stream",
          "name": "stdout",
          "text": [
            "0.8577516107794158\n"
          ]
        },
        {
          "output_type": "execute_result",
          "data": {
            "text/plain": [
              "Text(0.5, 24.0, 'True Label')"
            ]
          },
          "metadata": {},
          "execution_count": 63
        },
        {
          "output_type": "display_data",
          "data": {
            "image/png": "[encoded data removed]",
            "text/plain": [
              "<Figure size 1080x360 with 4 Axes>"
            ]
          },
          "metadata": {
            "needs_background": "light"
          }
        }
      ]
    },
    {
      "cell_type": "markdown",
      "metadata": {
        "id": "y5MLsLNoYr6P"
      },
      "source": [
        "# ***CONCLUSION***"
      ]
    },
    {
      "cell_type": "code",
      "metadata": {
        "colab": {
          "base_uri": "https://localhost:8080/"
        },
        "id": "kUpkgdpRUiVX",
        "outputId": "e8269d5d-92d3-4700-d222-8ad48ab31cd4"
      },
      "source": [
        "from prettytable import PrettyTable\n",
        "x = PrettyTable()\n",
        "x.field_names = [\"Vectorizer\", \"Model\", \"Hyperparameter-Alpha\", \"Train AUC\",\n",
        "\"Test AUC\"]\n",
        "x.add_row([\"BOW\",\"Brute\",5,auc(tr1_fpr,tr1_tpr),auc(te1_fpr,te1_tpr)])\n",
        "x.add_row([\"TFIDF\",\"Brute\",0.5,auc(tr2_fpr,tr2_tpr),auc(te2_fpr,te2_tpr)])\n",
        "print(x)\n"
      ],
      "execution_count": 65,
      "outputs": [
        {
          "output_type": "stream",
          "name": "stdout",
          "text": [
            "+------------+-------+----------------------+--------------------+--------------------+\n",
            "| Vectorizer | Model | Hyperparameter-Alpha |     Train AUC      |      Test AUC      |\n",
            "+------------+-------+----------------------+--------------------+--------------------+\n",
            "|    BOW     | Brute |          5           | 0.7489860659699037 | 0.6839126583911719 |\n",
            "|   TFIDF    | Brute |         0.5          | 0.7318463383051172 | 0.6622104881468347 |\n",
            "+------------+-------+----------------------+--------------------+--------------------+\n"
          ]
        }
      ]
    }
  ]
}