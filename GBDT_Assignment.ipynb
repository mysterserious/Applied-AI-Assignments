{
  "nbformat": 4,
  "nbformat_minor": 0,
  "metadata": {
    "colab": {
      "name": "GBDT Assignment.ipynb",
      "provenance": [],
      "collapsed_sections": []
    },
    "kernelspec": {
      "name": "python3",
      "display_name": "Python 3"
    },
    "language_info": {
      "name": "python"
    }
  },
  "cells": [
    {
      "cell_type": "code",
      "execution_count": 67,
      "metadata": {
        "colab": {
          "base_uri": "https://localhost:8080/"
        },
        "id": "_ktwazCyb9zH",
        "outputId": "b741e174-88b1-4ee0-cd9a-30f2695b4aaf"
      },
      "outputs": [
        {
          "output_type": "stream",
          "name": "stdout",
          "text": [
            "Downloading...\n",
            "From: https://drive.google.com/uc?id=1TeNeIUHPKZZr0ZqrZ0gKEV7cCSw9ikIQ\n",
            "To: /content/preprocessed_data.csv\n",
            "100% 124M/124M [00:00<00:00, 188MB/s]\n",
            "Downloading...\n",
            "From: https://drive.google.com/uc?id=1lDca_ge-GYO0iQ6_XDLWePQFMdAA2b8f\n",
            "To: /content/glove_vectors\n",
            "100% 128M/128M [00:00<00:00, 200MB/s]\n"
          ]
        }
      ],
      "source": [
        "! gdown --id 1TeNeIUHPKZZr0ZqrZ0gKEV7cCSw9ikIQ\n",
        "! gdown --id 1lDca_ge-GYO0iQ6_XDLWePQFMdAA2b8f"
      ]
    },
    {
      "cell_type": "code",
      "source": [
        "import nltk\n",
        "from nltk.sentiment.vader import SentimentIntensityAnalyzer\n",
        "nltk.download('vader_lexicon')\n",
        "from sklearn.feature_extraction.text import TfidfVectorizer,CountVectorizer\n",
        "import numpy as np\n",
        "from sklearn.preprocessing import MinMaxScaler\n",
        "from scipy.sparse import hstack\n",
        "from sklearn.tree import DecisionTreeClassifier\n",
        "from sklearn.model_selection import GridSearchCV\n",
        "from sklearn.metrics import roc_auc_score,roc_curve,auc,plot_confusion_matrix\n",
        "from sklearn.model_selection import train_test_split\n",
        "import seaborn as sn \n",
        "import matplotlib.pyplot as plt\n",
        "from wordcloud import WordCloud, STOPWORDS\n",
        "from tabulate import tabulate\n",
        "import pickle\n",
        "import pandas as pd\n",
        "from sklearn.ensemble import GradientBoostingClassifier\n",
        "import warnings\n",
        "warnings.filterwarnings('ignore')"
      ],
      "metadata": {
        "colab": {
          "base_uri": "https://localhost:8080/"
        },
        "id": "c9Zr1GXN0Her",
        "outputId": "6bbbede8-5cf9-487a-ae45-802c61f14d79"
      },
      "execution_count": 68,
      "outputs": [
        {
          "output_type": "stream",
          "name": "stdout",
          "text": [
            "[nltk_data] Downloading package vader_lexicon to /root/nltk_data...\n",
            "[nltk_data]   Package vader_lexicon is already up-to-date!\n"
          ]
        }
      ]
    },
    {
      "cell_type": "code",
      "source": [
        "with open('glove_vectors', 'rb') as f:\n",
        "    model = pickle.load(f)\n",
        "    glove_words =  set(model.keys())"
      ],
      "metadata": {
        "id": "u1yg-GwXUzen"
      },
      "execution_count": 69,
      "outputs": []
    },
    {
      "cell_type": "code",
      "source": [
        "data=pd.read_csv('preprocessed_data.csv',nrows=35000)"
      ],
      "metadata": {
        "id": "SFFtWEKM0LGG"
      },
      "execution_count": 70,
      "outputs": []
    },
    {
      "cell_type": "code",
      "source": [
        "print(data.columns)"
      ],
      "metadata": {
        "colab": {
          "base_uri": "https://localhost:8080/"
        },
        "id": "rnkiGfEL0oSC",
        "outputId": "f8a4b5ae-6b00-47f7-f70d-04f2ed206b61"
      },
      "execution_count": 71,
      "outputs": [
        {
          "output_type": "stream",
          "name": "stdout",
          "text": [
            "Index(['school_state', 'teacher_prefix', 'project_grade_category',\n",
            "       'teacher_number_of_previously_posted_projects', 'project_is_approved',\n",
            "       'clean_categories', 'clean_subcategories', 'essay', 'price'],\n",
            "      dtype='object')\n"
          ]
        }
      ]
    },
    {
      "cell_type": "code",
      "source": [
        "lst=[]\n",
        "sid = SentimentIntensityAnalyzer()\n",
        "for i in data['essay']:\n",
        "  ss=sid.polarity_scores(i)\n",
        "  lst.append(ss)\n",
        "df_polarity=pd.DataFrame.from_dict(lst)  "
      ],
      "metadata": {
        "id": "yzQ8B_MZLz22"
      },
      "execution_count": 72,
      "outputs": []
    },
    {
      "cell_type": "code",
      "source": [
        "data['neg']=df_polarity['neg']\n",
        "data['pos']=df_polarity['pos']\n",
        "data['neu']=df_polarity['neg']\n",
        "data['compound']=df_polarity['compound']"
      ],
      "metadata": {
        "id": "mrjJwApsOx8b"
      },
      "execution_count": 73,
      "outputs": []
    },
    {
      "cell_type": "code",
      "source": [
        "print(data.columns)"
      ],
      "metadata": {
        "colab": {
          "base_uri": "https://localhost:8080/"
        },
        "id": "eWpVNSx1PLMd",
        "outputId": "56daa2d9-7ccb-402c-8742-d89d1e68ef63"
      },
      "execution_count": 74,
      "outputs": [
        {
          "output_type": "stream",
          "name": "stdout",
          "text": [
            "Index(['school_state', 'teacher_prefix', 'project_grade_category',\n",
            "       'teacher_number_of_previously_posted_projects', 'project_is_approved',\n",
            "       'clean_categories', 'clean_subcategories', 'essay', 'price', 'neg',\n",
            "       'pos', 'neu', 'compound'],\n",
            "      dtype='object')\n"
          ]
        }
      ]
    },
    {
      "cell_type": "code",
      "source": [
        "y=data['project_is_approved']\n",
        "x=data.drop('project_is_approved',axis=1)"
      ],
      "metadata": {
        "id": "YfYuc1JaPsQ7"
      },
      "execution_count": 75,
      "outputs": []
    },
    {
      "cell_type": "markdown",
      "source": [
        "# **Splitting Data**"
      ],
      "metadata": {
        "id": "oYuTKZEgLAwT"
      }
    },
    {
      "cell_type": "code",
      "source": [
        "x_tr,x_te,y_tr,y_te=train_test_split(x,y,train_size=0.8,test_size=0.2,random_state=1)\n",
        "x_tr,x_cv,y_tr,y_cv=train_test_split(x_tr,y_tr,train_size=0.75,test_size=0.25,random_state=1)"
      ],
      "metadata": {
        "id": "fIw3D8vIPQgt"
      },
      "execution_count": 76,
      "outputs": []
    },
    {
      "cell_type": "markdown",
      "source": [
        "# **Vectorizing 'essay' feature**"
      ],
      "metadata": {
        "id": "FfE48kNMLGps"
      }
    },
    {
      "cell_type": "code",
      "source": [
        "vec=TfidfVectorizer(min_df=10)\n",
        "vec.fit(x_tr['essay'])\n",
        "tfidf_tr=vec.transform(x_tr['essay'])\n",
        "tfidf_cv=vec.transform(x_cv['essay'])\n",
        "tfidf_te=vec.transform(x_te['essay'])"
      ],
      "metadata": {
        "id": "wccLhUN8SHu9"
      },
      "execution_count": 77,
      "outputs": []
    },
    {
      "cell_type": "code",
      "source": [
        "tfw2v_tr=[]\n",
        "dictionary=dict(zip(vec.get_feature_names_out(),list(vec.idf_)))\n",
        "tfidf_words=set(vec.get_feature_names_out())\n",
        "for sent in x_tr['essay']:\n",
        "  vector=np.zeros(300)\n",
        "  tfidf_w=0\n",
        "  for word in sent.split():\n",
        "    if (word in glove_words) and (word in tfidf_words):\n",
        "      v=model[word]\n",
        "      tfidf=dictionary[word]*(sent.count(word)/len(sent.split()))\n",
        "      vector+=tfidf*v\n",
        "      tfidf_w+=tfidf\n",
        "  if tfidf_w!=0:\n",
        "    vector=vector/tfidf_w\n",
        "    tfw2v_tr.append(vector)  "
      ],
      "metadata": {
        "id": "VTWm3PpAUC6q"
      },
      "execution_count": 78,
      "outputs": []
    },
    {
      "cell_type": "code",
      "source": [
        "tfw2v_cv=[]\n",
        "for sent in x_cv['essay']:\n",
        "  vector=np.zeros(300)\n",
        "  tfidf_w=0\n",
        "  for word in sent.split():\n",
        "    if (word in glove_words) and (word in tfidf_words):\n",
        "      v=model[word]\n",
        "      tfidf=dictionary[word]*(sent.count(word)/len(sent.split()))\n",
        "      vector+=tfidf*v\n",
        "      tfidf_w+=tfidf\n",
        "  if tfidf_w!=0:\n",
        "    vector=vector/tfidf_w\n",
        "    tfw2v_cv.append(vector)"
      ],
      "metadata": {
        "id": "0i1FrlfwWDXq"
      },
      "execution_count": 79,
      "outputs": []
    },
    {
      "cell_type": "code",
      "source": [
        "tfw2v_te=[]\n",
        "for sent in x_te['essay']:\n",
        "  vector=np.zeros(300)\n",
        "  tfidf_w=0\n",
        "  for word in sent.split():\n",
        "    if (word in glove_words) and (word in tfidf_words):\n",
        "      v=model[word]\n",
        "      tfidf=dictionary[word]*(sent.count(word)/len(sent.split()))\n",
        "      vector+=tfidf*v\n",
        "      tfidf_w+=tfidf\n",
        "  if tfidf_w!=0:\n",
        "    vector=vector/tfidf_w\n",
        "    tfw2v_te.append(vector)\n",
        "tfw2v_tr=np.array(tfw2v_tr)\n",
        "tfw2v_cv=np.array(tfw2v_cv)\n",
        "tfw2v_te=np.array(tfw2v_te)  \n",
        "print(tfw2v_tr.shape,tfw2v_cv.shape,tfw2v_te.shape)  "
      ],
      "metadata": {
        "colab": {
          "base_uri": "https://localhost:8080/"
        },
        "id": "CB2PiryCW4Ta",
        "outputId": "7ed3f711-0ee4-4a52-e8bc-a41891ac0b87"
      },
      "execution_count": 80,
      "outputs": [
        {
          "output_type": "stream",
          "name": "stdout",
          "text": [
            "(21000, 300) (7000, 300) (7000, 300)\n"
          ]
        }
      ]
    },
    {
      "cell_type": "markdown",
      "source": [
        "# **Response coding Categorical features**"
      ],
      "metadata": {
        "id": "JPsuwm03LR2k"
      }
    },
    {
      "cell_type": "code",
      "source": [
        "from functools import total_ordering\n",
        "ss=list(set(x_tr['school_state'].values))\n",
        "print(ss)\n",
        "ss0=[]\n",
        "ss1=[]\n",
        "for i in ss:\n",
        "  count=0\n",
        "  total=0\n",
        "  for j in range(len(x_tr['school_state'])):\n",
        "    if x_tr['school_state'].values[j]==i:\n",
        "      total+=1\n",
        "      if y_tr.values[j]==0:\n",
        "        count+=1\n",
        "    else:\n",
        "      continue    \n",
        "  prob=count/total      \n",
        "  ss0.append((i,prob))\n",
        "  ss1.append((i,1-prob))"
      ],
      "metadata": {
        "colab": {
          "base_uri": "https://localhost:8080/"
        },
        "id": "FaLMtSslXhZ7",
        "outputId": "d6edfc76-33a5-490f-fd2c-0f7c03a00c7a"
      },
      "execution_count": 81,
      "outputs": [
        {
          "output_type": "stream",
          "name": "stdout",
          "text": [
            "['va', 'md', 'sc', 'fl', 'or', 'mo', 'oh', 'mi', 'nj', 'ak', 'wi', 'sd', 'me', 'nv', 'nh', 'la', 'wa', 'nd', 'ia', 'ct', 'dc', 'de', 'ok', 'il', 'tn', 'ga', 'ut', 'mt', 'ny', 'ma', 'ri', 'ca', 'wy', 'ky', 'ms', 'nm', 'co', 'pa', 'vt', 'nc', 'in', 'ne', 'ar', 'id', 'mn', 'tx', 'al', 'hi', 'ks', 'az', 'wv']\n"
          ]
        }
      ]
    },
    {
      "cell_type": "code",
      "source": [
        "ss0=dict(ss0)\n",
        "ss1=dict(ss1)\n",
        "ss_p0_tr=[]\n",
        "ss_p1_tr=[]\n",
        "ss_p0_cv=[]\n",
        "ss_p1_cv=[]\n",
        "ss_p0_te=[]\n",
        "ss_p1_te=[]\n",
        "for i in range(len(x_tr)):\n",
        "  if x_tr['school_state'].values[i] in ss:\n",
        "    ss_p0_tr.append(ss0[x_tr['school_state'].values[i]])\n",
        "    ss_p1_tr.append(ss1[x_tr['school_state'].values[i]])\n",
        "for i in range(len(x_cv)):\n",
        "  if x_cv['school_state'].values[i] in ss:\n",
        "    ss_p0_cv.append(ss0[x_cv['school_state'].values[i]])\n",
        "    ss_p1_cv.append(ss1[x_cv['school_state'].values[i]])\n",
        "  else:\n",
        "    ss_p0_cv.append(0.5)\n",
        "    ss_p1_cv.append(0.5)   \n",
        "for i in range(len(x_te)):\n",
        "  if x_te['school_state'].values[i] in ss:\n",
        "    ss_p0_te.append(ss0[x_te['school_state'].values[i]])\n",
        "    ss_p1_te.append(ss1[x_te['school_state'].values[i]])\n",
        "  else:\n",
        "    ss_p0_te.append(0.5)\n",
        "    ss_p1_te.append(0.5) \n",
        "ss_p0_tr=np.array(ss_p0_tr).reshape(-1,1)\n",
        "ss_p1_tr=np.array(ss_p1_tr).reshape(-1,1)\n",
        "ss_p0_cv=np.array(ss_p0_cv).reshape(-1,1)\n",
        "ss_p1_cv=np.array(ss_p1_cv).reshape(-1,1)\n",
        "ss_p0_te=np.array(ss_p0_te).reshape(-1,1)\n",
        "ss_p1_te=np.array(ss_p1_te).reshape(-1,1)        "
      ],
      "metadata": {
        "id": "lX8RsC1DrtpK"
      },
      "execution_count": 82,
      "outputs": []
    },
    {
      "cell_type": "code",
      "source": [
        "print(ss_p0_tr.shape,ss_p0_cv.shape,ss_p0_te.shape)"
      ],
      "metadata": {
        "colab": {
          "base_uri": "https://localhost:8080/"
        },
        "id": "EDsNtkhpuSGs",
        "outputId": "74084153-a383-4e03-ebc1-8b451e52838c"
      },
      "execution_count": 83,
      "outputs": [
        {
          "output_type": "stream",
          "name": "stdout",
          "text": [
            "(21000, 1) (7000, 1) (7000, 1)\n"
          ]
        }
      ]
    },
    {
      "cell_type": "code",
      "source": [
        "tp=list(set(x_tr['teacher_prefix'].values))\n",
        "print(tp)\n",
        "tp0=[]\n",
        "tp1=[]\n",
        "for i in tp:\n",
        "  count=0\n",
        "  total=0\n",
        "  for j in range(len(x_tr['teacher_prefix'])):\n",
        "    if x_tr['teacher_prefix'].values[j]==i:\n",
        "      total+=1\n",
        "      if y_tr.values[j]==0:\n",
        "        count+=1\n",
        "    else:\n",
        "      continue    \n",
        "  prob=count/total      \n",
        "  tp0.append((i,prob))\n",
        "  tp1.append((i,1-prob))"
      ],
      "metadata": {
        "colab": {
          "base_uri": "https://localhost:8080/"
        },
        "id": "qe9GKzkjmeC8",
        "outputId": "bc0c6dc8-c424-414a-ed7d-285794885013"
      },
      "execution_count": 84,
      "outputs": [
        {
          "output_type": "stream",
          "name": "stdout",
          "text": [
            "['mrs', 'dr', 'teacher', 'ms', 'mr']\n"
          ]
        }
      ]
    },
    {
      "cell_type": "code",
      "source": [
        "tp0=dict(tp0)\n",
        "tp1=dict(tp1)\n",
        "tp_p0_tr=[]\n",
        "tp_p1_tr=[]\n",
        "tp_p0_cv=[]\n",
        "tp_p1_cv=[]\n",
        "tp_p0_te=[]\n",
        "tp_p1_te=[]\n",
        "for i in range(len(x_tr)):\n",
        "  if x_tr['teacher_prefix'].values[i] in tp:\n",
        "    tp_p0_tr.append(tp0[x_tr['teacher_prefix'].values[i]])\n",
        "    tp_p1_tr.append(tp1[x_tr['teacher_prefix'].values[i]])\n",
        "for i in range(len(x_cv)):\n",
        "  if x_cv['teacher_prefix'].values[i] in tp:\n",
        "    tp_p0_cv.append(tp0[x_cv['teacher_prefix'].values[i]])\n",
        "    tp_p1_cv.append(tp1[x_cv['teacher_prefix'].values[i]])\n",
        "  else:\n",
        "    tp_p0_cv.append(0.5)\n",
        "    tp_p1_cv.append(0.5)   \n",
        "for i in range(len(x_te)):\n",
        "  if x_te['teacher_prefix'].values[i] in tp:\n",
        "    tp_p0_te.append(tp0[x_te['teacher_prefix'].values[i]])\n",
        "    tp_p1_te.append(tp1[x_te['teacher_prefix'].values[i]])\n",
        "  else:\n",
        "    tp_p0_te.append(0.5)\n",
        "    tp_p1_te.append(0.5) \n",
        "tp_p0_tr=np.array(tp_p0_tr).reshape(-1,1)\n",
        "tp_p1_tr=np.array(tp_p1_tr).reshape(-1,1)\n",
        "tp_p0_cv=np.array(tp_p0_cv).reshape(-1,1)\n",
        "tp_p1_cv=np.array(tp_p1_cv).reshape(-1,1)\n",
        "tp_p0_te=np.array(tp_p0_te).reshape(-1,1)\n",
        "tp_p1_te=np.array(tp_p1_te).reshape(-1,1)"
      ],
      "metadata": {
        "id": "ONQiphpkkj28"
      },
      "execution_count": 85,
      "outputs": []
    },
    {
      "cell_type": "code",
      "source": [
        "print(tp_p0_tr.shape,tp_p0_cv.shape,tp_p0_te.shape)"
      ],
      "metadata": {
        "colab": {
          "base_uri": "https://localhost:8080/"
        },
        "id": "RcTArI7n-xxl",
        "outputId": "f4a33b66-aca4-42d1-8ee5-ee78fefa6b9e"
      },
      "execution_count": 86,
      "outputs": [
        {
          "output_type": "stream",
          "name": "stdout",
          "text": [
            "(21000, 1) (7000, 1) (7000, 1)\n"
          ]
        }
      ]
    },
    {
      "cell_type": "code",
      "source": [
        "pgc=list(set(x_tr['project_grade_category'].values))\n",
        "print(pgc)\n",
        "pgc0=[]\n",
        "pgc1=[]\n",
        "for i in pgc:\n",
        "  count=0\n",
        "  total=0\n",
        "  for j in range(len(x_tr['project_grade_category'])):\n",
        "    if x_tr['project_grade_category'].values[j]==i:\n",
        "      total+=1\n",
        "      if y_tr.values[j]==0:\n",
        "        count+=1\n",
        "    else:\n",
        "      continue    \n",
        "  prob=count/total      \n",
        "  pgc0.append((i,prob))\n",
        "  pgc1.append((i,1-prob))"
      ],
      "metadata": {
        "colab": {
          "base_uri": "https://localhost:8080/"
        },
        "id": "aLDb2d0I_dWn",
        "outputId": "f4dd11e5-9870-4699-f35c-ddeddeb483af"
      },
      "execution_count": 87,
      "outputs": [
        {
          "output_type": "stream",
          "name": "stdout",
          "text": [
            "['grades_6_8', 'grades_prek_2', 'grades_3_5', 'grades_9_12']\n"
          ]
        }
      ]
    },
    {
      "cell_type": "code",
      "source": [
        "pgc0=dict(pgc0)\n",
        "pgc1=dict(pgc1)\n",
        "pgc_p0_tr=[]\n",
        "pgc_p1_tr=[]\n",
        "pgc_p0_cv=[]\n",
        "pgc_p1_cv=[]\n",
        "pgc_p0_te=[]\n",
        "pgc_p1_te=[]\n",
        "for i in range(len(x_tr)):\n",
        "  if x_tr['project_grade_category'].values[i] in pgc:\n",
        "    pgc_p0_tr.append(pgc0[x_tr['project_grade_category'].values[i]])\n",
        "    pgc_p1_tr.append(pgc1[x_tr['project_grade_category'].values[i]])\n",
        "for i in range(len(x_cv)):\n",
        "  if x_cv['project_grade_category'].values[i] in pgc:\n",
        "    pgc_p0_cv.append(pgc0[x_cv['project_grade_category'].values[i]])\n",
        "    pgc_p1_cv.append(pgc1[x_cv['project_grade_category'].values[i]])\n",
        "  else:\n",
        "    pgc_p0_cv.append(0.5)\n",
        "    pgc_p1_cv.append(0.5)   \n",
        "for i in range(len(x_te)):\n",
        "  if x_te['project_grade_category'].values[i] in pgc:\n",
        "    pgc_p0_te.append(pgc0[x_te['project_grade_category'].values[i]])\n",
        "    pgc_p1_te.append(pgc1[x_te['project_grade_category'].values[i]])\n",
        "  else:\n",
        "    pgc_p0_te.append(0.5)\n",
        "    pgc_p1_te.append(0.5) \n",
        "pgc_p0_tr=np.array(pgc_p0_tr).reshape(-1,1)\n",
        "pgc_p1_tr=np.array(pgc_p1_tr).reshape(-1,1)\n",
        "pgc_p0_cv=np.array(pgc_p0_cv).reshape(-1,1)\n",
        "pgc_p1_cv=np.array(pgc_p1_cv).reshape(-1,1)\n",
        "pgc_p0_te=np.array(pgc_p0_te).reshape(-1,1)\n",
        "pgc_p1_te=np.array(pgc_p1_te).reshape(-1,1)"
      ],
      "metadata": {
        "id": "aE98E0sV__Ir"
      },
      "execution_count": 88,
      "outputs": []
    },
    {
      "cell_type": "code",
      "source": [
        "print(pgc_p0_tr.shape,pgc_p0_cv.shape,pgc_p0_te.shape)"
      ],
      "metadata": {
        "colab": {
          "base_uri": "https://localhost:8080/"
        },
        "id": "rhpSCOuoBEMR",
        "outputId": "3cc7be92-a44c-423e-f2d9-22ab9d5f5a6a"
      },
      "execution_count": 89,
      "outputs": [
        {
          "output_type": "stream",
          "name": "stdout",
          "text": [
            "(21000, 1) (7000, 1) (7000, 1)\n"
          ]
        }
      ]
    },
    {
      "cell_type": "code",
      "source": [
        "cc=list(set(x_tr['clean_categories'].values))\n",
        "print(cc)\n",
        "cc0=[]\n",
        "cc1=[]\n",
        "for i in cc:\n",
        "  count=0\n",
        "  total=0\n",
        "  for j in range(len(x_tr['clean_categories'])):\n",
        "    if x_tr['clean_categories'].values[j]==i:\n",
        "      total+=1\n",
        "      if y_tr.values[j]==0:\n",
        "        count+=1\n",
        "    else:\n",
        "      continue    \n",
        "  prob=count/total      \n",
        "  cc0.append((i,prob))\n",
        "  cc1.append((i,1-prob))"
      ],
      "metadata": {
        "colab": {
          "base_uri": "https://localhost:8080/"
        },
        "id": "c7dTv-T9Dky3",
        "outputId": "21ef41df-3712-48af-d93d-f5fa55b143cd"
      },
      "execution_count": 90,
      "outputs": [
        {
          "output_type": "stream",
          "name": "stdout",
          "text": [
            "['appliedlearning literacy_language', 'literacy_language appliedlearning', 'specialneeds', 'appliedlearning', 'history_civics specialneeds', 'history_civics math_science', 'math_science history_civics', 'music_arts appliedlearning', 'history_civics health_sports', 'health_sports specialneeds', 'music_arts', 'literacy_language health_sports', 'history_civics appliedlearning', 'math_science music_arts', 'specialneeds health_sports', 'math_science health_sports', 'math_science specialneeds', 'health_sports music_arts', 'music_arts health_sports', 'specialneeds music_arts', 'literacy_language music_arts', 'math_science appliedlearning', 'literacy_language history_civics', 'history_civics', 'history_civics literacy_language', 'appliedlearning health_sports', 'history_civics music_arts', 'health_sports literacy_language', 'appliedlearning history_civics', 'literacy_language specialneeds', 'appliedlearning math_science', 'music_arts specialneeds', 'math_science literacy_language', 'literacy_language', 'math_science', 'health_sports', 'appliedlearning music_arts', 'health_sports appliedlearning', 'health_sports history_civics', 'health_sports math_science', 'literacy_language math_science', 'appliedlearning specialneeds', 'music_arts history_civics']\n"
          ]
        }
      ]
    },
    {
      "cell_type": "code",
      "source": [
        "cc0=dict(cc0)\n",
        "cc1=dict(cc1)\n",
        "cc_p0_tr=[]\n",
        "cc_p1_tr=[]\n",
        "cc_p0_cv=[]\n",
        "cc_p1_cv=[]\n",
        "cc_p0_te=[]\n",
        "cc_p1_te=[]\n",
        "for i in range(len(x_tr)):\n",
        "  if x_tr['clean_categories'].values[i] in cc:\n",
        "    cc_p0_tr.append(cc0[x_tr['clean_categories'].values[i]])\n",
        "    cc_p1_tr.append(cc1[x_tr['clean_categories'].values[i]])\n",
        "for i in range(len(x_cv)):\n",
        "  if x_cv['clean_categories'].values[i] in cc:\n",
        "    cc_p0_cv.append(cc0[x_cv['clean_categories'].values[i]])\n",
        "    cc_p1_cv.append(cc1[x_cv['clean_categories'].values[i]])\n",
        "  else:\n",
        "    cc_p0_cv.append(0.5)\n",
        "    cc_p1_cv.append(0.5)   \n",
        "for i in range(len(x_te)):\n",
        "  if x_te['clean_categories'].values[i] in cc:\n",
        "    cc_p0_te.append(cc0[x_te['clean_categories'].values[i]])\n",
        "    cc_p1_te.append(cc1[x_te['clean_categories'].values[i]])\n",
        "  else:\n",
        "    cc_p0_te.append(0.5)\n",
        "    cc_p1_te.append(0.5) \n",
        "cc_p0_tr=np.array(cc_p0_tr).reshape(-1,1)\n",
        "cc_p1_tr=np.array(cc_p1_tr).reshape(-1,1)\n",
        "cc_p0_cv=np.array(cc_p0_cv).reshape(-1,1)\n",
        "cc_p1_cv=np.array(cc_p1_cv).reshape(-1,1)\n",
        "cc_p0_te=np.array(cc_p0_te).reshape(-1,1)\n",
        "cc_p1_te=np.array(cc_p1_te).reshape(-1,1)"
      ],
      "metadata": {
        "id": "X5A7nZYXEL7L"
      },
      "execution_count": 91,
      "outputs": []
    },
    {
      "cell_type": "code",
      "source": [
        "print(cc_p0_tr.shape,cc_p0_cv.shape,cc_p0_te.shape)"
      ],
      "metadata": {
        "colab": {
          "base_uri": "https://localhost:8080/"
        },
        "id": "km2XaVMREpdy",
        "outputId": "6500b2c3-a58b-4ec9-88d3-1db678f0a51c"
      },
      "execution_count": 92,
      "outputs": [
        {
          "output_type": "stream",
          "name": "stdout",
          "text": [
            "(21000, 1) (7000, 1) (7000, 1)\n"
          ]
        }
      ]
    },
    {
      "cell_type": "code",
      "source": [
        "csc=list(set(x_tr['clean_subcategories'].values))\n",
        "print(csc)\n",
        "csc0=[]\n",
        "csc1=[]\n",
        "for i in csc:\n",
        "  count=0\n",
        "  total=0\n",
        "  for j in range(len(x_tr['clean_subcategories'])):\n",
        "    if x_tr['clean_subcategories'].values[j]==i:\n",
        "      total+=1\n",
        "      if y_tr.values[j]==0:\n",
        "        count+=1\n",
        "    else:\n",
        "      continue    \n",
        "  prob=count/total      \n",
        "  csc0.append((i,prob))\n",
        "  csc1.append((i,1-prob))"
      ],
      "metadata": {
        "colab": {
          "base_uri": "https://localhost:8080/"
        },
        "id": "ndjOsI5CE0os",
        "outputId": "9b83100e-1a99-40fe-a7fa-0556e647b1f5"
      },
      "execution_count": 93,
      "outputs": [
        {
          "output_type": "stream",
          "name": "stdout",
          "text": [
            "['literacy mathematics', 'extracurricular visualarts', 'foreignlanguages socialsciences', 'visualarts', 'earlydevelopment health_wellness', 'literature_writing music', 'health_wellness performingarts', 'history_geography music', 'parentinvolvement socialsciences', 'health_wellness other', 'environmentalscience visualarts', 'civics_government financialliteracy', 'gym_fitness mathematics', 'foreignlanguages music', 'health_wellness literacy', 'earlydevelopment visualarts', 'college_careerprep gym_fitness', 'environmentalscience music', 'appliedsciences esl', 'history_geography', 'charactereducation performingarts', 'health_lifescience music', 'college_careerprep visualarts', 'nutritioneducation other', 'charactereducation visualarts', 'gym_fitness literature_writing', 'civics_government literacy', 'extracurricular other', 'health_lifescience socialsciences', 'appliedsciences college_careerprep', 'extracurricular literacy', 'earlydevelopment performingarts', 'civics_government economics', 'civics_government health_lifescience', 'appliedsciences socialsciences', 'literacy visualarts', 'performingarts teamsports', 'foreignlanguages visualarts', 'charactereducation parentinvolvement', 'foreignlanguages mathematics', 'mathematics music', 'charactereducation health_lifescience', 'literature_writing', 'extracurricular', 'literacy teamsports', 'appliedsciences nutritioneducation', 'communityservice earlydevelopment', 'appliedsciences', 'environmentalscience nutritioneducation', 'communityservice literature_writing', 'literature_writing other', 'college_careerprep economics', 'teamsports', 'communityservice specialneeds', 'financialliteracy specialneeds', 'music specialneeds', 'literature_writing mathematics', 'communityservice financialliteracy', 'performingarts specialneeds', 'civics_government', 'appliedsciences civics_government', 'history_geography literature_writing', 'specialneeds visualarts', 'health_wellness specialneeds', 'esl health_lifescience', 'literacy performingarts', 'extracurricular music', 'charactereducation history_geography', 'esl health_wellness', 'environmentalscience performingarts', 'charactereducation specialneeds', 'health_lifescience mathematics', 'appliedsciences communityservice', 'college_careerprep foreignlanguages', 'college_careerprep', 'college_careerprep environmentalscience', 'earlydevelopment', 'literature_writing performingarts', 'history_geography other', 'earlydevelopment foreignlanguages', 'mathematics parentinvolvement', 'earlydevelopment music', 'mathematics teamsports', 'college_careerprep literature_writing', 'performingarts', 'charactereducation health_wellness', 'specialneeds', 'college_careerprep parentinvolvement', 'financialliteracy mathematics', 'earlydevelopment literacy', 'economics literacy', 'socialsciences visualarts', 'communityservice visualarts', 'civics_government mathematics', 'literacy other', 'socialsciences', 'nutritioneducation', 'foreignlanguages specialneeds', 'mathematics visualarts', 'environmentalscience gym_fitness', 'extracurricular nutritioneducation', 'charactereducation civics_government', 'environmentalscience history_geography', 'parentinvolvement specialneeds', 'literacy literature_writing', 'earlydevelopment extracurricular', 'college_careerprep other', 'earlydevelopment mathematics', 'history_geography mathematics', 'civics_government health_wellness', 'history_geography visualarts', 'gym_fitness literacy', 'communityservice performingarts', 'college_careerprep music', 'communityservice health_wellness', 'nutritioneducation specialneeds', 'other parentinvolvement', 'appliedsciences environmentalscience', 'charactereducation literacy', 'esl history_geography', 'earlydevelopment history_geography', 'charactereducation music', 'extracurricular health_wellness', 'socialsciences specialneeds', 'environmentalscience health_wellness', 'financialliteracy', 'appliedsciences literature_writing', 'charactereducation extracurricular', 'environmentalscience foreignlanguages', 'music visualarts', 'appliedsciences other', 'esl financialliteracy', 'environmentalscience other', 'literacy parentinvolvement', 'appliedsciences gym_fitness', 'literacy specialneeds', 'earlydevelopment parentinvolvement', 'health_lifescience other', 'earlydevelopment literature_writing', 'college_careerprep health_lifescience', 'gym_fitness visualarts', 'music other', 'foreignlanguages history_geography', 'charactereducation other', 'college_careerprep earlydevelopment', 'history_geography literacy', 'appliedsciences literacy', 'charactereducation teamsports', 'gym_fitness other', 'esl earlydevelopment', 'gym_fitness teamsports', 'health_wellness nutritioneducation', 'environmentalscience literacy', 'foreignlanguages literature_writing', 'mathematics performingarts', 'extracurricular health_lifescience', 'mathematics other', 'extracurricular specialneeds', 'history_geography specialneeds', 'economics socialsciences', 'communityservice socialsciences', 'communityservice health_lifescience', 'literacy', 'appliedsciences earlydevelopment', 'health_wellness mathematics', 'environmentalscience specialneeds', 'charactereducation communityservice', 'other visualarts', 'nutritioneducation socialsciences', 'esl music', 'communityservice environmentalscience', 'communityservice history_geography', 'college_careerprep literacy', 'health_lifescience nutritioneducation', 'appliedsciences extracurricular', 'foreignlanguages literacy', 'civics_government socialsciences', 'charactereducation socialsciences', 'civics_government literature_writing', 'earlydevelopment environmentalscience', 'appliedsciences health_lifescience', 'health_lifescience literacy', 'gym_fitness history_geography', 'financialliteracy health_wellness', 'college_careerprep socialsciences', 'civics_government environmentalscience', 'esl literacy', 'music performingarts', 'economics financialliteracy', 'nutritioneducation teamsports', 'appliedsciences foreignlanguages', 'communityservice extracurricular', 'college_careerprep history_geography', 'extracurricular performingarts', 'earlydevelopment health_lifescience', 'extracurricular literature_writing', 'literature_writing visualarts', 'financialliteracy literacy', 'music', 'extracurricular mathematics', 'specialneeds teamsports', 'mathematics socialsciences', 'college_careerprep performingarts', 'charactereducation college_careerprep', 'esl specialneeds', 'esl other', 'esl socialsciences', 'communityservice', 'economics mathematics', 'civics_government communityservice', 'gym_fitness nutritioneducation', 'history_geography socialsciences', 'college_careerprep nutritioneducation', 'literacy music', 'charactereducation', 'esl literature_writing', 'appliedsciences teamsports', 'civics_government history_geography', 'literacy nutritioneducation', 'earlydevelopment specialneeds', 'literature_writing socialsciences', 'gym_fitness health_wellness', 'parentinvolvement visualarts', 'health_wellness socialsciences', 'health_wellness music', 'environmentalscience socialsciences', 'appliedsciences music', 'charactereducation earlydevelopment', 'charactereducation mathematics', 'appliedsciences health_wellness', 'health_lifescience health_wellness', 'mathematics', 'appliedsciences mathematics', 'extracurricular teamsports', 'health_wellness', 'college_careerprep health_wellness', 'communityservice literacy', 'health_lifescience literature_writing', 'other specialneeds', 'appliedsciences parentinvolvement', 'performingarts socialsciences', 'environmentalscience', 'foreignlanguages health_wellness', 'other', 'gym_fitness specialneeds', 'communityservice mathematics', 'esl visualarts', 'gym_fitness performingarts', 'economics history_geography', 'mathematics specialneeds', 'environmentalscience literature_writing', 'civics_government extracurricular', 'health_lifescience specialneeds', 'mathematics nutritioneducation', 'college_careerprep mathematics', 'charactereducation environmentalscience', 'gym_fitness music', 'college_careerprep specialneeds', 'earlydevelopment nutritioneducation', 'college_careerprep communityservice', 'communityservice parentinvolvement', 'economics', 'health_wellness visualarts', 'health_lifescience', 'environmentalscience parentinvolvement', 'charactereducation esl', 'teamsports visualarts', 'civics_government esl', 'esl foreignlanguages', 'performingarts visualarts', 'esl mathematics', 'music teamsports', 'earlydevelopment gym_fitness', 'health_wellness teamsports', 'communityservice other', 'nutritioneducation visualarts', 'charactereducation literature_writing', 'health_lifescience history_geography', 'earlydevelopment teamsports', 'health_lifescience visualarts', 'gym_fitness health_lifescience', 'environmentalscience mathematics', 'appliedsciences visualarts', 'college_careerprep extracurricular', 'earlydevelopment other', 'music socialsciences', 'gym_fitness', 'literature_writing parentinvolvement', 'esl', 'earlydevelopment socialsciences', 'health_lifescience parentinvolvement', 'appliedsciences specialneeds', 'environmentalscience health_lifescience', 'civics_government visualarts', 'literature_writing teamsports', 'economics other', 'literacy socialsciences', 'college_careerprep esl', 'foreignlanguages', 'health_wellness history_geography', 'appliedsciences charactereducation', 'appliedsciences history_geography', 'parentinvolvement', 'esl performingarts', 'esl environmentalscience', 'esl nutritioneducation', 'environmentalscience extracurricular', 'history_geography performingarts', 'health_wellness literature_writing', 'college_careerprep financialliteracy', 'economics literature_writing', 'civics_government specialneeds', 'charactereducation gym_fitness', 'literature_writing specialneeds', 'extracurricular history_geography', 'college_careerprep teamsports']\n"
          ]
        }
      ]
    },
    {
      "cell_type": "code",
      "source": [
        "csc0=dict(csc0)\n",
        "csc1=dict(csc1)\n",
        "csc_p0_tr=[]\n",
        "csc_p1_tr=[]\n",
        "csc_p0_cv=[]\n",
        "csc_p1_cv=[]\n",
        "csc_p0_te=[]\n",
        "csc_p1_te=[]\n",
        "for i in range(len(x_tr)):\n",
        "  if x_tr['clean_subcategories'].values[i] in csc:\n",
        "    csc_p0_tr.append(csc0[x_tr['clean_subcategories'].values[i]])\n",
        "    csc_p1_tr.append(csc1[x_tr['clean_subcategories'].values[i]])\n",
        "for i in range(len(x_cv)):\n",
        "  if x_cv['clean_subcategories'].values[i] in csc:\n",
        "    csc_p0_cv.append(csc0[x_cv['clean_subcategories'].values[i]])\n",
        "    csc_p1_cv.append(csc1[x_cv['clean_subcategories'].values[i]])\n",
        "  else:\n",
        "    csc_p0_cv.append(0.5)\n",
        "    csc_p1_cv.append(0.5)   \n",
        "for i in range(len(x_te)):\n",
        "  if x_te['clean_subcategories'].values[i] in csc:\n",
        "    csc_p0_te.append(csc0[x_te['clean_subcategories'].values[i]])\n",
        "    csc_p1_te.append(csc1[x_te['clean_subcategories'].values[i]])\n",
        "  else:\n",
        "    csc_p0_te.append(0.5)\n",
        "    csc_p1_te.append(0.5) \n",
        "csc_p0_tr=np.array(csc_p0_tr).reshape(-1,1)\n",
        "csc_p1_tr=np.array(csc_p1_tr).reshape(-1,1)\n",
        "csc_p0_cv=np.array(csc_p0_cv).reshape(-1,1)\n",
        "csc_p1_cv=np.array(csc_p1_cv).reshape(-1,1)\n",
        "csc_p0_te=np.array(csc_p0_te).reshape(-1,1)\n",
        "csc_p1_te=np.array(csc_p1_te).reshape(-1,1)"
      ],
      "metadata": {
        "id": "XUP8YvuoFWRi"
      },
      "execution_count": 94,
      "outputs": []
    },
    {
      "cell_type": "code",
      "source": [
        "print(csc_p0_tr.shape,csc_p0_cv.shape,csc_p0_te.shape)"
      ],
      "metadata": {
        "colab": {
          "base_uri": "https://localhost:8080/"
        },
        "id": "MV2x5M9uF6yC",
        "outputId": "5cec021a-62c0-46bf-9fe7-aabd29b5d3f1"
      },
      "execution_count": 95,
      "outputs": [
        {
          "output_type": "stream",
          "name": "stdout",
          "text": [
            "(21000, 1) (7000, 1) (7000, 1)\n"
          ]
        }
      ]
    },
    {
      "cell_type": "markdown",
      "source": [
        "# **Normalizing numerical features**"
      ],
      "metadata": {
        "id": "yn-fWoTRLg_3"
      }
    },
    {
      "cell_type": "code",
      "source": [
        "scaler=MinMaxScaler()\n",
        "tnppp_tr=scaler.fit_transform(x_tr['teacher_number_of_previously_posted_projects'].values.reshape(-1,1))\n",
        "tnppp_cv=scaler.fit_transform(x_cv['teacher_number_of_previously_posted_projects'].values.reshape(-1,1))\n",
        "tnppp_te=scaler.fit_transform(x_te['teacher_number_of_previously_posted_projects'].values.reshape(-1,1))\n",
        "print(tnppp_tr.shape,tnppp_cv.shape,tnppp_te.shape)"
      ],
      "metadata": {
        "colab": {
          "base_uri": "https://localhost:8080/"
        },
        "id": "h95bQYrEglEX",
        "outputId": "e6631748-6fb7-43c6-a8d5-56eb88614b2f"
      },
      "execution_count": 96,
      "outputs": [
        {
          "output_type": "stream",
          "name": "stdout",
          "text": [
            "(21000, 1) (7000, 1) (7000, 1)\n"
          ]
        }
      ]
    },
    {
      "cell_type": "code",
      "source": [
        "price_tr=scaler.fit_transform(x_tr['price'].values.reshape(-1,1))\n",
        "price_cv=scaler.fit_transform(x_cv['price'].values.reshape(-1,1))\n",
        "price_te=scaler.fit_transform(x_te['price'].values.reshape(-1,1))\n",
        "print(price_tr.shape,price_cv.shape,price_te.shape)"
      ],
      "metadata": {
        "colab": {
          "base_uri": "https://localhost:8080/"
        },
        "id": "XIg9EZ2QhkMM",
        "outputId": "d507e956-eb08-45ba-fc86-02add5192f1b"
      },
      "execution_count": 97,
      "outputs": [
        {
          "output_type": "stream",
          "name": "stdout",
          "text": [
            "(21000, 1) (7000, 1) (7000, 1)\n"
          ]
        }
      ]
    },
    {
      "cell_type": "code",
      "source": [
        "print(tfidf_tr.shape)\n",
        "print(x_tr.columns)"
      ],
      "metadata": {
        "colab": {
          "base_uri": "https://localhost:8080/"
        },
        "id": "UaO6GjNniaQo",
        "outputId": "ae7ae5d5-0930-41af-ae75-38fecdedf6db"
      },
      "execution_count": 98,
      "outputs": [
        {
          "output_type": "stream",
          "name": "stdout",
          "text": [
            "(21000, 8538)\n",
            "Index(['school_state', 'teacher_prefix', 'project_grade_category',\n",
            "       'teacher_number_of_previously_posted_projects', 'clean_categories',\n",
            "       'clean_subcategories', 'essay', 'price', 'neg', 'pos', 'neu',\n",
            "       'compound'],\n",
            "      dtype='object')\n"
          ]
        }
      ]
    },
    {
      "cell_type": "code",
      "source": [
        "neg_tr=x_tr['neg'].values.reshape(-1,1)\n",
        "pos_tr=x_tr['pos'].values.reshape(-1,1)\n",
        "neu_tr=x_tr['neu'].values.reshape(-1,1)\n",
        "com_tr=x_tr['compound'].values.reshape(-1,1)\n",
        "neg_cv=x_cv['neg'].values.reshape(-1,1)\n",
        "pos_cv=x_cv['pos'].values.reshape(-1,1)\n",
        "neu_cv=x_cv['neu'].values.reshape(-1,1)\n",
        "com_cv=x_cv['compound'].values.reshape(-1,1)\n",
        "neg_te=x_te['neg'].values.reshape(-1,1)\n",
        "pos_te=x_te['pos'].values.reshape(-1,1)\n",
        "neu_te=x_te['neu'].values.reshape(-1,1)\n",
        "com_te=x_te['compound'].values.reshape(-1,1)"
      ],
      "metadata": {
        "id": "04rUB3rOlR8t"
      },
      "execution_count": 99,
      "outputs": []
    },
    {
      "cell_type": "markdown",
      "source": [
        "# **Stacking all encoded features**"
      ],
      "metadata": {
        "id": "mPmTBlTYLvxH"
      }
    },
    {
      "cell_type": "code",
      "source": [
        "set1_tr=hstack((tfidf_tr,ss_p0_tr,ss_p1_tr,tp_p0_tr,tp_p1_tr,pgc_p0_tr,pgc_p1_tr,cc_p0_tr,cc_p1_tr,csc_p0_tr,csc_p1_tr,tnppp_tr,price_tr,neg_tr,pos_tr,neu_tr,com_tr)).tocsr()\n",
        "set1_cv=hstack((tfidf_cv,ss_p0_cv,ss_p1_cv,tp_p0_cv,tp_p1_cv,pgc_p0_cv,pgc_p1_cv,cc_p0_cv,cc_p1_cv,csc_p0_cv,csc_p1_cv,tnppp_cv,price_cv,neg_cv,pos_cv,neu_cv,com_cv)).tocsr()\n",
        "set1_te=hstack((tfidf_te,ss_p0_te,ss_p1_te,tp_p0_te,tp_p1_te,pgc_p0_te,pgc_p1_te,cc_p0_te,cc_p1_te,csc_p0_te,csc_p1_te,tnppp_te,price_te,neg_te,pos_te,neu_te,com_te)).tocsr()\n",
        "print(set1_tr.shape,set1_cv.shape,set1_te.shape)"
      ],
      "metadata": {
        "colab": {
          "base_uri": "https://localhost:8080/"
        },
        "id": "5-oBCdduiGq8",
        "outputId": "a8683e00-d6ae-447a-f7e5-b7d3159ebd5e"
      },
      "execution_count": 100,
      "outputs": [
        {
          "output_type": "stream",
          "name": "stdout",
          "text": [
            "(21000, 8554) (7000, 8554) (7000, 8554)\n"
          ]
        }
      ]
    },
    {
      "cell_type": "code",
      "source": [
        "print(tfw2v_tr.shape)"
      ],
      "metadata": {
        "colab": {
          "base_uri": "https://localhost:8080/"
        },
        "id": "V4GD7wlqmLE_",
        "outputId": "1a57704e-a423-4bce-be0d-dfb0c419625b"
      },
      "execution_count": 101,
      "outputs": [
        {
          "output_type": "stream",
          "name": "stdout",
          "text": [
            "(21000, 300)\n"
          ]
        }
      ]
    },
    {
      "cell_type": "code",
      "source": [
        "set2_tr=np.hstack((tfw2v_tr,ss_p0_tr,ss_p1_tr,tp_p0_tr,tp_p1_tr,pgc_p0_tr,pgc_p1_tr,cc_p0_tr,cc_p1_tr,csc_p0_tr,csc_p1_tr,tnppp_tr,price_tr,neg_tr,pos_tr,neu_tr,com_tr))\n",
        "set2_cv=np.hstack((tfw2v_cv,ss_p0_cv,ss_p1_cv,tp_p0_cv,tp_p1_cv,pgc_p0_cv,pgc_p1_cv,cc_p0_cv,cc_p1_cv,csc_p0_cv,csc_p1_cv,tnppp_cv,price_cv,neg_cv,pos_cv,neu_cv,com_cv))\n",
        "set2_te=np.hstack((tfw2v_te,ss_p0_te,ss_p1_te,tp_p0_te,tp_p1_te,pgc_p0_te,pgc_p1_te,cc_p0_te,cc_p1_te,csc_p0_te,csc_p1_te,tnppp_te,price_te,neg_te,pos_te,neu_te,com_te))\n",
        "print(set2_tr.shape,set2_cv.shape,set2_te.shape)"
      ],
      "metadata": {
        "colab": {
          "base_uri": "https://localhost:8080/"
        },
        "id": "Vky2fk_xkVxe",
        "outputId": "e32eaf89-bac9-4c4d-c384-4846c22bc8f4"
      },
      "execution_count": 114,
      "outputs": [
        {
          "output_type": "stream",
          "name": "stdout",
          "text": [
            "(21000, 316) (7000, 316) (7000, 316)\n"
          ]
        }
      ]
    },
    {
      "cell_type": "markdown",
      "source": [
        "# **SET 1**"
      ],
      "metadata": {
        "id": "t9zykCMaL4Gf"
      }
    },
    {
      "cell_type": "code",
      "source": [
        "clf=GradientBoostingClassifier(random_state=1)\n",
        "max_depth=[1,3,10,20]\n",
        "n_estimators=[5,10,15,20]\n",
        "auc_tr=[]\n",
        "auc_cv=[]\n",
        "for i in max_depth:\n",
        "  for j in n_estimators:\n",
        "    clf=GradientBoostingClassifier(max_depth=i,n_estimators=j)\n",
        "    clf.fit(set1_tr,y_tr)\n",
        "    y_pred_tr=clf.predict(set1_tr)\n",
        "    y_pred_cv=clf.predict(set1_cv)\n",
        "    auc_tr.append(roc_auc_score(y_tr,y_pred_tr))\n",
        "    auc_cv.append(roc_auc_score(y_cv,y_pred_cv))"
      ],
      "metadata": {
        "id": "ReTBAh7ymJm5"
      },
      "execution_count": 104,
      "outputs": []
    },
    {
      "cell_type": "code",
      "source": [
        "x1 = [1,1,1,1,3,3,3,3,10,10,10,10,20,20,20,20]\n",
        "y1 = [5,10,15,20,5,10,15,20,5,10,15,20,5,10,15,20]\n",
        "z1 = auc_tr\n",
        "x2= [1,1,1,1,3,3,3,3,10,10,10,10,20,20,20,20]\n",
        "y2 = [5,10,15,20,5,10,15,20,5,10,15,20,5,10,15,20]\n",
        "z2 = auc_cv"
      ],
      "metadata": {
        "id": "E3akO1wYt0CE"
      },
      "execution_count": 105,
      "outputs": []
    },
    {
      "cell_type": "code",
      "source": [
        "data1=pd.DataFrame(data={'x':x1,'y':y1,'z':z1})\n",
        "data1=data1.pivot(index='x',columns='y',values='z')\n",
        "data2=pd.DataFrame(data={'x':x2,'y':y2,'z':z2})\n",
        "data2=data2.pivot(index='x',columns='y',values='z')\n",
        "plt.figure(figsize=(20,6))\n",
        "plt.subplot(1,2,1)\n",
        "plt.title('Heatmap of Train data')\n",
        "sn.heatmap(data1,annot=True)\n",
        "plt.subplot(1,2,2)\n",
        "plt.title('Heatmap of CV data')\n",
        "sn.heatmap(data2,annot=True)\n",
        "plt.show()"
      ],
      "metadata": {
        "colab": {
          "base_uri": "https://localhost:8080/",
          "height": 404
        },
        "id": "8BjcJ7qrx9JL",
        "outputId": "65473820-16d6-42e9-a27e-f9d72e88053d"
      },
      "execution_count": 106,
      "outputs": [
        {
          "output_type": "display_data",
          "data": {
            "image/png": "[encoded data removed]",
            "text/plain": [
              "<Figure size 1440x432 with 4 Axes>"
            ]
          },
          "metadata": {
            "needs_background": "light"
          }
        }
      ]
    },
    {
      "cell_type": "code",
      "source": [
        "print(auc_cv)\n",
        "best_clf1=GradientBoostingClassifier(n_estimators=10,max_depth=3,random_state=1)"
      ],
      "metadata": {
        "colab": {
          "base_uri": "https://localhost:8080/"
        },
        "id": "OMUqdGmzuebr",
        "outputId": "2b61c932-ef1b-48db-8dd5-6a740d7e2a08"
      },
      "execution_count": 110,
      "outputs": [
        {
          "output_type": "stream",
          "name": "stdout",
          "text": [
            "[0.5, 0.5, 0.5, 0.5, 0.5, 0.5, 0.5008423388642458, 0.5015157873383548, 0.5010523953086977, 0.5070680393484869, 0.5122044046425918, 0.5125379592499889, 0.5060177571262274, 0.5135534146772479, 0.5139323615118366, 0.5170895474379297]\n"
          ]
        }
      ]
    },
    {
      "cell_type": "code",
      "source": [
        "best_clf1.fit(set1_tr,y_tr)\n",
        "train_prob=list(best_clf1.predict_proba(set1_tr)[:,1])\n",
        "test_prob=list(best_clf1.predict_proba(set1_te)[:,1])\n",
        "train_fpr,train_tpr,threshold=roc_curve(y_tr,train_prob)\n",
        "test_fpr,test_tpr,threshold=roc_curve(y_te,test_prob)\n",
        "plt.plot(train_fpr,train_tpr,label='train roc')\n",
        "plt.plot(test_fpr,test_tpr,label='test roc')\n",
        "plt.xlabel('FPRs')\n",
        "plt.ylabel('TPRs')\n",
        "plt.legend()\n",
        "plt.title('Train and Test ROC Curve')\n",
        "plt.show()"
      ],
      "metadata": {
        "colab": {
          "base_uri": "https://localhost:8080/",
          "height": 294
        },
        "id": "dMrAi_DKf8Cm",
        "outputId": "694408f9-3fda-466b-9144-271150a725fe"
      },
      "execution_count": 111,
      "outputs": [
        {
          "output_type": "display_data",
          "data": {
            "image/png": "[encoded data removed]",
            "text/plain": [
              "<Figure size 432x288 with 1 Axes>"
            ]
          },
          "metadata": {
            "needs_background": "light"
          }
        }
      ]
    },
    {
      "cell_type": "code",
      "source": [
        "plot_confusion_matrix(best_clf1,set1_te,y_te) \n",
        "plt.show()"
      ],
      "metadata": {
        "colab": {
          "base_uri": "https://localhost:8080/",
          "height": 278
        },
        "id": "_UL_7Wa0ksIy",
        "outputId": "81d591b3-1bf2-4de4-a4ab-42530c225047"
      },
      "execution_count": 112,
      "outputs": [
        {
          "output_type": "display_data",
          "data": {
            "image/png": "[encoded data removed]",
            "text/plain": [
              "<Figure size 432x288 with 2 Axes>"
            ]
          },
          "metadata": {
            "needs_background": "light"
          }
        }
      ]
    },
    {
      "cell_type": "markdown",
      "source": [
        "# **SET 2**"
      ],
      "metadata": {
        "id": "IY_-nthFL9We"
      }
    },
    {
      "cell_type": "code",
      "source": [
        "auc_tr=[]\n",
        "auc_cv=[]\n",
        "for i in max_depth:\n",
        "  for j in n_estimators:\n",
        "    clf=GradientBoostingClassifier(max_depth=i,n_estimators=j)\n",
        "    clf.fit(set2_tr,y_tr)\n",
        "    y_pred_tr=clf.predict(set2_tr)\n",
        "    y_pred_cv=clf.predict(set2_cv)\n",
        "    auc_tr.append(roc_auc_score(y_tr,y_pred_tr))\n",
        "    auc_cv.append(roc_auc_score(y_cv,y_pred_cv))"
      ],
      "metadata": {
        "id": "TjYdaBVylhIW"
      },
      "execution_count": 115,
      "outputs": []
    },
    {
      "cell_type": "code",
      "source": [
        "x1 = [1,1,1,1,3,3,3,3,10,10,10,10,20,20,20,20]\n",
        "y1 = [5,10,15,20,5,10,15,20,5,10,15,20,5,10,15,20]\n",
        "z1 = auc_tr\n",
        "x2= [1,1,1,1,3,3,3,3,10,10,10,10,20,20,20,20]\n",
        "y2 = [5,10,15,20,5,10,15,20,5,10,15,20,5,10,15,20]\n",
        "z2 = auc_cv"
      ],
      "metadata": {
        "id": "zKyY4AzxrIbb"
      },
      "execution_count": 116,
      "outputs": []
    },
    {
      "cell_type": "code",
      "source": [
        "data1=pd.DataFrame(data={'x':x1,'y':y1,'z':z1})\n",
        "data1=data1.pivot(index='x',columns='y',values='z')\n",
        "data2=pd.DataFrame(data={'x':x2,'y':y2,'z':z2})\n",
        "data2=data2.pivot(index='x',columns='y',values='z')\n",
        "plt.figure(figsize=(20,6))\n",
        "plt.subplot(1,2,1)\n",
        "plt.title('Heatmap of Train data')\n",
        "sn.heatmap(data1,annot=True)\n",
        "plt.subplot(1,2,2)\n",
        "plt.title('Heatmap of CV data')\n",
        "sn.heatmap(data2,annot=True)\n",
        "plt.show()"
      ],
      "metadata": {
        "colab": {
          "base_uri": "https://localhost:8080/",
          "height": 404
        },
        "id": "5JFlxMqArSGS",
        "outputId": "ecc118f7-03b0-4ad9-f0d5-d5d8a837a50e"
      },
      "execution_count": 117,
      "outputs": [
        {
          "output_type": "display_data",
          "data": {
            "image/png": "[encoded data removed]",
            "text/plain": [
              "<Figure size 1440x432 with 4 Axes>"
            ]
          },
          "metadata": {
            "needs_background": "light"
          }
        }
      ]
    },
    {
      "cell_type": "code",
      "source": [
        "print(auc_cv)"
      ],
      "metadata": {
        "colab": {
          "base_uri": "https://localhost:8080/"
        },
        "id": "awkxaWfPrwO7",
        "outputId": "9f300549-fe23-4cb6-dde9-404d1a5412ff"
      },
      "execution_count": 118,
      "outputs": [
        {
          "output_type": "stream",
          "name": "stdout",
          "text": [
            "[0.5, 0.5, 0.5, 0.5, 0.5, 0.5, 0.5, 0.4999155548049316, 0.5010523953086977, 0.5029429033087647, 0.5102252252745799, 0.5130446304203993, 0.5023950660840392, 0.5102685044153332, 0.506938201926227, 0.5075683712595827]\n"
          ]
        }
      ]
    },
    {
      "cell_type": "code",
      "source": [
        "best_clf2=GradientBoostingClassifier(n_estimators=20,max_depth=3,random_state=1)\n",
        "best_clf2.fit(set2_tr,y_tr)\n",
        "train_prob=list(best_clf2.predict_proba(set2_tr)[:,1])\n",
        "test_prob=list(best_clf2.predict_proba(set2_te)[:,1])\n",
        "train_fpr,train_tpr,threshold=roc_curve(y_tr,train_prob)\n",
        "test_fpr,test_tpr,threshold=roc_curve(y_te,test_prob)\n",
        "plt.plot(train_fpr,train_tpr,label='train roc')\n",
        "plt.plot(test_fpr,test_tpr,label='test roc')\n",
        "plt.xlabel('FPRs')\n",
        "plt.ylabel('TPRs')\n",
        "plt.legend()\n",
        "plt.title('Train and Test ROC Curve')\n",
        "plt.show()"
      ],
      "metadata": {
        "colab": {
          "base_uri": "https://localhost:8080/",
          "height": 294
        },
        "id": "ThTLfj8QPRFO",
        "outputId": "8c6b2e0a-6929-4fbe-9efa-cc8934fda80e"
      },
      "execution_count": 120,
      "outputs": [
        {
          "output_type": "display_data",
          "data": {
            "image/png": "[encoded data removed]",
            "text/plain": [
              "<Figure size 432x288 with 1 Axes>"
            ]
          },
          "metadata": {
            "needs_background": "light"
          }
        }
      ]
    },
    {
      "cell_type": "code",
      "source": [
        "plot_confusion_matrix(best_clf2,set2_te,y_te) \n",
        "plt.show()"
      ],
      "metadata": {
        "colab": {
          "base_uri": "https://localhost:8080/",
          "height": 278
        },
        "id": "cG70Y_FnuO6P",
        "outputId": "708ebe52-bfef-4a37-aae7-03aa1444353b"
      },
      "execution_count": 121,
      "outputs": [
        {
          "output_type": "display_data",
          "data": {
            "image/png": "[encoded data removed]",
            "text/plain": [
              "<Figure size 432x288 with 2 Axes>"
            ]
          },
          "metadata": {
            "needs_background": "light"
          }
        }
      ]
    },
    {
      "cell_type": "code",
      "source": [
        "y_pred1=best_clf1.predict(set1_te)\n",
        "auc1=roc_auc_score(y_te,y_pred1)\n",
        "y_pred2=best_clf2.predict(set2_te)\n",
        "auc2=roc_auc_score(y_te,y_pred2)"
      ],
      "metadata": {
        "id": "jB9oW7a4JaMm"
      },
      "execution_count": 122,
      "outputs": []
    },
    {
      "cell_type": "code",
      "source": [
        "print(best_clf1.get_params(),best_clf2.get_params())"
      ],
      "metadata": {
        "colab": {
          "base_uri": "https://localhost:8080/"
        },
        "id": "SUR5jv87KC3v",
        "outputId": "fbe457b9-98a1-4dae-cb5a-90b1e40baf0c"
      },
      "execution_count": 125,
      "outputs": [
        {
          "output_type": "stream",
          "name": "stdout",
          "text": [
            "{'ccp_alpha': 0.0, 'criterion': 'friedman_mse', 'init': None, 'learning_rate': 0.1, 'loss': 'deviance', 'max_depth': 3, 'max_features': None, 'max_leaf_nodes': None, 'min_impurity_decrease': 0.0, 'min_samples_leaf': 1, 'min_samples_split': 2, 'min_weight_fraction_leaf': 0.0, 'n_estimators': 10, 'n_iter_no_change': None, 'random_state': 1, 'subsample': 1.0, 'tol': 0.0001, 'validation_fraction': 0.1, 'verbose': 0, 'warm_start': False} {'ccp_alpha': 0.0, 'criterion': 'friedman_mse', 'init': None, 'learning_rate': 0.1, 'loss': 'deviance', 'max_depth': 3, 'max_features': None, 'max_leaf_nodes': None, 'min_impurity_decrease': 0.0, 'min_samples_leaf': 1, 'min_samples_split': 2, 'min_weight_fraction_leaf': 0.0, 'n_estimators': 20, 'n_iter_no_change': None, 'random_state': 1, 'subsample': 1.0, 'tol': 0.0001, 'validation_fraction': 0.1, 'verbose': 0, 'warm_start': False}\n"
          ]
        }
      ]
    },
    {
      "cell_type": "markdown",
      "source": [
        "# **Conclusion:**"
      ],
      "metadata": {
        "id": "ZXMVjwltMB4b"
      }
    },
    {
      "cell_type": "code",
      "source": [
        "t=[['TFIDF','Gradient Boosting Classifier','3','10',auc1],\n",
        "   ['TFIDF Word2Vec','Gradient Boosting Classifier','3','20',auc2]]\n",
        "print(tabulate(t,headers=['Vectorizer','Model','max_depth','n_estimators','AUC Score']))"
      ],
      "metadata": {
        "colab": {
          "base_uri": "https://localhost:8080/"
        },
        "id": "VAVnHMXIImYU",
        "outputId": "09c0f12e-7059-4437-cf1e-aff90b6101d7"
      },
      "execution_count": 127,
      "outputs": [
        {
          "output_type": "stream",
          "name": "stdout",
          "text": [
            "Vectorizer      Model                           max_depth    n_estimators    AUC Score\n",
            "--------------  ----------------------------  -----------  --------------  -----------\n",
            "TFIDF           Gradient Boosting Classifier            3              10          0.5\n",
            "TFIDF Word2Vec  Gradient Boosting Classifier            3              20          0.5\n"
          ]
        }
      ]
    }
  ]
}