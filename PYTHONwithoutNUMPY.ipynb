{
  "nbformat": 4,
  "nbformat_minor": 0,
  "metadata": {
    "colab": {
      "name": "MandAssignment1.ipynb",
      "provenance": [],
      "collapsed_sections": []
    },
    "kernelspec": {
      "name": "python3",
      "display_name": "Python 3"
    },
    "language_info": {
      "name": "python"
    }
  },
  "cells": [
    {
      "cell_type": "markdown",
      "metadata": {
        "id": "jfpvPpA3CRBd"
      },
      "source": [
        "**1.** Program for multiplication of two matrices."
      ]
    },
    {
      "cell_type": "code",
      "metadata": {
        "colab": {
          "base_uri": "https://localhost:8080/"
        },
        "id": "rehJ0wahCIPT",
        "outputId": "f0bee05b-d040-4d27-c462-16f8355e26a8"
      },
      "source": [
        "def mul_matrix(a,b):    #function to multiply given matrices\n",
        "    res=[]    #creating an empty list to store result\n",
        "    for i in range(len(a)):    #creating a matrix to store result    \n",
        "        row=[]\n",
        "        for j in range(len(b[0])):    \n",
        "            row.append(0)\n",
        "        res.append(row)\n",
        "    if len(a)==len(b[0]):    #checking whether number of columns of a is equals to number of rows of b \n",
        "        for i in range(len(a)):    #if yes perform multiplication\n",
        "            for j in range(len(b[0])):\n",
        "                for k in range(len(a)):\n",
        "                    res[i][j]+=a[i][k]*b[k][j]\n",
        "        for ele in res:\n",
        "            print(ele)            \n",
        "    else:    #if number of columns of a is not equals to number of rows of b then print appropriate message\n",
        "        print(\"Multiplication is not possible\")\n",
        "a=[[1,3,4],[2,5,7],[5,9,6]]\n",
        "b=[[1,0,0],[0,1,0],[0,0,1]]\n",
        "mul_matrix(a,b)  "
      ],
      "execution_count": null,
      "outputs": [
        {
          "output_type": "stream",
          "name": "stdout",
          "text": [
            "[1, 3, 4]\n",
            "[2, 5, 7]\n",
            "[5, 9, 6]\n"
          ]
        }
      ]
    },
    {
      "cell_type": "markdown",
      "metadata": {
        "id": "diwTdwZrVrGi"
      },
      "source": [
        "**2.** Program to print numbers from a list, proportional to their magnitude."
      ]
    },
    {
      "cell_type": "code",
      "metadata": {
        "id": "ZCT-XWX-iEYN",
        "colab": {
          "base_uri": "https://localhost:8080/"
        },
        "outputId": "0d6ee749-f6f5-4494-947e-5e66f6bc6571"
      },
      "source": [
        "from random import uniform\n",
        "def picking(a):   #function to pick number randomly according to magnitude\n",
        "    sum=0\n",
        "    for i in range(len(a)): \n",
        "        #calculating sum of all elements\n",
        "        sum+=a[i]\n",
        "    normalised=[]\n",
        "    for j in range(len(a)):\n",
        "        normalised.append((a[j]/sum)) #normalising each element and creating a new list\n",
        "    cumulated=[]\n",
        "    cumulated.append(normalised[0])\n",
        "    for k in range(1,len(a)):\n",
        "        cumulated.append(cumulated[k-1]+normalised[k])   #calculating cumulative nomalised sum\n",
        "    rnum=uniform(0,1)    #picking a random number from range 0 to 1 uniformly\n",
        "    number=0\n",
        "    for l in range(len(a)):\n",
        "        if rnum<=cumulated[l]:    #comparing random number with cumulative normalised sum\n",
        "            number=a[l]\n",
        "            break\n",
        "    return number        \n",
        "def sampling_based_on_magnitude(a):    #function to print numbers from given list according to probability proportional to their magnitude 100 times \n",
        "    for i in range(0,100):\n",
        "        sample=picking(a) \n",
        "        print(sample)       \n",
        "a=[0,5,27,6,13,28,100,45,10,79]\n",
        "sampling_based_on_magnitude(a)        "
      ],
      "execution_count": null,
      "outputs": [
        {
          "output_type": "stream",
          "name": "stdout",
          "text": [
            "10\n",
            "100\n",
            "100\n",
            "79\n",
            "100\n",
            "79\n",
            "45\n",
            "10\n",
            "79\n",
            "79\n",
            "27\n",
            "100\n",
            "100\n",
            "27\n",
            "100\n",
            "13\n",
            "79\n",
            "10\n",
            "100\n",
            "79\n",
            "100\n",
            "28\n",
            "100\n",
            "79\n",
            "79\n",
            "27\n",
            "45\n",
            "100\n",
            "45\n",
            "27\n",
            "100\n",
            "79\n",
            "5\n",
            "45\n",
            "28\n",
            "28\n",
            "100\n",
            "100\n",
            "45\n",
            "79\n",
            "28\n",
            "79\n",
            "5\n",
            "28\n",
            "28\n",
            "100\n",
            "79\n",
            "45\n",
            "45\n",
            "79\n",
            "79\n",
            "79\n",
            "45\n",
            "45\n",
            "79\n",
            "100\n",
            "79\n",
            "79\n",
            "100\n",
            "10\n",
            "45\n",
            "79\n",
            "79\n",
            "100\n",
            "100\n",
            "100\n",
            "45\n",
            "100\n",
            "100\n",
            "79\n",
            "79\n",
            "79\n",
            "27\n",
            "45\n",
            "28\n",
            "28\n",
            "79\n",
            "45\n",
            "79\n",
            "27\n",
            "79\n",
            "100\n",
            "79\n",
            "100\n",
            "10\n",
            "79\n",
            "28\n",
            "27\n",
            "79\n",
            "79\n",
            "79\n",
            "100\n",
            "45\n",
            "100\n",
            "100\n",
            "45\n",
            "100\n",
            "100\n",
            "79\n",
            "45\n"
          ]
        }
      ]
    },
    {
      "cell_type": "markdown",
      "metadata": {
        "id": "V_g0NB6gWIK_"
      },
      "source": [
        "**3.** Program to print # in place of digits in a given string."
      ]
    },
    {
      "cell_type": "code",
      "metadata": {
        "colab": {
          "base_uri": "https://localhost:8080/"
        },
        "id": "BDYYV84afOy2",
        "outputId": "6ea00861-05cd-4279-ef0e-c2b1114bbed4"
      },
      "source": [
        "def digit2hash(a):    #This function print hashes same as the number of digits in the given string\n",
        "    b=[]\n",
        "    for i in a:\n",
        "        if i.isdigit():    #comparing string element if it is a digit or not\n",
        "            b.append('#')  \n",
        "    print(*b)    #printing all elements of list without quotes('')    \n",
        "a='a2b3c4'\n",
        "digit2hash(a)"
      ],
      "execution_count": null,
      "outputs": [
        {
          "output_type": "stream",
          "name": "stdout",
          "text": [
            "# # #\n"
          ]
        }
      ]
    },
    {
      "cell_type": "markdown",
      "metadata": {
        "id": "_WFJmVt1Ws6T"
      },
      "source": [
        "**4.** Program to create students dashboard."
      ]
    },
    {
      "cell_type": "code",
      "metadata": {
        "id": "Z4tOiojpMh17",
        "colab": {
          "base_uri": "https://localhost:8080/",
          "height": 0
        },
        "outputId": "58294198-a322-45cd-aa6b-30a3f66284a3"
      },
      "source": [
        "def student_dashboard(students,marks):    #function to display student dashboard\n",
        "    top5=[]\n",
        "    l=[]\n",
        "    for i in range(len(students)):    #making pairs of students and marks\n",
        "        l.append((marks[i],students[i]))\n",
        "    top5=sorted(l,key=lambda x:x[0],reverse=True)    #sorting on the basis of marks\n",
        "    print('Top 5 highest scoring students :\\n')    #printing top 5 scoring students\n",
        "    for i in range(0,5):\n",
        "        print('{} got {}'.format(top5[i][1],top5[i][0]))\n",
        "    least5=[]\n",
        "    least5=sorted(l,key=lambda x:x[0])    #sorting in ascending order on the basis of marks\n",
        "    print('\\nLeast scoring 5 students :\\n')    #printing least scoring students\n",
        "    for i in range(0,5):\n",
        "        print('{} got {}'.format(least5[i][1],least5[i][0]))\n",
        "    ma=max(marks)    #calculating percentiles\n",
        "    mi=min(marks)\n",
        "    d=ma-mi\n",
        "    lim1=d*0.25\n",
        "    lim2=d*0.75\n",
        "    perc=[]\n",
        "    for i in l:     #storing elements which are in the range of 25 perc. and 75 perc. marks\n",
        "        if lim1<=i[0]<=lim2:\n",
        "            perc.append(i)\n",
        "    perc.sort(key=lambda x:x[0])    #sorting elements which are in the range of 25 and 75 perc.\n",
        "    print('\\nStudents got marks in the range of 25 percentile and 75 percentile :\\n')\n",
        "    for i in perc:    #printing students and marks in range 25 and 75 perc.\n",
        "        print('{} got {}'.format(i[1],i[0]))      \n",
        "Students =['student1','student2','student3','student4','student5','student6','student7','student8','student9','student10']\n",
        "Marks = [45, 78, 12, 14, 48, 43, 45, 98, 35, 80] \n",
        "student_dashboard(Students,Marks)   "
      ],
      "execution_count": 1,
      "outputs": [
        {
          "output_type": "stream",
          "name": "stdout",
          "text": [
            "Top 5 highest scoring students :\n",
            "\n",
            "student8 got 98\n",
            "student10 got 80\n",
            "student2 got 78\n",
            "student5 got 48\n",
            "student1 got 45\n",
            "\n",
            "Least scoring 5 students :\n",
            "\n",
            "student3 got 12\n",
            "student4 got 14\n",
            "student9 got 35\n",
            "student6 got 43\n",
            "student1 got 45\n",
            "\n",
            "Students got marks in the range of 25 percentile and 75 percentile :\n",
            "\n",
            "student9 got 35\n",
            "student6 got 43\n",
            "student1 got 45\n",
            "student7 got 45\n",
            "student5 got 48\n"
          ]
        }
      ]
    },
    {
      "cell_type": "markdown",
      "metadata": {
        "id": "YWek-oc8XemS"
      },
      "source": [
        "**5.** Program to print 5 closest points to a given point according to cosine distance."
      ]
    },
    {
      "cell_type": "code",
      "metadata": {
        "colab": {
          "base_uri": "https://localhost:8080/"
        },
        "id": "TPjY-BNn3szg",
        "outputId": "44cb6e47-9941-4e5f-fb96-a97bd387d33e"
      },
      "source": [
        "import math\n",
        "def cos_dist(x,y):    #function to calculate cosine distance between two points\n",
        "    num=(x[0]*y[0])+(x[1]*y[1])\n",
        "    deno=float(math.sqrt(x[0]**2+x[1]**2))*float(math.sqrt(y[0]**2+y[1]**2))\n",
        "    dist=math.acos(num/deno)\n",
        "    return dist\n",
        "def closest_points(p,s):    #function to give 5 closest points to the given point\n",
        "    l=[]\n",
        "    for i in s:\n",
        "        l.append((i,cos_dist(p,i)))\n",
        "    l.sort(key=lambda x:x[1])\n",
        "    for i in range(0,5):\n",
        "        print('{}, Distance={}'.format(l[i][0],l[i][1]))        \n",
        "a=[(1,2),(3,4),(-1,1),(6,-7),(0, 6),(-5,-8),(-1,-1),(6,0),(1,-1)]\n",
        "b=(3,-4)\n",
        "closest_points(b,a)"
      ],
      "execution_count": null,
      "outputs": [
        {
          "output_type": "stream",
          "name": "stdout",
          "text": [
            "(6, -7), Distance=0.06512516333438509\n",
            "(1, -1), Distance=0.14189705460416438\n",
            "(6, 0), Distance=0.9272952180016123\n",
            "(-5, -8), Distance=1.2021004241368467\n",
            "(-1, -1), Distance=1.4288992721907328\n"
          ]
        }
      ]
    },
    {
      "cell_type": "markdown",
      "metadata": {
        "id": "KOeZs_ApXz0w"
      },
      "source": [
        "**6.** Program to check if a line separates given lists of points."
      ]
    },
    {
      "cell_type": "code",
      "metadata": {
        "colab": {
          "base_uri": "https://localhost:8080/"
        },
        "id": "hCCDszS19EQo",
        "outputId": "5e3affb6-5dc9-4a47-cb0c-8dfed0c7c978"
      },
      "source": [
        "def sign(a,line):    #function to check if the dot product of point and line is negative or positive\n",
        "    sol=line.replace('x','*'+str(a[0]))    #replacing points co ordinates with variables\n",
        "    sol=sol.replace('y','*'+str(a[1]))\n",
        "    r=float(eval(sol))\n",
        "    if r<0:    #checking if evaluation is negative or positive and returning appropriate values\n",
        "        return -1\n",
        "    elif r==0:\n",
        "        return 0\n",
        "    else:\n",
        "        return 1\n",
        "def p_sep(red,blue,line):    #function to print 'yes' if it separates all points and 'no' if not\n",
        "    flag1=sign(red[0],line)    #checking what is the dot product of first point and line to compare it with remaining points in list\n",
        "    flag2=sign(blue[0],line)\n",
        "    for i in red:\n",
        "        if flag1!=sign(i,line):\n",
        "            return 'No'\n",
        "    for j in blue:\n",
        "        if flag2!=sign(j,line):\n",
        "            return 'No'\n",
        "    return 'Yes'\n",
        "Red=[(1,1),(2,1),(4,2),(2,4), (-1,4)]\n",
        "Blue= [(-2,-1),(-1,-2),(-3,-2),(-3,-1),(1,-3)]\n",
        "Lines=[\"1x+1y+0\",\"1x-1y+0\",\"1x+0y-3\",\"0x+1y-0.5\"]\n",
        "for i in Lines:\n",
        "    result=p_sep(Red,Blue,i)\n",
        "    print(result)  "
      ],
      "execution_count": null,
      "outputs": [
        {
          "output_type": "stream",
          "name": "stdout",
          "text": [
            "Yes\n",
            "No\n",
            "No\n",
            "Yes\n"
          ]
        }
      ]
    },
    {
      "cell_type": "markdown",
      "metadata": {
        "id": "A6aOO3C8YLT7"
      },
      "source": [
        "**7.** Program to fill the blanks in specified format."
      ]
    },
    {
      "cell_type": "code",
      "metadata": {
        "colab": {
          "base_uri": "https://localhost:8080/"
        },
        "id": "q-2dX4yY8oY3",
        "outputId": "abb0712f-142f-4dc1-942a-8940c7e611f2"
      },
      "source": [
        "def fillblanks(a):    #function to fill the blanks\n",
        "    a=a.split(',')    #conveting string into list\n",
        "    count=0\n",
        "    for i in range(0,len(a)):    #counting blanks left to the number \n",
        "        if a[i]=='_':\n",
        "            count+=1\n",
        "        else:\n",
        "            break\n",
        "    value=(int(a[i])/(count+1))    #calculating value to be filled\n",
        "    for j in range(0,i+1):    #filling the value in blanks    \n",
        "        a[j]=value\n",
        "    count=0\n",
        "    for k in range(i+1,len(a)):    #counting blanks in the middle\n",
        "        if a[k]=='_':\n",
        "            count+=1\n",
        "        else:\n",
        "            break        \n",
        "    value=(int(a[i])+int(a[k]))/(count+2)    #calculating value to be filled\n",
        "    for l in range(i,k+1):    #filling the value in middle blanks\n",
        "        a[l]=value\n",
        "    count=0\n",
        "    for m in range(k+1,len(a)):    #counting blanks in the right side of the number\n",
        "        if a[m]=='_':\n",
        "            count+=1\n",
        "        else:\n",
        "            break\n",
        "    value=int(a[k])/(count+1)    #calculating value\n",
        "    for n in range(k,len(a)):    #filling value in blanks\n",
        "        a[n]=value\n",
        "    l=[]\n",
        "    for ele in a:    #converting each element in list to string\n",
        "        l.append(str(ele))\n",
        "    print(', '.join(l))    #atlast printing the string after joining\n",
        "    \n",
        "\n",
        "a=\"_,_,30,_,_,_,50,_,_\"\n",
        "fillblanks(a)                    "
      ],
      "execution_count": null,
      "outputs": [
        {
          "output_type": "stream",
          "name": "stdout",
          "text": [
            "2\n",
            "30\n",
            "10.0, 10.0, 12.0, 12.0, 12.0, 12.0, 4.0, 4.0, 4.0\n"
          ]
        }
      ]
    },
    {
      "cell_type": "markdown",
      "metadata": {
        "id": "xJFAeXgYYY3-"
      },
      "source": [
        "**8.** Program to calculate conditional probability of specified pairs."
      ]
    },
    {
      "cell_type": "code",
      "metadata": {
        "colab": {
          "base_uri": "https://localhost:8080/"
        },
        "id": "lHl5VbWfTyTR",
        "outputId": "147501a3-c131-4c1e-b94c-1a2fb9f9c27d"
      },
      "source": [
        "def unique(a):    #fuction to separate list and pick unique items from it\n",
        "    setF=set([i[0] for i in a])\n",
        "    setS=set([i[1] for i in a])\n",
        "    listF=list(setF)\n",
        "    listS=list(setS)\n",
        "    return listF,listS\n",
        "def conditional_prob(a,f,s):    #function to calculate conditional probability\n",
        "    for i in range(len(s)):    #selecting one item from s\n",
        "        for j in range(len(f)):    #selecting one item from f\n",
        "            num=0\n",
        "            deno=0\n",
        "            for k in range(len(a)):    #checking how many time these items occur in list a\n",
        "                if a[k][1]==s[i]:\n",
        "                    deno+=1\n",
        "                    if a[k][0]==f[j]:\n",
        "                        num+=1\n",
        "            print('P({}/{}) is {}'.format(f[j],s[i],num/deno))    #calculating conditional probability of selecteed item from f if selected item from s is occured           \n",
        "                               \n",
        "a=[['F1','S1'],['F2','S2'],['F3','S3'],['F1','S2'],['F2','S3'],['F3','S2'],['F2','S1'],['F4','S1'],['F4','S3'],['F5','S1']]            \n",
        "f,s=unique(a)\n",
        "print(a)\n",
        "print(f)\n",
        "print(s)\n",
        "conditional_prob(a,f,s)    "
      ],
      "execution_count": null,
      "outputs": [
        {
          "output_type": "stream",
          "name": "stdout",
          "text": [
            "[['F1', 'S1'], ['F2', 'S2'], ['F3', 'S3'], ['F1', 'S2'], ['F2', 'S3'], ['F3', 'S2'], ['F2', 'S1'], ['F4', 'S1'], ['F4', 'S3'], ['F5', 'S1']]\n",
            "['F5', 'F2', 'F3', 'F1', 'F4']\n",
            "['S3', 'S1', 'S2']\n",
            "P(F5/S3) is 0.0\n",
            "P(F2/S3) is 0.3333333333333333\n",
            "P(F3/S3) is 0.3333333333333333\n",
            "P(F1/S3) is 0.0\n",
            "P(F4/S3) is 0.3333333333333333\n",
            "P(F5/S1) is 0.25\n",
            "P(F2/S1) is 0.25\n",
            "P(F3/S1) is 0.0\n",
            "P(F1/S1) is 0.25\n",
            "P(F4/S1) is 0.25\n",
            "P(F5/S2) is 0.0\n",
            "P(F2/S2) is 0.3333333333333333\n",
            "P(F3/S2) is 0.3333333333333333\n",
            "P(F1/S2) is 0.3333333333333333\n",
            "P(F4/S2) is 0.0\n"
          ]
        }
      ]
    },
    {
      "cell_type": "markdown",
      "metadata": {
        "id": "odYBXPm0Yy0j"
      },
      "source": [
        "**9.** Program to give number of common words, words in S1 but not in S2, words in S2 but not in S1."
      ]
    },
    {
      "cell_type": "code",
      "metadata": {
        "colab": {
          "base_uri": "https://localhost:8080/"
        },
        "id": "DR75TqpRKp7p",
        "outputId": "312786db-2a6f-420c-ee03-c9cb1353e1af"
      },
      "source": [
        "S1= \"the first column F will contain only 5 uniques values\"\n",
        "S2= \"the second column S will contain only 3 uniques values\"\n",
        "def string_features(s1,s2):    #function to print some features of two given strings\n",
        "    a=set(s1.split(' '))    #converting string to sets\n",
        "    b=set(s2.split(' '))\n",
        "    common=a.intersection(b)    #performing intersection operation on sets\n",
        "    c=len(common)    #calculating length of resultant set\n",
        "    print('(a) Number of common words between given sentences :',c)\n",
        "    s1nots2=a.difference(b)    #performing difference operation on sets\n",
        "    print('(b) Words in first sentence but not in second :',s1nots2)\n",
        "    s2nots1=b.difference(a)\n",
        "    print('(c) Words in second sentence but not in first :',s2nots1)\n",
        "string_features(S1,S2)    "
      ],
      "execution_count": null,
      "outputs": [
        {
          "output_type": "stream",
          "name": "stdout",
          "text": [
            "(a) Number of common words between given sentences : 7\n",
            "(b) Words in first sentence but not in second : {'5', 'F', 'first'}\n",
            "(c) Words in second sentence but not in first : {'second', 'S', '3'}\n"
          ]
        }
      ]
    },
    {
      "cell_type": "markdown",
      "metadata": {
        "id": "u4CM37kCZVoi"
      },
      "source": [
        "**10.** Program to calculate log loss."
      ]
    },
    {
      "cell_type": "code",
      "metadata": {
        "colab": {
          "base_uri": "https://localhost:8080/"
        },
        "id": "Kl5Fm4O_euVr",
        "outputId": "aa4f3a4a-2ac3-45f9-f6a0-e2123d3fafcf"
      },
      "source": [
        "import math\n",
        "def compute_log_loss(l):    #function to compute log loss\n",
        "    num=0\n",
        "    for i in range(len(l)):    #loop to apply formula on all elements of the given list\n",
        "        num=((l[i][0]*math.log(l[i][1],10))+((1-l[i][0])*math.log((1-l[i][1]),10)))+num\n",
        "    loss=float((-1*(1/len(l)))*num)\n",
        "    print(loss)\n",
        "l=[[1, 0.4],[0, 0.5],[0, 0.9],[0, 0.3],[0, 0.6],[1, 0.1],[1, 0.9],[1, 0.8]] \n",
        "compute_log_loss(l)               "
      ],
      "execution_count": null,
      "outputs": [
        {
          "output_type": "stream",
          "name": "stdout",
          "text": [
            "0.42430993457031635\n"
          ]
        }
      ]
    }
  ]
}