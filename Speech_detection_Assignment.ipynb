{
  "nbformat": 4,
  "nbformat_minor": 0,
  "metadata": {
    "colab": {
      "name": "Copy of Speech detection Assignment.ipynb",
      "provenance": [],
      "collapsed_sections": []
    },
    "kernelspec": {
      "display_name": "Python 3",
      "language": "python",
      "name": "python3"
    },
    "language_info": {
      "codemirror_mode": {
        "name": "ipython",
        "version": 3
      },
      "file_extension": ".py",
      "mimetype": "text/x-python",
      "name": "python",
      "nbconvert_exporter": "python",
      "pygments_lexer": "ipython3",
      "version": "3.6.3"
    },
    "accelerator": "GPU",
    "gpuClass": "standard"
  },
  "cells": [
    {
      "cell_type": "markdown",
      "metadata": {
        "id": "ZwoTWIysaNmc"
      },
      "source": [
        "# <font color='red'> Spoken Digit Recognition</font>"
      ]
    },
    {
      "cell_type": "markdown",
      "metadata": {
        "id": "rPO3mjDDaNmf"
      },
      "source": [
        "\n",
        "In this notebook, You will do Spoken Digit Recognition. \n",
        "\n",
        "Input - speech signal, output - digit number\n",
        "\n",
        "\n",
        "\n",
        "It contains  \n",
        "\n",
        "1. Reading the dataset. and Preprocess the data set. Detailed instrctions are given below. You have to write the code in the same cell which contains the instrction. \n",
        "2. Training the LSTM with RAW data\n",
        "3. Converting to spectrogram and Training the LSTM network\n",
        "4. Creating the augmented data and doing step 2 and 3 again.  \n",
        "\n",
        "<font size=5>Instructions:</font>\n",
        "\n",
        "    1. Don't change any Grader Functions. Don't manipulate any Grader functions. If you manipulate any, it will be considered as plagiarised. \n",
        "    \n",
        "    2. Please read the instructions on the code cells and markdown cells. We will explain what to write. \n",
        "    \n",
        "    3. Please return outputs in the same format what we asked. Eg. Don't return List of we are asking for a numpy array.\n",
        "    \n",
        "    4. Please read the external links that we are given so that you will learn the concept behind the code that you are writing.\n",
        "    \n",
        "    5. We are giving instructions at each section if necessary, please follow them. \n",
        "\n",
        "<font size=5>Every Grader function has to return True. </font>\n",
        "\n"
      ]
    },
    {
      "cell_type": "code",
      "metadata": {
        "id": "_qGuPcj-aNmh",
        "colab": {
          "base_uri": "https://localhost:8080/"
        },
        "outputId": "0e0dca4d-574f-4389-da85-4395d06b5405"
      },
      "source": [
        "import numpy as np\n",
        "import pandas as pd\n",
        "import librosa\n",
        "import os\n",
        "import matplotlib.pyplot as plt\n",
        "##if you need any imports you can do that here. "
      ],
      "execution_count": 1,
      "outputs": [
        {
          "output_type": "stream",
          "name": "stderr",
          "text": [
            "/usr/local/lib/python3.7/dist-packages/resampy/interpn.py:114: NumbaWarning: The TBB threading layer requires TBB version 2019.5 or later i.e., TBB_INTERFACE_VERSION >= 11005. Found TBB_INTERFACE_VERSION = 9107. The TBB threading layer is disabled.\n",
            "  _resample_loop_p(x, t_out, interp_win, interp_delta, num_table, scale, y)\n"
          ]
        }
      ]
    },
    {
      "cell_type": "markdown",
      "metadata": {
        "id": "PdhFzGK1aNmo"
      },
      "source": [
        "We shared recordings.zip, please unzip those. "
      ]
    },
    {
      "cell_type": "code",
      "source": [
        "from google.colab import drive\n",
        "drive.mount('/content/drive')"
      ],
      "metadata": {
        "colab": {
          "base_uri": "https://localhost:8080/"
        },
        "id": "_1vcbg9By6JA",
        "outputId": "e49a8c20-22a4-4425-e1e6-f6921990f026"
      },
      "execution_count": 2,
      "outputs": [
        {
          "output_type": "stream",
          "name": "stdout",
          "text": [
            "Mounted at /content/drive\n"
          ]
        }
      ]
    },
    {
      "cell_type": "code",
      "source": [
        "!unzip '/content/drive/MyDrive/Spoken digit/recordings.zip'"
      ],
      "metadata": {
        "colab": {
          "base_uri": "https://localhost:8080/"
        },
        "id": "zuyABzFrzGAb",
        "outputId": "b0a634a0-7981-404e-936e-3b2b2c754d02"
      },
      "execution_count": 3,
      "outputs": [
        {
          "output_type": "stream",
          "name": "stdout",
          "text": [
            "Archive:  /content/drive/MyDrive/Spoken digit/recordings.zip\n",
            "   creating: recordings/\n",
            "  inflating: recordings/0_jackson_0.wav  \n",
            "  inflating: recordings/0_jackson_1.wav  \n",
            "  inflating: recordings/0_jackson_10.wav  \n",
            "  inflating: recordings/0_jackson_11.wav  \n",
            "  inflating: recordings/0_jackson_12.wav  \n",
            "  inflating: recordings/0_jackson_13.wav  \n",
            "  inflating: recordings/0_jackson_14.wav  \n",
            "  inflating: recordings/0_jackson_15.wav  \n",
            "  inflating: recordings/0_jackson_16.wav  \n",
            "  inflating: recordings/0_jackson_17.wav  \n",
            "  inflating: recordings/0_jackson_18.wav  \n",
            "  inflating: recordings/0_jackson_19.wav  \n",
            "  inflating: recordings/0_jackson_2.wav  \n",
            "  inflating: recordings/0_jackson_20.wav  \n",
            "  inflating: recordings/0_jackson_21.wav  \n",
            "  inflating: recordings/0_jackson_22.wav  \n",
            "  inflating: recordings/0_jackson_23.wav  \n",
            "  inflating: recordings/0_jackson_24.wav  \n",
            "  inflating: recordings/0_jackson_25.wav  \n",
            "  inflating: recordings/0_jackson_26.wav  \n",
            "  inflating: recordings/0_jackson_27.wav  \n",
            "  inflating: recordings/0_jackson_28.wav  \n",
            "  inflating: recordings/0_jackson_29.wav  \n",
            "  inflating: recordings/0_jackson_3.wav  \n",
            "  inflating: recordings/0_jackson_30.wav  \n",
            "  inflating: recordings/0_jackson_31.wav  \n",
            "  inflating: recordings/0_jackson_32.wav  \n",
            "  inflating: recordings/0_jackson_33.wav  \n",
            "  inflating: recordings/0_jackson_34.wav  \n",
            "  inflating: recordings/0_jackson_35.wav  \n",
            "  inflating: recordings/0_jackson_36.wav  \n",
            "  inflating: recordings/0_jackson_37.wav  \n",
            "  inflating: recordings/0_jackson_38.wav  \n",
            "  inflating: recordings/0_jackson_39.wav  \n",
            "  inflating: recordings/0_jackson_4.wav  \n",
            "  inflating: recordings/0_jackson_40.wav  \n",
            "  inflating: recordings/0_jackson_41.wav  \n",
            "  inflating: recordings/0_jackson_42.wav  \n",
            "  inflating: recordings/0_jackson_43.wav  \n",
            "  inflating: recordings/0_jackson_44.wav  \n",
            "  inflating: recordings/0_jackson_45.wav  \n",
            "  inflating: recordings/0_jackson_46.wav  \n",
            "  inflating: recordings/0_jackson_47.wav  \n",
            "  inflating: recordings/0_jackson_48.wav  \n",
            "  inflating: recordings/0_jackson_49.wav  \n",
            "  inflating: recordings/0_jackson_5.wav  \n",
            "  inflating: recordings/0_jackson_6.wav  \n",
            "  inflating: recordings/0_jackson_7.wav  \n",
            "  inflating: recordings/0_jackson_8.wav  \n",
            "  inflating: recordings/0_jackson_9.wav  \n",
            "  inflating: recordings/0_nicolas_0.wav  \n",
            "  inflating: recordings/0_nicolas_1.wav  \n",
            "  inflating: recordings/0_nicolas_10.wav  \n",
            "  inflating: recordings/0_nicolas_11.wav  \n",
            "  inflating: recordings/0_nicolas_12.wav  \n",
            "  inflating: recordings/0_nicolas_13.wav  \n",
            "  inflating: recordings/0_nicolas_14.wav  \n",
            "  inflating: recordings/0_nicolas_15.wav  \n",
            "  inflating: recordings/0_nicolas_16.wav  \n",
            "  inflating: recordings/0_nicolas_17.wav  \n",
            "  inflating: recordings/0_nicolas_18.wav  \n",
            "  inflating: recordings/0_nicolas_19.wav  \n",
            "  inflating: recordings/0_nicolas_2.wav  \n",
            "  inflating: recordings/0_nicolas_20.wav  \n",
            "  inflating: recordings/0_nicolas_21.wav  \n",
            "  inflating: recordings/0_nicolas_22.wav  \n",
            "  inflating: recordings/0_nicolas_23.wav  \n",
            "  inflating: recordings/0_nicolas_24.wav  \n",
            "  inflating: recordings/0_nicolas_25.wav  \n",
            "  inflating: recordings/0_nicolas_26.wav  \n",
            "  inflating: recordings/0_nicolas_27.wav  \n",
            "  inflating: recordings/0_nicolas_28.wav  \n",
            "  inflating: recordings/0_nicolas_29.wav  \n",
            "  inflating: recordings/0_nicolas_3.wav  \n",
            "  inflating: recordings/0_nicolas_30.wav  \n",
            "  inflating: recordings/0_nicolas_31.wav  \n",
            "  inflating: recordings/0_nicolas_32.wav  \n",
            "  inflating: recordings/0_nicolas_33.wav  \n",
            "  inflating: recordings/0_nicolas_34.wav  \n",
            "  inflating: recordings/0_nicolas_35.wav  \n",
            "  inflating: recordings/0_nicolas_36.wav  \n",
            "  inflating: recordings/0_nicolas_37.wav  \n",
            "  inflating: recordings/0_nicolas_38.wav  \n",
            "  inflating: recordings/0_nicolas_39.wav  \n",
            "  inflating: recordings/0_nicolas_4.wav  \n",
            "  inflating: recordings/0_nicolas_40.wav  \n",
            "  inflating: recordings/0_nicolas_41.wav  \n",
            "  inflating: recordings/0_nicolas_42.wav  \n",
            "  inflating: recordings/0_nicolas_43.wav  \n",
            "  inflating: recordings/0_nicolas_44.wav  \n",
            "  inflating: recordings/0_nicolas_45.wav  \n",
            "  inflating: recordings/0_nicolas_46.wav  \n",
            "  inflating: recordings/0_nicolas_47.wav  \n",
            "  inflating: recordings/0_nicolas_48.wav  \n",
            "  inflating: recordings/0_nicolas_49.wav  \n",
            "  inflating: recordings/0_nicolas_5.wav  \n",
            "  inflating: recordings/0_nicolas_6.wav  \n",
            "  inflating: recordings/0_nicolas_7.wav  \n",
            "  inflating: recordings/0_nicolas_8.wav  \n",
            "  inflating: recordings/0_nicolas_9.wav  \n",
            "  inflating: recordings/0_theo_0.wav  \n",
            "  inflating: recordings/0_theo_1.wav  \n",
            "  inflating: recordings/0_theo_10.wav  \n",
            "  inflating: recordings/0_theo_11.wav  \n",
            "  inflating: recordings/0_theo_12.wav  \n",
            "  inflating: recordings/0_theo_13.wav  \n",
            "  inflating: recordings/0_theo_14.wav  \n",
            "  inflating: recordings/0_theo_15.wav  \n",
            "  inflating: recordings/0_theo_16.wav  \n",
            "  inflating: recordings/0_theo_17.wav  \n",
            "  inflating: recordings/0_theo_18.wav  \n",
            "  inflating: recordings/0_theo_19.wav  \n",
            "  inflating: recordings/0_theo_2.wav  \n",
            "  inflating: recordings/0_theo_20.wav  \n",
            "  inflating: recordings/0_theo_21.wav  \n",
            "  inflating: recordings/0_theo_22.wav  \n",
            "  inflating: recordings/0_theo_23.wav  \n",
            "  inflating: recordings/0_theo_24.wav  \n",
            "  inflating: recordings/0_theo_25.wav  \n",
            "  inflating: recordings/0_theo_26.wav  \n",
            "  inflating: recordings/0_theo_27.wav  \n",
            "  inflating: recordings/0_theo_28.wav  \n",
            "  inflating: recordings/0_theo_29.wav  \n",
            "  inflating: recordings/0_theo_3.wav  \n",
            "  inflating: recordings/0_theo_30.wav  \n",
            "  inflating: recordings/0_theo_31.wav  \n",
            "  inflating: recordings/0_theo_32.wav  \n",
            "  inflating: recordings/0_theo_33.wav  \n",
            "  inflating: recordings/0_theo_34.wav  \n",
            "  inflating: recordings/0_theo_35.wav  \n",
            "  inflating: recordings/0_theo_36.wav  \n",
            "  inflating: recordings/0_theo_37.wav  \n",
            "  inflating: recordings/0_theo_38.wav  \n",
            "  inflating: recordings/0_theo_39.wav  \n",
            "  inflating: recordings/0_theo_4.wav  \n",
            "  inflating: recordings/0_theo_40.wav  \n",
            "  inflating: recordings/0_theo_41.wav  \n",
            "  inflating: recordings/0_theo_42.wav  \n",
            "  inflating: recordings/0_theo_43.wav  \n",
            "  inflating: recordings/0_theo_44.wav  \n",
            "  inflating: recordings/0_theo_45.wav  \n",
            "  inflating: recordings/0_theo_46.wav  \n",
            "  inflating: recordings/0_theo_47.wav  \n",
            "  inflating: recordings/0_theo_48.wav  \n",
            "  inflating: recordings/0_theo_49.wav  \n",
            "  inflating: recordings/0_theo_5.wav  \n",
            "  inflating: recordings/0_theo_6.wav  \n",
            "  inflating: recordings/0_theo_7.wav  \n",
            "  inflating: recordings/0_theo_8.wav  \n",
            "  inflating: recordings/0_theo_9.wav  \n",
            "  inflating: recordings/0_yweweler_0.wav  \n",
            "  inflating: recordings/0_yweweler_1.wav  \n",
            "  inflating: recordings/0_yweweler_10.wav  \n",
            "  inflating: recordings/0_yweweler_11.wav  \n",
            "  inflating: recordings/0_yweweler_12.wav  \n",
            "  inflating: recordings/0_yweweler_13.wav  \n",
            "  inflating: recordings/0_yweweler_14.wav  \n",
            "  inflating: recordings/0_yweweler_15.wav  \n",
            "  inflating: recordings/0_yweweler_16.wav  \n",
            "  inflating: recordings/0_yweweler_17.wav  \n",
            "  inflating: recordings/0_yweweler_18.wav  \n",
            "  inflating: recordings/0_yweweler_19.wav  \n",
            "  inflating: recordings/0_yweweler_2.wav  \n",
            "  inflating: recordings/0_yweweler_20.wav  \n",
            "  inflating: recordings/0_yweweler_21.wav  \n",
            "  inflating: recordings/0_yweweler_22.wav  \n",
            "  inflating: recordings/0_yweweler_23.wav  \n",
            "  inflating: recordings/0_yweweler_24.wav  \n",
            "  inflating: recordings/0_yweweler_25.wav  \n",
            "  inflating: recordings/0_yweweler_26.wav  \n",
            "  inflating: recordings/0_yweweler_27.wav  \n",
            "  inflating: recordings/0_yweweler_28.wav  \n",
            "  inflating: recordings/0_yweweler_29.wav  \n",
            "  inflating: recordings/0_yweweler_3.wav  \n",
            "  inflating: recordings/0_yweweler_30.wav  \n",
            "  inflating: recordings/0_yweweler_31.wav  \n",
            "  inflating: recordings/0_yweweler_32.wav  \n",
            "  inflating: recordings/0_yweweler_33.wav  \n",
            "  inflating: recordings/0_yweweler_34.wav  \n",
            "  inflating: recordings/0_yweweler_35.wav  \n",
            "  inflating: recordings/0_yweweler_36.wav  \n",
            "  inflating: recordings/0_yweweler_37.wav  \n",
            "  inflating: recordings/0_yweweler_38.wav  \n",
            "  inflating: recordings/0_yweweler_39.wav  \n",
            "  inflating: recordings/0_yweweler_4.wav  \n",
            "  inflating: recordings/0_yweweler_40.wav  \n",
            "  inflating: recordings/0_yweweler_41.wav  \n",
            "  inflating: recordings/0_yweweler_42.wav  \n",
            "  inflating: recordings/0_yweweler_43.wav  \n",
            "  inflating: recordings/0_yweweler_44.wav  \n",
            "  inflating: recordings/0_yweweler_45.wav  \n",
            "  inflating: recordings/0_yweweler_46.wav  \n",
            "  inflating: recordings/0_yweweler_47.wav  \n",
            "  inflating: recordings/0_yweweler_48.wav  \n",
            "  inflating: recordings/0_yweweler_49.wav  \n",
            "  inflating: recordings/0_yweweler_5.wav  \n",
            "  inflating: recordings/0_yweweler_6.wav  \n",
            "  inflating: recordings/0_yweweler_7.wav  \n",
            "  inflating: recordings/0_yweweler_8.wav  \n",
            "  inflating: recordings/0_yweweler_9.wav  \n",
            "  inflating: recordings/1_jackson_0.wav  \n",
            "  inflating: recordings/1_jackson_1.wav  \n",
            "  inflating: recordings/1_jackson_10.wav  \n",
            "  inflating: recordings/1_jackson_11.wav  \n",
            "  inflating: recordings/1_jackson_12.wav  \n",
            "  inflating: recordings/1_jackson_13.wav  \n",
            "  inflating: recordings/1_jackson_14.wav  \n",
            "  inflating: recordings/1_jackson_15.wav  \n",
            "  inflating: recordings/1_jackson_16.wav  \n",
            "  inflating: recordings/1_jackson_17.wav  \n",
            "  inflating: recordings/1_jackson_18.wav  \n",
            "  inflating: recordings/1_jackson_19.wav  \n",
            "  inflating: recordings/1_jackson_2.wav  \n",
            "  inflating: recordings/1_jackson_20.wav  \n",
            "  inflating: recordings/1_jackson_21.wav  \n",
            "  inflating: recordings/1_jackson_22.wav  \n",
            "  inflating: recordings/1_jackson_23.wav  \n",
            "  inflating: recordings/1_jackson_24.wav  \n",
            "  inflating: recordings/1_jackson_25.wav  \n",
            "  inflating: recordings/1_jackson_26.wav  \n",
            "  inflating: recordings/1_jackson_27.wav  \n",
            "  inflating: recordings/1_jackson_28.wav  \n",
            "  inflating: recordings/1_jackson_29.wav  \n",
            "  inflating: recordings/1_jackson_3.wav  \n",
            "  inflating: recordings/1_jackson_30.wav  \n",
            "  inflating: recordings/1_jackson_31.wav  \n",
            "  inflating: recordings/1_jackson_32.wav  \n",
            "  inflating: recordings/1_jackson_33.wav  \n",
            "  inflating: recordings/1_jackson_34.wav  \n",
            "  inflating: recordings/1_jackson_35.wav  \n",
            "  inflating: recordings/1_jackson_36.wav  \n",
            "  inflating: recordings/1_jackson_37.wav  \n",
            "  inflating: recordings/1_jackson_38.wav  \n",
            "  inflating: recordings/1_jackson_39.wav  \n",
            "  inflating: recordings/1_jackson_4.wav  \n",
            "  inflating: recordings/1_jackson_40.wav  \n",
            "  inflating: recordings/1_jackson_41.wav  \n",
            "  inflating: recordings/1_jackson_42.wav  \n",
            "  inflating: recordings/1_jackson_43.wav  \n",
            "  inflating: recordings/1_jackson_44.wav  \n",
            "  inflating: recordings/1_jackson_45.wav  \n",
            "  inflating: recordings/1_jackson_46.wav  \n",
            "  inflating: recordings/1_jackson_47.wav  \n",
            "  inflating: recordings/1_jackson_48.wav  \n",
            "  inflating: recordings/1_jackson_49.wav  \n",
            "  inflating: recordings/1_jackson_5.wav  \n",
            "  inflating: recordings/1_jackson_6.wav  \n",
            "  inflating: recordings/1_jackson_7.wav  \n",
            "  inflating: recordings/1_jackson_8.wav  \n",
            "  inflating: recordings/1_jackson_9.wav  \n",
            "  inflating: recordings/1_nicolas_0.wav  \n",
            "  inflating: recordings/1_nicolas_1.wav  \n",
            "  inflating: recordings/1_nicolas_10.wav  \n",
            "  inflating: recordings/1_nicolas_11.wav  \n",
            "  inflating: recordings/1_nicolas_12.wav  \n",
            "  inflating: recordings/1_nicolas_13.wav  \n",
            "  inflating: recordings/1_nicolas_14.wav  \n",
            "  inflating: recordings/1_nicolas_15.wav  \n",
            "  inflating: recordings/1_nicolas_16.wav  \n",
            "  inflating: recordings/1_nicolas_17.wav  \n",
            "  inflating: recordings/1_nicolas_18.wav  \n",
            "  inflating: recordings/1_nicolas_19.wav  \n",
            "  inflating: recordings/1_nicolas_2.wav  \n",
            "  inflating: recordings/1_nicolas_20.wav  \n",
            "  inflating: recordings/1_nicolas_21.wav  \n",
            "  inflating: recordings/1_nicolas_22.wav  \n",
            "  inflating: recordings/1_nicolas_23.wav  \n",
            "  inflating: recordings/1_nicolas_24.wav  \n",
            "  inflating: recordings/1_nicolas_25.wav  \n",
            "  inflating: recordings/1_nicolas_26.wav  \n",
            "  inflating: recordings/1_nicolas_27.wav  \n",
            "  inflating: recordings/1_nicolas_28.wav  \n",
            "  inflating: recordings/1_nicolas_29.wav  \n",
            "  inflating: recordings/1_nicolas_3.wav  \n",
            "  inflating: recordings/1_nicolas_30.wav  \n",
            "  inflating: recordings/1_nicolas_31.wav  \n",
            "  inflating: recordings/1_nicolas_32.wav  \n",
            "  inflating: recordings/1_nicolas_33.wav  \n",
            "  inflating: recordings/1_nicolas_34.wav  \n",
            "  inflating: recordings/1_nicolas_35.wav  \n",
            "  inflating: recordings/1_nicolas_36.wav  \n",
            "  inflating: recordings/1_nicolas_37.wav  \n",
            "  inflating: recordings/1_nicolas_38.wav  \n",
            "  inflating: recordings/1_nicolas_39.wav  \n",
            "  inflating: recordings/1_nicolas_4.wav  \n",
            "  inflating: recordings/1_nicolas_40.wav  \n",
            "  inflating: recordings/1_nicolas_41.wav  \n",
            "  inflating: recordings/1_nicolas_42.wav  \n",
            "  inflating: recordings/1_nicolas_43.wav  \n",
            "  inflating: recordings/1_nicolas_44.wav  \n",
            "  inflating: recordings/1_nicolas_45.wav  \n",
            "  inflating: recordings/1_nicolas_46.wav  \n",
            "  inflating: recordings/1_nicolas_47.wav  \n",
            "  inflating: recordings/1_nicolas_48.wav  \n",
            "  inflating: recordings/1_nicolas_49.wav  \n",
            "  inflating: recordings/1_nicolas_5.wav  \n",
            "  inflating: recordings/1_nicolas_6.wav  \n",
            "  inflating: recordings/1_nicolas_7.wav  \n",
            "  inflating: recordings/1_nicolas_8.wav  \n",
            "  inflating: recordings/1_nicolas_9.wav  \n",
            "  inflating: recordings/1_theo_0.wav  \n",
            "  inflating: recordings/1_theo_1.wav  \n",
            "  inflating: recordings/1_theo_10.wav  \n",
            "  inflating: recordings/1_theo_11.wav  \n",
            "  inflating: recordings/1_theo_12.wav  \n",
            "  inflating: recordings/1_theo_13.wav  \n",
            "  inflating: recordings/1_theo_14.wav  \n",
            "  inflating: recordings/1_theo_15.wav  \n",
            "  inflating: recordings/1_theo_16.wav  \n",
            "  inflating: recordings/1_theo_17.wav  \n",
            "  inflating: recordings/1_theo_18.wav  \n",
            "  inflating: recordings/1_theo_19.wav  \n",
            "  inflating: recordings/1_theo_2.wav  \n",
            "  inflating: recordings/1_theo_20.wav  \n",
            "  inflating: recordings/1_theo_21.wav  \n",
            "  inflating: recordings/1_theo_22.wav  \n",
            "  inflating: recordings/1_theo_23.wav  \n",
            "  inflating: recordings/1_theo_24.wav  \n",
            "  inflating: recordings/1_theo_25.wav  \n",
            "  inflating: recordings/1_theo_26.wav  \n",
            "  inflating: recordings/1_theo_27.wav  \n",
            "  inflating: recordings/1_theo_28.wav  \n",
            "  inflating: recordings/1_theo_29.wav  \n",
            "  inflating: recordings/1_theo_3.wav  \n",
            "  inflating: recordings/1_theo_30.wav  \n",
            "  inflating: recordings/1_theo_31.wav  \n",
            "  inflating: recordings/1_theo_32.wav  \n",
            "  inflating: recordings/1_theo_33.wav  \n",
            "  inflating: recordings/1_theo_34.wav  \n",
            "  inflating: recordings/1_theo_35.wav  \n",
            "  inflating: recordings/1_theo_36.wav  \n",
            "  inflating: recordings/1_theo_37.wav  \n",
            "  inflating: recordings/1_theo_38.wav  \n",
            "  inflating: recordings/1_theo_39.wav  \n",
            "  inflating: recordings/1_theo_4.wav  \n",
            "  inflating: recordings/1_theo_40.wav  \n",
            "  inflating: recordings/1_theo_41.wav  \n",
            "  inflating: recordings/1_theo_42.wav  \n",
            "  inflating: recordings/1_theo_43.wav  \n",
            "  inflating: recordings/1_theo_44.wav  \n",
            "  inflating: recordings/1_theo_45.wav  \n",
            "  inflating: recordings/1_theo_46.wav  \n",
            "  inflating: recordings/1_theo_47.wav  \n",
            "  inflating: recordings/1_theo_48.wav  \n",
            "  inflating: recordings/1_theo_49.wav  \n",
            "  inflating: recordings/1_theo_5.wav  \n",
            "  inflating: recordings/1_theo_6.wav  \n",
            "  inflating: recordings/1_theo_7.wav  \n",
            "  inflating: recordings/1_theo_8.wav  \n",
            "  inflating: recordings/1_theo_9.wav  \n",
            "  inflating: recordings/1_yweweler_0.wav  \n",
            "  inflating: recordings/1_yweweler_1.wav  \n",
            "  inflating: recordings/1_yweweler_10.wav  \n",
            "  inflating: recordings/1_yweweler_11.wav  \n",
            "  inflating: recordings/1_yweweler_12.wav  \n",
            "  inflating: recordings/1_yweweler_13.wav  \n",
            "  inflating: recordings/1_yweweler_14.wav  \n",
            "  inflating: recordings/1_yweweler_15.wav  \n",
            "  inflating: recordings/1_yweweler_16.wav  \n",
            "  inflating: recordings/1_yweweler_17.wav  \n",
            "  inflating: recordings/1_yweweler_18.wav  \n",
            "  inflating: recordings/1_yweweler_19.wav  \n",
            "  inflating: recordings/1_yweweler_2.wav  \n",
            "  inflating: recordings/1_yweweler_20.wav  \n",
            "  inflating: recordings/1_yweweler_21.wav  \n",
            "  inflating: recordings/1_yweweler_22.wav  \n",
            "  inflating: recordings/1_yweweler_23.wav  \n",
            "  inflating: recordings/1_yweweler_24.wav  \n",
            "  inflating: recordings/1_yweweler_25.wav  \n",
            "  inflating: recordings/1_yweweler_26.wav  \n",
            "  inflating: recordings/1_yweweler_27.wav  \n",
            "  inflating: recordings/1_yweweler_28.wav  \n",
            "  inflating: recordings/1_yweweler_29.wav  \n",
            "  inflating: recordings/1_yweweler_3.wav  \n",
            "  inflating: recordings/1_yweweler_30.wav  \n",
            "  inflating: recordings/1_yweweler_31.wav  \n",
            "  inflating: recordings/1_yweweler_32.wav  \n",
            "  inflating: recordings/1_yweweler_33.wav  \n",
            "  inflating: recordings/1_yweweler_34.wav  \n",
            "  inflating: recordings/1_yweweler_35.wav  \n",
            "  inflating: recordings/1_yweweler_36.wav  \n",
            "  inflating: recordings/1_yweweler_37.wav  \n",
            "  inflating: recordings/1_yweweler_38.wav  \n",
            "  inflating: recordings/1_yweweler_39.wav  \n",
            "  inflating: recordings/1_yweweler_4.wav  \n",
            "  inflating: recordings/1_yweweler_40.wav  \n",
            "  inflating: recordings/1_yweweler_41.wav  \n",
            "  inflating: recordings/1_yweweler_42.wav  \n",
            "  inflating: recordings/1_yweweler_43.wav  \n",
            "  inflating: recordings/1_yweweler_44.wav  \n",
            "  inflating: recordings/1_yweweler_45.wav  \n",
            "  inflating: recordings/1_yweweler_46.wav  \n",
            "  inflating: recordings/1_yweweler_47.wav  \n",
            "  inflating: recordings/1_yweweler_48.wav  \n",
            "  inflating: recordings/1_yweweler_49.wav  \n",
            "  inflating: recordings/1_yweweler_5.wav  \n",
            "  inflating: recordings/1_yweweler_6.wav  \n",
            "  inflating: recordings/1_yweweler_7.wav  \n",
            "  inflating: recordings/1_yweweler_8.wav  \n",
            "  inflating: recordings/1_yweweler_9.wav  \n",
            "  inflating: recordings/2_jackson_0.wav  \n",
            "  inflating: recordings/2_jackson_1.wav  \n",
            "  inflating: recordings/2_jackson_10.wav  \n",
            "  inflating: recordings/2_jackson_11.wav  \n",
            "  inflating: recordings/2_jackson_12.wav  \n",
            "  inflating: recordings/2_jackson_13.wav  \n",
            "  inflating: recordings/2_jackson_14.wav  \n",
            "  inflating: recordings/2_jackson_15.wav  \n",
            "  inflating: recordings/2_jackson_16.wav  \n",
            "  inflating: recordings/2_jackson_17.wav  \n",
            "  inflating: recordings/2_jackson_18.wav  \n",
            "  inflating: recordings/2_jackson_19.wav  \n",
            "  inflating: recordings/2_jackson_2.wav  \n",
            "  inflating: recordings/2_jackson_20.wav  \n",
            "  inflating: recordings/2_jackson_21.wav  \n",
            "  inflating: recordings/2_jackson_22.wav  \n",
            "  inflating: recordings/2_jackson_23.wav  \n",
            "  inflating: recordings/2_jackson_24.wav  \n",
            "  inflating: recordings/2_jackson_25.wav  \n",
            "  inflating: recordings/2_jackson_26.wav  \n",
            "  inflating: recordings/2_jackson_27.wav  \n",
            "  inflating: recordings/2_jackson_28.wav  \n",
            "  inflating: recordings/2_jackson_29.wav  \n",
            "  inflating: recordings/2_jackson_3.wav  \n",
            "  inflating: recordings/2_jackson_30.wav  \n",
            "  inflating: recordings/2_jackson_31.wav  \n",
            "  inflating: recordings/2_jackson_32.wav  \n",
            "  inflating: recordings/2_jackson_33.wav  \n",
            "  inflating: recordings/2_jackson_34.wav  \n",
            "  inflating: recordings/2_jackson_35.wav  \n",
            "  inflating: recordings/2_jackson_36.wav  \n",
            "  inflating: recordings/2_jackson_37.wav  \n",
            "  inflating: recordings/2_jackson_38.wav  \n",
            "  inflating: recordings/2_jackson_39.wav  \n",
            "  inflating: recordings/2_jackson_4.wav  \n",
            "  inflating: recordings/2_jackson_40.wav  \n",
            "  inflating: recordings/2_jackson_41.wav  \n",
            "  inflating: recordings/2_jackson_42.wav  \n",
            "  inflating: recordings/2_jackson_43.wav  \n",
            "  inflating: recordings/2_jackson_44.wav  \n",
            "  inflating: recordings/2_jackson_45.wav  \n",
            "  inflating: recordings/2_jackson_46.wav  \n",
            "  inflating: recordings/2_jackson_47.wav  \n",
            "  inflating: recordings/2_jackson_48.wav  \n",
            "  inflating: recordings/2_jackson_49.wav  \n",
            "  inflating: recordings/2_jackson_5.wav  \n",
            "  inflating: recordings/2_jackson_6.wav  \n",
            "  inflating: recordings/2_jackson_7.wav  \n",
            "  inflating: recordings/2_jackson_8.wav  \n",
            "  inflating: recordings/2_jackson_9.wav  \n",
            "  inflating: recordings/2_nicolas_0.wav  \n",
            "  inflating: recordings/2_nicolas_1.wav  \n",
            "  inflating: recordings/2_nicolas_10.wav  \n",
            "  inflating: recordings/2_nicolas_11.wav  \n",
            "  inflating: recordings/2_nicolas_12.wav  \n",
            "  inflating: recordings/2_nicolas_13.wav  \n",
            "  inflating: recordings/2_nicolas_14.wav  \n",
            "  inflating: recordings/2_nicolas_15.wav  \n",
            "  inflating: recordings/2_nicolas_16.wav  \n",
            "  inflating: recordings/2_nicolas_17.wav  \n",
            "  inflating: recordings/2_nicolas_18.wav  \n",
            "  inflating: recordings/2_nicolas_19.wav  \n",
            "  inflating: recordings/2_nicolas_2.wav  \n",
            "  inflating: recordings/2_nicolas_20.wav  \n",
            "  inflating: recordings/2_nicolas_21.wav  \n",
            "  inflating: recordings/2_nicolas_22.wav  \n",
            "  inflating: recordings/2_nicolas_23.wav  \n",
            "  inflating: recordings/2_nicolas_24.wav  \n",
            "  inflating: recordings/2_nicolas_25.wav  \n",
            "  inflating: recordings/2_nicolas_26.wav  \n",
            "  inflating: recordings/2_nicolas_27.wav  \n",
            "  inflating: recordings/2_nicolas_28.wav  \n",
            "  inflating: recordings/2_nicolas_29.wav  \n",
            "  inflating: recordings/2_nicolas_3.wav  \n",
            "  inflating: recordings/2_nicolas_30.wav  \n",
            "  inflating: recordings/2_nicolas_31.wav  \n",
            "  inflating: recordings/2_nicolas_32.wav  \n",
            "  inflating: recordings/2_nicolas_33.wav  \n",
            "  inflating: recordings/2_nicolas_34.wav  \n",
            "  inflating: recordings/2_nicolas_35.wav  \n",
            "  inflating: recordings/2_nicolas_36.wav  \n",
            "  inflating: recordings/2_nicolas_37.wav  \n",
            "  inflating: recordings/2_nicolas_38.wav  \n",
            "  inflating: recordings/2_nicolas_39.wav  \n",
            "  inflating: recordings/2_nicolas_4.wav  \n",
            "  inflating: recordings/2_nicolas_40.wav  \n",
            "  inflating: recordings/2_nicolas_41.wav  \n",
            "  inflating: recordings/2_nicolas_42.wav  \n",
            "  inflating: recordings/2_nicolas_43.wav  \n",
            "  inflating: recordings/2_nicolas_44.wav  \n",
            "  inflating: recordings/2_nicolas_45.wav  \n",
            "  inflating: recordings/2_nicolas_46.wav  \n",
            "  inflating: recordings/2_nicolas_47.wav  \n",
            "  inflating: recordings/2_nicolas_48.wav  \n",
            "  inflating: recordings/2_nicolas_49.wav  \n",
            "  inflating: recordings/2_nicolas_5.wav  \n",
            "  inflating: recordings/2_nicolas_6.wav  \n",
            "  inflating: recordings/2_nicolas_7.wav  \n",
            "  inflating: recordings/2_nicolas_8.wav  \n",
            "  inflating: recordings/2_nicolas_9.wav  \n",
            "  inflating: recordings/2_theo_0.wav  \n",
            "  inflating: recordings/2_theo_1.wav  \n",
            "  inflating: recordings/2_theo_10.wav  \n",
            "  inflating: recordings/2_theo_11.wav  \n",
            "  inflating: recordings/2_theo_12.wav  \n",
            "  inflating: recordings/2_theo_13.wav  \n",
            "  inflating: recordings/2_theo_14.wav  \n",
            "  inflating: recordings/2_theo_15.wav  \n",
            "  inflating: recordings/2_theo_16.wav  \n",
            "  inflating: recordings/2_theo_17.wav  \n",
            "  inflating: recordings/2_theo_18.wav  \n",
            "  inflating: recordings/2_theo_19.wav  \n",
            "  inflating: recordings/2_theo_2.wav  \n",
            "  inflating: recordings/2_theo_20.wav  \n",
            "  inflating: recordings/2_theo_21.wav  \n",
            "  inflating: recordings/2_theo_22.wav  \n",
            "  inflating: recordings/2_theo_23.wav  \n",
            "  inflating: recordings/2_theo_24.wav  \n",
            "  inflating: recordings/2_theo_25.wav  \n",
            "  inflating: recordings/2_theo_26.wav  \n",
            "  inflating: recordings/2_theo_27.wav  \n",
            "  inflating: recordings/2_theo_28.wav  \n",
            "  inflating: recordings/2_theo_29.wav  \n",
            "  inflating: recordings/2_theo_3.wav  \n",
            "  inflating: recordings/2_theo_30.wav  \n",
            "  inflating: recordings/2_theo_31.wav  \n",
            "  inflating: recordings/2_theo_32.wav  \n",
            "  inflating: recordings/2_theo_33.wav  \n",
            "  inflating: recordings/2_theo_34.wav  \n",
            "  inflating: recordings/2_theo_35.wav  \n",
            "  inflating: recordings/2_theo_36.wav  \n",
            "  inflating: recordings/2_theo_37.wav  \n",
            "  inflating: recordings/2_theo_38.wav  \n",
            "  inflating: recordings/2_theo_39.wav  \n",
            "  inflating: recordings/2_theo_4.wav  \n",
            "  inflating: recordings/2_theo_40.wav  \n",
            "  inflating: recordings/2_theo_41.wav  \n",
            "  inflating: recordings/2_theo_42.wav  \n",
            "  inflating: recordings/2_theo_43.wav  \n",
            "  inflating: recordings/2_theo_44.wav  \n",
            "  inflating: recordings/2_theo_45.wav  \n",
            "  inflating: recordings/2_theo_46.wav  \n",
            "  inflating: recordings/2_theo_47.wav  \n",
            "  inflating: recordings/2_theo_48.wav  \n",
            "  inflating: recordings/2_theo_49.wav  \n",
            "  inflating: recordings/2_theo_5.wav  \n",
            "  inflating: recordings/2_theo_6.wav  \n",
            "  inflating: recordings/2_theo_7.wav  \n",
            "  inflating: recordings/2_theo_8.wav  \n",
            "  inflating: recordings/2_theo_9.wav  \n",
            "  inflating: recordings/2_yweweler_0.wav  \n",
            "  inflating: recordings/2_yweweler_1.wav  \n",
            "  inflating: recordings/2_yweweler_10.wav  \n",
            "  inflating: recordings/2_yweweler_11.wav  \n",
            "  inflating: recordings/2_yweweler_12.wav  \n",
            "  inflating: recordings/2_yweweler_13.wav  \n",
            "  inflating: recordings/2_yweweler_14.wav  \n",
            "  inflating: recordings/2_yweweler_15.wav  \n",
            "  inflating: recordings/2_yweweler_16.wav  \n",
            "  inflating: recordings/2_yweweler_17.wav  \n",
            "  inflating: recordings/2_yweweler_18.wav  \n",
            "  inflating: recordings/2_yweweler_19.wav  \n",
            "  inflating: recordings/2_yweweler_2.wav  \n",
            "  inflating: recordings/2_yweweler_20.wav  \n",
            "  inflating: recordings/2_yweweler_21.wav  \n",
            "  inflating: recordings/2_yweweler_22.wav  \n",
            "  inflating: recordings/2_yweweler_23.wav  \n",
            "  inflating: recordings/2_yweweler_24.wav  \n",
            "  inflating: recordings/2_yweweler_25.wav  \n",
            "  inflating: recordings/2_yweweler_26.wav  \n",
            "  inflating: recordings/2_yweweler_27.wav  \n",
            "  inflating: recordings/2_yweweler_28.wav  \n",
            "  inflating: recordings/2_yweweler_29.wav  \n",
            "  inflating: recordings/2_yweweler_3.wav  \n",
            "  inflating: recordings/2_yweweler_30.wav  \n",
            "  inflating: recordings/2_yweweler_31.wav  \n",
            "  inflating: recordings/2_yweweler_32.wav  \n",
            "  inflating: recordings/2_yweweler_33.wav  \n",
            "  inflating: recordings/2_yweweler_34.wav  \n",
            "  inflating: recordings/2_yweweler_35.wav  \n",
            "  inflating: recordings/2_yweweler_36.wav  \n",
            "  inflating: recordings/2_yweweler_37.wav  \n",
            "  inflating: recordings/2_yweweler_38.wav  \n",
            "  inflating: recordings/2_yweweler_39.wav  \n",
            "  inflating: recordings/2_yweweler_4.wav  \n",
            "  inflating: recordings/2_yweweler_40.wav  \n",
            "  inflating: recordings/2_yweweler_41.wav  \n",
            "  inflating: recordings/2_yweweler_42.wav  \n",
            "  inflating: recordings/2_yweweler_43.wav  \n",
            "  inflating: recordings/2_yweweler_44.wav  \n",
            "  inflating: recordings/2_yweweler_45.wav  \n",
            "  inflating: recordings/2_yweweler_46.wav  \n",
            "  inflating: recordings/2_yweweler_47.wav  \n",
            "  inflating: recordings/2_yweweler_48.wav  \n",
            "  inflating: recordings/2_yweweler_49.wav  \n",
            "  inflating: recordings/2_yweweler_5.wav  \n",
            "  inflating: recordings/2_yweweler_6.wav  \n",
            "  inflating: recordings/2_yweweler_7.wav  \n",
            "  inflating: recordings/2_yweweler_8.wav  \n",
            "  inflating: recordings/2_yweweler_9.wav  \n",
            "  inflating: recordings/3_jackson_0.wav  \n",
            "  inflating: recordings/3_jackson_1.wav  \n",
            "  inflating: recordings/3_jackson_10.wav  \n",
            "  inflating: recordings/3_jackson_11.wav  \n",
            "  inflating: recordings/3_jackson_12.wav  \n",
            "  inflating: recordings/3_jackson_13.wav  \n",
            "  inflating: recordings/3_jackson_14.wav  \n",
            "  inflating: recordings/3_jackson_15.wav  \n",
            "  inflating: recordings/3_jackson_16.wav  \n",
            "  inflating: recordings/3_jackson_17.wav  \n",
            "  inflating: recordings/3_jackson_18.wav  \n",
            "  inflating: recordings/3_jackson_19.wav  \n",
            "  inflating: recordings/3_jackson_2.wav  \n",
            "  inflating: recordings/3_jackson_20.wav  \n",
            "  inflating: recordings/3_jackson_21.wav  \n",
            "  inflating: recordings/3_jackson_22.wav  \n",
            "  inflating: recordings/3_jackson_23.wav  \n",
            "  inflating: recordings/3_jackson_24.wav  \n",
            "  inflating: recordings/3_jackson_25.wav  \n",
            "  inflating: recordings/3_jackson_26.wav  \n",
            "  inflating: recordings/3_jackson_27.wav  \n",
            "  inflating: recordings/3_jackson_28.wav  \n",
            "  inflating: recordings/3_jackson_29.wav  \n",
            "  inflating: recordings/3_jackson_3.wav  \n",
            "  inflating: recordings/3_jackson_30.wav  \n",
            "  inflating: recordings/3_jackson_31.wav  \n",
            "  inflating: recordings/3_jackson_32.wav  \n",
            "  inflating: recordings/3_jackson_33.wav  \n",
            "  inflating: recordings/3_jackson_34.wav  \n",
            "  inflating: recordings/3_jackson_35.wav  \n",
            "  inflating: recordings/3_jackson_36.wav  \n",
            "  inflating: recordings/3_jackson_37.wav  \n",
            "  inflating: recordings/3_jackson_38.wav  \n",
            "  inflating: recordings/3_jackson_39.wav  \n",
            "  inflating: recordings/3_jackson_4.wav  \n",
            "  inflating: recordings/3_jackson_40.wav  \n",
            "  inflating: recordings/3_jackson_41.wav  \n",
            "  inflating: recordings/3_jackson_42.wav  \n",
            "  inflating: recordings/3_jackson_43.wav  \n",
            "  inflating: recordings/3_jackson_44.wav  \n",
            "  inflating: recordings/3_jackson_45.wav  \n",
            "  inflating: recordings/3_jackson_46.wav  \n",
            "  inflating: recordings/3_jackson_47.wav  \n",
            "  inflating: recordings/3_jackson_48.wav  \n",
            "  inflating: recordings/3_jackson_49.wav  \n",
            "  inflating: recordings/3_jackson_5.wav  \n",
            "  inflating: recordings/3_jackson_6.wav  \n",
            "  inflating: recordings/3_jackson_7.wav  \n",
            "  inflating: recordings/3_jackson_8.wav  \n",
            "  inflating: recordings/3_jackson_9.wav  \n",
            "  inflating: recordings/3_nicolas_0.wav  \n",
            "  inflating: recordings/3_nicolas_1.wav  \n",
            "  inflating: recordings/3_nicolas_10.wav  \n",
            "  inflating: recordings/3_nicolas_11.wav  \n",
            "  inflating: recordings/3_nicolas_12.wav  \n",
            "  inflating: recordings/3_nicolas_13.wav  \n",
            "  inflating: recordings/3_nicolas_14.wav  \n",
            "  inflating: recordings/3_nicolas_15.wav  \n",
            "  inflating: recordings/3_nicolas_16.wav  \n",
            "  inflating: recordings/3_nicolas_17.wav  \n",
            "  inflating: recordings/3_nicolas_18.wav  \n",
            "  inflating: recordings/3_nicolas_19.wav  \n",
            "  inflating: recordings/3_nicolas_2.wav  \n",
            "  inflating: recordings/3_nicolas_20.wav  \n",
            "  inflating: recordings/3_nicolas_21.wav  \n",
            "  inflating: recordings/3_nicolas_22.wav  \n",
            "  inflating: recordings/3_nicolas_23.wav  \n",
            "  inflating: recordings/3_nicolas_24.wav  \n",
            "  inflating: recordings/3_nicolas_25.wav  \n",
            "  inflating: recordings/3_nicolas_26.wav  \n",
            "  inflating: recordings/3_nicolas_27.wav  \n",
            "  inflating: recordings/3_nicolas_28.wav  \n",
            "  inflating: recordings/3_nicolas_29.wav  \n",
            "  inflating: recordings/3_nicolas_3.wav  \n",
            "  inflating: recordings/3_nicolas_30.wav  \n",
            "  inflating: recordings/3_nicolas_31.wav  \n",
            "  inflating: recordings/3_nicolas_32.wav  \n",
            "  inflating: recordings/3_nicolas_33.wav  \n",
            "  inflating: recordings/3_nicolas_34.wav  \n",
            "  inflating: recordings/3_nicolas_35.wav  \n",
            "  inflating: recordings/3_nicolas_36.wav  \n",
            "  inflating: recordings/3_nicolas_37.wav  \n",
            "  inflating: recordings/3_nicolas_38.wav  \n",
            "  inflating: recordings/3_nicolas_39.wav  \n",
            "  inflating: recordings/3_nicolas_4.wav  \n",
            "  inflating: recordings/3_nicolas_40.wav  \n",
            "  inflating: recordings/3_nicolas_41.wav  \n",
            "  inflating: recordings/3_nicolas_42.wav  \n",
            "  inflating: recordings/3_nicolas_43.wav  \n",
            "  inflating: recordings/3_nicolas_44.wav  \n",
            "  inflating: recordings/3_nicolas_45.wav  \n",
            "  inflating: recordings/3_nicolas_46.wav  \n",
            "  inflating: recordings/3_nicolas_47.wav  \n",
            "  inflating: recordings/3_nicolas_48.wav  \n",
            "  inflating: recordings/3_nicolas_49.wav  \n",
            "  inflating: recordings/3_nicolas_5.wav  \n",
            "  inflating: recordings/3_nicolas_6.wav  \n",
            "  inflating: recordings/3_nicolas_7.wav  \n",
            "  inflating: recordings/3_nicolas_8.wav  \n",
            "  inflating: recordings/3_nicolas_9.wav  \n",
            "  inflating: recordings/3_theo_0.wav  \n",
            "  inflating: recordings/3_theo_1.wav  \n",
            "  inflating: recordings/3_theo_10.wav  \n",
            "  inflating: recordings/3_theo_11.wav  \n",
            "  inflating: recordings/3_theo_12.wav  \n",
            "  inflating: recordings/3_theo_13.wav  \n",
            "  inflating: recordings/3_theo_14.wav  \n",
            "  inflating: recordings/3_theo_15.wav  \n",
            "  inflating: recordings/3_theo_16.wav  \n",
            "  inflating: recordings/3_theo_17.wav  \n",
            "  inflating: recordings/3_theo_18.wav  \n",
            "  inflating: recordings/3_theo_19.wav  \n",
            "  inflating: recordings/3_theo_2.wav  \n",
            "  inflating: recordings/3_theo_20.wav  \n",
            "  inflating: recordings/3_theo_21.wav  \n",
            "  inflating: recordings/3_theo_22.wav  \n",
            "  inflating: recordings/3_theo_23.wav  \n",
            "  inflating: recordings/3_theo_24.wav  \n",
            "  inflating: recordings/3_theo_25.wav  \n",
            "  inflating: recordings/3_theo_26.wav  \n",
            "  inflating: recordings/3_theo_27.wav  \n",
            "  inflating: recordings/3_theo_28.wav  \n",
            "  inflating: recordings/3_theo_29.wav  \n",
            "  inflating: recordings/3_theo_3.wav  \n",
            "  inflating: recordings/3_theo_30.wav  \n",
            "  inflating: recordings/3_theo_31.wav  \n",
            "  inflating: recordings/3_theo_32.wav  \n",
            "  inflating: recordings/3_theo_33.wav  \n",
            "  inflating: recordings/3_theo_34.wav  \n",
            "  inflating: recordings/3_theo_35.wav  \n",
            "  inflating: recordings/3_theo_36.wav  \n",
            "  inflating: recordings/3_theo_37.wav  \n",
            "  inflating: recordings/3_theo_38.wav  \n",
            "  inflating: recordings/3_theo_39.wav  \n",
            "  inflating: recordings/3_theo_4.wav  \n",
            "  inflating: recordings/3_theo_40.wav  \n",
            "  inflating: recordings/3_theo_41.wav  \n",
            "  inflating: recordings/3_theo_42.wav  \n",
            "  inflating: recordings/3_theo_43.wav  \n",
            "  inflating: recordings/3_theo_44.wav  \n",
            "  inflating: recordings/3_theo_45.wav  \n",
            "  inflating: recordings/3_theo_46.wav  \n",
            "  inflating: recordings/3_theo_47.wav  \n",
            "  inflating: recordings/3_theo_48.wav  \n",
            "  inflating: recordings/3_theo_49.wav  \n",
            "  inflating: recordings/3_theo_5.wav  \n",
            "  inflating: recordings/3_theo_6.wav  \n",
            "  inflating: recordings/3_theo_7.wav  \n",
            "  inflating: recordings/3_theo_8.wav  \n",
            "  inflating: recordings/3_theo_9.wav  \n",
            "  inflating: recordings/3_yweweler_0.wav  \n",
            "  inflating: recordings/3_yweweler_1.wav  \n",
            "  inflating: recordings/3_yweweler_10.wav  \n",
            "  inflating: recordings/3_yweweler_11.wav  \n",
            "  inflating: recordings/3_yweweler_12.wav  \n",
            "  inflating: recordings/3_yweweler_13.wav  \n",
            "  inflating: recordings/3_yweweler_14.wav  \n",
            "  inflating: recordings/3_yweweler_15.wav  \n",
            "  inflating: recordings/3_yweweler_16.wav  \n",
            "  inflating: recordings/3_yweweler_17.wav  \n",
            "  inflating: recordings/3_yweweler_18.wav  \n",
            "  inflating: recordings/3_yweweler_19.wav  \n",
            "  inflating: recordings/3_yweweler_2.wav  \n",
            "  inflating: recordings/3_yweweler_20.wav  \n",
            "  inflating: recordings/3_yweweler_21.wav  \n",
            "  inflating: recordings/3_yweweler_22.wav  \n",
            "  inflating: recordings/3_yweweler_23.wav  \n",
            "  inflating: recordings/3_yweweler_24.wav  \n",
            "  inflating: recordings/3_yweweler_25.wav  \n",
            "  inflating: recordings/3_yweweler_26.wav  \n",
            "  inflating: recordings/3_yweweler_27.wav  \n",
            "  inflating: recordings/3_yweweler_28.wav  \n",
            "  inflating: recordings/3_yweweler_29.wav  \n",
            "  inflating: recordings/3_yweweler_3.wav  \n",
            "  inflating: recordings/3_yweweler_30.wav  \n",
            "  inflating: recordings/3_yweweler_31.wav  \n",
            "  inflating: recordings/3_yweweler_32.wav  \n",
            "  inflating: recordings/3_yweweler_33.wav  \n",
            "  inflating: recordings/3_yweweler_34.wav  \n",
            "  inflating: recordings/3_yweweler_35.wav  \n",
            "  inflating: recordings/3_yweweler_36.wav  \n",
            "  inflating: recordings/3_yweweler_37.wav  \n",
            "  inflating: recordings/3_yweweler_38.wav  \n",
            "  inflating: recordings/3_yweweler_39.wav  \n",
            "  inflating: recordings/3_yweweler_4.wav  \n",
            "  inflating: recordings/3_yweweler_40.wav  \n",
            "  inflating: recordings/3_yweweler_41.wav  \n",
            "  inflating: recordings/3_yweweler_42.wav  \n",
            "  inflating: recordings/3_yweweler_43.wav  \n",
            "  inflating: recordings/3_yweweler_44.wav  \n",
            "  inflating: recordings/3_yweweler_45.wav  \n",
            "  inflating: recordings/3_yweweler_46.wav  \n",
            "  inflating: recordings/3_yweweler_47.wav  \n",
            "  inflating: recordings/3_yweweler_48.wav  \n",
            "  inflating: recordings/3_yweweler_49.wav  \n",
            "  inflating: recordings/3_yweweler_5.wav  \n",
            "  inflating: recordings/3_yweweler_6.wav  \n",
            "  inflating: recordings/3_yweweler_7.wav  \n",
            "  inflating: recordings/3_yweweler_8.wav  \n",
            "  inflating: recordings/3_yweweler_9.wav  \n",
            "  inflating: recordings/4_jackson_0.wav  \n",
            "  inflating: recordings/4_jackson_1.wav  \n",
            "  inflating: recordings/4_jackson_10.wav  \n",
            "  inflating: recordings/4_jackson_11.wav  \n",
            "  inflating: recordings/4_jackson_12.wav  \n",
            "  inflating: recordings/4_jackson_13.wav  \n",
            "  inflating: recordings/4_jackson_14.wav  \n",
            "  inflating: recordings/4_jackson_15.wav  \n",
            "  inflating: recordings/4_jackson_16.wav  \n",
            "  inflating: recordings/4_jackson_17.wav  \n",
            "  inflating: recordings/4_jackson_18.wav  \n",
            "  inflating: recordings/4_jackson_19.wav  \n",
            "  inflating: recordings/4_jackson_2.wav  \n",
            "  inflating: recordings/4_jackson_20.wav  \n",
            "  inflating: recordings/4_jackson_21.wav  \n",
            "  inflating: recordings/4_jackson_22.wav  \n",
            "  inflating: recordings/4_jackson_23.wav  \n",
            "  inflating: recordings/4_jackson_24.wav  \n",
            "  inflating: recordings/4_jackson_25.wav  \n",
            "  inflating: recordings/4_jackson_26.wav  \n",
            "  inflating: recordings/4_jackson_27.wav  \n",
            "  inflating: recordings/4_jackson_28.wav  \n",
            "  inflating: recordings/4_jackson_29.wav  \n",
            "  inflating: recordings/4_jackson_3.wav  \n",
            "  inflating: recordings/4_jackson_30.wav  \n",
            "  inflating: recordings/4_jackson_31.wav  \n",
            "  inflating: recordings/4_jackson_32.wav  \n",
            "  inflating: recordings/4_jackson_33.wav  \n",
            "  inflating: recordings/4_jackson_34.wav  \n",
            "  inflating: recordings/4_jackson_35.wav  \n",
            "  inflating: recordings/4_jackson_36.wav  \n",
            "  inflating: recordings/4_jackson_37.wav  \n",
            "  inflating: recordings/4_jackson_38.wav  \n",
            "  inflating: recordings/4_jackson_39.wav  \n",
            "  inflating: recordings/4_jackson_4.wav  \n",
            "  inflating: recordings/4_jackson_40.wav  \n",
            "  inflating: recordings/4_jackson_41.wav  \n",
            "  inflating: recordings/4_jackson_42.wav  \n",
            "  inflating: recordings/4_jackson_43.wav  \n",
            "  inflating: recordings/4_jackson_44.wav  \n",
            "  inflating: recordings/4_jackson_45.wav  \n",
            "  inflating: recordings/4_jackson_46.wav  \n",
            "  inflating: recordings/4_jackson_47.wav  \n",
            "  inflating: recordings/4_jackson_48.wav  \n",
            "  inflating: recordings/4_jackson_49.wav  \n",
            "  inflating: recordings/4_jackson_5.wav  \n",
            "  inflating: recordings/4_jackson_6.wav  \n",
            "  inflating: recordings/4_jackson_7.wav  \n",
            "  inflating: recordings/4_jackson_8.wav  \n",
            "  inflating: recordings/4_jackson_9.wav  \n",
            "  inflating: recordings/4_nicolas_0.wav  \n",
            "  inflating: recordings/4_nicolas_1.wav  \n",
            "  inflating: recordings/4_nicolas_10.wav  \n",
            "  inflating: recordings/4_nicolas_11.wav  \n",
            "  inflating: recordings/4_nicolas_12.wav  \n",
            "  inflating: recordings/4_nicolas_13.wav  \n",
            "  inflating: recordings/4_nicolas_14.wav  \n",
            "  inflating: recordings/4_nicolas_15.wav  \n",
            "  inflating: recordings/4_nicolas_16.wav  \n",
            "  inflating: recordings/4_nicolas_17.wav  \n",
            "  inflating: recordings/4_nicolas_18.wav  \n",
            "  inflating: recordings/4_nicolas_19.wav  \n",
            "  inflating: recordings/4_nicolas_2.wav  \n",
            "  inflating: recordings/4_nicolas_20.wav  \n",
            "  inflating: recordings/4_nicolas_21.wav  \n",
            "  inflating: recordings/4_nicolas_22.wav  \n",
            "  inflating: recordings/4_nicolas_23.wav  \n",
            "  inflating: recordings/4_nicolas_24.wav  \n",
            "  inflating: recordings/4_nicolas_25.wav  \n",
            "  inflating: recordings/4_nicolas_26.wav  \n",
            "  inflating: recordings/4_nicolas_27.wav  \n",
            "  inflating: recordings/4_nicolas_28.wav  \n",
            "  inflating: recordings/4_nicolas_29.wav  \n",
            "  inflating: recordings/4_nicolas_3.wav  \n",
            "  inflating: recordings/4_nicolas_30.wav  \n",
            "  inflating: recordings/4_nicolas_31.wav  \n",
            "  inflating: recordings/4_nicolas_32.wav  \n",
            "  inflating: recordings/4_nicolas_33.wav  \n",
            "  inflating: recordings/4_nicolas_34.wav  \n",
            "  inflating: recordings/4_nicolas_35.wav  \n",
            "  inflating: recordings/4_nicolas_36.wav  \n",
            "  inflating: recordings/4_nicolas_37.wav  \n",
            "  inflating: recordings/4_nicolas_38.wav  \n",
            "  inflating: recordings/4_nicolas_39.wav  \n",
            "  inflating: recordings/4_nicolas_4.wav  \n",
            "  inflating: recordings/4_nicolas_40.wav  \n",
            "  inflating: recordings/4_nicolas_41.wav  \n",
            "  inflating: recordings/4_nicolas_42.wav  \n",
            "  inflating: recordings/4_nicolas_43.wav  \n",
            "  inflating: recordings/4_nicolas_44.wav  \n",
            "  inflating: recordings/4_nicolas_45.wav  \n",
            "  inflating: recordings/4_nicolas_46.wav  \n",
            "  inflating: recordings/4_nicolas_47.wav  \n",
            "  inflating: recordings/4_nicolas_48.wav  \n",
            "  inflating: recordings/4_nicolas_49.wav  \n",
            "  inflating: recordings/4_nicolas_5.wav  \n",
            "  inflating: recordings/4_nicolas_6.wav  \n",
            "  inflating: recordings/4_nicolas_7.wav  \n",
            "  inflating: recordings/4_nicolas_8.wav  \n",
            "  inflating: recordings/4_nicolas_9.wav  \n",
            "  inflating: recordings/4_theo_0.wav  \n",
            "  inflating: recordings/4_theo_1.wav  \n",
            "  inflating: recordings/4_theo_10.wav  \n",
            "  inflating: recordings/4_theo_11.wav  \n",
            "  inflating: recordings/4_theo_12.wav  \n",
            "  inflating: recordings/4_theo_13.wav  \n",
            "  inflating: recordings/4_theo_14.wav  \n",
            "  inflating: recordings/4_theo_15.wav  \n",
            "  inflating: recordings/4_theo_16.wav  \n",
            "  inflating: recordings/4_theo_17.wav  \n",
            "  inflating: recordings/4_theo_18.wav  \n",
            "  inflating: recordings/4_theo_19.wav  \n",
            "  inflating: recordings/4_theo_2.wav  \n",
            "  inflating: recordings/4_theo_20.wav  \n",
            "  inflating: recordings/4_theo_21.wav  \n",
            "  inflating: recordings/4_theo_22.wav  \n",
            "  inflating: recordings/4_theo_23.wav  \n",
            "  inflating: recordings/4_theo_24.wav  \n",
            "  inflating: recordings/4_theo_25.wav  \n",
            "  inflating: recordings/4_theo_26.wav  \n",
            "  inflating: recordings/4_theo_27.wav  \n",
            "  inflating: recordings/4_theo_28.wav  \n",
            "  inflating: recordings/4_theo_29.wav  \n",
            "  inflating: recordings/4_theo_3.wav  \n",
            "  inflating: recordings/4_theo_30.wav  \n",
            "  inflating: recordings/4_theo_31.wav  \n",
            "  inflating: recordings/4_theo_32.wav  \n",
            "  inflating: recordings/4_theo_33.wav  \n",
            "  inflating: recordings/4_theo_34.wav  \n",
            "  inflating: recordings/4_theo_35.wav  \n",
            "  inflating: recordings/4_theo_36.wav  \n",
            "  inflating: recordings/4_theo_37.wav  \n",
            "  inflating: recordings/4_theo_38.wav  \n",
            "  inflating: recordings/4_theo_39.wav  \n",
            "  inflating: recordings/4_theo_4.wav  \n",
            "  inflating: recordings/4_theo_40.wav  \n",
            "  inflating: recordings/4_theo_41.wav  \n",
            "  inflating: recordings/4_theo_42.wav  \n",
            "  inflating: recordings/4_theo_43.wav  \n",
            "  inflating: recordings/4_theo_44.wav  \n",
            "  inflating: recordings/4_theo_45.wav  \n",
            "  inflating: recordings/4_theo_46.wav  \n",
            "  inflating: recordings/4_theo_47.wav  \n",
            "  inflating: recordings/4_theo_48.wav  \n",
            "  inflating: recordings/4_theo_49.wav  \n",
            "  inflating: recordings/4_theo_5.wav  \n",
            "  inflating: recordings/4_theo_6.wav  \n",
            "  inflating: recordings/4_theo_7.wav  \n",
            "  inflating: recordings/4_theo_8.wav  \n",
            "  inflating: recordings/4_theo_9.wav  \n",
            "  inflating: recordings/4_yweweler_0.wav  \n",
            "  inflating: recordings/4_yweweler_1.wav  \n",
            "  inflating: recordings/4_yweweler_10.wav  \n",
            "  inflating: recordings/4_yweweler_11.wav  \n",
            "  inflating: recordings/4_yweweler_12.wav  \n",
            "  inflating: recordings/4_yweweler_13.wav  \n",
            "  inflating: recordings/4_yweweler_14.wav  \n",
            "  inflating: recordings/4_yweweler_15.wav  \n",
            "  inflating: recordings/4_yweweler_16.wav  \n",
            "  inflating: recordings/4_yweweler_17.wav  \n",
            "  inflating: recordings/4_yweweler_18.wav  \n",
            "  inflating: recordings/4_yweweler_19.wav  \n",
            "  inflating: recordings/4_yweweler_2.wav  \n",
            "  inflating: recordings/4_yweweler_20.wav  \n",
            "  inflating: recordings/4_yweweler_21.wav  \n",
            "  inflating: recordings/4_yweweler_22.wav  \n",
            "  inflating: recordings/4_yweweler_23.wav  \n",
            "  inflating: recordings/4_yweweler_24.wav  \n",
            "  inflating: recordings/4_yweweler_25.wav  \n",
            "  inflating: recordings/4_yweweler_26.wav  \n",
            "  inflating: recordings/4_yweweler_27.wav  \n",
            "  inflating: recordings/4_yweweler_28.wav  \n",
            "  inflating: recordings/4_yweweler_29.wav  \n",
            "  inflating: recordings/4_yweweler_3.wav  \n",
            "  inflating: recordings/4_yweweler_30.wav  \n",
            "  inflating: recordings/4_yweweler_31.wav  \n",
            "  inflating: recordings/4_yweweler_32.wav  \n",
            "  inflating: recordings/4_yweweler_33.wav  \n",
            "  inflating: recordings/4_yweweler_34.wav  \n",
            "  inflating: recordings/4_yweweler_35.wav  \n",
            "  inflating: recordings/4_yweweler_36.wav  \n",
            "  inflating: recordings/4_yweweler_37.wav  \n",
            "  inflating: recordings/4_yweweler_38.wav  \n",
            "  inflating: recordings/4_yweweler_39.wav  \n",
            "  inflating: recordings/4_yweweler_4.wav  \n",
            "  inflating: recordings/4_yweweler_40.wav  \n",
            "  inflating: recordings/4_yweweler_41.wav  \n",
            "  inflating: recordings/4_yweweler_42.wav  \n",
            "  inflating: recordings/4_yweweler_43.wav  \n",
            "  inflating: recordings/4_yweweler_44.wav  \n",
            "  inflating: recordings/4_yweweler_45.wav  \n",
            "  inflating: recordings/4_yweweler_46.wav  \n",
            "  inflating: recordings/4_yweweler_47.wav  \n",
            "  inflating: recordings/4_yweweler_48.wav  \n",
            "  inflating: recordings/4_yweweler_49.wav  \n",
            "  inflating: recordings/4_yweweler_5.wav  \n",
            "  inflating: recordings/4_yweweler_6.wav  \n",
            "  inflating: recordings/4_yweweler_7.wav  \n",
            "  inflating: recordings/4_yweweler_8.wav  \n",
            "  inflating: recordings/4_yweweler_9.wav  \n",
            "  inflating: recordings/5_jackson_0.wav  \n",
            "  inflating: recordings/5_jackson_1.wav  \n",
            "  inflating: recordings/5_jackson_10.wav  \n",
            "  inflating: recordings/5_jackson_11.wav  \n",
            "  inflating: recordings/5_jackson_12.wav  \n",
            "  inflating: recordings/5_jackson_13.wav  \n",
            "  inflating: recordings/5_jackson_14.wav  \n",
            "  inflating: recordings/5_jackson_15.wav  \n",
            "  inflating: recordings/5_jackson_16.wav  \n",
            "  inflating: recordings/5_jackson_17.wav  \n",
            "  inflating: recordings/5_jackson_18.wav  \n",
            "  inflating: recordings/5_jackson_19.wav  \n",
            "  inflating: recordings/5_jackson_2.wav  \n",
            "  inflating: recordings/5_jackson_20.wav  \n",
            "  inflating: recordings/5_jackson_21.wav  \n",
            "  inflating: recordings/5_jackson_22.wav  \n",
            "  inflating: recordings/5_jackson_23.wav  \n",
            "  inflating: recordings/5_jackson_24.wav  \n",
            "  inflating: recordings/5_jackson_25.wav  \n",
            "  inflating: recordings/5_jackson_26.wav  \n",
            "  inflating: recordings/5_jackson_27.wav  \n",
            "  inflating: recordings/5_jackson_28.wav  \n",
            "  inflating: recordings/5_jackson_29.wav  \n",
            "  inflating: recordings/5_jackson_3.wav  \n",
            "  inflating: recordings/5_jackson_30.wav  \n",
            "  inflating: recordings/5_jackson_31.wav  \n",
            "  inflating: recordings/5_jackson_32.wav  \n",
            "  inflating: recordings/5_jackson_33.wav  \n",
            "  inflating: recordings/5_jackson_34.wav  \n",
            "  inflating: recordings/5_jackson_35.wav  \n",
            "  inflating: recordings/5_jackson_36.wav  \n",
            "  inflating: recordings/5_jackson_37.wav  \n",
            "  inflating: recordings/5_jackson_38.wav  \n",
            "  inflating: recordings/5_jackson_39.wav  \n",
            "  inflating: recordings/5_jackson_4.wav  \n",
            "  inflating: recordings/5_jackson_40.wav  \n",
            "  inflating: recordings/5_jackson_41.wav  \n",
            "  inflating: recordings/5_jackson_42.wav  \n",
            "  inflating: recordings/5_jackson_43.wav  \n",
            "  inflating: recordings/5_jackson_44.wav  \n",
            "  inflating: recordings/5_jackson_45.wav  \n",
            "  inflating: recordings/5_jackson_46.wav  \n",
            "  inflating: recordings/5_jackson_47.wav  \n",
            "  inflating: recordings/5_jackson_48.wav  \n",
            "  inflating: recordings/5_jackson_49.wav  \n",
            "  inflating: recordings/5_jackson_5.wav  \n",
            "  inflating: recordings/5_jackson_6.wav  \n",
            "  inflating: recordings/5_jackson_7.wav  \n",
            "  inflating: recordings/5_jackson_8.wav  \n",
            "  inflating: recordings/5_jackson_9.wav  \n",
            "  inflating: recordings/5_nicolas_0.wav  \n",
            "  inflating: recordings/5_nicolas_1.wav  \n",
            "  inflating: recordings/5_nicolas_10.wav  \n",
            "  inflating: recordings/5_nicolas_11.wav  \n",
            "  inflating: recordings/5_nicolas_12.wav  \n",
            "  inflating: recordings/5_nicolas_13.wav  \n",
            "  inflating: recordings/5_nicolas_14.wav  \n",
            "  inflating: recordings/5_nicolas_15.wav  \n",
            "  inflating: recordings/5_nicolas_16.wav  \n",
            "  inflating: recordings/5_nicolas_17.wav  \n",
            "  inflating: recordings/5_nicolas_18.wav  \n",
            "  inflating: recordings/5_nicolas_19.wav  \n",
            "  inflating: recordings/5_nicolas_2.wav  \n",
            "  inflating: recordings/5_nicolas_20.wav  \n",
            "  inflating: recordings/5_nicolas_21.wav  \n",
            "  inflating: recordings/5_nicolas_22.wav  \n",
            "  inflating: recordings/5_nicolas_23.wav  \n",
            "  inflating: recordings/5_nicolas_24.wav  \n",
            "  inflating: recordings/5_nicolas_25.wav  \n",
            "  inflating: recordings/5_nicolas_26.wav  \n",
            "  inflating: recordings/5_nicolas_27.wav  \n",
            "  inflating: recordings/5_nicolas_28.wav  \n",
            "  inflating: recordings/5_nicolas_29.wav  \n",
            "  inflating: recordings/5_nicolas_3.wav  \n",
            "  inflating: recordings/5_nicolas_30.wav  \n",
            "  inflating: recordings/5_nicolas_31.wav  \n",
            "  inflating: recordings/5_nicolas_32.wav  \n",
            "  inflating: recordings/5_nicolas_33.wav  \n",
            "  inflating: recordings/5_nicolas_34.wav  \n",
            "  inflating: recordings/5_nicolas_35.wav  \n",
            "  inflating: recordings/5_nicolas_36.wav  \n",
            "  inflating: recordings/5_nicolas_37.wav  \n",
            "  inflating: recordings/5_nicolas_38.wav  \n",
            "  inflating: recordings/5_nicolas_39.wav  \n",
            "  inflating: recordings/5_nicolas_4.wav  \n",
            "  inflating: recordings/5_nicolas_40.wav  \n",
            "  inflating: recordings/5_nicolas_41.wav  \n",
            "  inflating: recordings/5_nicolas_42.wav  \n",
            "  inflating: recordings/5_nicolas_43.wav  \n",
            "  inflating: recordings/5_nicolas_44.wav  \n",
            "  inflating: recordings/5_nicolas_45.wav  \n",
            "  inflating: recordings/5_nicolas_46.wav  \n",
            "  inflating: recordings/5_nicolas_47.wav  \n",
            "  inflating: recordings/5_nicolas_48.wav  \n",
            "  inflating: recordings/5_nicolas_49.wav  \n",
            "  inflating: recordings/5_nicolas_5.wav  \n",
            "  inflating: recordings/5_nicolas_6.wav  \n",
            "  inflating: recordings/5_nicolas_7.wav  \n",
            "  inflating: recordings/5_nicolas_8.wav  \n",
            "  inflating: recordings/5_nicolas_9.wav  \n",
            "  inflating: recordings/5_theo_0.wav  \n",
            "  inflating: recordings/5_theo_1.wav  \n",
            "  inflating: recordings/5_theo_10.wav  \n",
            "  inflating: recordings/5_theo_11.wav  \n",
            "  inflating: recordings/5_theo_12.wav  \n",
            "  inflating: recordings/5_theo_13.wav  \n",
            "  inflating: recordings/5_theo_14.wav  \n",
            "  inflating: recordings/5_theo_15.wav  \n",
            "  inflating: recordings/5_theo_16.wav  \n",
            "  inflating: recordings/5_theo_17.wav  \n",
            "  inflating: recordings/5_theo_18.wav  \n",
            "  inflating: recordings/5_theo_19.wav  \n",
            "  inflating: recordings/5_theo_2.wav  \n",
            "  inflating: recordings/5_theo_20.wav  \n",
            "  inflating: recordings/5_theo_21.wav  \n",
            "  inflating: recordings/5_theo_22.wav  \n",
            "  inflating: recordings/5_theo_23.wav  \n",
            "  inflating: recordings/5_theo_24.wav  \n",
            "  inflating: recordings/5_theo_25.wav  \n",
            "  inflating: recordings/5_theo_26.wav  \n",
            "  inflating: recordings/5_theo_27.wav  \n",
            "  inflating: recordings/5_theo_28.wav  \n",
            "  inflating: recordings/5_theo_29.wav  \n",
            "  inflating: recordings/5_theo_3.wav  \n",
            "  inflating: recordings/5_theo_30.wav  \n",
            "  inflating: recordings/5_theo_31.wav  \n",
            "  inflating: recordings/5_theo_32.wav  \n",
            "  inflating: recordings/5_theo_33.wav  \n",
            "  inflating: recordings/5_theo_34.wav  \n",
            "  inflating: recordings/5_theo_35.wav  \n",
            "  inflating: recordings/5_theo_36.wav  \n",
            "  inflating: recordings/5_theo_37.wav  \n",
            "  inflating: recordings/5_theo_38.wav  \n",
            "  inflating: recordings/5_theo_39.wav  \n",
            "  inflating: recordings/5_theo_4.wav  \n",
            "  inflating: recordings/5_theo_40.wav  \n",
            "  inflating: recordings/5_theo_41.wav  \n",
            "  inflating: recordings/5_theo_42.wav  \n",
            "  inflating: recordings/5_theo_43.wav  \n",
            "  inflating: recordings/5_theo_44.wav  \n",
            "  inflating: recordings/5_theo_45.wav  \n",
            "  inflating: recordings/5_theo_46.wav  \n",
            "  inflating: recordings/5_theo_47.wav  \n",
            "  inflating: recordings/5_theo_48.wav  \n",
            "  inflating: recordings/5_theo_49.wav  \n",
            "  inflating: recordings/5_theo_5.wav  \n",
            "  inflating: recordings/5_theo_6.wav  \n",
            "  inflating: recordings/5_theo_7.wav  \n",
            "  inflating: recordings/5_theo_8.wav  \n",
            "  inflating: recordings/5_theo_9.wav  \n",
            "  inflating: recordings/5_yweweler_0.wav  \n",
            "  inflating: recordings/5_yweweler_1.wav  \n",
            "  inflating: recordings/5_yweweler_10.wav  \n",
            "  inflating: recordings/5_yweweler_11.wav  \n",
            "  inflating: recordings/5_yweweler_12.wav  \n",
            "  inflating: recordings/5_yweweler_13.wav  \n",
            "  inflating: recordings/5_yweweler_14.wav  \n",
            "  inflating: recordings/5_yweweler_15.wav  \n",
            "  inflating: recordings/5_yweweler_16.wav  \n",
            "  inflating: recordings/5_yweweler_17.wav  \n",
            "  inflating: recordings/5_yweweler_18.wav  \n",
            "  inflating: recordings/5_yweweler_19.wav  \n",
            "  inflating: recordings/5_yweweler_2.wav  \n",
            "  inflating: recordings/5_yweweler_20.wav  \n",
            "  inflating: recordings/5_yweweler_21.wav  \n",
            "  inflating: recordings/5_yweweler_22.wav  \n",
            "  inflating: recordings/5_yweweler_23.wav  \n",
            "  inflating: recordings/5_yweweler_24.wav  \n",
            "  inflating: recordings/5_yweweler_25.wav  \n",
            "  inflating: recordings/5_yweweler_26.wav  \n",
            "  inflating: recordings/5_yweweler_27.wav  \n",
            "  inflating: recordings/5_yweweler_28.wav  \n",
            "  inflating: recordings/5_yweweler_29.wav  \n",
            "  inflating: recordings/5_yweweler_3.wav  \n",
            "  inflating: recordings/5_yweweler_30.wav  \n",
            "  inflating: recordings/5_yweweler_31.wav  \n",
            "  inflating: recordings/5_yweweler_32.wav  \n",
            "  inflating: recordings/5_yweweler_33.wav  \n",
            "  inflating: recordings/5_yweweler_34.wav  \n",
            "  inflating: recordings/5_yweweler_35.wav  \n",
            "  inflating: recordings/5_yweweler_36.wav  \n",
            "  inflating: recordings/5_yweweler_37.wav  \n",
            "  inflating: recordings/5_yweweler_38.wav  \n",
            "  inflating: recordings/5_yweweler_39.wav  \n",
            "  inflating: recordings/5_yweweler_4.wav  \n",
            "  inflating: recordings/5_yweweler_40.wav  \n",
            "  inflating: recordings/5_yweweler_41.wav  \n",
            "  inflating: recordings/5_yweweler_42.wav  \n",
            "  inflating: recordings/5_yweweler_43.wav  \n",
            "  inflating: recordings/5_yweweler_44.wav  \n",
            "  inflating: recordings/5_yweweler_45.wav  \n",
            "  inflating: recordings/5_yweweler_46.wav  \n",
            "  inflating: recordings/5_yweweler_47.wav  \n",
            "  inflating: recordings/5_yweweler_48.wav  \n",
            "  inflating: recordings/5_yweweler_49.wav  \n",
            "  inflating: recordings/5_yweweler_5.wav  \n",
            "  inflating: recordings/5_yweweler_6.wav  \n",
            "  inflating: recordings/5_yweweler_7.wav  \n",
            "  inflating: recordings/5_yweweler_8.wav  \n",
            "  inflating: recordings/5_yweweler_9.wav  \n",
            "  inflating: recordings/6_jackson_0.wav  \n",
            "  inflating: recordings/6_jackson_1.wav  \n",
            "  inflating: recordings/6_jackson_10.wav  \n",
            "  inflating: recordings/6_jackson_11.wav  \n",
            "  inflating: recordings/6_jackson_12.wav  \n",
            "  inflating: recordings/6_jackson_13.wav  \n",
            "  inflating: recordings/6_jackson_14.wav  \n",
            "  inflating: recordings/6_jackson_15.wav  \n",
            "  inflating: recordings/6_jackson_16.wav  \n",
            "  inflating: recordings/6_jackson_17.wav  \n",
            "  inflating: recordings/6_jackson_18.wav  \n",
            "  inflating: recordings/6_jackson_19.wav  \n",
            "  inflating: recordings/6_jackson_2.wav  \n",
            "  inflating: recordings/6_jackson_20.wav  \n",
            "  inflating: recordings/6_jackson_21.wav  \n",
            "  inflating: recordings/6_jackson_22.wav  \n",
            "  inflating: recordings/6_jackson_23.wav  \n",
            "  inflating: recordings/6_jackson_24.wav  \n",
            "  inflating: recordings/6_jackson_25.wav  \n",
            "  inflating: recordings/6_jackson_26.wav  \n",
            "  inflating: recordings/6_jackson_27.wav  \n",
            "  inflating: recordings/6_jackson_28.wav  \n",
            "  inflating: recordings/6_jackson_29.wav  \n",
            "  inflating: recordings/6_jackson_3.wav  \n",
            "  inflating: recordings/6_jackson_30.wav  \n",
            "  inflating: recordings/6_jackson_31.wav  \n",
            "  inflating: recordings/6_jackson_32.wav  \n",
            "  inflating: recordings/6_jackson_33.wav  \n",
            "  inflating: recordings/6_jackson_34.wav  \n",
            "  inflating: recordings/6_jackson_35.wav  \n",
            "  inflating: recordings/6_jackson_36.wav  \n",
            "  inflating: recordings/6_jackson_37.wav  \n",
            "  inflating: recordings/6_jackson_38.wav  \n",
            "  inflating: recordings/6_jackson_39.wav  \n",
            "  inflating: recordings/6_jackson_4.wav  \n",
            "  inflating: recordings/6_jackson_40.wav  \n",
            "  inflating: recordings/6_jackson_41.wav  \n",
            "  inflating: recordings/6_jackson_42.wav  \n",
            "  inflating: recordings/6_jackson_43.wav  \n",
            "  inflating: recordings/6_jackson_44.wav  \n",
            "  inflating: recordings/6_jackson_45.wav  \n",
            "  inflating: recordings/6_jackson_46.wav  \n",
            "  inflating: recordings/6_jackson_47.wav  \n",
            "  inflating: recordings/6_jackson_48.wav  \n",
            "  inflating: recordings/6_jackson_49.wav  \n",
            "  inflating: recordings/6_jackson_5.wav  \n",
            "  inflating: recordings/6_jackson_6.wav  \n",
            "  inflating: recordings/6_jackson_7.wav  \n",
            "  inflating: recordings/6_jackson_8.wav  \n",
            "  inflating: recordings/6_jackson_9.wav  \n",
            "  inflating: recordings/6_nicolas_0.wav  \n",
            "  inflating: recordings/6_nicolas_1.wav  \n",
            "  inflating: recordings/6_nicolas_10.wav  \n",
            "  inflating: recordings/6_nicolas_11.wav  \n",
            "  inflating: recordings/6_nicolas_12.wav  \n",
            "  inflating: recordings/6_nicolas_13.wav  \n",
            "  inflating: recordings/6_nicolas_14.wav  \n",
            "  inflating: recordings/6_nicolas_15.wav  \n",
            "  inflating: recordings/6_nicolas_16.wav  \n",
            "  inflating: recordings/6_nicolas_17.wav  \n",
            "  inflating: recordings/6_nicolas_18.wav  \n",
            "  inflating: recordings/6_nicolas_19.wav  \n",
            "  inflating: recordings/6_nicolas_2.wav  \n",
            "  inflating: recordings/6_nicolas_20.wav  \n",
            "  inflating: recordings/6_nicolas_21.wav  \n",
            "  inflating: recordings/6_nicolas_22.wav  \n",
            "  inflating: recordings/6_nicolas_23.wav  \n",
            "  inflating: recordings/6_nicolas_24.wav  \n",
            "  inflating: recordings/6_nicolas_25.wav  \n",
            "  inflating: recordings/6_nicolas_26.wav  \n",
            "  inflating: recordings/6_nicolas_27.wav  \n",
            "  inflating: recordings/6_nicolas_28.wav  \n",
            "  inflating: recordings/6_nicolas_29.wav  \n",
            "  inflating: recordings/6_nicolas_3.wav  \n",
            "  inflating: recordings/6_nicolas_30.wav  \n",
            "  inflating: recordings/6_nicolas_31.wav  \n",
            "  inflating: recordings/6_nicolas_32.wav  \n",
            "  inflating: recordings/6_nicolas_33.wav  \n",
            "  inflating: recordings/6_nicolas_34.wav  \n",
            "  inflating: recordings/6_nicolas_35.wav  \n",
            "  inflating: recordings/6_nicolas_36.wav  \n",
            "  inflating: recordings/6_nicolas_37.wav  \n",
            "  inflating: recordings/6_nicolas_38.wav  \n",
            "  inflating: recordings/6_nicolas_39.wav  \n",
            "  inflating: recordings/6_nicolas_4.wav  \n",
            "  inflating: recordings/6_nicolas_40.wav  \n",
            "  inflating: recordings/6_nicolas_41.wav  \n",
            "  inflating: recordings/6_nicolas_42.wav  \n",
            "  inflating: recordings/6_nicolas_43.wav  \n",
            "  inflating: recordings/6_nicolas_44.wav  \n",
            "  inflating: recordings/6_nicolas_45.wav  \n",
            "  inflating: recordings/6_nicolas_46.wav  \n",
            "  inflating: recordings/6_nicolas_47.wav  \n",
            "  inflating: recordings/6_nicolas_48.wav  \n",
            "  inflating: recordings/6_nicolas_49.wav  \n",
            "  inflating: recordings/6_nicolas_5.wav  \n",
            "  inflating: recordings/6_nicolas_6.wav  \n",
            "  inflating: recordings/6_nicolas_7.wav  \n",
            "  inflating: recordings/6_nicolas_8.wav  \n",
            "  inflating: recordings/6_nicolas_9.wav  \n",
            "  inflating: recordings/6_theo_0.wav  \n",
            "  inflating: recordings/6_theo_1.wav  \n",
            "  inflating: recordings/6_theo_10.wav  \n",
            "  inflating: recordings/6_theo_11.wav  \n",
            "  inflating: recordings/6_theo_12.wav  \n",
            "  inflating: recordings/6_theo_13.wav  \n",
            "  inflating: recordings/6_theo_14.wav  \n",
            "  inflating: recordings/6_theo_15.wav  \n",
            "  inflating: recordings/6_theo_16.wav  \n",
            "  inflating: recordings/6_theo_17.wav  \n",
            "  inflating: recordings/6_theo_18.wav  \n",
            "  inflating: recordings/6_theo_19.wav  \n",
            "  inflating: recordings/6_theo_2.wav  \n",
            "  inflating: recordings/6_theo_20.wav  \n",
            "  inflating: recordings/6_theo_21.wav  \n",
            "  inflating: recordings/6_theo_22.wav  \n",
            "  inflating: recordings/6_theo_23.wav  \n",
            "  inflating: recordings/6_theo_24.wav  \n",
            "  inflating: recordings/6_theo_25.wav  \n",
            "  inflating: recordings/6_theo_26.wav  \n",
            "  inflating: recordings/6_theo_27.wav  \n",
            "  inflating: recordings/6_theo_28.wav  \n",
            "  inflating: recordings/6_theo_29.wav  \n",
            "  inflating: recordings/6_theo_3.wav  \n",
            "  inflating: recordings/6_theo_30.wav  \n",
            "  inflating: recordings/6_theo_31.wav  \n",
            "  inflating: recordings/6_theo_32.wav  \n",
            "  inflating: recordings/6_theo_33.wav  \n",
            "  inflating: recordings/6_theo_34.wav  \n",
            "  inflating: recordings/6_theo_35.wav  \n",
            "  inflating: recordings/6_theo_36.wav  \n",
            "  inflating: recordings/6_theo_37.wav  \n",
            "  inflating: recordings/6_theo_38.wav  \n",
            "  inflating: recordings/6_theo_39.wav  \n",
            "  inflating: recordings/6_theo_4.wav  \n",
            "  inflating: recordings/6_theo_40.wav  \n",
            "  inflating: recordings/6_theo_41.wav  \n",
            "  inflating: recordings/6_theo_42.wav  \n",
            "  inflating: recordings/6_theo_43.wav  \n",
            "  inflating: recordings/6_theo_44.wav  \n",
            "  inflating: recordings/6_theo_45.wav  \n",
            "  inflating: recordings/6_theo_46.wav  \n",
            "  inflating: recordings/6_theo_47.wav  \n",
            "  inflating: recordings/6_theo_48.wav  \n",
            "  inflating: recordings/6_theo_49.wav  \n",
            "  inflating: recordings/6_theo_5.wav  \n",
            "  inflating: recordings/6_theo_6.wav  \n",
            "  inflating: recordings/6_theo_7.wav  \n",
            "  inflating: recordings/6_theo_8.wav  \n",
            "  inflating: recordings/6_theo_9.wav  \n",
            "  inflating: recordings/6_yweweler_0.wav  \n",
            "  inflating: recordings/6_yweweler_1.wav  \n",
            "  inflating: recordings/6_yweweler_10.wav  \n",
            "  inflating: recordings/6_yweweler_11.wav  \n",
            "  inflating: recordings/6_yweweler_12.wav  \n",
            "  inflating: recordings/6_yweweler_13.wav  \n",
            "  inflating: recordings/6_yweweler_14.wav  \n",
            "  inflating: recordings/6_yweweler_15.wav  \n",
            "  inflating: recordings/6_yweweler_16.wav  \n",
            "  inflating: recordings/6_yweweler_17.wav  \n",
            "  inflating: recordings/6_yweweler_18.wav  \n",
            "  inflating: recordings/6_yweweler_19.wav  \n",
            "  inflating: recordings/6_yweweler_2.wav  \n",
            "  inflating: recordings/6_yweweler_20.wav  \n",
            "  inflating: recordings/6_yweweler_21.wav  \n",
            "  inflating: recordings/6_yweweler_22.wav  \n",
            "  inflating: recordings/6_yweweler_23.wav  \n",
            "  inflating: recordings/6_yweweler_24.wav  \n",
            "  inflating: recordings/6_yweweler_25.wav  \n",
            "  inflating: recordings/6_yweweler_26.wav  \n",
            "  inflating: recordings/6_yweweler_27.wav  \n",
            "  inflating: recordings/6_yweweler_28.wav  \n",
            "  inflating: recordings/6_yweweler_29.wav  \n",
            "  inflating: recordings/6_yweweler_3.wav  \n",
            "  inflating: recordings/6_yweweler_30.wav  \n",
            "  inflating: recordings/6_yweweler_31.wav  \n",
            "  inflating: recordings/6_yweweler_32.wav  \n",
            "  inflating: recordings/6_yweweler_33.wav  \n",
            "  inflating: recordings/6_yweweler_34.wav  \n",
            "  inflating: recordings/6_yweweler_35.wav  \n",
            "  inflating: recordings/6_yweweler_36.wav  \n",
            "  inflating: recordings/6_yweweler_37.wav  \n",
            "  inflating: recordings/6_yweweler_38.wav  \n",
            "  inflating: recordings/6_yweweler_39.wav  \n",
            "  inflating: recordings/6_yweweler_4.wav  \n",
            "  inflating: recordings/6_yweweler_40.wav  \n",
            "  inflating: recordings/6_yweweler_41.wav  \n",
            "  inflating: recordings/6_yweweler_42.wav  \n",
            "  inflating: recordings/6_yweweler_43.wav  \n",
            "  inflating: recordings/6_yweweler_44.wav  \n",
            "  inflating: recordings/6_yweweler_45.wav  \n",
            "  inflating: recordings/6_yweweler_46.wav  \n",
            "  inflating: recordings/6_yweweler_47.wav  \n",
            "  inflating: recordings/6_yweweler_48.wav  \n",
            "  inflating: recordings/6_yweweler_49.wav  \n",
            "  inflating: recordings/6_yweweler_5.wav  \n",
            "  inflating: recordings/6_yweweler_6.wav  \n",
            "  inflating: recordings/6_yweweler_7.wav  \n",
            "  inflating: recordings/6_yweweler_8.wav  \n",
            "  inflating: recordings/6_yweweler_9.wav  \n",
            "  inflating: recordings/7_jackson_0.wav  \n",
            "  inflating: recordings/7_jackson_1.wav  \n",
            "  inflating: recordings/7_jackson_10.wav  \n",
            "  inflating: recordings/7_jackson_11.wav  \n",
            "  inflating: recordings/7_jackson_12.wav  \n",
            "  inflating: recordings/7_jackson_13.wav  \n",
            "  inflating: recordings/7_jackson_14.wav  \n",
            "  inflating: recordings/7_jackson_15.wav  \n",
            "  inflating: recordings/7_jackson_16.wav  \n",
            "  inflating: recordings/7_jackson_17.wav  \n",
            "  inflating: recordings/7_jackson_18.wav  \n",
            "  inflating: recordings/7_jackson_19.wav  \n",
            "  inflating: recordings/7_jackson_2.wav  \n",
            "  inflating: recordings/7_jackson_20.wav  \n",
            "  inflating: recordings/7_jackson_21.wav  \n",
            "  inflating: recordings/7_jackson_22.wav  \n",
            "  inflating: recordings/7_jackson_23.wav  \n",
            "  inflating: recordings/7_jackson_24.wav  \n",
            "  inflating: recordings/7_jackson_25.wav  \n",
            "  inflating: recordings/7_jackson_26.wav  \n",
            "  inflating: recordings/7_jackson_27.wav  \n",
            "  inflating: recordings/7_jackson_28.wav  \n",
            "  inflating: recordings/7_jackson_29.wav  \n",
            "  inflating: recordings/7_jackson_3.wav  \n",
            "  inflating: recordings/7_jackson_30.wav  \n",
            "  inflating: recordings/7_jackson_31.wav  \n",
            "  inflating: recordings/7_jackson_32.wav  \n",
            "  inflating: recordings/7_jackson_33.wav  \n",
            "  inflating: recordings/7_jackson_34.wav  \n",
            "  inflating: recordings/7_jackson_35.wav  \n",
            "  inflating: recordings/7_jackson_36.wav  \n",
            "  inflating: recordings/7_jackson_37.wav  \n",
            "  inflating: recordings/7_jackson_38.wav  \n",
            "  inflating: recordings/7_jackson_39.wav  \n",
            "  inflating: recordings/7_jackson_4.wav  \n",
            "  inflating: recordings/7_jackson_40.wav  \n",
            "  inflating: recordings/7_jackson_41.wav  \n",
            "  inflating: recordings/7_jackson_42.wav  \n",
            "  inflating: recordings/7_jackson_43.wav  \n",
            "  inflating: recordings/7_jackson_44.wav  \n",
            "  inflating: recordings/7_jackson_45.wav  \n",
            "  inflating: recordings/7_jackson_46.wav  \n",
            "  inflating: recordings/7_jackson_47.wav  \n",
            "  inflating: recordings/7_jackson_48.wav  \n",
            "  inflating: recordings/7_jackson_49.wav  \n",
            "  inflating: recordings/7_jackson_5.wav  \n",
            "  inflating: recordings/7_jackson_6.wav  \n",
            "  inflating: recordings/7_jackson_7.wav  \n",
            "  inflating: recordings/7_jackson_8.wav  \n",
            "  inflating: recordings/7_jackson_9.wav  \n",
            "  inflating: recordings/7_nicolas_0.wav  \n",
            "  inflating: recordings/7_nicolas_1.wav  \n",
            "  inflating: recordings/7_nicolas_10.wav  \n",
            "  inflating: recordings/7_nicolas_11.wav  \n",
            "  inflating: recordings/7_nicolas_12.wav  \n",
            "  inflating: recordings/7_nicolas_13.wav  \n",
            "  inflating: recordings/7_nicolas_14.wav  \n",
            "  inflating: recordings/7_nicolas_15.wav  \n",
            "  inflating: recordings/7_nicolas_16.wav  \n",
            "  inflating: recordings/7_nicolas_17.wav  \n",
            "  inflating: recordings/7_nicolas_18.wav  \n",
            "  inflating: recordings/7_nicolas_19.wav  \n",
            "  inflating: recordings/7_nicolas_2.wav  \n",
            "  inflating: recordings/7_nicolas_20.wav  \n",
            "  inflating: recordings/7_nicolas_21.wav  \n",
            "  inflating: recordings/7_nicolas_22.wav  \n",
            "  inflating: recordings/7_nicolas_23.wav  \n",
            "  inflating: recordings/7_nicolas_24.wav  \n",
            "  inflating: recordings/7_nicolas_25.wav  \n",
            "  inflating: recordings/7_nicolas_26.wav  \n",
            "  inflating: recordings/7_nicolas_27.wav  \n",
            "  inflating: recordings/7_nicolas_28.wav  \n",
            "  inflating: recordings/7_nicolas_29.wav  \n",
            "  inflating: recordings/7_nicolas_3.wav  \n",
            "  inflating: recordings/7_nicolas_30.wav  \n",
            "  inflating: recordings/7_nicolas_31.wav  \n",
            "  inflating: recordings/7_nicolas_32.wav  \n",
            "  inflating: recordings/7_nicolas_33.wav  \n",
            "  inflating: recordings/7_nicolas_34.wav  \n",
            "  inflating: recordings/7_nicolas_35.wav  \n",
            "  inflating: recordings/7_nicolas_36.wav  \n",
            "  inflating: recordings/7_nicolas_37.wav  \n",
            "  inflating: recordings/7_nicolas_38.wav  \n",
            "  inflating: recordings/7_nicolas_39.wav  \n",
            "  inflating: recordings/7_nicolas_4.wav  \n",
            "  inflating: recordings/7_nicolas_40.wav  \n",
            "  inflating: recordings/7_nicolas_41.wav  \n",
            "  inflating: recordings/7_nicolas_42.wav  \n",
            "  inflating: recordings/7_nicolas_43.wav  \n",
            "  inflating: recordings/7_nicolas_44.wav  \n",
            "  inflating: recordings/7_nicolas_45.wav  \n",
            "  inflating: recordings/7_nicolas_46.wav  \n",
            "  inflating: recordings/7_nicolas_47.wav  \n",
            "  inflating: recordings/7_nicolas_48.wav  \n",
            "  inflating: recordings/7_nicolas_49.wav  \n",
            "  inflating: recordings/7_nicolas_5.wav  \n",
            "  inflating: recordings/7_nicolas_6.wav  \n",
            "  inflating: recordings/7_nicolas_7.wav  \n",
            "  inflating: recordings/7_nicolas_8.wav  \n",
            "  inflating: recordings/7_nicolas_9.wav  \n",
            "  inflating: recordings/7_theo_0.wav  \n",
            "  inflating: recordings/7_theo_1.wav  \n",
            "  inflating: recordings/7_theo_10.wav  \n",
            "  inflating: recordings/7_theo_11.wav  \n",
            "  inflating: recordings/7_theo_12.wav  \n",
            "  inflating: recordings/7_theo_13.wav  \n",
            "  inflating: recordings/7_theo_14.wav  \n",
            "  inflating: recordings/7_theo_15.wav  \n",
            "  inflating: recordings/7_theo_16.wav  \n",
            "  inflating: recordings/7_theo_17.wav  \n",
            "  inflating: recordings/7_theo_18.wav  \n",
            "  inflating: recordings/7_theo_19.wav  \n",
            "  inflating: recordings/7_theo_2.wav  \n",
            "  inflating: recordings/7_theo_20.wav  \n",
            "  inflating: recordings/7_theo_21.wav  \n",
            "  inflating: recordings/7_theo_22.wav  \n",
            "  inflating: recordings/7_theo_23.wav  \n",
            "  inflating: recordings/7_theo_24.wav  \n",
            "  inflating: recordings/7_theo_25.wav  \n",
            "  inflating: recordings/7_theo_26.wav  \n",
            "  inflating: recordings/7_theo_27.wav  \n",
            "  inflating: recordings/7_theo_28.wav  \n",
            "  inflating: recordings/7_theo_29.wav  \n",
            "  inflating: recordings/7_theo_3.wav  \n",
            "  inflating: recordings/7_theo_30.wav  \n",
            "  inflating: recordings/7_theo_31.wav  \n",
            "  inflating: recordings/7_theo_32.wav  \n",
            "  inflating: recordings/7_theo_33.wav  \n",
            "  inflating: recordings/7_theo_34.wav  \n",
            "  inflating: recordings/7_theo_35.wav  \n",
            "  inflating: recordings/7_theo_36.wav  \n",
            "  inflating: recordings/7_theo_37.wav  \n",
            "  inflating: recordings/7_theo_38.wav  \n",
            "  inflating: recordings/7_theo_39.wav  \n",
            "  inflating: recordings/7_theo_4.wav  \n",
            "  inflating: recordings/7_theo_40.wav  \n",
            "  inflating: recordings/7_theo_41.wav  \n",
            "  inflating: recordings/7_theo_42.wav  \n",
            "  inflating: recordings/7_theo_43.wav  \n",
            "  inflating: recordings/7_theo_44.wav  \n",
            "  inflating: recordings/7_theo_45.wav  \n",
            "  inflating: recordings/7_theo_46.wav  \n",
            "  inflating: recordings/7_theo_47.wav  \n",
            "  inflating: recordings/7_theo_48.wav  \n",
            "  inflating: recordings/7_theo_49.wav  \n",
            "  inflating: recordings/7_theo_5.wav  \n",
            "  inflating: recordings/7_theo_6.wav  \n",
            "  inflating: recordings/7_theo_7.wav  \n",
            "  inflating: recordings/7_theo_8.wav  \n",
            "  inflating: recordings/7_theo_9.wav  \n",
            "  inflating: recordings/7_yweweler_0.wav  \n",
            "  inflating: recordings/7_yweweler_1.wav  \n",
            "  inflating: recordings/7_yweweler_10.wav  \n",
            "  inflating: recordings/7_yweweler_11.wav  \n",
            "  inflating: recordings/7_yweweler_12.wav  \n",
            "  inflating: recordings/7_yweweler_13.wav  \n",
            "  inflating: recordings/7_yweweler_14.wav  \n",
            "  inflating: recordings/7_yweweler_15.wav  \n",
            "  inflating: recordings/7_yweweler_16.wav  \n",
            "  inflating: recordings/7_yweweler_17.wav  \n",
            "  inflating: recordings/7_yweweler_18.wav  \n",
            "  inflating: recordings/7_yweweler_19.wav  \n",
            "  inflating: recordings/7_yweweler_2.wav  \n",
            "  inflating: recordings/7_yweweler_20.wav  \n",
            "  inflating: recordings/7_yweweler_21.wav  \n",
            "  inflating: recordings/7_yweweler_22.wav  \n",
            "  inflating: recordings/7_yweweler_23.wav  \n",
            "  inflating: recordings/7_yweweler_24.wav  \n",
            "  inflating: recordings/7_yweweler_25.wav  \n",
            "  inflating: recordings/7_yweweler_26.wav  \n",
            "  inflating: recordings/7_yweweler_27.wav  \n",
            "  inflating: recordings/7_yweweler_28.wav  \n",
            "  inflating: recordings/7_yweweler_29.wav  \n",
            "  inflating: recordings/7_yweweler_3.wav  \n",
            "  inflating: recordings/7_yweweler_30.wav  \n",
            "  inflating: recordings/7_yweweler_31.wav  \n",
            "  inflating: recordings/7_yweweler_32.wav  \n",
            "  inflating: recordings/7_yweweler_33.wav  \n",
            "  inflating: recordings/7_yweweler_34.wav  \n",
            "  inflating: recordings/7_yweweler_35.wav  \n",
            "  inflating: recordings/7_yweweler_36.wav  \n",
            "  inflating: recordings/7_yweweler_37.wav  \n",
            "  inflating: recordings/7_yweweler_38.wav  \n",
            "  inflating: recordings/7_yweweler_39.wav  \n",
            "  inflating: recordings/7_yweweler_4.wav  \n",
            "  inflating: recordings/7_yweweler_40.wav  \n",
            "  inflating: recordings/7_yweweler_41.wav  \n",
            "  inflating: recordings/7_yweweler_42.wav  \n",
            "  inflating: recordings/7_yweweler_43.wav  \n",
            "  inflating: recordings/7_yweweler_44.wav  \n",
            "  inflating: recordings/7_yweweler_45.wav  \n",
            "  inflating: recordings/7_yweweler_46.wav  \n",
            "  inflating: recordings/7_yweweler_47.wav  \n",
            "  inflating: recordings/7_yweweler_48.wav  \n",
            "  inflating: recordings/7_yweweler_49.wav  \n",
            "  inflating: recordings/7_yweweler_5.wav  \n",
            "  inflating: recordings/7_yweweler_6.wav  \n",
            "  inflating: recordings/7_yweweler_7.wav  \n",
            "  inflating: recordings/7_yweweler_8.wav  \n",
            "  inflating: recordings/7_yweweler_9.wav  \n",
            "  inflating: recordings/8_jackson_0.wav  \n",
            "  inflating: recordings/8_jackson_1.wav  \n",
            "  inflating: recordings/8_jackson_10.wav  \n",
            "  inflating: recordings/8_jackson_11.wav  \n",
            "  inflating: recordings/8_jackson_12.wav  \n",
            "  inflating: recordings/8_jackson_13.wav  \n",
            "  inflating: recordings/8_jackson_14.wav  \n",
            "  inflating: recordings/8_jackson_15.wav  \n",
            "  inflating: recordings/8_jackson_16.wav  \n",
            "  inflating: recordings/8_jackson_17.wav  \n",
            "  inflating: recordings/8_jackson_18.wav  \n",
            "  inflating: recordings/8_jackson_19.wav  \n",
            "  inflating: recordings/8_jackson_2.wav  \n",
            "  inflating: recordings/8_jackson_20.wav  \n",
            "  inflating: recordings/8_jackson_21.wav  \n",
            "  inflating: recordings/8_jackson_22.wav  \n",
            "  inflating: recordings/8_jackson_23.wav  \n",
            "  inflating: recordings/8_jackson_24.wav  \n",
            "  inflating: recordings/8_jackson_25.wav  \n",
            "  inflating: recordings/8_jackson_26.wav  \n",
            "  inflating: recordings/8_jackson_27.wav  \n",
            "  inflating: recordings/8_jackson_28.wav  \n",
            "  inflating: recordings/8_jackson_29.wav  \n",
            "  inflating: recordings/8_jackson_3.wav  \n",
            "  inflating: recordings/8_jackson_30.wav  \n",
            "  inflating: recordings/8_jackson_31.wav  \n",
            "  inflating: recordings/8_jackson_32.wav  \n",
            "  inflating: recordings/8_jackson_33.wav  \n",
            "  inflating: recordings/8_jackson_34.wav  \n",
            "  inflating: recordings/8_jackson_35.wav  \n",
            "  inflating: recordings/8_jackson_36.wav  \n",
            "  inflating: recordings/8_jackson_37.wav  \n",
            "  inflating: recordings/8_jackson_38.wav  \n",
            "  inflating: recordings/8_jackson_39.wav  \n",
            "  inflating: recordings/8_jackson_4.wav  \n",
            "  inflating: recordings/8_jackson_40.wav  \n",
            "  inflating: recordings/8_jackson_41.wav  \n",
            "  inflating: recordings/8_jackson_42.wav  \n",
            "  inflating: recordings/8_jackson_43.wav  \n",
            "  inflating: recordings/8_jackson_44.wav  \n",
            "  inflating: recordings/8_jackson_45.wav  \n",
            "  inflating: recordings/8_jackson_46.wav  \n",
            "  inflating: recordings/8_jackson_47.wav  \n",
            "  inflating: recordings/8_jackson_48.wav  \n",
            "  inflating: recordings/8_jackson_49.wav  \n",
            "  inflating: recordings/8_jackson_5.wav  \n",
            "  inflating: recordings/8_jackson_6.wav  \n",
            "  inflating: recordings/8_jackson_7.wav  \n",
            "  inflating: recordings/8_jackson_8.wav  \n",
            "  inflating: recordings/8_jackson_9.wav  \n",
            "  inflating: recordings/8_nicolas_0.wav  \n",
            "  inflating: recordings/8_nicolas_1.wav  \n",
            "  inflating: recordings/8_nicolas_10.wav  \n",
            "  inflating: recordings/8_nicolas_11.wav  \n",
            "  inflating: recordings/8_nicolas_12.wav  \n",
            "  inflating: recordings/8_nicolas_13.wav  \n",
            "  inflating: recordings/8_nicolas_14.wav  \n",
            "  inflating: recordings/8_nicolas_15.wav  \n",
            "  inflating: recordings/8_nicolas_16.wav  \n",
            "  inflating: recordings/8_nicolas_17.wav  \n",
            "  inflating: recordings/8_nicolas_18.wav  \n",
            "  inflating: recordings/8_nicolas_19.wav  \n",
            "  inflating: recordings/8_nicolas_2.wav  \n",
            "  inflating: recordings/8_nicolas_20.wav  \n",
            "  inflating: recordings/8_nicolas_21.wav  \n",
            "  inflating: recordings/8_nicolas_22.wav  \n",
            "  inflating: recordings/8_nicolas_23.wav  \n",
            "  inflating: recordings/8_nicolas_24.wav  \n",
            "  inflating: recordings/8_nicolas_25.wav  \n",
            "  inflating: recordings/8_nicolas_26.wav  \n",
            "  inflating: recordings/8_nicolas_27.wav  \n",
            "  inflating: recordings/8_nicolas_28.wav  \n",
            "  inflating: recordings/8_nicolas_29.wav  \n",
            "  inflating: recordings/8_nicolas_3.wav  \n",
            "  inflating: recordings/8_nicolas_30.wav  \n",
            "  inflating: recordings/8_nicolas_31.wav  \n",
            "  inflating: recordings/8_nicolas_32.wav  \n",
            "  inflating: recordings/8_nicolas_33.wav  \n",
            "  inflating: recordings/8_nicolas_34.wav  \n",
            "  inflating: recordings/8_nicolas_35.wav  \n",
            "  inflating: recordings/8_nicolas_36.wav  \n",
            "  inflating: recordings/8_nicolas_37.wav  \n",
            "  inflating: recordings/8_nicolas_38.wav  \n",
            "  inflating: recordings/8_nicolas_39.wav  \n",
            "  inflating: recordings/8_nicolas_4.wav  \n",
            "  inflating: recordings/8_nicolas_40.wav  \n",
            "  inflating: recordings/8_nicolas_41.wav  \n",
            "  inflating: recordings/8_nicolas_42.wav  \n",
            "  inflating: recordings/8_nicolas_43.wav  \n",
            "  inflating: recordings/8_nicolas_44.wav  \n",
            "  inflating: recordings/8_nicolas_45.wav  \n",
            "  inflating: recordings/8_nicolas_46.wav  \n",
            "  inflating: recordings/8_nicolas_47.wav  \n",
            "  inflating: recordings/8_nicolas_48.wav  \n",
            "  inflating: recordings/8_nicolas_49.wav  \n",
            "  inflating: recordings/8_nicolas_5.wav  \n",
            "  inflating: recordings/8_nicolas_6.wav  \n",
            "  inflating: recordings/8_nicolas_7.wav  \n",
            "  inflating: recordings/8_nicolas_8.wav  \n",
            "  inflating: recordings/8_nicolas_9.wav  \n",
            "  inflating: recordings/8_theo_0.wav  \n",
            "  inflating: recordings/8_theo_1.wav  \n",
            "  inflating: recordings/8_theo_10.wav  \n",
            "  inflating: recordings/8_theo_11.wav  \n",
            "  inflating: recordings/8_theo_12.wav  \n",
            "  inflating: recordings/8_theo_13.wav  \n",
            "  inflating: recordings/8_theo_14.wav  \n",
            "  inflating: recordings/8_theo_15.wav  \n",
            "  inflating: recordings/8_theo_16.wav  \n",
            "  inflating: recordings/8_theo_17.wav  \n",
            "  inflating: recordings/8_theo_18.wav  \n",
            "  inflating: recordings/8_theo_19.wav  \n",
            "  inflating: recordings/8_theo_2.wav  \n",
            "  inflating: recordings/8_theo_20.wav  \n",
            "  inflating: recordings/8_theo_21.wav  \n",
            "  inflating: recordings/8_theo_22.wav  \n",
            "  inflating: recordings/8_theo_23.wav  \n",
            "  inflating: recordings/8_theo_24.wav  \n",
            "  inflating: recordings/8_theo_25.wav  \n",
            "  inflating: recordings/8_theo_26.wav  \n",
            "  inflating: recordings/8_theo_27.wav  \n",
            "  inflating: recordings/8_theo_28.wav  \n",
            "  inflating: recordings/8_theo_29.wav  \n",
            "  inflating: recordings/8_theo_3.wav  \n",
            "  inflating: recordings/8_theo_30.wav  \n",
            "  inflating: recordings/8_theo_31.wav  \n",
            "  inflating: recordings/8_theo_32.wav  \n",
            "  inflating: recordings/8_theo_33.wav  \n",
            "  inflating: recordings/8_theo_34.wav  \n",
            "  inflating: recordings/8_theo_35.wav  \n",
            "  inflating: recordings/8_theo_36.wav  \n",
            "  inflating: recordings/8_theo_37.wav  \n",
            "  inflating: recordings/8_theo_38.wav  \n",
            "  inflating: recordings/8_theo_39.wav  \n",
            "  inflating: recordings/8_theo_4.wav  \n",
            "  inflating: recordings/8_theo_40.wav  \n",
            "  inflating: recordings/8_theo_41.wav  \n",
            "  inflating: recordings/8_theo_42.wav  \n",
            "  inflating: recordings/8_theo_43.wav  \n",
            "  inflating: recordings/8_theo_44.wav  \n",
            "  inflating: recordings/8_theo_45.wav  \n",
            "  inflating: recordings/8_theo_46.wav  \n",
            "  inflating: recordings/8_theo_47.wav  \n",
            "  inflating: recordings/8_theo_48.wav  \n",
            "  inflating: recordings/8_theo_49.wav  \n",
            "  inflating: recordings/8_theo_5.wav  \n",
            "  inflating: recordings/8_theo_6.wav  \n",
            "  inflating: recordings/8_theo_7.wav  \n",
            "  inflating: recordings/8_theo_8.wav  \n",
            "  inflating: recordings/8_theo_9.wav  \n",
            "  inflating: recordings/8_yweweler_0.wav  \n",
            "  inflating: recordings/8_yweweler_1.wav  \n",
            "  inflating: recordings/8_yweweler_10.wav  \n",
            "  inflating: recordings/8_yweweler_11.wav  \n",
            "  inflating: recordings/8_yweweler_12.wav  \n",
            "  inflating: recordings/8_yweweler_13.wav  \n",
            "  inflating: recordings/8_yweweler_14.wav  \n",
            "  inflating: recordings/8_yweweler_15.wav  \n",
            "  inflating: recordings/8_yweweler_16.wav  \n",
            "  inflating: recordings/8_yweweler_17.wav  \n",
            "  inflating: recordings/8_yweweler_18.wav  \n",
            "  inflating: recordings/8_yweweler_19.wav  \n",
            "  inflating: recordings/8_yweweler_2.wav  \n",
            "  inflating: recordings/8_yweweler_20.wav  \n",
            "  inflating: recordings/8_yweweler_21.wav  \n",
            "  inflating: recordings/8_yweweler_22.wav  \n",
            "  inflating: recordings/8_yweweler_23.wav  \n",
            "  inflating: recordings/8_yweweler_24.wav  \n",
            "  inflating: recordings/8_yweweler_25.wav  \n",
            "  inflating: recordings/8_yweweler_26.wav  \n",
            "  inflating: recordings/8_yweweler_27.wav  \n",
            "  inflating: recordings/8_yweweler_28.wav  \n",
            "  inflating: recordings/8_yweweler_29.wav  \n",
            "  inflating: recordings/8_yweweler_3.wav  \n",
            "  inflating: recordings/8_yweweler_30.wav  \n",
            "  inflating: recordings/8_yweweler_31.wav  \n",
            "  inflating: recordings/8_yweweler_32.wav  \n",
            "  inflating: recordings/8_yweweler_33.wav  \n",
            "  inflating: recordings/8_yweweler_34.wav  \n",
            "  inflating: recordings/8_yweweler_35.wav  \n",
            "  inflating: recordings/8_yweweler_36.wav  \n",
            "  inflating: recordings/8_yweweler_37.wav  \n",
            "  inflating: recordings/8_yweweler_38.wav  \n",
            "  inflating: recordings/8_yweweler_39.wav  \n",
            "  inflating: recordings/8_yweweler_4.wav  \n",
            "  inflating: recordings/8_yweweler_40.wav  \n",
            "  inflating: recordings/8_yweweler_41.wav  \n",
            "  inflating: recordings/8_yweweler_42.wav  \n",
            "  inflating: recordings/8_yweweler_43.wav  \n",
            "  inflating: recordings/8_yweweler_44.wav  \n",
            "  inflating: recordings/8_yweweler_45.wav  \n",
            "  inflating: recordings/8_yweweler_46.wav  \n",
            "  inflating: recordings/8_yweweler_47.wav  \n",
            "  inflating: recordings/8_yweweler_48.wav  \n",
            "  inflating: recordings/8_yweweler_49.wav  \n",
            "  inflating: recordings/8_yweweler_5.wav  \n",
            "  inflating: recordings/8_yweweler_6.wav  \n",
            "  inflating: recordings/8_yweweler_7.wav  \n",
            "  inflating: recordings/8_yweweler_8.wav  \n",
            "  inflating: recordings/8_yweweler_9.wav  \n",
            "  inflating: recordings/9_jackson_0.wav  \n",
            "  inflating: recordings/9_jackson_1.wav  \n",
            "  inflating: recordings/9_jackson_10.wav  \n",
            "  inflating: recordings/9_jackson_11.wav  \n",
            "  inflating: recordings/9_jackson_12.wav  \n",
            "  inflating: recordings/9_jackson_13.wav  \n",
            "  inflating: recordings/9_jackson_14.wav  \n",
            "  inflating: recordings/9_jackson_15.wav  \n",
            "  inflating: recordings/9_jackson_16.wav  \n",
            "  inflating: recordings/9_jackson_17.wav  \n",
            "  inflating: recordings/9_jackson_18.wav  \n",
            "  inflating: recordings/9_jackson_19.wav  \n",
            "  inflating: recordings/9_jackson_2.wav  \n",
            "  inflating: recordings/9_jackson_20.wav  \n",
            "  inflating: recordings/9_jackson_21.wav  \n",
            "  inflating: recordings/9_jackson_22.wav  \n",
            "  inflating: recordings/9_jackson_23.wav  \n",
            "  inflating: recordings/9_jackson_24.wav  \n",
            "  inflating: recordings/9_jackson_25.wav  \n",
            "  inflating: recordings/9_jackson_26.wav  \n",
            "  inflating: recordings/9_jackson_27.wav  \n",
            "  inflating: recordings/9_jackson_28.wav  \n",
            "  inflating: recordings/9_jackson_29.wav  \n",
            "  inflating: recordings/9_jackson_3.wav  \n",
            "  inflating: recordings/9_jackson_30.wav  \n",
            "  inflating: recordings/9_jackson_31.wav  \n",
            "  inflating: recordings/9_jackson_32.wav  \n",
            "  inflating: recordings/9_jackson_33.wav  \n",
            "  inflating: recordings/9_jackson_34.wav  \n",
            "  inflating: recordings/9_jackson_35.wav  \n",
            "  inflating: recordings/9_jackson_36.wav  \n",
            "  inflating: recordings/9_jackson_37.wav  \n",
            "  inflating: recordings/9_jackson_38.wav  \n",
            "  inflating: recordings/9_jackson_39.wav  \n",
            "  inflating: recordings/9_jackson_4.wav  \n",
            "  inflating: recordings/9_jackson_40.wav  \n",
            "  inflating: recordings/9_jackson_41.wav  \n",
            "  inflating: recordings/9_jackson_42.wav  \n",
            "  inflating: recordings/9_jackson_43.wav  \n",
            "  inflating: recordings/9_jackson_44.wav  \n",
            "  inflating: recordings/9_jackson_45.wav  \n",
            "  inflating: recordings/9_jackson_46.wav  \n",
            "  inflating: recordings/9_jackson_47.wav  \n",
            "  inflating: recordings/9_jackson_48.wav  \n",
            "  inflating: recordings/9_jackson_49.wav  \n",
            "  inflating: recordings/9_jackson_5.wav  \n",
            "  inflating: recordings/9_jackson_6.wav  \n",
            "  inflating: recordings/9_jackson_7.wav  \n",
            "  inflating: recordings/9_jackson_8.wav  \n",
            "  inflating: recordings/9_jackson_9.wav  \n",
            "  inflating: recordings/9_nicolas_0.wav  \n",
            "  inflating: recordings/9_nicolas_1.wav  \n",
            "  inflating: recordings/9_nicolas_10.wav  \n",
            "  inflating: recordings/9_nicolas_11.wav  \n",
            "  inflating: recordings/9_nicolas_12.wav  \n",
            "  inflating: recordings/9_nicolas_13.wav  \n",
            "  inflating: recordings/9_nicolas_14.wav  \n",
            "  inflating: recordings/9_nicolas_15.wav  \n",
            "  inflating: recordings/9_nicolas_16.wav  \n",
            "  inflating: recordings/9_nicolas_17.wav  \n",
            "  inflating: recordings/9_nicolas_18.wav  \n",
            "  inflating: recordings/9_nicolas_19.wav  \n",
            "  inflating: recordings/9_nicolas_2.wav  \n",
            "  inflating: recordings/9_nicolas_20.wav  \n",
            "  inflating: recordings/9_nicolas_21.wav  \n",
            "  inflating: recordings/9_nicolas_22.wav  \n",
            "  inflating: recordings/9_nicolas_23.wav  \n",
            "  inflating: recordings/9_nicolas_24.wav  \n",
            "  inflating: recordings/9_nicolas_25.wav  \n",
            "  inflating: recordings/9_nicolas_26.wav  \n",
            "  inflating: recordings/9_nicolas_27.wav  \n",
            "  inflating: recordings/9_nicolas_28.wav  \n",
            "  inflating: recordings/9_nicolas_29.wav  \n",
            "  inflating: recordings/9_nicolas_3.wav  \n",
            "  inflating: recordings/9_nicolas_30.wav  \n",
            "  inflating: recordings/9_nicolas_31.wav  \n",
            "  inflating: recordings/9_nicolas_32.wav  \n",
            "  inflating: recordings/9_nicolas_33.wav  \n",
            "  inflating: recordings/9_nicolas_34.wav  \n",
            "  inflating: recordings/9_nicolas_35.wav  \n",
            "  inflating: recordings/9_nicolas_36.wav  \n",
            "  inflating: recordings/9_nicolas_37.wav  \n",
            "  inflating: recordings/9_nicolas_38.wav  \n",
            "  inflating: recordings/9_nicolas_39.wav  \n",
            "  inflating: recordings/9_nicolas_4.wav  \n",
            "  inflating: recordings/9_nicolas_40.wav  \n",
            "  inflating: recordings/9_nicolas_41.wav  \n",
            "  inflating: recordings/9_nicolas_42.wav  \n",
            "  inflating: recordings/9_nicolas_43.wav  \n",
            "  inflating: recordings/9_nicolas_44.wav  \n",
            "  inflating: recordings/9_nicolas_45.wav  \n",
            "  inflating: recordings/9_nicolas_46.wav  \n",
            "  inflating: recordings/9_nicolas_47.wav  \n",
            "  inflating: recordings/9_nicolas_48.wav  \n",
            "  inflating: recordings/9_nicolas_49.wav  \n",
            "  inflating: recordings/9_nicolas_5.wav  \n",
            "  inflating: recordings/9_nicolas_6.wav  \n",
            "  inflating: recordings/9_nicolas_7.wav  \n",
            "  inflating: recordings/9_nicolas_8.wav  \n",
            "  inflating: recordings/9_nicolas_9.wav  \n",
            "  inflating: recordings/9_theo_0.wav  \n",
            "  inflating: recordings/9_theo_1.wav  \n",
            "  inflating: recordings/9_theo_10.wav  \n",
            "  inflating: recordings/9_theo_11.wav  \n",
            "  inflating: recordings/9_theo_12.wav  \n",
            "  inflating: recordings/9_theo_13.wav  \n",
            "  inflating: recordings/9_theo_14.wav  \n",
            "  inflating: recordings/9_theo_15.wav  \n",
            "  inflating: recordings/9_theo_16.wav  \n",
            "  inflating: recordings/9_theo_17.wav  \n",
            "  inflating: recordings/9_theo_18.wav  \n",
            "  inflating: recordings/9_theo_19.wav  \n",
            "  inflating: recordings/9_theo_2.wav  \n",
            "  inflating: recordings/9_theo_20.wav  \n",
            "  inflating: recordings/9_theo_21.wav  \n",
            "  inflating: recordings/9_theo_22.wav  \n",
            "  inflating: recordings/9_theo_23.wav  \n",
            "  inflating: recordings/9_theo_24.wav  \n",
            "  inflating: recordings/9_theo_25.wav  \n",
            "  inflating: recordings/9_theo_26.wav  \n",
            "  inflating: recordings/9_theo_27.wav  \n",
            "  inflating: recordings/9_theo_28.wav  \n",
            "  inflating: recordings/9_theo_29.wav  \n",
            "  inflating: recordings/9_theo_3.wav  \n",
            "  inflating: recordings/9_theo_30.wav  \n",
            "  inflating: recordings/9_theo_31.wav  \n",
            "  inflating: recordings/9_theo_32.wav  \n",
            "  inflating: recordings/9_theo_33.wav  \n",
            "  inflating: recordings/9_theo_34.wav  \n",
            "  inflating: recordings/9_theo_35.wav  \n",
            "  inflating: recordings/9_theo_36.wav  \n",
            "  inflating: recordings/9_theo_37.wav  \n",
            "  inflating: recordings/9_theo_38.wav  \n",
            "  inflating: recordings/9_theo_39.wav  \n",
            "  inflating: recordings/9_theo_4.wav  \n",
            "  inflating: recordings/9_theo_40.wav  \n",
            "  inflating: recordings/9_theo_41.wav  \n",
            "  inflating: recordings/9_theo_42.wav  \n",
            "  inflating: recordings/9_theo_43.wav  \n",
            "  inflating: recordings/9_theo_44.wav  \n",
            "  inflating: recordings/9_theo_45.wav  \n",
            "  inflating: recordings/9_theo_46.wav  \n",
            "  inflating: recordings/9_theo_47.wav  \n",
            "  inflating: recordings/9_theo_48.wav  \n",
            "  inflating: recordings/9_theo_49.wav  \n",
            "  inflating: recordings/9_theo_5.wav  \n",
            "  inflating: recordings/9_theo_6.wav  \n",
            "  inflating: recordings/9_theo_7.wav  \n",
            "  inflating: recordings/9_theo_8.wav  \n",
            "  inflating: recordings/9_theo_9.wav  \n",
            "  inflating: recordings/9_yweweler_0.wav  \n",
            "  inflating: recordings/9_yweweler_1.wav  \n",
            "  inflating: recordings/9_yweweler_10.wav  \n",
            "  inflating: recordings/9_yweweler_11.wav  \n",
            "  inflating: recordings/9_yweweler_12.wav  \n",
            "  inflating: recordings/9_yweweler_13.wav  \n",
            "  inflating: recordings/9_yweweler_14.wav  \n",
            "  inflating: recordings/9_yweweler_15.wav  \n",
            "  inflating: recordings/9_yweweler_16.wav  \n",
            "  inflating: recordings/9_yweweler_17.wav  \n",
            "  inflating: recordings/9_yweweler_18.wav  \n",
            "  inflating: recordings/9_yweweler_19.wav  \n",
            "  inflating: recordings/9_yweweler_2.wav  \n",
            "  inflating: recordings/9_yweweler_20.wav  \n",
            "  inflating: recordings/9_yweweler_21.wav  \n",
            "  inflating: recordings/9_yweweler_22.wav  \n",
            "  inflating: recordings/9_yweweler_23.wav  \n",
            "  inflating: recordings/9_yweweler_24.wav  \n",
            "  inflating: recordings/9_yweweler_25.wav  \n",
            "  inflating: recordings/9_yweweler_26.wav  \n",
            "  inflating: recordings/9_yweweler_27.wav  \n",
            "  inflating: recordings/9_yweweler_28.wav  \n",
            "  inflating: recordings/9_yweweler_29.wav  \n",
            "  inflating: recordings/9_yweweler_3.wav  \n",
            "  inflating: recordings/9_yweweler_30.wav  \n",
            "  inflating: recordings/9_yweweler_31.wav  \n",
            "  inflating: recordings/9_yweweler_32.wav  \n",
            "  inflating: recordings/9_yweweler_33.wav  \n",
            "  inflating: recordings/9_yweweler_34.wav  \n",
            "  inflating: recordings/9_yweweler_35.wav  \n",
            "  inflating: recordings/9_yweweler_36.wav  \n",
            "  inflating: recordings/9_yweweler_37.wav  \n",
            "  inflating: recordings/9_yweweler_38.wav  \n",
            "  inflating: recordings/9_yweweler_39.wav  \n",
            "  inflating: recordings/9_yweweler_4.wav  \n",
            "  inflating: recordings/9_yweweler_40.wav  \n",
            "  inflating: recordings/9_yweweler_41.wav  \n",
            "  inflating: recordings/9_yweweler_42.wav  \n",
            "  inflating: recordings/9_yweweler_43.wav  \n",
            "  inflating: recordings/9_yweweler_44.wav  \n",
            "  inflating: recordings/9_yweweler_45.wav  \n",
            "  inflating: recordings/9_yweweler_46.wav  \n",
            "  inflating: recordings/9_yweweler_47.wav  \n",
            "  inflating: recordings/9_yweweler_48.wav  \n",
            "  inflating: recordings/9_yweweler_49.wav  \n",
            "  inflating: recordings/9_yweweler_5.wav  \n",
            "  inflating: recordings/9_yweweler_6.wav  \n",
            "  inflating: recordings/9_yweweler_7.wav  \n",
            "  inflating: recordings/9_yweweler_8.wav  \n",
            "  inflating: recordings/9_yweweler_9.wav  \n"
          ]
        }
      ]
    },
    {
      "cell_type": "code",
      "source": [
        "files=os.listdir('recordings')"
      ],
      "metadata": {
        "id": "TXYsKzKlzgTq"
      },
      "execution_count": 4,
      "outputs": []
    },
    {
      "cell_type": "code",
      "source": [
        "print(files[0])"
      ],
      "metadata": {
        "colab": {
          "base_uri": "https://localhost:8080/"
        },
        "id": "w9tkdqfdzv0H",
        "outputId": "c1c816ad-f6ff-4836-b9dc-26c77cb607f6"
      },
      "execution_count": 5,
      "outputs": [
        {
          "output_type": "stream",
          "name": "stdout",
          "text": [
            "8_yweweler_15.wav\n"
          ]
        }
      ]
    },
    {
      "cell_type": "code",
      "metadata": {
        "id": "HDBcl_PUaNmp"
      },
      "source": [
        "#read the all file names in the recordings folder given by us\n",
        "#(if you get entire path, it is very useful in future)\n",
        "#save those files names as list in \"all_files\"\n",
        "all_files=[]\n",
        "for i in files:\n",
        "  filepath='recordings/'+str(i)\n",
        "  all_files.append(filepath)"
      ],
      "execution_count": 6,
      "outputs": []
    },
    {
      "cell_type": "code",
      "source": [
        "print(all_files[0])"
      ],
      "metadata": {
        "colab": {
          "base_uri": "https://localhost:8080/"
        },
        "id": "LuoDdZWl0IAF",
        "outputId": "1eea80ca-d992-4c3b-f1c7-6ea51cff2d32"
      },
      "execution_count": 7,
      "outputs": [
        {
          "output_type": "stream",
          "name": "stdout",
          "text": [
            "recordings/8_yweweler_15.wav\n"
          ]
        }
      ]
    },
    {
      "cell_type": "markdown",
      "metadata": {
        "id": "8NYYpfqoaNmv"
      },
      "source": [
        "<font size=4>Grader function 1 </font>"
      ]
    },
    {
      "cell_type": "code",
      "metadata": {
        "id": "2oJSOmYBaNmx",
        "outputId": "eff72de7-607a-4e0f-de3b-761a912bffd1",
        "colab": {
          "base_uri": "https://localhost:8080/"
        }
      },
      "source": [
        "def grader_files():\n",
        "    temp = len(all_files)==2000\n",
        "    temp1 = all([x[-3:]==\"wav\" for x in all_files])\n",
        "    temp = temp and temp1\n",
        "    return temp\n",
        "grader_files()"
      ],
      "execution_count": 8,
      "outputs": [
        {
          "output_type": "execute_result",
          "data": {
            "text/plain": [
              "True"
            ]
          },
          "metadata": {},
          "execution_count": 8
        }
      ]
    },
    {
      "cell_type": "markdown",
      "metadata": {
        "id": "MhvSIN6raNm3"
      },
      "source": [
        "Create a dataframe(name=df_audio) with two columns(path, label).   \n",
        "You can get the label from the first letter of name.  \n",
        "Eg: 0_jackson_0 --> 0  \n",
        "0_jackson_43 --> 0"
      ]
    },
    {
      "cell_type": "code",
      "source": [
        "label=all_files[0].split('/')[1].split('_')[0]\n",
        "print(all_files[0],label)"
      ],
      "metadata": {
        "colab": {
          "base_uri": "https://localhost:8080/"
        },
        "id": "0zeGGTin0sIY",
        "outputId": "3c7e1f6a-f425-4819-96bf-89f175732a74"
      },
      "execution_count": 9,
      "outputs": [
        {
          "output_type": "stream",
          "name": "stdout",
          "text": [
            "recordings/8_yweweler_15.wav 8\n"
          ]
        }
      ]
    },
    {
      "cell_type": "code",
      "source": [
        "labels=[]\n",
        "for i in all_files:\n",
        "  label=i.split('/')[1].split('_')[0]\n",
        "  labels.append(int(label))"
      ],
      "metadata": {
        "id": "EA7g6Iz10VZ9"
      },
      "execution_count": 10,
      "outputs": []
    },
    {
      "cell_type": "code",
      "source": [
        "labels[0]"
      ],
      "metadata": {
        "colab": {
          "base_uri": "https://localhost:8080/"
        },
        "id": "cf6zRZxQ1Z33",
        "outputId": "e8a77e37-3395-4a95-a933-b9b999707be6"
      },
      "execution_count": 11,
      "outputs": [
        {
          "output_type": "execute_result",
          "data": {
            "text/plain": [
              "8"
            ]
          },
          "metadata": {},
          "execution_count": 11
        }
      ]
    },
    {
      "cell_type": "markdown",
      "metadata": {
        "id": "LZbhCvvRPPMw"
      },
      "source": [
        "## Exploring the sound dataset"
      ]
    },
    {
      "cell_type": "code",
      "metadata": {
        "id": "ilJsqdhhPMed"
      },
      "source": [
        "#It is a good programming practise to explore the dataset that you are dealing with. This dataset is unique in itself because it has sounds as input\n",
        "#https://colab.research.google.com/github/Tyler-Hilbert/AudioProcessingInPythonWorkshop/blob/master/AudioProcessingInPython.ipynb\n",
        "#visualize the data and write code to play 2-3 sound samples in the notebook for better understanding.\n",
        "#please go through the following reference video https://www.youtube.com/watch?v=37zCgCdV468"
      ],
      "execution_count": 12,
      "outputs": []
    },
    {
      "cell_type": "code",
      "metadata": {
        "id": "bX_umjikPy5Y"
      },
      "source": [
        ""
      ],
      "execution_count": 12,
      "outputs": []
    },
    {
      "cell_type": "code",
      "metadata": {
        "id": "7Wx5tOjSPX2Y"
      },
      "source": [
        ""
      ],
      "execution_count": 12,
      "outputs": []
    },
    {
      "cell_type": "markdown",
      "metadata": {
        "id": "AA0nAtjbQLmu"
      },
      "source": [
        "## Creating dataframe"
      ]
    },
    {
      "cell_type": "code",
      "metadata": {
        "id": "fWP6vXBeaNm3"
      },
      "source": [
        "#Create a dataframe(name=df_audio) with two columns(path, label).   \n",
        "#You can get the label from the first letter of name.  \n",
        "#Eg: 0_jackson_0 --> 0  \n",
        "#0_jackson_43 --> 0\n",
        "df_audio=pd.DataFrame()\n",
        "df_audio['path']=all_files\n",
        "df_audio['label']=labels"
      ],
      "execution_count": 13,
      "outputs": []
    },
    {
      "cell_type": "code",
      "metadata": {
        "id": "5ZpuaGuJaNm8",
        "outputId": "7c786885-147a-483b-ad9e-dac097ed109f",
        "colab": {
          "base_uri": "https://localhost:8080/"
        }
      },
      "source": [
        "#info\n",
        "df_audio.info()"
      ],
      "execution_count": 14,
      "outputs": [
        {
          "output_type": "stream",
          "name": "stdout",
          "text": [
            "<class 'pandas.core.frame.DataFrame'>\n",
            "RangeIndex: 2000 entries, 0 to 1999\n",
            "Data columns (total 2 columns):\n",
            " #   Column  Non-Null Count  Dtype \n",
            "---  ------  --------------  ----- \n",
            " 0   path    2000 non-null   object\n",
            " 1   label   2000 non-null   int64 \n",
            "dtypes: int64(1), object(1)\n",
            "memory usage: 31.4+ KB\n"
          ]
        }
      ]
    },
    {
      "cell_type": "markdown",
      "metadata": {
        "id": "VOKpYJ_LaNnD"
      },
      "source": [
        "<font size=4>Grader function 2 </font>"
      ]
    },
    {
      "cell_type": "code",
      "metadata": {
        "id": "7Q8r_T8-aNnE",
        "outputId": "55a92d7c-48a4-4f7f-f10d-bf658818364c",
        "colab": {
          "base_uri": "https://localhost:8080/"
        }
      },
      "source": [
        "def grader_df():\n",
        "    flag_shape = df_audio.shape==(2000,2)\n",
        "    flag_columns = all(df_audio.columns==['path', 'label'])\n",
        "    list_values = list(df_audio.label.value_counts())\n",
        "    flag_label = len(list_values)==10\n",
        "    flag_label2 = all([i==200 for i in list_values])\n",
        "    final_flag = flag_shape and flag_columns and flag_label and flag_label2\n",
        "    return final_flag\n",
        "grader_df()"
      ],
      "execution_count": 15,
      "outputs": [
        {
          "output_type": "execute_result",
          "data": {
            "text/plain": [
              "True"
            ]
          },
          "metadata": {},
          "execution_count": 15
        }
      ]
    },
    {
      "cell_type": "code",
      "metadata": {
        "id": "PlfssCc3aNnL"
      },
      "source": [
        "from sklearn.utils import shuffle\n",
        "df_audio = shuffle(df_audio, random_state=33)#don't change the random state"
      ],
      "execution_count": 16,
      "outputs": []
    },
    {
      "cell_type": "markdown",
      "metadata": {
        "id": "PZ448aENaNnR"
      },
      "source": [
        "<pre><font size=4>Train and Validation split</font></pre>"
      ]
    },
    {
      "cell_type": "code",
      "source": [
        "from sklearn.model_selection import train_test_split"
      ],
      "metadata": {
        "id": "L5j8ZOdb12q2"
      },
      "execution_count": 17,
      "outputs": []
    },
    {
      "cell_type": "code",
      "metadata": {
        "id": "vSPy-Ln6aNnS"
      },
      "source": [
        "#split the data into train and validation and save in X_train, X_test, y_train, y_test\n",
        "#use stratify sampling\n",
        "#use random state of 45\n",
        "#use test size of 30%\n",
        "X_train, X_test, y_train, y_test=train_test_split(df_audio['path'],df_audio['label'],stratify=df_audio['label'],random_state=45,test_size=0.3)"
      ],
      "execution_count": 18,
      "outputs": []
    },
    {
      "cell_type": "markdown",
      "metadata": {
        "id": "YPK3sbzUaNnW"
      },
      "source": [
        "<font size=4>Grader function 3 </font>"
      ]
    },
    {
      "cell_type": "code",
      "metadata": {
        "id": "chZzntKUaNnX",
        "outputId": "1c960265-bec5-437d-d56e-7111d973f544",
        "colab": {
          "base_uri": "https://localhost:8080/"
        }
      },
      "source": [
        "def grader_split():\n",
        "    flag_len = (len(X_train)==1400) and (len(X_test)==600) and (len(y_train)==1400) and (len(y_test)==600)\n",
        "    values_ytrain = list(y_train.value_counts())\n",
        "    flag_ytrain = (len(values_ytrain)==10) and (all([i==140 for i in values_ytrain]))\n",
        "    values_ytest = list(y_test.value_counts())\n",
        "    flag_ytest = (len(values_ytest)==10) and (all([i==60 for i in values_ytest]))\n",
        "    final_flag = flag_len and flag_ytrain and flag_ytest\n",
        "    return final_flag\n",
        "grader_split()"
      ],
      "execution_count": 19,
      "outputs": [
        {
          "output_type": "execute_result",
          "data": {
            "text/plain": [
              "True"
            ]
          },
          "metadata": {},
          "execution_count": 19
        }
      ]
    },
    {
      "cell_type": "markdown",
      "metadata": {
        "id": "LGhh-39vaNnb"
      },
      "source": [
        "<pre><font size=4>Preprocessing</font>\n",
        "\n",
        "All files are in the \"WAV\" format. We will read those raw data files using the librosa</pre>"
      ]
    },
    {
      "cell_type": "code",
      "metadata": {
        "id": "i99JacQSaNnc"
      },
      "source": [
        "sample_rate = 22050\n",
        "def load_wav(x, get_duration=True):\n",
        "    '''This return the array values of audio with sampling rate of 22050 and Duration'''\n",
        "    #loading the wav file with sampling rate of 22050\n",
        "    samples, sample_rate = librosa.load(x, sr=22050)\n",
        "    if get_duration:\n",
        "        duration = librosa.get_duration(samples, sample_rate)\n",
        "        return [samples, duration]\n",
        "    else:\n",
        "        return samples"
      ],
      "execution_count": 20,
      "outputs": []
    },
    {
      "cell_type": "code",
      "metadata": {
        "id": "Rx97f8GGaNnh"
      },
      "source": [
        "#use load_wav function that was written above to get every wave. \n",
        "#save it in X_train_processed and X_test_processed\n",
        "# X_train_processed/X_test_processed should be dataframes with two columns(raw_data, duration) with same index of X_train/y_train\n",
        "tr_data=[]\n",
        "te_data=[]\n",
        "for i in X_train:\n",
        "  l=load_wav(i)\n",
        "  tr_data.append(l)\n",
        "for i in X_test:\n",
        "  l=load_wav(i)\n",
        "  te_data.append(l)  "
      ],
      "execution_count": 21,
      "outputs": []
    },
    {
      "cell_type": "code",
      "source": [
        "samples_tr=[]\n",
        "samples_te=[]\n",
        "duration_tr=[]\n",
        "duration_te=[]\n",
        "for i in tr_data:\n",
        "  samples_tr.append(i[0])\n",
        "  duration_tr.append(i[1])\n",
        "for i in te_data:\n",
        "  samples_te.append(i[0])\n",
        "  duration_te.append(i[1])\n",
        "X_train_processed=pd.DataFrame()\n",
        "X_test_processed=pd.DataFrame()\n",
        "X_train_processed['raw_data']=samples_tr\n",
        "X_train_processed['duration']=duration_tr\n",
        "X_test_processed['raw_data']=samples_te\n",
        "X_test_processed['duration']=duration_te"
      ],
      "metadata": {
        "id": "7DbVFb-r6tMz"
      },
      "execution_count": 22,
      "outputs": []
    },
    {
      "cell_type": "code",
      "source": [
        "X_train_processed.head()"
      ],
      "metadata": {
        "colab": {
          "base_uri": "https://localhost:8080/",
          "height": 206
        },
        "id": "sZsK3gzI_V04",
        "outputId": "a07961b2-0e6d-4ec1-f1c0-77bc14ff7025"
      },
      "execution_count": 23,
      "outputs": [
        {
          "output_type": "execute_result",
          "data": {
            "text/plain": [
              "                                            raw_data  duration\n",
              "0  [-0.0043981485, -0.0019107949, 0.00079161633, ...  0.704898\n",
              "1  [-0.008860776, -0.01059996, -0.010873296, -0.0...  0.682268\n",
              "2  [0.00087281835, 0.0004117749, -2.936911e-05, -...  0.327755\n",
              "3  [-0.00891809, -0.009839113, -0.009143287, -0.0...  0.344127\n",
              "4  [0.0006233836, 0.0006708935, 0.0006798584, 0.0...  0.567891"
            ],
            "text/html": [
              "\n",
              "  <div id=\"df-695b83db-2c76-4693-be2c-8ac057b49bf3\">\n",
              "    <div class=\"colab-df-container\">\n",
              "      <div>\n",
              "<style scoped>\n",
              "    .dataframe tbody tr th:only-of-type {\n",
              "        vertical-align: middle;\n",
              "    }\n",
              "\n",
              "    .dataframe tbody tr th {\n",
              "        vertical-align: top;\n",
              "    }\n",
              "\n",
              "    .dataframe thead th {\n",
              "        text-align: right;\n",
              "    }\n",
              "</style>\n",
              "<table border=\"1\" class=\"dataframe\">\n",
              "  <thead>\n",
              "    <tr style=\"text-align: right;\">\n",
              "      <th></th>\n",
              "      <th>raw_data</th>\n",
              "      <th>duration</th>\n",
              "    </tr>\n",
              "  </thead>\n",
              "  <tbody>\n",
              "    <tr>\n",
              "      <th>0</th>\n",
              "      <td>[-0.0043981485, -0.0019107949, 0.00079161633, ...</td>\n",
              "      <td>0.704898</td>\n",
              "    </tr>\n",
              "    <tr>\n",
              "      <th>1</th>\n",
              "      <td>[-0.008860776, -0.01059996, -0.010873296, -0.0...</td>\n",
              "      <td>0.682268</td>\n",
              "    </tr>\n",
              "    <tr>\n",
              "      <th>2</th>\n",
              "      <td>[0.00087281835, 0.0004117749, -2.936911e-05, -...</td>\n",
              "      <td>0.327755</td>\n",
              "    </tr>\n",
              "    <tr>\n",
              "      <th>3</th>\n",
              "      <td>[-0.00891809, -0.009839113, -0.009143287, -0.0...</td>\n",
              "      <td>0.344127</td>\n",
              "    </tr>\n",
              "    <tr>\n",
              "      <th>4</th>\n",
              "      <td>[0.0006233836, 0.0006708935, 0.0006798584, 0.0...</td>\n",
              "      <td>0.567891</td>\n",
              "    </tr>\n",
              "  </tbody>\n",
              "</table>\n",
              "</div>\n",
              "      <button class=\"colab-df-convert\" onclick=\"convertToInteractive('df-695b83db-2c76-4693-be2c-8ac057b49bf3')\"\n",
              "              title=\"Convert this dataframe to an interactive table.\"\n",
              "              style=\"display:none;\">\n",
              "        \n",
              "  <svg xmlns=\"http://www.w3.org/2000/svg\" height=\"24px\"viewBox=\"0 0 24 24\"\n",
              "       width=\"24px\">\n",
              "    <path d=\"M0 0h24v24H0V0z\" fill=\"none\"/>\n",
              "    <path d=\"M18.56 5.44l.94 2.06.94-2.06 2.06-.94-2.06-.94-.94-2.06-.94 2.06-2.06.94zm-11 1L8.5 8.5l.94-2.06 2.06-.94-2.06-.94L8.5 2.5l-.94 2.06-2.06.94zm10 10l.94 2.06.94-2.06 2.06-.94-2.06-.94-.94-2.06-.94 2.06-2.06.94z\"/><path d=\"M17.41 7.96l-1.37-1.37c-.4-.4-.92-.59-1.43-.59-.52 0-1.04.2-1.43.59L10.3 9.45l-7.72 7.72c-.78.78-.78 2.05 0 2.83L4 21.41c.39.39.9.59 1.41.59.51 0 1.02-.2 1.41-.59l7.78-7.78 2.81-2.81c.8-.78.8-2.07 0-2.86zM5.41 20L4 18.59l7.72-7.72 1.47 1.35L5.41 20z\"/>\n",
              "  </svg>\n",
              "      </button>\n",
              "      \n",
              "  <style>\n",
              "    .colab-df-container {\n",
              "      display:flex;\n",
              "      flex-wrap:wrap;\n",
              "      gap: 12px;\n",
              "    }\n",
              "\n",
              "    .colab-df-convert {\n",
              "      background-color: #E8F0FE;\n",
              "      border: none;\n",
              "      border-radius: 50%;\n",
              "      cursor: pointer;\n",
              "      display: none;\n",
              "      fill: #1967D2;\n",
              "      height: 32px;\n",
              "      padding: 0 0 0 0;\n",
              "      width: 32px;\n",
              "    }\n",
              "\n",
              "    .colab-df-convert:hover {\n",
              "      background-color: #E2EBFA;\n",
              "      box-shadow: 0px 1px 2px rgba(60, 64, 67, 0.3), 0px 1px 3px 1px rgba(60, 64, 67, 0.15);\n",
              "      fill: #174EA6;\n",
              "    }\n",
              "\n",
              "    [theme=dark] .colab-df-convert {\n",
              "      background-color: #3B4455;\n",
              "      fill: #D2E3FC;\n",
              "    }\n",
              "\n",
              "    [theme=dark] .colab-df-convert:hover {\n",
              "      background-color: #434B5C;\n",
              "      box-shadow: 0px 1px 3px 1px rgba(0, 0, 0, 0.15);\n",
              "      filter: drop-shadow(0px 1px 2px rgba(0, 0, 0, 0.3));\n",
              "      fill: #FFFFFF;\n",
              "    }\n",
              "  </style>\n",
              "\n",
              "      <script>\n",
              "        const buttonEl =\n",
              "          document.querySelector('#df-695b83db-2c76-4693-be2c-8ac057b49bf3 button.colab-df-convert');\n",
              "        buttonEl.style.display =\n",
              "          google.colab.kernel.accessAllowed ? 'block' : 'none';\n",
              "\n",
              "        async function convertToInteractive(key) {\n",
              "          const element = document.querySelector('#df-695b83db-2c76-4693-be2c-8ac057b49bf3');\n",
              "          const dataTable =\n",
              "            await google.colab.kernel.invokeFunction('convertToInteractive',\n",
              "                                                     [key], {});\n",
              "          if (!dataTable) return;\n",
              "\n",
              "          const docLinkHtml = 'Like what you see? Visit the ' +\n",
              "            '<a target=\"_blank\" href=https://colab.research.google.com/notebooks/data_table.ipynb>data table notebook</a>'\n",
              "            + ' to learn more about interactive tables.';\n",
              "          element.innerHTML = '';\n",
              "          dataTable['output_type'] = 'display_data';\n",
              "          await google.colab.output.renderOutput(dataTable, element);\n",
              "          const docLink = document.createElement('div');\n",
              "          docLink.innerHTML = docLinkHtml;\n",
              "          element.appendChild(docLink);\n",
              "        }\n",
              "      </script>\n",
              "    </div>\n",
              "  </div>\n",
              "  "
            ]
          },
          "metadata": {},
          "execution_count": 23
        }
      ]
    },
    {
      "cell_type": "code",
      "metadata": {
        "id": "duQZPQevaNno",
        "outputId": "30fe4d75-a7a7-4041-fec0-9542123fdb01",
        "colab": {
          "base_uri": "https://localhost:8080/",
          "height": 352
        }
      },
      "source": [
        "#plot the histogram of the duration for trian\n",
        "plt.hist((X_train_processed['duration']))"
      ],
      "execution_count": 24,
      "outputs": [
        {
          "output_type": "execute_result",
          "data": {
            "text/plain": [
              "(array([548., 728., 107.,  15.,   0.,   0.,   0.,   0.,   0.,   2.]),\n",
              " array([0.14353741, 0.35746032, 0.57138322, 0.78530612, 0.99922902,\n",
              "        1.21315193, 1.42707483, 1.64099773, 1.85492063, 2.06884354,\n",
              "        2.28276644]),\n",
              " <a list of 10 Patch objects>)"
            ]
          },
          "metadata": {},
          "execution_count": 24
        },
        {
          "output_type": "display_data",
          "data": {
            "text/plain": [
              "<Figure size 432x288 with 1 Axes>"
            ],
            "image/png": "[encoded data removed]"
          },
          "metadata": {
            "needs_background": "light"
          }
        }
      ]
    },
    {
      "cell_type": "code",
      "metadata": {
        "id": "wE5SDRzSaNns"
      },
      "source": [
        "#plot the histogram of the duration for trian\n"
      ],
      "execution_count": 25,
      "outputs": []
    },
    {
      "cell_type": "code",
      "metadata": {
        "id": "vvLhm1AqaNny",
        "outputId": "c5c660a4-058e-4b4e-c850-c881f371bfd5",
        "colab": {
          "base_uri": "https://localhost:8080/"
        }
      },
      "source": [
        "#print 0 to 100 percentile values with step size of 10 for train data duration. \n",
        "for i in range(0,101,10):\n",
        "  print('{} th percentile is'.format(i),np.percentile(X_train_processed['duration'].values,i))"
      ],
      "execution_count": 26,
      "outputs": [
        {
          "output_type": "stream",
          "name": "stdout",
          "text": [
            "0 th percentile is 0.1435374149659864\n",
            "10 th percentile is 0.25955102040816325\n",
            "20 th percentile is 0.2996371882086168\n",
            "30 th percentile is 0.33215419501133786\n",
            "40 th percentile is 0.3595827664399093\n",
            "50 th percentile is 0.391156462585034\n",
            "60 th percentile is 0.41863945578231293\n",
            "70 th percentile is 0.44769160997732427\n",
            "80 th percentile is 0.48358276643990933\n",
            "90 th percentile is 0.5538775510204081\n",
            "100 th percentile is 2.282766439909297\n"
          ]
        }
      ]
    },
    {
      "cell_type": "code",
      "metadata": {
        "id": "rSlVQh4CaNn2",
        "outputId": "3af01735-b018-46fc-94dc-571a2ce81e95",
        "colab": {
          "base_uri": "https://localhost:8080/"
        }
      },
      "source": [
        "##print 90 to 100 percentile values with step size of 1. \n",
        "for i in range(90,101,1):\n",
        "  print('{} th percentile is'.format(i),np.percentile(X_train_processed['duration'].values,i))"
      ],
      "execution_count": 27,
      "outputs": [
        {
          "output_type": "stream",
          "name": "stdout",
          "text": [
            "90 th percentile is 0.5538775510204081\n",
            "91 th percentile is 0.5680585034013608\n",
            "92 th percentile is 0.5830403628117916\n",
            "93 th percentile is 0.6025904761904762\n",
            "94 th percentile is 0.6175700680272107\n",
            "95 th percentile is 0.6330226757369615\n",
            "96 th percentile is 0.6432308390022674\n",
            "97 th percentile is 0.6655478458049886\n",
            "98 th percentile is 0.7050403628117913\n",
            "99 th percentile is 0.79601179138322\n",
            "100 th percentile is 2.282766439909297\n"
          ]
        }
      ]
    },
    {
      "cell_type": "markdown",
      "metadata": {
        "id": "JbMb4Y0RaNoA"
      },
      "source": [
        "<font size=4>Grader function 4 </font>"
      ]
    },
    {
      "cell_type": "code",
      "metadata": {
        "id": "UMoyLLSAaNoF",
        "outputId": "e62800da-9158-47f2-da92-0b81bbc9c4d1",
        "colab": {
          "base_uri": "https://localhost:8080/"
        }
      },
      "source": [
        "def grader_processed():\n",
        "    flag_columns = (all(X_train_processed.columns==['raw_data', 'duration'])) and (all(X_test_processed.columns==['raw_data', 'duration']))\n",
        "    flag_shape = (X_train_processed.shape ==(1400, 2)) and (X_test_processed.shape==(600,2))\n",
        "    return flag_columns and flag_shape\n",
        "grader_processed()"
      ],
      "execution_count": 28,
      "outputs": [
        {
          "output_type": "execute_result",
          "data": {
            "text/plain": [
              "True"
            ]
          },
          "metadata": {},
          "execution_count": 28
        }
      ]
    },
    {
      "cell_type": "markdown",
      "metadata": {
        "id": "Cux3_jfcaNoM"
      },
      "source": [
        "<b>Based on our analysis 99 percentile values are less than 0.8sec so we will limit maximum length of X_train_processed and X_test_processed to 0.8 sec. It is similar to pad_sequence for a text dataset.</b>\n",
        "\n",
        "<b>While loading the audio files, we are using sampling rate of 22050 so one sec will give array of length 22050. so, our maximum length is 0.8*22050 = 17640\n",
        "</b>\n",
        "<b>Pad with Zero if length of sequence is less than 17640 else Truncate the number. </b>\n",
        "\n",
        "<b> Also create a masking vector for train and test. </b>\n",
        "\n",
        "<b> masking vector value = 1 if it is real value, 0 if it is pad value. Masking vector data type must be bool.</b>\n"
      ]
    },
    {
      "cell_type": "code",
      "metadata": {
        "id": "voqSEyvcaNoO"
      },
      "source": [
        "max_length  = 17640"
      ],
      "execution_count": 29,
      "outputs": []
    },
    {
      "cell_type": "code",
      "source": [
        "import tensorflow as tf\n",
        "from tensorflow.keras.preprocessing.sequence import pad_sequences"
      ],
      "metadata": {
        "id": "54izZtcbLI3o"
      },
      "execution_count": 30,
      "outputs": []
    },
    {
      "cell_type": "code",
      "metadata": {
        "id": "B1-_r20BaNoW",
        "colab": {
          "base_uri": "https://localhost:8080/"
        },
        "outputId": "21fd1449-0965-4d3a-d81d-b11a8c2748f3"
      },
      "source": [
        "## as discussed above, Pad with Zero if length of sequence is less than 17640 else Truncate the number. \n",
        "## save in the X_train_pad_seq, X_test_pad_seq\n",
        "## also Create masking vector X_train_mask, X_test_mask\n",
        "X_train_pad_seq=pad_sequences(X_train_processed['raw_data'],maxlen=max_length,padding='post',truncating='post',dtype='float')\n",
        "X_test_pad_seq=pad_sequences(X_test_processed['raw_data'],maxlen=max_length,padding='post',truncating='post',dtype='float')\n",
        "print(X_train_pad_seq.shape,X_test_pad_seq.shape)\n",
        "## all the X_train_pad_seq, X_test_pad_seq, X_train_mask, X_test_mask will be numpy arrays mask vector dtype must be bool."
      ],
      "execution_count": 31,
      "outputs": [
        {
          "output_type": "stream",
          "name": "stdout",
          "text": [
            "(1400, 17640) (600, 17640)\n"
          ]
        }
      ]
    },
    {
      "cell_type": "code",
      "source": [
        "print(X_train_processed['raw_data'][0])\n",
        "print(X_train_pad_seq[0])"
      ],
      "metadata": {
        "colab": {
          "base_uri": "https://localhost:8080/"
        },
        "id": "e8SbqmKj7jJj",
        "outputId": "714a35d3-7027-4935-e8ee-f6ea1816e677"
      },
      "execution_count": 32,
      "outputs": [
        {
          "output_type": "stream",
          "name": "stdout",
          "text": [
            "[-0.00439815 -0.00191079  0.00079162 ... -0.00413    -0.00245533\n",
            "  0.        ]\n",
            "[-0.00439815 -0.00191079  0.00079162 ...  0.          0.\n",
            "  0.        ]\n"
          ]
        }
      ]
    },
    {
      "cell_type": "code",
      "source": [
        "X_train_mask=[]\n",
        "X_test_mask=[]\n",
        "for seq in X_train_pad_seq:\n",
        "  seq_mask = [(i!=0) for i in seq]\n",
        "  X_train_mask.append(seq_mask)\n",
        "X_train_mask=np.array(X_train_mask)\n",
        "for seq in X_test_pad_seq:\n",
        "  seq_mask = [(i!=0) for i in seq]\n",
        "  X_test_mask.append(seq_mask)\n",
        "X_train_mask=np.array(X_train_mask)\n",
        "X_test_mask=np.array(X_test_mask)\n",
        "print(X_train_mask.shape)  \n",
        "print(X_test_mask.shape)  "
      ],
      "metadata": {
        "colab": {
          "base_uri": "https://localhost:8080/"
        },
        "id": "eRM3hHkJT521",
        "outputId": "23ce3629-bf7d-4c88-9cab-679b9763cfe1"
      },
      "execution_count": 33,
      "outputs": [
        {
          "output_type": "stream",
          "name": "stdout",
          "text": [
            "(1400, 17640)\n",
            "(600, 17640)\n"
          ]
        }
      ]
    },
    {
      "cell_type": "markdown",
      "metadata": {
        "id": "zEHMgm4DaNoe"
      },
      "source": [
        "<font size=4>Grader function 5 </font>"
      ]
    },
    {
      "cell_type": "code",
      "metadata": {
        "id": "Th3KhplGaNof",
        "outputId": "25a61d93-2335-422a-d6ae-a2fe9142e6e6",
        "colab": {
          "base_uri": "https://localhost:8080/"
        }
      },
      "source": [
        "def grader_padoutput():\n",
        "    flag_padshape = (X_train_pad_seq.shape==(1400, 17640)) and (X_test_pad_seq.shape==(600, 17640)) and (y_train.shape==(1400,))\n",
        "    flag_maskshape = (X_train_mask.shape==(1400, 17640)) and (X_test_mask.shape==(600, 17640)) and (y_test.shape==(600,))\n",
        "    flag_dtype = (X_train_mask.dtype==bool) and (X_test_mask.dtype==bool)\n",
        "    return flag_padshape and flag_maskshape and flag_dtype\n",
        "grader_padoutput()"
      ],
      "execution_count": 34,
      "outputs": [
        {
          "output_type": "execute_result",
          "data": {
            "text/plain": [
              "True"
            ]
          },
          "metadata": {},
          "execution_count": 34
        }
      ]
    },
    {
      "cell_type": "markdown",
      "metadata": {
        "id": "K0kaYQ1jaNop"
      },
      "source": [
        "### 1. Giving Raw data directly. "
      ]
    },
    {
      "cell_type": "markdown",
      "metadata": {
        "id": "xGHxh3jTaNoq"
      },
      "source": [
        "\n",
        "Now we have\n",
        "\n",
        "Train data: X_train_pad_seq, X_train_mask and y_train  \n",
        "Test data: X_test_pad_seq, X_test_mask and y_test   \n",
        "\n",
        "We will create a LSTM model which takes this input. \n",
        "\n",
        "Task:\n",
        "\n",
        "1. Create an LSTM network which takes \"X_train_pad_seq\" as input, \"X_train_mask\" as mask input. You can use any number of LSTM cells. Please read LSTM documentation(https://www.tensorflow.org/api_docs/python/tf/keras/layers/LSTM) in tensorflow to know more about mask and also https://www.tensorflow.org/guide/keras/masking_and_padding \n",
        "2. Get the final output of the LSTM and give it to Dense layer of any size and then give it to Dense layer of size 10(because we have 10 outputs) and then compile with the sparse categorical cross entropy( because we are not converting it to one hot vectors). Also check the datatype of class labels(y_values) and make sure that you convert your class labels  to integer datatype before fitting in the model.\n",
        "3. While defining your model make sure that you pass both the input layer and mask input layer as input to lstm layer as follows\n",
        "<img src='https://i.imgur.com/FvcgvbY.jpg'>\n",
        "4. Use tensorboard to plot the graphs of loss and metric(use custom micro F1 score as metric) and histograms of gradients. You can write your code for computing F1 score using this <a  href='https://i.imgur.com/8YULUcu.jpg'>link</a> \n",
        "\n",
        "5. make sure that it won't overfit. \n",
        "6. You are free to include any regularization\n"
      ]
    },
    {
      "cell_type": "code",
      "metadata": {
        "id": "BZO4szvvO_r9"
      },
      "source": [
        ""
      ],
      "execution_count": 34,
      "outputs": []
    },
    {
      "cell_type": "code",
      "metadata": {
        "id": "X8yg951AaNor"
      },
      "source": [
        "from tensorflow.keras.layers import Input, LSTM, Dense,LeakyReLU,GlobalAveragePooling1D\n",
        "from tensorflow.keras.models import Model\n",
        "import tensorflow as tf"
      ],
      "execution_count": 42,
      "outputs": []
    },
    {
      "cell_type": "code",
      "source": [
        "print(X_train_mask.dtype\n",
        ",X_train_pad_seq.dtype)"
      ],
      "metadata": {
        "colab": {
          "base_uri": "https://localhost:8080/"
        },
        "id": "k3vMHrs_1TaL",
        "outputId": "94ed2d1a-7e99-4443-e1e2-c61a99f9aa6b"
      },
      "execution_count": 36,
      "outputs": [
        {
          "output_type": "stream",
          "name": "stdout",
          "text": [
            "bool float64\n"
          ]
        }
      ]
    },
    {
      "cell_type": "code",
      "metadata": {
        "id": "d8y1sgeVaNoy",
        "colab": {
          "base_uri": "https://localhost:8080/"
        },
        "outputId": "eb480e38-83d2-4bec-d1cb-5309ff1b9dc3"
      },
      "source": [
        "## as discussed above, please write the architecture of the model.\n",
        "## you will have two input layers in your model (data input layer and mask input layer)\n",
        "## make sure that you have defined the data type of masking layer as bool\n",
        "input_layer=Input(shape=(max_length,1),dtype='float32')\n",
        "mask_input_layer=Input(shape=max_length,dtype='bool')\n",
        "lstm=LSTM(32)(input_layer,mask=mask_input_layer)\n",
        "dense1=Dense(32)(lstm)\n",
        "act=LeakyReLU()(dense1)\n",
        "output=Dense(10,activation='softmax')(act)\n",
        "model1=Model(inputs=[input_layer,mask_input_layer],outputs=output)\n",
        "model1.summary()"
      ],
      "execution_count": 59,
      "outputs": [
        {
          "output_type": "stream",
          "name": "stdout",
          "text": [
            "Model: \"model_5\"\n",
            "__________________________________________________________________________________________________\n",
            " Layer (type)                   Output Shape         Param #     Connected to                     \n",
            "==================================================================================================\n",
            " input_11 (InputLayer)          [(None, 17640, 1)]   0           []                               \n",
            "                                                                                                  \n",
            " input_12 (InputLayer)          [(None, 17640)]      0           []                               \n",
            "                                                                                                  \n",
            " lstm_5 (LSTM)                  (None, 32)           4352        ['input_11[0][0]',               \n",
            "                                                                  'input_12[0][0]']               \n",
            "                                                                                                  \n",
            " dense_10 (Dense)               (None, 32)           1056        ['lstm_5[0][0]']                 \n",
            "                                                                                                  \n",
            " leaky_re_lu_5 (LeakyReLU)      (None, 32)           0           ['dense_10[0][0]']               \n",
            "                                                                                                  \n",
            " dense_11 (Dense)               (None, 10)           330         ['leaky_re_lu_5[0][0]']          \n",
            "                                                                                                  \n",
            "==================================================================================================\n",
            "Total params: 5,738\n",
            "Trainable params: 5,738\n",
            "Non-trainable params: 0\n",
            "__________________________________________________________________________________________________\n"
          ]
        }
      ]
    },
    {
      "cell_type": "code",
      "source": [
        "from sklearn.metrics import f1_score\n",
        "class Metrics(tf.keras.callbacks.Callback):\n",
        "  def __init__(self,validation_data):\n",
        "    super().__init__()\n",
        "    self.x_test=validation_data[0]\n",
        "    self.y_test=validation_data[1]\n",
        "\n",
        "  def on_epoch_end(self,epoch,logs={}):\n",
        "    val_predict=(np.asarray(self.model.predict(self.x_test)))\n",
        "    val_label=np.argmax(val_predict,axis=1)\n",
        "    val_targ=self.y_test\n",
        "    val_microF1=f1_score(val_targ,val_label,average='micro')\n",
        "    print('val_microF1 :',val_microF1)  "
      ],
      "metadata": {
        "id": "ZvGCQP8CjHlV"
      },
      "execution_count": 37,
      "outputs": []
    },
    {
      "cell_type": "code",
      "source": [
        "model1.compile(optimizer=tf.keras.optimizers.Adam(0.01),loss='sparse_categorical_crossentropy',metrics=['accuracy'])"
      ],
      "metadata": {
        "id": "M4OeSUBmlq6X"
      },
      "execution_count": 60,
      "outputs": []
    },
    {
      "cell_type": "code",
      "metadata": {
        "id": "RPj_DGW2aNo9"
      },
      "source": [
        "from tensorflow.keras.callbacks import LearningRateScheduler,ModelCheckpoint\n",
        "def scheduler(epoch,lr):\n",
        "  if epoch%2==1:\n",
        "    lr=0.9*lr\n",
        "  return lr  \n",
        "callbacks=[LearningRateScheduler(scheduler),ModelCheckpoint(filepath='best_model1.h5',monitor='val_microF1',mode='max',save_best_only=True,save_weights_only=True),Metrics(([X_test_pad_seq,X_test_mask],y_test))]"
      ],
      "execution_count": 38,
      "outputs": []
    },
    {
      "cell_type": "code",
      "metadata": {
        "id": "MzpPjxvHaNpJ",
        "colab": {
          "base_uri": "https://localhost:8080/",
          "height": 747
        },
        "outputId": "7e328c06-feba-4b7e-e82d-29db83bda61f"
      },
      "source": [
        "#train your model\n",
        "model1.fit([X_train_pad_seq,X_train_mask],y_train,\n",
        "           epochs=50,\n",
        "           validation_data=([X_test_pad_seq,X_test_mask],y_test),callbacks=callbacks)"
      ],
      "execution_count": 62,
      "outputs": [
        {
          "output_type": "stream",
          "name": "stdout",
          "text": [
            "Epoch 1/50\n",
            "44/44 [==============================] - ETA: 0s - loss: 2.3090 - accuracy: 0.0850WARNING:tensorflow:Can save best model only with val_microF1 available, skipping.\n"
          ]
        },
        {
          "output_type": "stream",
          "name": "stderr",
          "text": [
            "WARNING:tensorflow:Can save best model only with val_microF1 available, skipping.\n"
          ]
        },
        {
          "output_type": "stream",
          "name": "stdout",
          "text": [
            "val_microF1 : 0.10000000000000002\n",
            "\b\b\b\b\b\b\b\b\b\b\b\b\b\b\b\b\b\b\b\b\b\b\b\b\b\b\b\b\b\b\b\b\b\b\b\b\b\b\b\b\b\b\b\b\b\b\b\b\b\b\b\b\b\b\b\b\b\b\b\b\b\b\b\b\b\b\b\b\b\b\b\b\b\b\b\b\b\b\b\b\b\b\r44/44 [==============================] - 36s 655ms/step - loss: 2.3090 - accuracy: 0.0850 - val_loss: 2.3085 - val_accuracy: 0.1000 - lr: 0.0100\n",
            "Epoch 2/50\n",
            "44/44 [==============================] - ETA: 0s - loss: 2.3060 - accuracy: 0.0857WARNING:tensorflow:Can save best model only with val_microF1 available, skipping.\n"
          ]
        },
        {
          "output_type": "stream",
          "name": "stderr",
          "text": [
            "WARNING:tensorflow:Can save best model only with val_microF1 available, skipping.\n"
          ]
        },
        {
          "output_type": "stream",
          "name": "stdout",
          "text": [
            "val_microF1 : 0.10000000000000002\n",
            "\b\b\b\b\b\b\b\b\b\b\b\b\b\b\b\b\b\b\b\b\b\b\b\b\b\b\b\b\b\b\b\b\b\b\b\b\b\b\b\b\b\b\b\b\b\b\b\b\b\b\b\b\b\b\b\b\b\b\b\b\b\b\b\b\b\b\b\b\b\b\b\b\b\b\b\b\b\b\b\b\b\b\r44/44 [==============================] - 27s 624ms/step - loss: 2.3060 - accuracy: 0.0857 - val_loss: 2.3043 - val_accuracy: 0.1000 - lr: 0.0090\n",
            "Epoch 3/50\n",
            "44/44 [==============================] - ETA: 0s - loss: 2.3063 - accuracy: 0.0971WARNING:tensorflow:Can save best model only with val_microF1 available, skipping.\n"
          ]
        },
        {
          "output_type": "stream",
          "name": "stderr",
          "text": [
            "WARNING:tensorflow:Can save best model only with val_microF1 available, skipping.\n"
          ]
        },
        {
          "output_type": "stream",
          "name": "stdout",
          "text": [
            "val_microF1 : 0.09833333333333333\n",
            "\b\b\b\b\b\b\b\b\b\b\b\b\b\b\b\b\b\b\b\b\b\b\b\b\b\b\b\b\b\b\b\b\b\b\b\b\b\b\b\b\b\b\b\b\b\b\b\b\b\b\b\b\b\b\b\b\b\b\b\b\b\b\b\b\b\b\b\b\b\b\b\b\b\b\b\b\b\b\b\b\b\b\r44/44 [==============================] - 26s 598ms/step - loss: 2.3063 - accuracy: 0.0971 - val_loss: 2.3029 - val_accuracy: 0.0983 - lr: 0.0090\n",
            "Epoch 4/50\n",
            "44/44 [==============================] - ETA: 0s - loss: 2.3048 - accuracy: 0.0900WARNING:tensorflow:Can save best model only with val_microF1 available, skipping.\n"
          ]
        },
        {
          "output_type": "stream",
          "name": "stderr",
          "text": [
            "WARNING:tensorflow:Can save best model only with val_microF1 available, skipping.\n"
          ]
        },
        {
          "output_type": "stream",
          "name": "stdout",
          "text": [
            "val_microF1 : 0.10000000000000002\n",
            "\b\b\b\b\b\b\b\b\b\b\b\b\b\b\b\b\b\b\b\b\b\b\b\b\b\b\b\b\b\b\b\b\b\b\b\b\b\b\b\b\b\b\b\b\b\b\b\b\b\b\b\b\b\b\b\b\b\b\b\b\b\b\b\b\b\b\b\b\b\b\b\b\b\b\b\b\b\b\b\b\b\b\r44/44 [==============================] - 27s 621ms/step - loss: 2.3048 - accuracy: 0.0900 - val_loss: 2.3026 - val_accuracy: 0.1000 - lr: 0.0081\n",
            "Epoch 5/50\n",
            "18/44 [===========>..................] - ETA: 11s - loss: 2.3040 - accuracy: 0.1111"
          ]
        },
        {
          "output_type": "error",
          "ename": "KeyboardInterrupt",
          "evalue": "ignored",
          "traceback": [
            "\u001b[0;31m---------------------------------------------------------------------------\u001b[0m",
            "\u001b[0;31mKeyboardInterrupt\u001b[0m                         Traceback (most recent call last)",
            "\u001b[0;32m<ipython-input-62-bd433a58f441>\u001b[0m in \u001b[0;36m<module>\u001b[0;34m()\u001b[0m\n\u001b[1;32m      2\u001b[0m model1.fit([X_train_pad_seq,X_train_mask],y_train,\n\u001b[1;32m      3\u001b[0m            \u001b[0mepochs\u001b[0m\u001b[0;34m=\u001b[0m\u001b[0;36m50\u001b[0m\u001b[0;34m,\u001b[0m\u001b[0;34m\u001b[0m\u001b[0;34m\u001b[0m\u001b[0m\n\u001b[0;32m----> 4\u001b[0;31m            validation_data=([X_test_pad_seq,X_test_mask],y_test),callbacks=callbacks)\n\u001b[0m",
            "\u001b[0;32m/usr/local/lib/python3.7/dist-packages/keras/utils/traceback_utils.py\u001b[0m in \u001b[0;36merror_handler\u001b[0;34m(*args, **kwargs)\u001b[0m\n\u001b[1;32m     62\u001b[0m     \u001b[0mfiltered_tb\u001b[0m \u001b[0;34m=\u001b[0m \u001b[0;32mNone\u001b[0m\u001b[0;34m\u001b[0m\u001b[0;34m\u001b[0m\u001b[0m\n\u001b[1;32m     63\u001b[0m     \u001b[0;32mtry\u001b[0m\u001b[0;34m:\u001b[0m\u001b[0;34m\u001b[0m\u001b[0;34m\u001b[0m\u001b[0m\n\u001b[0;32m---> 64\u001b[0;31m       \u001b[0;32mreturn\u001b[0m \u001b[0mfn\u001b[0m\u001b[0;34m(\u001b[0m\u001b[0;34m*\u001b[0m\u001b[0margs\u001b[0m\u001b[0;34m,\u001b[0m \u001b[0;34m**\u001b[0m\u001b[0mkwargs\u001b[0m\u001b[0;34m)\u001b[0m\u001b[0;34m\u001b[0m\u001b[0;34m\u001b[0m\u001b[0m\n\u001b[0m\u001b[1;32m     65\u001b[0m     \u001b[0;32mexcept\u001b[0m \u001b[0mException\u001b[0m \u001b[0;32mas\u001b[0m \u001b[0me\u001b[0m\u001b[0;34m:\u001b[0m  \u001b[0;31m# pylint: disable=broad-except\u001b[0m\u001b[0;34m\u001b[0m\u001b[0;34m\u001b[0m\u001b[0m\n\u001b[1;32m     66\u001b[0m       \u001b[0mfiltered_tb\u001b[0m \u001b[0;34m=\u001b[0m \u001b[0m_process_traceback_frames\u001b[0m\u001b[0;34m(\u001b[0m\u001b[0me\u001b[0m\u001b[0;34m.\u001b[0m\u001b[0m__traceback__\u001b[0m\u001b[0;34m)\u001b[0m\u001b[0;34m\u001b[0m\u001b[0;34m\u001b[0m\u001b[0m\n",
            "\u001b[0;32m/usr/local/lib/python3.7/dist-packages/keras/engine/training.py\u001b[0m in \u001b[0;36mfit\u001b[0;34m(self, x, y, batch_size, epochs, verbose, callbacks, validation_split, validation_data, shuffle, class_weight, sample_weight, initial_epoch, steps_per_epoch, validation_steps, validation_batch_size, validation_freq, max_queue_size, workers, use_multiprocessing)\u001b[0m\n\u001b[1;32m   1382\u001b[0m                 _r=1):\n\u001b[1;32m   1383\u001b[0m               \u001b[0mcallbacks\u001b[0m\u001b[0;34m.\u001b[0m\u001b[0mon_train_batch_begin\u001b[0m\u001b[0;34m(\u001b[0m\u001b[0mstep\u001b[0m\u001b[0;34m)\u001b[0m\u001b[0;34m\u001b[0m\u001b[0;34m\u001b[0m\u001b[0m\n\u001b[0;32m-> 1384\u001b[0;31m               \u001b[0mtmp_logs\u001b[0m \u001b[0;34m=\u001b[0m \u001b[0mself\u001b[0m\u001b[0;34m.\u001b[0m\u001b[0mtrain_function\u001b[0m\u001b[0;34m(\u001b[0m\u001b[0miterator\u001b[0m\u001b[0;34m)\u001b[0m\u001b[0;34m\u001b[0m\u001b[0;34m\u001b[0m\u001b[0m\n\u001b[0m\u001b[1;32m   1385\u001b[0m               \u001b[0;32mif\u001b[0m \u001b[0mdata_handler\u001b[0m\u001b[0;34m.\u001b[0m\u001b[0mshould_sync\u001b[0m\u001b[0;34m:\u001b[0m\u001b[0;34m\u001b[0m\u001b[0;34m\u001b[0m\u001b[0m\n\u001b[1;32m   1386\u001b[0m                 \u001b[0mcontext\u001b[0m\u001b[0;34m.\u001b[0m\u001b[0masync_wait\u001b[0m\u001b[0;34m(\u001b[0m\u001b[0;34m)\u001b[0m\u001b[0;34m\u001b[0m\u001b[0;34m\u001b[0m\u001b[0m\n",
            "\u001b[0;32m/usr/local/lib/python3.7/dist-packages/tensorflow/python/util/traceback_utils.py\u001b[0m in \u001b[0;36merror_handler\u001b[0;34m(*args, **kwargs)\u001b[0m\n\u001b[1;32m    148\u001b[0m     \u001b[0mfiltered_tb\u001b[0m \u001b[0;34m=\u001b[0m \u001b[0;32mNone\u001b[0m\u001b[0;34m\u001b[0m\u001b[0;34m\u001b[0m\u001b[0m\n\u001b[1;32m    149\u001b[0m     \u001b[0;32mtry\u001b[0m\u001b[0;34m:\u001b[0m\u001b[0;34m\u001b[0m\u001b[0;34m\u001b[0m\u001b[0m\n\u001b[0;32m--> 150\u001b[0;31m       \u001b[0;32mreturn\u001b[0m \u001b[0mfn\u001b[0m\u001b[0;34m(\u001b[0m\u001b[0;34m*\u001b[0m\u001b[0margs\u001b[0m\u001b[0;34m,\u001b[0m \u001b[0;34m**\u001b[0m\u001b[0mkwargs\u001b[0m\u001b[0;34m)\u001b[0m\u001b[0;34m\u001b[0m\u001b[0;34m\u001b[0m\u001b[0m\n\u001b[0m\u001b[1;32m    151\u001b[0m     \u001b[0;32mexcept\u001b[0m \u001b[0mException\u001b[0m \u001b[0;32mas\u001b[0m \u001b[0me\u001b[0m\u001b[0;34m:\u001b[0m\u001b[0;34m\u001b[0m\u001b[0;34m\u001b[0m\u001b[0m\n\u001b[1;32m    152\u001b[0m       \u001b[0mfiltered_tb\u001b[0m \u001b[0;34m=\u001b[0m \u001b[0m_process_traceback_frames\u001b[0m\u001b[0;34m(\u001b[0m\u001b[0me\u001b[0m\u001b[0;34m.\u001b[0m\u001b[0m__traceback__\u001b[0m\u001b[0;34m)\u001b[0m\u001b[0;34m\u001b[0m\u001b[0;34m\u001b[0m\u001b[0m\n",
            "\u001b[0;32m/usr/local/lib/python3.7/dist-packages/tensorflow/python/eager/def_function.py\u001b[0m in \u001b[0;36m__call__\u001b[0;34m(self, *args, **kwds)\u001b[0m\n\u001b[1;32m    913\u001b[0m \u001b[0;34m\u001b[0m\u001b[0m\n\u001b[1;32m    914\u001b[0m       \u001b[0;32mwith\u001b[0m \u001b[0mOptionalXlaContext\u001b[0m\u001b[0;34m(\u001b[0m\u001b[0mself\u001b[0m\u001b[0;34m.\u001b[0m\u001b[0m_jit_compile\u001b[0m\u001b[0;34m)\u001b[0m\u001b[0;34m:\u001b[0m\u001b[0;34m\u001b[0m\u001b[0;34m\u001b[0m\u001b[0m\n\u001b[0;32m--> 915\u001b[0;31m         \u001b[0mresult\u001b[0m \u001b[0;34m=\u001b[0m \u001b[0mself\u001b[0m\u001b[0;34m.\u001b[0m\u001b[0m_call\u001b[0m\u001b[0;34m(\u001b[0m\u001b[0;34m*\u001b[0m\u001b[0margs\u001b[0m\u001b[0;34m,\u001b[0m \u001b[0;34m**\u001b[0m\u001b[0mkwds\u001b[0m\u001b[0;34m)\u001b[0m\u001b[0;34m\u001b[0m\u001b[0;34m\u001b[0m\u001b[0m\n\u001b[0m\u001b[1;32m    916\u001b[0m \u001b[0;34m\u001b[0m\u001b[0m\n\u001b[1;32m    917\u001b[0m       \u001b[0mnew_tracing_count\u001b[0m \u001b[0;34m=\u001b[0m \u001b[0mself\u001b[0m\u001b[0;34m.\u001b[0m\u001b[0mexperimental_get_tracing_count\u001b[0m\u001b[0;34m(\u001b[0m\u001b[0;34m)\u001b[0m\u001b[0;34m\u001b[0m\u001b[0;34m\u001b[0m\u001b[0m\n",
            "\u001b[0;32m/usr/local/lib/python3.7/dist-packages/tensorflow/python/eager/def_function.py\u001b[0m in \u001b[0;36m_call\u001b[0;34m(self, *args, **kwds)\u001b[0m\n\u001b[1;32m    945\u001b[0m       \u001b[0;31m# In this case we have created variables on the first call, so we run the\u001b[0m\u001b[0;34m\u001b[0m\u001b[0;34m\u001b[0m\u001b[0;34m\u001b[0m\u001b[0m\n\u001b[1;32m    946\u001b[0m       \u001b[0;31m# defunned version which is guaranteed to never create variables.\u001b[0m\u001b[0;34m\u001b[0m\u001b[0;34m\u001b[0m\u001b[0;34m\u001b[0m\u001b[0m\n\u001b[0;32m--> 947\u001b[0;31m       \u001b[0;32mreturn\u001b[0m \u001b[0mself\u001b[0m\u001b[0;34m.\u001b[0m\u001b[0m_stateless_fn\u001b[0m\u001b[0;34m(\u001b[0m\u001b[0;34m*\u001b[0m\u001b[0margs\u001b[0m\u001b[0;34m,\u001b[0m \u001b[0;34m**\u001b[0m\u001b[0mkwds\u001b[0m\u001b[0;34m)\u001b[0m  \u001b[0;31m# pylint: disable=not-callable\u001b[0m\u001b[0;34m\u001b[0m\u001b[0;34m\u001b[0m\u001b[0m\n\u001b[0m\u001b[1;32m    948\u001b[0m     \u001b[0;32melif\u001b[0m \u001b[0mself\u001b[0m\u001b[0;34m.\u001b[0m\u001b[0m_stateful_fn\u001b[0m \u001b[0;32mis\u001b[0m \u001b[0;32mnot\u001b[0m \u001b[0;32mNone\u001b[0m\u001b[0;34m:\u001b[0m\u001b[0;34m\u001b[0m\u001b[0;34m\u001b[0m\u001b[0m\n\u001b[1;32m    949\u001b[0m       \u001b[0;31m# Release the lock early so that multiple threads can perform the call\u001b[0m\u001b[0;34m\u001b[0m\u001b[0;34m\u001b[0m\u001b[0;34m\u001b[0m\u001b[0m\n",
            "\u001b[0;32m/usr/local/lib/python3.7/dist-packages/tensorflow/python/eager/function.py\u001b[0m in \u001b[0;36m__call__\u001b[0;34m(self, *args, **kwargs)\u001b[0m\n\u001b[1;32m   2955\u001b[0m        filtered_flat_args) = self._maybe_define_function(args, kwargs)\n\u001b[1;32m   2956\u001b[0m     return graph_function._call_flat(\n\u001b[0;32m-> 2957\u001b[0;31m         filtered_flat_args, captured_inputs=graph_function.captured_inputs)  # pylint: disable=protected-access\n\u001b[0m\u001b[1;32m   2958\u001b[0m \u001b[0;34m\u001b[0m\u001b[0m\n\u001b[1;32m   2959\u001b[0m   \u001b[0;34m@\u001b[0m\u001b[0mproperty\u001b[0m\u001b[0;34m\u001b[0m\u001b[0;34m\u001b[0m\u001b[0m\n",
            "\u001b[0;32m/usr/local/lib/python3.7/dist-packages/tensorflow/python/eager/function.py\u001b[0m in \u001b[0;36m_call_flat\u001b[0;34m(self, args, captured_inputs, cancellation_manager)\u001b[0m\n\u001b[1;32m   1852\u001b[0m       \u001b[0;31m# No tape is watching; skip to running the function.\u001b[0m\u001b[0;34m\u001b[0m\u001b[0;34m\u001b[0m\u001b[0;34m\u001b[0m\u001b[0m\n\u001b[1;32m   1853\u001b[0m       return self._build_call_outputs(self._inference_function.call(\n\u001b[0;32m-> 1854\u001b[0;31m           ctx, args, cancellation_manager=cancellation_manager))\n\u001b[0m\u001b[1;32m   1855\u001b[0m     forward_backward = self._select_forward_and_backward_functions(\n\u001b[1;32m   1856\u001b[0m         \u001b[0margs\u001b[0m\u001b[0;34m,\u001b[0m\u001b[0;34m\u001b[0m\u001b[0;34m\u001b[0m\u001b[0m\n",
            "\u001b[0;32m/usr/local/lib/python3.7/dist-packages/tensorflow/python/eager/function.py\u001b[0m in \u001b[0;36mcall\u001b[0;34m(self, ctx, args, cancellation_manager)\u001b[0m\n\u001b[1;32m    502\u001b[0m               \u001b[0minputs\u001b[0m\u001b[0;34m=\u001b[0m\u001b[0margs\u001b[0m\u001b[0;34m,\u001b[0m\u001b[0;34m\u001b[0m\u001b[0;34m\u001b[0m\u001b[0m\n\u001b[1;32m    503\u001b[0m               \u001b[0mattrs\u001b[0m\u001b[0;34m=\u001b[0m\u001b[0mattrs\u001b[0m\u001b[0;34m,\u001b[0m\u001b[0;34m\u001b[0m\u001b[0;34m\u001b[0m\u001b[0m\n\u001b[0;32m--> 504\u001b[0;31m               ctx=ctx)\n\u001b[0m\u001b[1;32m    505\u001b[0m         \u001b[0;32melse\u001b[0m\u001b[0;34m:\u001b[0m\u001b[0;34m\u001b[0m\u001b[0;34m\u001b[0m\u001b[0m\n\u001b[1;32m    506\u001b[0m           outputs = execute.execute_with_cancellation(\n",
            "\u001b[0;32m/usr/local/lib/python3.7/dist-packages/tensorflow/python/eager/execute.py\u001b[0m in \u001b[0;36mquick_execute\u001b[0;34m(op_name, num_outputs, inputs, attrs, ctx, name)\u001b[0m\n\u001b[1;32m     53\u001b[0m     \u001b[0mctx\u001b[0m\u001b[0;34m.\u001b[0m\u001b[0mensure_initialized\u001b[0m\u001b[0;34m(\u001b[0m\u001b[0;34m)\u001b[0m\u001b[0;34m\u001b[0m\u001b[0;34m\u001b[0m\u001b[0m\n\u001b[1;32m     54\u001b[0m     tensors = pywrap_tfe.TFE_Py_Execute(ctx._handle, device_name, op_name,\n\u001b[0;32m---> 55\u001b[0;31m                                         inputs, attrs, num_outputs)\n\u001b[0m\u001b[1;32m     56\u001b[0m   \u001b[0;32mexcept\u001b[0m \u001b[0mcore\u001b[0m\u001b[0;34m.\u001b[0m\u001b[0m_NotOkStatusException\u001b[0m \u001b[0;32mas\u001b[0m \u001b[0me\u001b[0m\u001b[0;34m:\u001b[0m\u001b[0;34m\u001b[0m\u001b[0;34m\u001b[0m\u001b[0m\n\u001b[1;32m     57\u001b[0m     \u001b[0;32mif\u001b[0m \u001b[0mname\u001b[0m \u001b[0;32mis\u001b[0m \u001b[0;32mnot\u001b[0m \u001b[0;32mNone\u001b[0m\u001b[0;34m:\u001b[0m\u001b[0;34m\u001b[0m\u001b[0;34m\u001b[0m\u001b[0m\n",
            "\u001b[0;31mKeyboardInterrupt\u001b[0m: "
          ]
        }
      ]
    },
    {
      "cell_type": "code",
      "source": [
        "model1.save_weights('/content/drive/MyDrive/Spoken digit/model1.h5')"
      ],
      "metadata": {
        "id": "VI3z_Mw4x6Zf"
      },
      "execution_count": 63,
      "outputs": []
    },
    {
      "cell_type": "markdown",
      "metadata": {
        "id": "2Fwk0X4zaNpR"
      },
      "source": [
        "### 2. Converting into spectrogram and giving spectrogram data as input  \n",
        "\n",
        "We can use librosa to convert raw data into spectrogram. A spectrogram shows the features in a two-dimensional representation with the\n",
        "intensity of a frequency at a point in time i.e we are converting Time domain to frequency domain. you can read more about this in https://pnsn.org/spectrograms/what-is-a-spectrogram\n"
      ]
    },
    {
      "cell_type": "code",
      "metadata": {
        "id": "nb5AGzTjaNpS"
      },
      "source": [
        "def convert_to_spectrogram(raw_data):\n",
        "    '''converting to spectrogram'''\n",
        "    spectrum = librosa.feature.melspectrogram(y=raw_data, sr=sample_rate, n_mels=64)\n",
        "    logmel_spectrum = librosa.power_to_db(S=spectrum, ref=np.max)\n",
        "    return logmel_spectrum"
      ],
      "execution_count": 39,
      "outputs": []
    },
    {
      "cell_type": "code",
      "source": [
        "X_train_spectrogram=[]\n",
        "X_test_spectrogram=[]\n",
        "for i in X_train_pad_seq:\n",
        "  spectrum=convert_to_spectrogram(i)\n",
        "  X_train_spectrogram.append(spectrum)\n",
        "for i in X_test_pad_seq:\n",
        "  spectrum=convert_to_spectrogram(i)\n",
        "  X_test_spectrogram.append(spectrum)    "
      ],
      "metadata": {
        "id": "99Zxay051Rwc"
      },
      "execution_count": 40,
      "outputs": []
    },
    {
      "cell_type": "code",
      "metadata": {
        "id": "B__rN4RjaNpc",
        "colab": {
          "base_uri": "https://localhost:8080/"
        },
        "outputId": "7cf96a00-db2e-441e-ef1e-a7913f6f3afb"
      },
      "source": [
        "##use convert_to_spectrogram and convert every raw sequence in X_train_pad_seq and X_test_pad-seq.\n",
        "## save those all in the X_train_spectrogram and X_test_spectrogram ( These two arrays must be numpy arrays)\n",
        "X_train_spectrogram=np.array(X_train_spectrogram)\n",
        "X_test_spectrogram=np.array(X_test_spectrogram)\n",
        "print(X_train_spectrogram.shape)\n",
        "print(X_test_spectrogram.shape)"
      ],
      "execution_count": 41,
      "outputs": [
        {
          "output_type": "stream",
          "name": "stdout",
          "text": [
            "(1400, 64, 35)\n",
            "(600, 64, 35)\n"
          ]
        }
      ]
    },
    {
      "cell_type": "markdown",
      "metadata": {
        "id": "zr1ynYZnaNpj"
      },
      "source": [
        "<font size=4>Grader function 6 </font>"
      ]
    },
    {
      "cell_type": "code",
      "metadata": {
        "id": "oniXBXcsaNpk",
        "outputId": "6cc34494-ecab-466a-ebbf-d30d201cb5be",
        "colab": {
          "base_uri": "https://localhost:8080/"
        }
      },
      "source": [
        "def grader_spectrogram():\n",
        "    flag_shape = (X_train_spectrogram.shape==(1400,64, 35)) and (X_test_spectrogram.shape == (600, 64, 35))\n",
        "    return flag_shape\n",
        "grader_spectrogram()"
      ],
      "execution_count": 71,
      "outputs": [
        {
          "output_type": "execute_result",
          "data": {
            "text/plain": [
              "True"
            ]
          },
          "metadata": {},
          "execution_count": 71
        }
      ]
    },
    {
      "cell_type": "markdown",
      "metadata": {
        "id": "xxlEVyIYaNpt"
      },
      "source": [
        "\n",
        "Now we have\n",
        "\n",
        "Train data: X_train_spectrogram and y_train  \n",
        "Test data: X_test_spectrogram and y_test   \n",
        "\n",
        "We will create a LSTM model which takes this input. \n",
        "\n",
        "Task:\n",
        "\n",
        "1. Create an LSTM network which takes \"X_train_spectrogram\" as input and has to return output at every time step. \n",
        "2. Average the output of every time step and give this to the Dense layer of any size. \n",
        "(ex: Output from LSTM will be  (None, time_steps, features) average the output of every time step i.e, you should get (None,time_steps) \n",
        "and then pass to dense layer )\n",
        "3. give the above output to Dense layer of size 10( output layer) and train the network with sparse categorical cross entropy.  \n",
        "4. Use tensorboard to plot the graphs of loss and metric(use custom micro F1 score as metric) and histograms of gradients. You can write your code for computing F1 score using this <a  href='https://i.imgur.com/8YULUcu.jpg'>link</a> \n",
        "5. make sure that it won't overfit. \n",
        "6. You are free to include any regularization\n"
      ]
    },
    {
      "cell_type": "code",
      "metadata": {
        "id": "IaQjaiiGaNpv",
        "colab": {
          "base_uri": "https://localhost:8080/"
        },
        "outputId": "1a3fa4fe-45ef-4d44-f2f0-eafe035bc044"
      },
      "source": [
        "# write the architecture of the model\n",
        "input=Input(shape=(64,35))\n",
        "lstm=LSTM(25,return_sequences=True)(input)\n",
        "avg=tf.reduce_mean(lstm, axis=-1)\n",
        "dense=Dense(32)(avg)\n",
        "act=LeakyReLU()(dense)\n",
        "output=Dense(10,activation='softmax')(act)\n",
        "model2=Model(inputs=input,outputs=output)\n",
        "model2.summary()\n",
        "#print model.summary and make sure that it is following point 2 mentioned above"
      ],
      "execution_count": 74,
      "outputs": [
        {
          "output_type": "stream",
          "name": "stdout",
          "text": [
            "Model: \"model_10\"\n",
            "_________________________________________________________________\n",
            " Layer (type)                Output Shape              Param #   \n",
            "=================================================================\n",
            " input_16 (InputLayer)       [(None, 64, 35)]          0         \n",
            "                                                                 \n",
            " lstm_19 (LSTM)              (None, 64, 25)            6100      \n",
            "                                                                 \n",
            " tf.math.reduce_mean_7 (TFOp  (None, 64)               0         \n",
            " Lambda)                                                         \n",
            "                                                                 \n",
            " dense_22 (Dense)            (None, 32)                2080      \n",
            "                                                                 \n",
            " leaky_re_lu_12 (LeakyReLU)  (None, 32)                0         \n",
            "                                                                 \n",
            " dense_23 (Dense)            (None, 10)                330       \n",
            "                                                                 \n",
            "=================================================================\n",
            "Total params: 8,510\n",
            "Trainable params: 8,510\n",
            "Non-trainable params: 0\n",
            "_________________________________________________________________\n"
          ]
        }
      ]
    },
    {
      "cell_type": "code",
      "metadata": {
        "id": "862fP2e-aNp3",
        "colab": {
          "base_uri": "https://localhost:8080/"
        },
        "outputId": "38c0e969-e925-477f-f04f-bc0d87f59e5a"
      },
      "source": [
        "#compile and fit your model.LearningRateScheduler(scheduler),\n",
        "model2.compile(optimizer=tf.keras.optimizers.Adam(0.0008),loss='sparse_categorical_crossentropy',metrics=['accuracy'])\n",
        "callbacks=[Metrics((X_test_spectrogram,y_test)),ModelCheckpoint(filepath='best_model2.h5',monitor='val_microF1',mode='max',save_best_only=True,save_weights_only=True)]\n",
        "model2.fit(X_train_spectrogram,y_train,epochs=25,validation_data=(X_test_spectrogram,y_test),callbacks=callbacks)"
      ],
      "execution_count": 76,
      "outputs": [
        {
          "output_type": "stream",
          "name": "stdout",
          "text": [
            "Epoch 1/25\n",
            "39/44 [=========================>....] - ETA: 0s - loss: 0.8321 - accuracy: 0.7284val_microF1 : 0.7283333333333334\n",
            "WARNING:tensorflow:Can save best model only with val_microF1 available, skipping.\n"
          ]
        },
        {
          "output_type": "stream",
          "name": "stderr",
          "text": [
            "WARNING:tensorflow:Can save best model only with val_microF1 available, skipping.\n"
          ]
        },
        {
          "output_type": "stream",
          "name": "stdout",
          "text": [
            "\b\b\b\b\b\b\b\b\b\b\b\b\b\b\b\b\b\b\b\b\b\b\b\b\b\b\b\b\b\b\b\b\b\b\b\b\b\b\b\b\b\b\b\b\b\b\b\b\b\b\b\b\b\b\b\b\b\b\b\b\b\b\b\b\b\b\b\b\b\b\b\b\b\b\b\b\b\b\b\b\b\b\r44/44 [==============================] - 5s 50ms/step - loss: 0.8284 - accuracy: 0.7321 - val_loss: 0.8391 - val_accuracy: 0.7283\n",
            "Epoch 2/25\n",
            "40/44 [==========================>...] - ETA: 0s - loss: 0.7891 - accuracy: 0.7523val_microF1 : 0.7166666666666667\n",
            "WARNING:tensorflow:Can save best model only with val_microF1 available, skipping.\n"
          ]
        },
        {
          "output_type": "stream",
          "name": "stderr",
          "text": [
            "WARNING:tensorflow:Can save best model only with val_microF1 available, skipping.\n"
          ]
        },
        {
          "output_type": "stream",
          "name": "stdout",
          "text": [
            "\b\b\b\b\b\b\b\b\b\b\b\b\b\b\b\b\b\b\b\b\b\b\b\b\b\b\b\b\b\b\b\b\b\b\b\b\b\b\b\b\b\b\b\b\b\b\b\b\b\b\b\b\b\b\b\b\b\b\b\b\b\b\b\b\b\b\b\b\b\b\b\b\b\b\b\b\b\b\b\b\b\b\r44/44 [==============================] - 0s 9ms/step - loss: 0.7861 - accuracy: 0.7557 - val_loss: 0.8105 - val_accuracy: 0.7167\n",
            "Epoch 3/25\n",
            "41/44 [==========================>...] - ETA: 0s - loss: 0.7699 - accuracy: 0.7569val_microF1 : 0.7416666666666667\n",
            "WARNING:tensorflow:Can save best model only with val_microF1 available, skipping.\n"
          ]
        },
        {
          "output_type": "stream",
          "name": "stderr",
          "text": [
            "WARNING:tensorflow:Can save best model only with val_microF1 available, skipping.\n"
          ]
        },
        {
          "output_type": "stream",
          "name": "stdout",
          "text": [
            "\b\b\b\b\b\b\b\b\b\b\b\b\b\b\b\b\b\b\b\b\b\b\b\b\b\b\b\b\b\b\b\b\b\b\b\b\b\b\b\b\b\b\b\b\b\b\b\b\b\b\b\b\b\b\b\b\b\b\b\b\b\b\b\b\b\b\b\b\b\b\b\b\b\b\b\b\b\b\b\b\b\b\r44/44 [==============================] - 0s 9ms/step - loss: 0.7637 - accuracy: 0.7586 - val_loss: 0.7700 - val_accuracy: 0.7417\n",
            "Epoch 4/25\n",
            "40/44 [==========================>...] - ETA: 0s - loss: 0.7538 - accuracy: 0.7570val_microF1 : 0.7483333333333333\n",
            "WARNING:tensorflow:Can save best model only with val_microF1 available, skipping.\n"
          ]
        },
        {
          "output_type": "stream",
          "name": "stderr",
          "text": [
            "WARNING:tensorflow:Can save best model only with val_microF1 available, skipping.\n"
          ]
        },
        {
          "output_type": "stream",
          "name": "stdout",
          "text": [
            "\b\b\b\b\b\b\b\b\b\b\b\b\b\b\b\b\b\b\b\b\b\b\b\b\b\b\b\b\b\b\b\b\b\b\b\b\b\b\b\b\b\b\b\b\b\b\b\b\b\b\b\b\b\b\b\b\b\b\b\b\b\b\b\b\b\b\b\b\b\b\b\b\b\b\b\b\b\b\b\b\b\b\r44/44 [==============================] - 0s 10ms/step - loss: 0.7548 - accuracy: 0.7550 - val_loss: 0.7572 - val_accuracy: 0.7483\n",
            "Epoch 5/25\n",
            "41/44 [==========================>...] - ETA: 0s - loss: 0.7392 - accuracy: 0.7652val_microF1 : 0.7366666666666667\n",
            "WARNING:tensorflow:Can save best model only with val_microF1 available, skipping.\n"
          ]
        },
        {
          "output_type": "stream",
          "name": "stderr",
          "text": [
            "WARNING:tensorflow:Can save best model only with val_microF1 available, skipping.\n"
          ]
        },
        {
          "output_type": "stream",
          "name": "stdout",
          "text": [
            "\b\b\b\b\b\b\b\b\b\b\b\b\b\b\b\b\b\b\b\b\b\b\b\b\b\b\b\b\b\b\b\b\b\b\b\b\b\b\b\b\b\b\b\b\b\b\b\b\b\b\b\b\b\b\b\b\b\b\b\b\b\b\b\b\b\b\b\b\b\b\b\b\b\b\b\b\b\b\b\b\b\b\r44/44 [==============================] - 0s 9ms/step - loss: 0.7409 - accuracy: 0.7650 - val_loss: 0.7560 - val_accuracy: 0.7367\n",
            "Epoch 6/25\n",
            "40/44 [==========================>...] - ETA: 0s - loss: 0.7158 - accuracy: 0.7750val_microF1 : 0.7483333333333333\n",
            "WARNING:tensorflow:Can save best model only with val_microF1 available, skipping.\n"
          ]
        },
        {
          "output_type": "stream",
          "name": "stderr",
          "text": [
            "WARNING:tensorflow:Can save best model only with val_microF1 available, skipping.\n"
          ]
        },
        {
          "output_type": "stream",
          "name": "stdout",
          "text": [
            "\b\b\b\b\b\b\b\b\b\b\b\b\b\b\b\b\b\b\b\b\b\b\b\b\b\b\b\b\b\b\b\b\b\b\b\b\b\b\b\b\b\b\b\b\b\b\b\b\b\b\b\b\b\b\b\b\b\b\b\b\b\b\b\b\b\b\b\b\b\b\b\b\b\b\b\b\b\b\b\b\b\b\r44/44 [==============================] - 0s 10ms/step - loss: 0.7119 - accuracy: 0.7800 - val_loss: 0.7432 - val_accuracy: 0.7483\n",
            "Epoch 7/25\n",
            "41/44 [==========================>...] - ETA: 0s - loss: 0.7158 - accuracy: 0.7713val_microF1 : 0.7666666666666667\n",
            "WARNING:tensorflow:Can save best model only with val_microF1 available, skipping.\n"
          ]
        },
        {
          "output_type": "stream",
          "name": "stderr",
          "text": [
            "WARNING:tensorflow:Can save best model only with val_microF1 available, skipping.\n"
          ]
        },
        {
          "output_type": "stream",
          "name": "stdout",
          "text": [
            "\b\b\b\b\b\b\b\b\b\b\b\b\b\b\b\b\b\b\b\b\b\b\b\b\b\b\b\b\b\b\b\b\b\b\b\b\b\b\b\b\b\b\b\b\b\b\b\b\b\b\b\b\b\b\b\b\b\b\b\b\b\b\b\b\b\b\b\b\b\b\b\b\b\b\b\b\b\b\b\b\b\b\r44/44 [==============================] - 0s 9ms/step - loss: 0.7096 - accuracy: 0.7714 - val_loss: 0.7068 - val_accuracy: 0.7667\n",
            "Epoch 8/25\n",
            "41/44 [==========================>...] - ETA: 0s - loss: 0.6929 - accuracy: 0.7790val_microF1 : 0.7666666666666667\n",
            "WARNING:tensorflow:Can save best model only with val_microF1 available, skipping.\n"
          ]
        },
        {
          "output_type": "stream",
          "name": "stderr",
          "text": [
            "WARNING:tensorflow:Can save best model only with val_microF1 available, skipping.\n"
          ]
        },
        {
          "output_type": "stream",
          "name": "stdout",
          "text": [
            "\b\b\b\b\b\b\b\b\b\b\b\b\b\b\b\b\b\b\b\b\b\b\b\b\b\b\b\b\b\b\b\b\b\b\b\b\b\b\b\b\b\b\b\b\b\b\b\b\b\b\b\b\b\b\b\b\b\b\b\b\b\b\b\b\b\b\b\b\b\b\b\b\b\b\b\b\b\b\b\b\b\b\r44/44 [==============================] - 0s 9ms/step - loss: 0.6900 - accuracy: 0.7800 - val_loss: 0.6900 - val_accuracy: 0.7667\n",
            "Epoch 9/25\n",
            "39/44 [=========================>....] - ETA: 0s - loss: 0.6599 - accuracy: 0.7812val_microF1 : 0.78\n",
            "WARNING:tensorflow:Can save best model only with val_microF1 available, skipping.\n"
          ]
        },
        {
          "output_type": "stream",
          "name": "stderr",
          "text": [
            "WARNING:tensorflow:Can save best model only with val_microF1 available, skipping.\n"
          ]
        },
        {
          "output_type": "stream",
          "name": "stdout",
          "text": [
            "\b\b\b\b\b\b\b\b\b\b\b\b\b\b\b\b\b\b\b\b\b\b\b\b\b\b\b\b\b\b\b\b\b\b\b\b\b\b\b\b\b\b\b\b\b\b\b\b\b\b\b\b\b\b\b\b\b\b\b\b\b\b\b\b\b\b\b\b\b\b\b\b\b\b\b\b\b\b\b\b\b\b\r44/44 [==============================] - 0s 9ms/step - loss: 0.6557 - accuracy: 0.7857 - val_loss: 0.6737 - val_accuracy: 0.7800\n",
            "Epoch 10/25\n",
            "37/44 [========================>.....] - ETA: 0s - loss: 0.6499 - accuracy: 0.7922val_microF1 : 0.7583333333333333\n",
            "WARNING:tensorflow:Can save best model only with val_microF1 available, skipping.\n"
          ]
        },
        {
          "output_type": "stream",
          "name": "stderr",
          "text": [
            "WARNING:tensorflow:Can save best model only with val_microF1 available, skipping.\n"
          ]
        },
        {
          "output_type": "stream",
          "name": "stdout",
          "text": [
            "\b\b\b\b\b\b\b\b\b\b\b\b\b\b\b\b\b\b\b\b\b\b\b\b\b\b\b\b\b\b\b\b\b\b\b\b\b\b\b\b\b\b\b\b\b\b\b\b\b\b\b\b\b\b\b\b\b\b\b\b\b\b\b\b\b\b\b\b\b\b\b\b\b\b\b\b\b\b\b\b\b\b\r44/44 [==============================] - 0s 10ms/step - loss: 0.6487 - accuracy: 0.7943 - val_loss: 0.6665 - val_accuracy: 0.7583\n",
            "Epoch 11/25\n",
            "41/44 [==========================>...] - ETA: 0s - loss: 0.6351 - accuracy: 0.7957val_microF1 : 0.79\n",
            "WARNING:tensorflow:Can save best model only with val_microF1 available, skipping.\n"
          ]
        },
        {
          "output_type": "stream",
          "name": "stderr",
          "text": [
            "WARNING:tensorflow:Can save best model only with val_microF1 available, skipping.\n"
          ]
        },
        {
          "output_type": "stream",
          "name": "stdout",
          "text": [
            "\b\b\b\b\b\b\b\b\b\b\b\b\b\b\b\b\b\b\b\b\b\b\b\b\b\b\b\b\b\b\b\b\b\b\b\b\b\b\b\b\b\b\b\b\b\b\b\b\b\b\b\b\b\b\b\b\b\b\b\b\b\b\b\b\b\b\b\b\b\b\b\b\b\b\b\b\b\b\b\b\b\b\r44/44 [==============================] - 0s 10ms/step - loss: 0.6315 - accuracy: 0.8007 - val_loss: 0.6325 - val_accuracy: 0.7900\n",
            "Epoch 12/25\n",
            "41/44 [==========================>...] - ETA: 0s - loss: 0.6044 - accuracy: 0.8095val_microF1 : 0.7633333333333333\n",
            "WARNING:tensorflow:Can save best model only with val_microF1 available, skipping.\n"
          ]
        },
        {
          "output_type": "stream",
          "name": "stderr",
          "text": [
            "WARNING:tensorflow:Can save best model only with val_microF1 available, skipping.\n"
          ]
        },
        {
          "output_type": "stream",
          "name": "stdout",
          "text": [
            "\b\b\b\b\b\b\b\b\b\b\b\b\b\b\b\b\b\b\b\b\b\b\b\b\b\b\b\b\b\b\b\b\b\b\b\b\b\b\b\b\b\b\b\b\b\b\b\b\b\b\b\b\b\b\b\b\b\b\b\b\b\b\b\b\b\b\b\b\b\b\b\b\b\b\b\b\b\b\b\b\b\b\r44/44 [==============================] - 0s 9ms/step - loss: 0.6047 - accuracy: 0.8093 - val_loss: 0.6393 - val_accuracy: 0.7633\n",
            "Epoch 13/25\n",
            "41/44 [==========================>...] - ETA: 0s - loss: 0.6029 - accuracy: 0.8011val_microF1 : 0.7966666666666665\n",
            "WARNING:tensorflow:Can save best model only with val_microF1 available, skipping.\n"
          ]
        },
        {
          "output_type": "stream",
          "name": "stderr",
          "text": [
            "WARNING:tensorflow:Can save best model only with val_microF1 available, skipping.\n"
          ]
        },
        {
          "output_type": "stream",
          "name": "stdout",
          "text": [
            "\b\b\b\b\b\b\b\b\b\b\b\b\b\b\b\b\b\b\b\b\b\b\b\b\b\b\b\b\b\b\b\b\b\b\b\b\b\b\b\b\b\b\b\b\b\b\b\b\b\b\b\b\b\b\b\b\b\b\b\b\b\b\b\b\b\b\b\b\b\b\b\b\b\b\b\b\b\b\b\b\b\b\r44/44 [==============================] - 0s 9ms/step - loss: 0.5977 - accuracy: 0.8029 - val_loss: 0.6230 - val_accuracy: 0.7967\n",
            "Epoch 14/25\n",
            "39/44 [=========================>....] - ETA: 0s - loss: 0.5810 - accuracy: 0.8189val_microF1 : 0.7966666666666665\n",
            "WARNING:tensorflow:Can save best model only with val_microF1 available, skipping.\n"
          ]
        },
        {
          "output_type": "stream",
          "name": "stderr",
          "text": [
            "WARNING:tensorflow:Can save best model only with val_microF1 available, skipping.\n"
          ]
        },
        {
          "output_type": "stream",
          "name": "stdout",
          "text": [
            "\b\b\b\b\b\b\b\b\b\b\b\b\b\b\b\b\b\b\b\b\b\b\b\b\b\b\b\b\b\b\b\b\b\b\b\b\b\b\b\b\b\b\b\b\b\b\b\b\b\b\b\b\b\b\b\b\b\b\b\b\b\b\b\b\b\b\b\b\b\b\b\b\b\b\b\b\b\b\b\b\b\b\r44/44 [==============================] - 0s 9ms/step - loss: 0.5857 - accuracy: 0.8164 - val_loss: 0.5931 - val_accuracy: 0.7967\n",
            "Epoch 15/25\n",
            "41/44 [==========================>...] - ETA: 0s - loss: 0.5668 - accuracy: 0.8255val_microF1 : 0.795\n",
            "WARNING:tensorflow:Can save best model only with val_microF1 available, skipping.\n"
          ]
        },
        {
          "output_type": "stream",
          "name": "stderr",
          "text": [
            "WARNING:tensorflow:Can save best model only with val_microF1 available, skipping.\n"
          ]
        },
        {
          "output_type": "stream",
          "name": "stdout",
          "text": [
            "\b\b\b\b\b\b\b\b\b\b\b\b\b\b\b\b\b\b\b\b\b\b\b\b\b\b\b\b\b\b\b\b\b\b\b\b\b\b\b\b\b\b\b\b\b\b\b\b\b\b\b\b\b\b\b\b\b\b\b\b\b\b\b\b\b\b\b\b\b\b\b\b\b\b\b\b\b\b\b\b\b\b\r44/44 [==============================] - 0s 9ms/step - loss: 0.5648 - accuracy: 0.8257 - val_loss: 0.5959 - val_accuracy: 0.7950\n",
            "Epoch 16/25\n",
            "39/44 [=========================>....] - ETA: 0s - loss: 0.5695 - accuracy: 0.8197val_microF1 : 0.8033333333333333\n",
            "WARNING:tensorflow:Can save best model only with val_microF1 available, skipping.\n"
          ]
        },
        {
          "output_type": "stream",
          "name": "stderr",
          "text": [
            "WARNING:tensorflow:Can save best model only with val_microF1 available, skipping.\n"
          ]
        },
        {
          "output_type": "stream",
          "name": "stdout",
          "text": [
            "\b\b\b\b\b\b\b\b\b\b\b\b\b\b\b\b\b\b\b\b\b\b\b\b\b\b\b\b\b\b\b\b\b\b\b\b\b\b\b\b\b\b\b\b\b\b\b\b\b\b\b\b\b\b\b\b\b\b\b\b\b\b\b\b\b\b\b\b\b\b\b\b\b\b\b\b\b\b\b\b\b\b\r44/44 [==============================] - 0s 9ms/step - loss: 0.5662 - accuracy: 0.8221 - val_loss: 0.6046 - val_accuracy: 0.8033\n",
            "Epoch 17/25\n",
            "42/44 [===========================>..] - ETA: 0s - loss: 0.5666 - accuracy: 0.8058val_microF1 : 0.8083333333333333\n",
            "WARNING:tensorflow:Can save best model only with val_microF1 available, skipping.\n"
          ]
        },
        {
          "output_type": "stream",
          "name": "stderr",
          "text": [
            "WARNING:tensorflow:Can save best model only with val_microF1 available, skipping.\n"
          ]
        },
        {
          "output_type": "stream",
          "name": "stdout",
          "text": [
            "\b\b\b\b\b\b\b\b\b\b\b\b\b\b\b\b\b\b\b\b\b\b\b\b\b\b\b\b\b\b\b\b\b\b\b\b\b\b\b\b\b\b\b\b\b\b\b\b\b\b\b\b\b\b\b\b\b\b\b\b\b\b\b\b\b\b\b\b\b\b\b\b\b\b\b\b\b\b\b\b\b\b\r44/44 [==============================] - 0s 9ms/step - loss: 0.5585 - accuracy: 0.8121 - val_loss: 0.5685 - val_accuracy: 0.8083\n",
            "Epoch 18/25\n",
            "42/44 [===========================>..] - ETA: 0s - loss: 0.5481 - accuracy: 0.8281val_microF1 : 0.7933333333333333\n",
            "WARNING:tensorflow:Can save best model only with val_microF1 available, skipping.\n"
          ]
        },
        {
          "output_type": "stream",
          "name": "stderr",
          "text": [
            "WARNING:tensorflow:Can save best model only with val_microF1 available, skipping.\n"
          ]
        },
        {
          "output_type": "stream",
          "name": "stdout",
          "text": [
            "\b\b\b\b\b\b\b\b\b\b\b\b\b\b\b\b\b\b\b\b\b\b\b\b\b\b\b\b\b\b\b\b\b\b\b\b\b\b\b\b\b\b\b\b\b\b\b\b\b\b\b\b\b\b\b\b\b\b\b\b\b\b\b\b\b\b\b\b\b\b\b\b\b\b\b\b\b\b\b\b\b\b\r44/44 [==============================] - 0s 10ms/step - loss: 0.5484 - accuracy: 0.8279 - val_loss: 0.5696 - val_accuracy: 0.7933\n",
            "Epoch 19/25\n",
            "40/44 [==========================>...] - ETA: 0s - loss: 0.5400 - accuracy: 0.8250val_microF1 : 0.8233333333333334\n",
            "WARNING:tensorflow:Can save best model only with val_microF1 available, skipping.\n"
          ]
        },
        {
          "output_type": "stream",
          "name": "stderr",
          "text": [
            "WARNING:tensorflow:Can save best model only with val_microF1 available, skipping.\n"
          ]
        },
        {
          "output_type": "stream",
          "name": "stdout",
          "text": [
            "\b\b\b\b\b\b\b\b\b\b\b\b\b\b\b\b\b\b\b\b\b\b\b\b\b\b\b\b\b\b\b\b\b\b\b\b\b\b\b\b\b\b\b\b\b\b\b\b\b\b\b\b\b\b\b\b\b\b\b\b\b\b\b\b\b\b\b\b\b\b\b\b\b\b\b\b\b\b\b\b\b\b\r44/44 [==============================] - 0s 10ms/step - loss: 0.5393 - accuracy: 0.8257 - val_loss: 0.5385 - val_accuracy: 0.8233\n",
            "Epoch 20/25\n",
            "44/44 [==============================] - ETA: 0s - loss: 0.5238 - accuracy: 0.8264val_microF1 : 0.8233333333333334\n",
            "WARNING:tensorflow:Can save best model only with val_microF1 available, skipping.\n"
          ]
        },
        {
          "output_type": "stream",
          "name": "stderr",
          "text": [
            "WARNING:tensorflow:Can save best model only with val_microF1 available, skipping.\n"
          ]
        },
        {
          "output_type": "stream",
          "name": "stdout",
          "text": [
            "\b\b\b\b\b\b\b\b\b\b\b\b\b\b\b\b\b\b\b\b\b\b\b\b\b\b\b\b\b\b\b\b\b\b\b\b\b\b\b\b\b\b\b\b\b\b\b\b\b\b\b\b\b\b\b\b\b\b\b\b\b\b\b\b\b\b\b\b\b\b\b\b\b\b\b\b\b\b\b\b\b\b\r44/44 [==============================] - 0s 9ms/step - loss: 0.5238 - accuracy: 0.8264 - val_loss: 0.5433 - val_accuracy: 0.8233\n",
            "Epoch 21/25\n",
            "44/44 [==============================] - ETA: 0s - loss: 0.5030 - accuracy: 0.8364val_microF1 : 0.7983333333333333\n",
            "WARNING:tensorflow:Can save best model only with val_microF1 available, skipping.\n"
          ]
        },
        {
          "output_type": "stream",
          "name": "stderr",
          "text": [
            "WARNING:tensorflow:Can save best model only with val_microF1 available, skipping.\n"
          ]
        },
        {
          "output_type": "stream",
          "name": "stdout",
          "text": [
            "\b\b\b\b\b\b\b\b\b\b\b\b\b\b\b\b\b\b\b\b\b\b\b\b\b\b\b\b\b\b\b\b\b\b\b\b\b\b\b\b\b\b\b\b\b\b\b\b\b\b\b\b\b\b\b\b\b\b\b\b\b\b\b\b\b\b\b\b\b\b\b\b\b\b\b\b\b\b\b\b\b\b\r44/44 [==============================] - 1s 11ms/step - loss: 0.5030 - accuracy: 0.8364 - val_loss: 0.5670 - val_accuracy: 0.7983\n",
            "Epoch 22/25\n",
            "43/44 [============================>.] - ETA: 0s - loss: 0.5084 - accuracy: 0.8401val_microF1 : 0.825\n",
            "WARNING:tensorflow:Can save best model only with val_microF1 available, skipping.\n"
          ]
        },
        {
          "output_type": "stream",
          "name": "stderr",
          "text": [
            "WARNING:tensorflow:Can save best model only with val_microF1 available, skipping.\n"
          ]
        },
        {
          "output_type": "stream",
          "name": "stdout",
          "text": [
            "\b\b\b\b\b\b\b\b\b\b\b\b\b\b\b\b\b\b\b\b\b\b\b\b\b\b\b\b\b\b\b\b\b\b\b\b\b\b\b\b\b\b\b\b\b\b\b\b\b\b\b\b\b\b\b\b\b\b\b\b\b\b\b\b\b\b\b\b\b\b\b\b\b\b\b\b\b\b\b\b\b\b\r44/44 [==============================] - 0s 9ms/step - loss: 0.5070 - accuracy: 0.8407 - val_loss: 0.5148 - val_accuracy: 0.8250\n",
            "Epoch 23/25\n",
            "44/44 [==============================] - ETA: 0s - loss: 0.4889 - accuracy: 0.8436val_microF1 : 0.8216666666666665\n",
            "WARNING:tensorflow:Can save best model only with val_microF1 available, skipping.\n"
          ]
        },
        {
          "output_type": "stream",
          "name": "stderr",
          "text": [
            "WARNING:tensorflow:Can save best model only with val_microF1 available, skipping.\n"
          ]
        },
        {
          "output_type": "stream",
          "name": "stdout",
          "text": [
            "\b\b\b\b\b\b\b\b\b\b\b\b\b\b\b\b\b\b\b\b\b\b\b\b\b\b\b\b\b\b\b\b\b\b\b\b\b\b\b\b\b\b\b\b\b\b\b\b\b\b\b\b\b\b\b\b\b\b\b\b\b\b\b\b\b\b\b\b\b\b\b\b\b\b\b\b\b\b\b\b\b\b\r44/44 [==============================] - 0s 9ms/step - loss: 0.4889 - accuracy: 0.8436 - val_loss: 0.5099 - val_accuracy: 0.8217\n",
            "Epoch 24/25\n",
            "41/44 [==========================>...] - ETA: 0s - loss: 0.4740 - accuracy: 0.8590val_microF1 : 0.8133333333333334\n",
            "WARNING:tensorflow:Can save best model only with val_microF1 available, skipping.\n"
          ]
        },
        {
          "output_type": "stream",
          "name": "stderr",
          "text": [
            "WARNING:tensorflow:Can save best model only with val_microF1 available, skipping.\n"
          ]
        },
        {
          "output_type": "stream",
          "name": "stdout",
          "text": [
            "\b\b\b\b\b\b\b\b\b\b\b\b\b\b\b\b\b\b\b\b\b\b\b\b\b\b\b\b\b\b\b\b\b\b\b\b\b\b\b\b\b\b\b\b\b\b\b\b\b\b\b\b\b\b\b\b\b\b\b\b\b\b\b\b\b\b\b\b\b\b\b\b\b\b\b\b\b\b\b\b\b\b\r44/44 [==============================] - 0s 10ms/step - loss: 0.4714 - accuracy: 0.8593 - val_loss: 0.5205 - val_accuracy: 0.8133\n",
            "Epoch 25/25\n",
            "44/44 [==============================] - ETA: 0s - loss: 0.4691 - accuracy: 0.8500val_microF1 : 0.8366666666666667\n",
            "WARNING:tensorflow:Can save best model only with val_microF1 available, skipping.\n"
          ]
        },
        {
          "output_type": "stream",
          "name": "stderr",
          "text": [
            "WARNING:tensorflow:Can save best model only with val_microF1 available, skipping.\n"
          ]
        },
        {
          "output_type": "stream",
          "name": "stdout",
          "text": [
            "\b\b\b\b\b\b\b\b\b\b\b\b\b\b\b\b\b\b\b\b\b\b\b\b\b\b\b\b\b\b\b\b\b\b\b\b\b\b\b\b\b\b\b\b\b\b\b\b\b\b\b\b\b\b\b\b\b\b\b\b\b\b\b\b\b\b\b\b\b\b\b\b\b\b\b\b\b\b\b\b\b\b\r44/44 [==============================] - 0s 9ms/step - loss: 0.4691 - accuracy: 0.8500 - val_loss: 0.5069 - val_accuracy: 0.8367\n"
          ]
        },
        {
          "output_type": "execute_result",
          "data": {
            "text/plain": [
              "<keras.callbacks.History at 0x7f5121c6e890>"
            ]
          },
          "metadata": {},
          "execution_count": 76
        }
      ]
    },
    {
      "cell_type": "code",
      "metadata": {
        "id": "VtMsbGs3aNp_"
      },
      "source": [
        "model2.save_weights('/content/drive/MyDrive/Spoken digit/model2.h5')"
      ],
      "execution_count": 77,
      "outputs": []
    },
    {
      "cell_type": "markdown",
      "metadata": {
        "id": "aSl8ZOXjaNqJ"
      },
      "source": [
        "### 3. Data augmentation with raw features \n",
        "\n",
        "Till now we have done with 2000 samples only. It is very less data. We are giving the process of generating augmented data below.\n",
        "\n",
        "There are two types of augmentation:\n",
        "1. time stretching - Time stretching either increases or decreases the length of the file. For time stretching we move the file 30% faster or slower\n",
        "2. pitch shifting - pitch shifting moves the frequencies higher or lower. For pitch shifting we shift up or down one half-step.\n"
      ]
    },
    {
      "cell_type": "code",
      "metadata": {
        "id": "jR4JSEDgaNqK"
      },
      "source": [
        "## generating augmented data. \n",
        "def generate_augmented_data(file_path):\n",
        "    augmented_data = []\n",
        "    samples = load_wav(file_path,get_duration=False)\n",
        "    for time_value in [0.7, 1, 1.3]:\n",
        "        for pitch_value in [-1, 0, 1]:\n",
        "            time_stretch_data = librosa.effects.time_stretch(samples, rate=time_value)\n",
        "            final_data = librosa.effects.pitch_shift(time_stretch_data, sr=sample_rate, n_steps=pitch_value)\n",
        "            augmented_data.append(final_data)\n",
        "    return augmented_data"
      ],
      "execution_count": 78,
      "outputs": []
    },
    {
      "cell_type": "code",
      "metadata": {
        "id": "QRdefb-SaNqS"
      },
      "source": [
        "temp_path = df_audio.iloc[0].path\n",
        "aug_temp = generate_augmented_data(temp_path)"
      ],
      "execution_count": 79,
      "outputs": []
    },
    {
      "cell_type": "code",
      "source": [
        "print(len(aug_temp))"
      ],
      "metadata": {
        "colab": {
          "base_uri": "https://localhost:8080/"
        },
        "id": "T4O_4I5UWLHe",
        "outputId": "13a4e83e-4dec-402f-8369-4ac84567c8eb"
      },
      "execution_count": 84,
      "outputs": [
        {
          "output_type": "stream",
          "name": "stdout",
          "text": [
            "9\n"
          ]
        }
      ]
    },
    {
      "cell_type": "markdown",
      "metadata": {
        "id": "ZckytZsraNqk"
      },
      "source": [
        "## Follow the steps \n",
        "\n",
        "1. Split data 'df_audio' into train and test (80-20 split)\n",
        "\n",
        "2. We have 2000 data points(1600 train points, 400 test points) \n",
        "\n"
      ]
    },
    {
      "cell_type": "code",
      "metadata": {
        "id": "LFo5SnTLO_sD"
      },
      "source": [
        "X_train, X_test, y_train, y_test=train_test_split(df_audio['path'],df_audio['label'],random_state=45,test_size=0.2,stratify=df_audio['label'])"
      ],
      "execution_count": 92,
      "outputs": []
    },
    {
      "cell_type": "code",
      "source": [
        "augmented_train_data=[]\n",
        "for i in X_train:\n",
        "  a=generate_augmented_data(i)\n",
        "  augmented_train_data.extend(a)\n",
        "y_train=np.repeat(y_train,9)"
      ],
      "metadata": {
        "id": "aCJboVAJVtZA"
      },
      "execution_count": 93,
      "outputs": []
    },
    {
      "cell_type": "code",
      "source": [
        "print(len(augmented_train_data),len(y_train))"
      ],
      "metadata": {
        "colab": {
          "base_uri": "https://localhost:8080/"
        },
        "id": "rJ0hoIjifMH4",
        "outputId": "47307dbc-de88-48de-8777-d62d9a48f003"
      },
      "execution_count": 94,
      "outputs": [
        {
          "output_type": "stream",
          "name": "stdout",
          "text": [
            "14400 14400\n"
          ]
        }
      ]
    },
    {
      "cell_type": "code",
      "source": [
        "X_test_preprocess=[]\n",
        "for i in X_test:\n",
        "  l=load_wav(i)\n",
        "  X_test_preprocess.append(l[0])\n",
        "print(len(X_test_preprocess))  "
      ],
      "metadata": {
        "colab": {
          "base_uri": "https://localhost:8080/"
        },
        "id": "d_8kDe-2jWcN",
        "outputId": "bbe1795d-cb09-40dd-f310-d698bd8b0306"
      },
      "execution_count": 98,
      "outputs": [
        {
          "output_type": "stream",
          "name": "stdout",
          "text": [
            "400\n"
          ]
        }
      ]
    },
    {
      "cell_type": "code",
      "source": [
        "X_train_pad_seq=pad_sequences(augmented_train_data,maxlen=max_length,padding='post',truncating='post',dtype='float')\n",
        "X_test_pad_seq=pad_sequences(X_test_preprocess,maxlen=max_length,padding='post',truncating='post',dtype='float')\n",
        "print(X_train_pad_seq.shape,X_test_pad_seq.shape)"
      ],
      "metadata": {
        "colab": {
          "base_uri": "https://localhost:8080/"
        },
        "id": "XJefLc3kkx5_",
        "outputId": "740f9f1a-62b4-44c3-a71a-a73a0424d0ac"
      },
      "execution_count": 99,
      "outputs": [
        {
          "output_type": "stream",
          "name": "stdout",
          "text": [
            "(14400, 17640) (400, 17640)\n"
          ]
        }
      ]
    },
    {
      "cell_type": "code",
      "source": [
        "X_train_mask=[]\n",
        "X_test_mask=[]\n",
        "for seq in X_train_pad_seq:\n",
        "  seq_mask = [(i!=0) for i in seq]\n",
        "  X_train_mask.append(seq_mask)\n",
        "X_train_mask=np.array(X_train_mask)\n",
        "for seq in X_test_pad_seq:\n",
        "  seq_mask = [(i!=0) for i in seq]\n",
        "  X_test_mask.append(seq_mask)\n",
        "X_train_mask=np.array(X_train_mask)\n",
        "X_test_mask=np.array(X_test_mask)\n",
        "print(X_train_mask.shape)  \n",
        "print(X_test_mask.shape)  "
      ],
      "metadata": {
        "colab": {
          "base_uri": "https://localhost:8080/"
        },
        "id": "3O8f8wZGmFje",
        "outputId": "56820e94-d22c-4691-e6e9-b0280895c3da"
      },
      "execution_count": 100,
      "outputs": [
        {
          "output_type": "stream",
          "name": "stdout",
          "text": [
            "(14400, 17640)\n",
            "(400, 17640)\n"
          ]
        }
      ]
    },
    {
      "cell_type": "markdown",
      "metadata": {
        "id": "AdKXVRlpaNql"
      },
      "source": [
        "3. Do augmentation only on X_train,pass each point of X_train to generate_augmented_data function.After augmentation we will get 14400 train points. Make sure that you are augmenting the corresponding class labels (y_train) also.\n",
        "4. Preprocess your X_test using load_wav function.\n",
        "5. Convert the augmented_train_data and test_data to numpy arrays.\n",
        "6. Perform padding and masking on augmented_train_data and test_data.\n",
        "7. After padding define the model similar to model 1 and fit the data"
      ]
    },
    {
      "cell_type": "markdown",
      "metadata": {
        "id": "H8Yh72uYO_sD"
      },
      "source": [
        "<font color='red'> Note </font> - While fitting your model on the augmented data for model 3 you might face Resource exhaust error. One simple hack to avoid that is save the augmented_train_data,augment_y_train,test_data and y_test to Drive or into your local system. Then restart the runtime so that now you can train your model with full RAM capacity. Upload these files again in the new runtime session perform padding and masking and then fit your model."
      ]
    },
    {
      "cell_type": "code",
      "metadata": {
        "id": "wBwzbjOzO_sD",
        "colab": {
          "base_uri": "https://localhost:8080/"
        },
        "outputId": "70c79d8d-3d83-438a-b32e-68d452982157"
      },
      "source": [
        "input_layer=Input(shape=(max_length,1),dtype='float32')\n",
        "mask_input_layer=Input(shape=max_length,dtype='bool')\n",
        "lstm=LSTM(64)(input_layer,mask=mask_input_layer)\n",
        "dense1=Dense(32)(lstm)\n",
        "act=LeakyReLU()(dense1)\n",
        "output=Dense(10,activation='softmax')(act)\n",
        "model3=Model(inputs=[input_layer,mask_input_layer],outputs=output)\n",
        "model3.summary()"
      ],
      "execution_count": 102,
      "outputs": [
        {
          "output_type": "stream",
          "name": "stdout",
          "text": [
            "Model: \"model_12\"\n",
            "__________________________________________________________________________________________________\n",
            " Layer (type)                   Output Shape         Param #     Connected to                     \n",
            "==================================================================================================\n",
            " input_19 (InputLayer)          [(None, 17640, 1)]   0           []                               \n",
            "                                                                                                  \n",
            " input_20 (InputLayer)          [(None, 17640)]      0           []                               \n",
            "                                                                                                  \n",
            " lstm_21 (LSTM)                 (None, 64)           16896       ['input_19[0][0]',               \n",
            "                                                                  'input_20[0][0]']               \n",
            "                                                                                                  \n",
            " dense_26 (Dense)               (None, 32)           2080        ['lstm_21[0][0]']                \n",
            "                                                                                                  \n",
            " leaky_re_lu_14 (LeakyReLU)     (None, 32)           0           ['dense_26[0][0]']               \n",
            "                                                                                                  \n",
            " dense_27 (Dense)               (None, 10)           330         ['leaky_re_lu_14[0][0]']         \n",
            "                                                                                                  \n",
            "==================================================================================================\n",
            "Total params: 19,306\n",
            "Trainable params: 19,306\n",
            "Non-trainable params: 0\n",
            "__________________________________________________________________________________________________\n"
          ]
        }
      ]
    },
    {
      "cell_type": "code",
      "metadata": {
        "id": "41vU8M1gO_sD",
        "colab": {
          "base_uri": "https://localhost:8080/",
          "height": 487
        },
        "outputId": "9ed1ce3f-b18e-4d33-dedc-fd742f4d9d95"
      },
      "source": [
        "model3.compile(optimizer=tf.keras.optimizers.Adam(0.01),loss='sparse_categorical_crossentropy',metrics=['accuracy'])\n",
        "callbacks=[LearningRateScheduler(scheduler),ModelCheckpoint(filepath='best_model3.h5',monitor='val_microF1',mode='max',save_best_only=True,save_weights_only=True),Metrics(([X_test_pad_seq,X_test_mask],y_test))]\n",
        "model3.fit([X_train_pad_seq,X_train_mask],y_train,\n",
        "           epochs=50,\n",
        "           validation_data=([X_test_pad_seq,X_test_mask],y_test),callbacks=callbacks)"
      ],
      "execution_count": 105,
      "outputs": [
        {
          "output_type": "stream",
          "name": "stdout",
          "text": [
            "Epoch 1/50\n",
            "450/450 [==============================] - ETA: 0s - loss: 2.3209 - accuracy: 0.0995WARNING:tensorflow:Can save best model only with val_microF1 available, skipping.\n"
          ]
        },
        {
          "output_type": "stream",
          "name": "stderr",
          "text": [
            "WARNING:tensorflow:Can save best model only with val_microF1 available, skipping.\n"
          ]
        },
        {
          "output_type": "stream",
          "name": "stdout",
          "text": [
            "val_microF1 : 0.1125\n",
            "\b\b\b\b\b\b\b\b\b\b\b\b\b\b\b\b\b\b\b\b\b\b\b\b\b\b\b\b\b\b\b\b\b\b\b\b\b\b\b\b\b\b\b\b\b\b\b\b\b\b\b\b\b\b\b\b\b\b\b\b\b\b\b\b\b\b\b\b\b\b\b\b\b\b\b\b\b\b\b\b\b\b\b\b\r450/450 [==============================] - 251s 546ms/step - loss: 2.3209 - accuracy: 0.0995 - val_loss: 2.2980 - val_accuracy: 0.1125 - lr: 0.0100\n",
            "Epoch 2/50\n",
            " 22/450 [>.............................] - ETA: 3:45 - loss: 2.3073 - accuracy: 0.0980"
          ]
        },
        {
          "output_type": "error",
          "ename": "KeyboardInterrupt",
          "evalue": "ignored",
          "traceback": [
            "\u001b[0;31m---------------------------------------------------------------------------\u001b[0m",
            "\u001b[0;31mKeyboardInterrupt\u001b[0m                         Traceback (most recent call last)",
            "\u001b[0;32m<ipython-input-105-0351eeb7f8ae>\u001b[0m in \u001b[0;36m<module>\u001b[0;34m()\u001b[0m\n\u001b[1;32m      3\u001b[0m model3.fit([X_train_pad_seq,X_train_mask],y_train,\n\u001b[1;32m      4\u001b[0m            \u001b[0mepochs\u001b[0m\u001b[0;34m=\u001b[0m\u001b[0;36m50\u001b[0m\u001b[0;34m,\u001b[0m\u001b[0;34m\u001b[0m\u001b[0;34m\u001b[0m\u001b[0m\n\u001b[0;32m----> 5\u001b[0;31m            validation_data=([X_test_pad_seq,X_test_mask],y_test),callbacks=callbacks)\n\u001b[0m",
            "\u001b[0;32m/usr/local/lib/python3.7/dist-packages/keras/utils/traceback_utils.py\u001b[0m in \u001b[0;36merror_handler\u001b[0;34m(*args, **kwargs)\u001b[0m\n\u001b[1;32m     62\u001b[0m     \u001b[0mfiltered_tb\u001b[0m \u001b[0;34m=\u001b[0m \u001b[0;32mNone\u001b[0m\u001b[0;34m\u001b[0m\u001b[0;34m\u001b[0m\u001b[0m\n\u001b[1;32m     63\u001b[0m     \u001b[0;32mtry\u001b[0m\u001b[0;34m:\u001b[0m\u001b[0;34m\u001b[0m\u001b[0;34m\u001b[0m\u001b[0m\n\u001b[0;32m---> 64\u001b[0;31m       \u001b[0;32mreturn\u001b[0m \u001b[0mfn\u001b[0m\u001b[0;34m(\u001b[0m\u001b[0;34m*\u001b[0m\u001b[0margs\u001b[0m\u001b[0;34m,\u001b[0m \u001b[0;34m**\u001b[0m\u001b[0mkwargs\u001b[0m\u001b[0;34m)\u001b[0m\u001b[0;34m\u001b[0m\u001b[0;34m\u001b[0m\u001b[0m\n\u001b[0m\u001b[1;32m     65\u001b[0m     \u001b[0;32mexcept\u001b[0m \u001b[0mException\u001b[0m \u001b[0;32mas\u001b[0m \u001b[0me\u001b[0m\u001b[0;34m:\u001b[0m  \u001b[0;31m# pylint: disable=broad-except\u001b[0m\u001b[0;34m\u001b[0m\u001b[0;34m\u001b[0m\u001b[0m\n\u001b[1;32m     66\u001b[0m       \u001b[0mfiltered_tb\u001b[0m \u001b[0;34m=\u001b[0m \u001b[0m_process_traceback_frames\u001b[0m\u001b[0;34m(\u001b[0m\u001b[0me\u001b[0m\u001b[0;34m.\u001b[0m\u001b[0m__traceback__\u001b[0m\u001b[0;34m)\u001b[0m\u001b[0;34m\u001b[0m\u001b[0;34m\u001b[0m\u001b[0m\n",
            "\u001b[0;32m/usr/local/lib/python3.7/dist-packages/keras/engine/training.py\u001b[0m in \u001b[0;36mfit\u001b[0;34m(self, x, y, batch_size, epochs, verbose, callbacks, validation_split, validation_data, shuffle, class_weight, sample_weight, initial_epoch, steps_per_epoch, validation_steps, validation_batch_size, validation_freq, max_queue_size, workers, use_multiprocessing)\u001b[0m\n\u001b[1;32m   1382\u001b[0m                 _r=1):\n\u001b[1;32m   1383\u001b[0m               \u001b[0mcallbacks\u001b[0m\u001b[0;34m.\u001b[0m\u001b[0mon_train_batch_begin\u001b[0m\u001b[0;34m(\u001b[0m\u001b[0mstep\u001b[0m\u001b[0;34m)\u001b[0m\u001b[0;34m\u001b[0m\u001b[0;34m\u001b[0m\u001b[0m\n\u001b[0;32m-> 1384\u001b[0;31m               \u001b[0mtmp_logs\u001b[0m \u001b[0;34m=\u001b[0m \u001b[0mself\u001b[0m\u001b[0;34m.\u001b[0m\u001b[0mtrain_function\u001b[0m\u001b[0;34m(\u001b[0m\u001b[0miterator\u001b[0m\u001b[0;34m)\u001b[0m\u001b[0;34m\u001b[0m\u001b[0;34m\u001b[0m\u001b[0m\n\u001b[0m\u001b[1;32m   1385\u001b[0m               \u001b[0;32mif\u001b[0m \u001b[0mdata_handler\u001b[0m\u001b[0;34m.\u001b[0m\u001b[0mshould_sync\u001b[0m\u001b[0;34m:\u001b[0m\u001b[0;34m\u001b[0m\u001b[0;34m\u001b[0m\u001b[0m\n\u001b[1;32m   1386\u001b[0m                 \u001b[0mcontext\u001b[0m\u001b[0;34m.\u001b[0m\u001b[0masync_wait\u001b[0m\u001b[0;34m(\u001b[0m\u001b[0;34m)\u001b[0m\u001b[0;34m\u001b[0m\u001b[0;34m\u001b[0m\u001b[0m\n",
            "\u001b[0;32m/usr/local/lib/python3.7/dist-packages/tensorflow/python/util/traceback_utils.py\u001b[0m in \u001b[0;36merror_handler\u001b[0;34m(*args, **kwargs)\u001b[0m\n\u001b[1;32m    148\u001b[0m     \u001b[0mfiltered_tb\u001b[0m \u001b[0;34m=\u001b[0m \u001b[0;32mNone\u001b[0m\u001b[0;34m\u001b[0m\u001b[0;34m\u001b[0m\u001b[0m\n\u001b[1;32m    149\u001b[0m     \u001b[0;32mtry\u001b[0m\u001b[0;34m:\u001b[0m\u001b[0;34m\u001b[0m\u001b[0;34m\u001b[0m\u001b[0m\n\u001b[0;32m--> 150\u001b[0;31m       \u001b[0;32mreturn\u001b[0m \u001b[0mfn\u001b[0m\u001b[0;34m(\u001b[0m\u001b[0;34m*\u001b[0m\u001b[0margs\u001b[0m\u001b[0;34m,\u001b[0m \u001b[0;34m**\u001b[0m\u001b[0mkwargs\u001b[0m\u001b[0;34m)\u001b[0m\u001b[0;34m\u001b[0m\u001b[0;34m\u001b[0m\u001b[0m\n\u001b[0m\u001b[1;32m    151\u001b[0m     \u001b[0;32mexcept\u001b[0m \u001b[0mException\u001b[0m \u001b[0;32mas\u001b[0m \u001b[0me\u001b[0m\u001b[0;34m:\u001b[0m\u001b[0;34m\u001b[0m\u001b[0;34m\u001b[0m\u001b[0m\n\u001b[1;32m    152\u001b[0m       \u001b[0mfiltered_tb\u001b[0m \u001b[0;34m=\u001b[0m \u001b[0m_process_traceback_frames\u001b[0m\u001b[0;34m(\u001b[0m\u001b[0me\u001b[0m\u001b[0;34m.\u001b[0m\u001b[0m__traceback__\u001b[0m\u001b[0;34m)\u001b[0m\u001b[0;34m\u001b[0m\u001b[0;34m\u001b[0m\u001b[0m\n",
            "\u001b[0;32m/usr/local/lib/python3.7/dist-packages/tensorflow/python/eager/def_function.py\u001b[0m in \u001b[0;36m__call__\u001b[0;34m(self, *args, **kwds)\u001b[0m\n\u001b[1;32m    913\u001b[0m \u001b[0;34m\u001b[0m\u001b[0m\n\u001b[1;32m    914\u001b[0m       \u001b[0;32mwith\u001b[0m \u001b[0mOptionalXlaContext\u001b[0m\u001b[0;34m(\u001b[0m\u001b[0mself\u001b[0m\u001b[0;34m.\u001b[0m\u001b[0m_jit_compile\u001b[0m\u001b[0;34m)\u001b[0m\u001b[0;34m:\u001b[0m\u001b[0;34m\u001b[0m\u001b[0;34m\u001b[0m\u001b[0m\n\u001b[0;32m--> 915\u001b[0;31m         \u001b[0mresult\u001b[0m \u001b[0;34m=\u001b[0m \u001b[0mself\u001b[0m\u001b[0;34m.\u001b[0m\u001b[0m_call\u001b[0m\u001b[0;34m(\u001b[0m\u001b[0;34m*\u001b[0m\u001b[0margs\u001b[0m\u001b[0;34m,\u001b[0m \u001b[0;34m**\u001b[0m\u001b[0mkwds\u001b[0m\u001b[0;34m)\u001b[0m\u001b[0;34m\u001b[0m\u001b[0;34m\u001b[0m\u001b[0m\n\u001b[0m\u001b[1;32m    916\u001b[0m \u001b[0;34m\u001b[0m\u001b[0m\n\u001b[1;32m    917\u001b[0m       \u001b[0mnew_tracing_count\u001b[0m \u001b[0;34m=\u001b[0m \u001b[0mself\u001b[0m\u001b[0;34m.\u001b[0m\u001b[0mexperimental_get_tracing_count\u001b[0m\u001b[0;34m(\u001b[0m\u001b[0;34m)\u001b[0m\u001b[0;34m\u001b[0m\u001b[0;34m\u001b[0m\u001b[0m\n",
            "\u001b[0;32m/usr/local/lib/python3.7/dist-packages/tensorflow/python/eager/def_function.py\u001b[0m in \u001b[0;36m_call\u001b[0;34m(self, *args, **kwds)\u001b[0m\n\u001b[1;32m    945\u001b[0m       \u001b[0;31m# In this case we have created variables on the first call, so we run the\u001b[0m\u001b[0;34m\u001b[0m\u001b[0;34m\u001b[0m\u001b[0;34m\u001b[0m\u001b[0m\n\u001b[1;32m    946\u001b[0m       \u001b[0;31m# defunned version which is guaranteed to never create variables.\u001b[0m\u001b[0;34m\u001b[0m\u001b[0;34m\u001b[0m\u001b[0;34m\u001b[0m\u001b[0m\n\u001b[0;32m--> 947\u001b[0;31m       \u001b[0;32mreturn\u001b[0m \u001b[0mself\u001b[0m\u001b[0;34m.\u001b[0m\u001b[0m_stateless_fn\u001b[0m\u001b[0;34m(\u001b[0m\u001b[0;34m*\u001b[0m\u001b[0margs\u001b[0m\u001b[0;34m,\u001b[0m \u001b[0;34m**\u001b[0m\u001b[0mkwds\u001b[0m\u001b[0;34m)\u001b[0m  \u001b[0;31m# pylint: disable=not-callable\u001b[0m\u001b[0;34m\u001b[0m\u001b[0;34m\u001b[0m\u001b[0m\n\u001b[0m\u001b[1;32m    948\u001b[0m     \u001b[0;32melif\u001b[0m \u001b[0mself\u001b[0m\u001b[0;34m.\u001b[0m\u001b[0m_stateful_fn\u001b[0m \u001b[0;32mis\u001b[0m \u001b[0;32mnot\u001b[0m \u001b[0;32mNone\u001b[0m\u001b[0;34m:\u001b[0m\u001b[0;34m\u001b[0m\u001b[0;34m\u001b[0m\u001b[0m\n\u001b[1;32m    949\u001b[0m       \u001b[0;31m# Release the lock early so that multiple threads can perform the call\u001b[0m\u001b[0;34m\u001b[0m\u001b[0;34m\u001b[0m\u001b[0;34m\u001b[0m\u001b[0m\n",
            "\u001b[0;32m/usr/local/lib/python3.7/dist-packages/tensorflow/python/eager/function.py\u001b[0m in \u001b[0;36m__call__\u001b[0;34m(self, *args, **kwargs)\u001b[0m\n\u001b[1;32m   2955\u001b[0m        filtered_flat_args) = self._maybe_define_function(args, kwargs)\n\u001b[1;32m   2956\u001b[0m     return graph_function._call_flat(\n\u001b[0;32m-> 2957\u001b[0;31m         filtered_flat_args, captured_inputs=graph_function.captured_inputs)  # pylint: disable=protected-access\n\u001b[0m\u001b[1;32m   2958\u001b[0m \u001b[0;34m\u001b[0m\u001b[0m\n\u001b[1;32m   2959\u001b[0m   \u001b[0;34m@\u001b[0m\u001b[0mproperty\u001b[0m\u001b[0;34m\u001b[0m\u001b[0;34m\u001b[0m\u001b[0m\n",
            "\u001b[0;32m/usr/local/lib/python3.7/dist-packages/tensorflow/python/eager/function.py\u001b[0m in \u001b[0;36m_call_flat\u001b[0;34m(self, args, captured_inputs, cancellation_manager)\u001b[0m\n\u001b[1;32m   1852\u001b[0m       \u001b[0;31m# No tape is watching; skip to running the function.\u001b[0m\u001b[0;34m\u001b[0m\u001b[0;34m\u001b[0m\u001b[0;34m\u001b[0m\u001b[0m\n\u001b[1;32m   1853\u001b[0m       return self._build_call_outputs(self._inference_function.call(\n\u001b[0;32m-> 1854\u001b[0;31m           ctx, args, cancellation_manager=cancellation_manager))\n\u001b[0m\u001b[1;32m   1855\u001b[0m     forward_backward = self._select_forward_and_backward_functions(\n\u001b[1;32m   1856\u001b[0m         \u001b[0margs\u001b[0m\u001b[0;34m,\u001b[0m\u001b[0;34m\u001b[0m\u001b[0;34m\u001b[0m\u001b[0m\n",
            "\u001b[0;32m/usr/local/lib/python3.7/dist-packages/tensorflow/python/eager/function.py\u001b[0m in \u001b[0;36mcall\u001b[0;34m(self, ctx, args, cancellation_manager)\u001b[0m\n\u001b[1;32m    502\u001b[0m               \u001b[0minputs\u001b[0m\u001b[0;34m=\u001b[0m\u001b[0margs\u001b[0m\u001b[0;34m,\u001b[0m\u001b[0;34m\u001b[0m\u001b[0;34m\u001b[0m\u001b[0m\n\u001b[1;32m    503\u001b[0m               \u001b[0mattrs\u001b[0m\u001b[0;34m=\u001b[0m\u001b[0mattrs\u001b[0m\u001b[0;34m,\u001b[0m\u001b[0;34m\u001b[0m\u001b[0;34m\u001b[0m\u001b[0m\n\u001b[0;32m--> 504\u001b[0;31m               ctx=ctx)\n\u001b[0m\u001b[1;32m    505\u001b[0m         \u001b[0;32melse\u001b[0m\u001b[0;34m:\u001b[0m\u001b[0;34m\u001b[0m\u001b[0;34m\u001b[0m\u001b[0m\n\u001b[1;32m    506\u001b[0m           outputs = execute.execute_with_cancellation(\n",
            "\u001b[0;32m/usr/local/lib/python3.7/dist-packages/tensorflow/python/eager/execute.py\u001b[0m in \u001b[0;36mquick_execute\u001b[0;34m(op_name, num_outputs, inputs, attrs, ctx, name)\u001b[0m\n\u001b[1;32m     53\u001b[0m     \u001b[0mctx\u001b[0m\u001b[0;34m.\u001b[0m\u001b[0mensure_initialized\u001b[0m\u001b[0;34m(\u001b[0m\u001b[0;34m)\u001b[0m\u001b[0;34m\u001b[0m\u001b[0;34m\u001b[0m\u001b[0m\n\u001b[1;32m     54\u001b[0m     tensors = pywrap_tfe.TFE_Py_Execute(ctx._handle, device_name, op_name,\n\u001b[0;32m---> 55\u001b[0;31m                                         inputs, attrs, num_outputs)\n\u001b[0m\u001b[1;32m     56\u001b[0m   \u001b[0;32mexcept\u001b[0m \u001b[0mcore\u001b[0m\u001b[0;34m.\u001b[0m\u001b[0m_NotOkStatusException\u001b[0m \u001b[0;32mas\u001b[0m \u001b[0me\u001b[0m\u001b[0;34m:\u001b[0m\u001b[0;34m\u001b[0m\u001b[0;34m\u001b[0m\u001b[0m\n\u001b[1;32m     57\u001b[0m     \u001b[0;32mif\u001b[0m \u001b[0mname\u001b[0m \u001b[0;32mis\u001b[0m \u001b[0;32mnot\u001b[0m \u001b[0;32mNone\u001b[0m\u001b[0;34m:\u001b[0m\u001b[0;34m\u001b[0m\u001b[0;34m\u001b[0m\u001b[0m\n",
            "\u001b[0;31mKeyboardInterrupt\u001b[0m: "
          ]
        }
      ]
    },
    {
      "cell_type": "code",
      "source": [
        "model3.save_weights('/content/drive/MyDrive/Spoken digit/model3.h5')"
      ],
      "metadata": {
        "id": "oUv60KJDpIoZ"
      },
      "execution_count": 106,
      "outputs": []
    },
    {
      "cell_type": "markdown",
      "metadata": {
        "id": "vXY9uP7cO_sE"
      },
      "source": [
        "### 4. Data augmentation with spectogram data"
      ]
    },
    {
      "cell_type": "markdown",
      "metadata": {
        "id": "EShBfiERO_sE"
      },
      "source": [
        "1. use convert_to_spectrogram and convert the padded data from train and test data to spectogram data.\n",
        "2. The shape of train data will be 14400 x 64 x 35 and shape of test_data will be 400 x 64 x35\n",
        "3. Define the model similar to model 2 and fit the data"
      ]
    },
    {
      "cell_type": "code",
      "metadata": {
        "id": "QpVMCEW3O_sE",
        "colab": {
          "base_uri": "https://localhost:8080/"
        },
        "outputId": "aecb89b1-4105-4d6c-a1b0-222085a91ced"
      },
      "source": [
        "X_train_spectrogram=[]\n",
        "X_test_spectrogram=[]\n",
        "for i in X_train_pad_seq:\n",
        "  spectrum=convert_to_spectrogram(i)\n",
        "  X_train_spectrogram.append(spectrum)\n",
        "for i in X_test_pad_seq:\n",
        "  spectrum=convert_to_spectrogram(i)\n",
        "  X_test_spectrogram.append(spectrum)\n",
        "X_train_spectrogram=np.array(X_train_spectrogram)\n",
        "X_test_spectrogram=np.array(X_test_spectrogram)\n",
        "print(X_train_spectrogram.shape,X_test_spectrogram.shape)  "
      ],
      "execution_count": 107,
      "outputs": [
        {
          "output_type": "stream",
          "name": "stdout",
          "text": [
            "(14400, 64, 35) (400, 64, 35)\n"
          ]
        }
      ]
    },
    {
      "cell_type": "code",
      "metadata": {
        "id": "40RMwgJ6O_sE",
        "colab": {
          "base_uri": "https://localhost:8080/"
        },
        "outputId": "4fadd375-1abd-4310-9dc0-708567b073ce"
      },
      "source": [
        "input=Input(shape=(64,35))\n",
        "lstm=LSTM(25,return_sequences=True)(input)\n",
        "avg=tf.reduce_mean(lstm, axis=-1)\n",
        "dense=Dense(32)(avg)\n",
        "act=LeakyReLU()(dense)\n",
        "output=Dense(10,activation='softmax')(act)\n",
        "model4=Model(inputs=input,outputs=output)\n",
        "model4.summary()"
      ],
      "execution_count": 108,
      "outputs": [
        {
          "output_type": "stream",
          "name": "stdout",
          "text": [
            "Model: \"model_13\"\n",
            "_________________________________________________________________\n",
            " Layer (type)                Output Shape              Param #   \n",
            "=================================================================\n",
            " input_21 (InputLayer)       [(None, 64, 35)]          0         \n",
            "                                                                 \n",
            " lstm_22 (LSTM)              (None, 64, 25)            6100      \n",
            "                                                                 \n",
            " tf.math.reduce_mean_8 (TFOp  (None, 64)               0         \n",
            " Lambda)                                                         \n",
            "                                                                 \n",
            " dense_28 (Dense)            (None, 32)                2080      \n",
            "                                                                 \n",
            " leaky_re_lu_15 (LeakyReLU)  (None, 32)                0         \n",
            "                                                                 \n",
            " dense_29 (Dense)            (None, 10)                330       \n",
            "                                                                 \n",
            "=================================================================\n",
            "Total params: 8,510\n",
            "Trainable params: 8,510\n",
            "Non-trainable params: 0\n",
            "_________________________________________________________________\n"
          ]
        }
      ]
    },
    {
      "cell_type": "code",
      "source": [
        "model4.compile(optimizer=tf.keras.optimizers.Adam(0.001),loss='sparse_categorical_crossentropy',metrics=['accuracy'])\n",
        "callbacks=[Metrics((X_test_spectrogram,y_test)),ModelCheckpoint(filepath='best_model4.h5',monitor='val_microF1',mode='max',save_best_only=True,save_weights_only=True)]\n",
        "model4.fit(X_train_spectrogram,y_train,epochs=25,validation_data=(X_test_spectrogram,y_test),callbacks=callbacks)"
      ],
      "metadata": {
        "colab": {
          "base_uri": "https://localhost:8080/",
          "height": 1000
        },
        "id": "JEBeOAAYsj0O",
        "outputId": "8b9a9b03-348c-4c91-a60a-4905d4def8ff"
      },
      "execution_count": 109,
      "outputs": [
        {
          "output_type": "stream",
          "name": "stdout",
          "text": [
            "Epoch 1/25\n",
            "443/450 [============================>.] - ETA: 0s - loss: 1.8156 - accuracy: 0.3553val_microF1 : 0.6\n",
            "WARNING:tensorflow:Can save best model only with val_microF1 available, skipping.\n"
          ]
        },
        {
          "output_type": "stream",
          "name": "stderr",
          "text": [
            "WARNING:tensorflow:Can save best model only with val_microF1 available, skipping.\n"
          ]
        },
        {
          "output_type": "stream",
          "name": "stdout",
          "text": [
            "\b\b\b\b\b\b\b\b\b\b\b\b\b\b\b\b\b\b\b\b\b\b\b\b\b\b\b\b\b\b\b\b\b\b\b\b\b\b\b\b\b\b\b\b\b\b\b\b\b\b\b\b\b\b\b\b\b\b\b\b\b\b\b\b\b\b\b\b\b\b\b\b\b\b\b\b\b\b\b\b\b\b\b\b\r450/450 [==============================] - 6s 7ms/step - loss: 1.8070 - accuracy: 0.3592 - val_loss: 1.1697 - val_accuracy: 0.6000\n",
            "Epoch 2/25\n",
            "450/450 [==============================] - ETA: 0s - loss: 1.0411 - accuracy: 0.6369val_microF1 : 0.7425\n",
            "WARNING:tensorflow:Can save best model only with val_microF1 available, skipping.\n"
          ]
        },
        {
          "output_type": "stream",
          "name": "stderr",
          "text": [
            "WARNING:tensorflow:Can save best model only with val_microF1 available, skipping.\n"
          ]
        },
        {
          "output_type": "stream",
          "name": "stdout",
          "text": [
            "\b\b\b\b\b\b\b\b\b\b\b\b\b\b\b\b\b\b\b\b\b\b\b\b\b\b\b\b\b\b\b\b\b\b\b\b\b\b\b\b\b\b\b\b\b\b\b\b\b\b\b\b\b\b\b\b\b\b\b\b\b\b\b\b\b\b\b\b\b\b\b\b\b\b\b\b\b\b\b\b\b\b\b\b\r450/450 [==============================] - 2s 5ms/step - loss: 1.0411 - accuracy: 0.6369 - val_loss: 0.7768 - val_accuracy: 0.7425\n",
            "Epoch 3/25\n",
            "446/450 [============================>.] - ETA: 0s - loss: 0.8020 - accuracy: 0.7150val_microF1 : 0.8375\n",
            "WARNING:tensorflow:Can save best model only with val_microF1 available, skipping.\n"
          ]
        },
        {
          "output_type": "stream",
          "name": "stderr",
          "text": [
            "WARNING:tensorflow:Can save best model only with val_microF1 available, skipping.\n"
          ]
        },
        {
          "output_type": "stream",
          "name": "stdout",
          "text": [
            "\b\b\b\b\b\b\b\b\b\b\b\b\b\b\b\b\b\b\b\b\b\b\b\b\b\b\b\b\b\b\b\b\b\b\b\b\b\b\b\b\b\b\b\b\b\b\b\b\b\b\b\b\b\b\b\b\b\b\b\b\b\b\b\b\b\b\b\b\b\b\b\b\b\b\b\b\b\b\b\b\b\b\b\b\r450/450 [==============================] - 2s 5ms/step - loss: 0.8000 - accuracy: 0.7160 - val_loss: 0.5731 - val_accuracy: 0.8375\n",
            "Epoch 4/25\n",
            "444/450 [============================>.] - ETA: 0s - loss: 0.6745 - accuracy: 0.7651val_microF1 : 0.865\n",
            "WARNING:tensorflow:Can save best model only with val_microF1 available, skipping.\n"
          ]
        },
        {
          "output_type": "stream",
          "name": "stderr",
          "text": [
            "WARNING:tensorflow:Can save best model only with val_microF1 available, skipping.\n"
          ]
        },
        {
          "output_type": "stream",
          "name": "stdout",
          "text": [
            "\b\b\b\b\b\b\b\b\b\b\b\b\b\b\b\b\b\b\b\b\b\b\b\b\b\b\b\b\b\b\b\b\b\b\b\b\b\b\b\b\b\b\b\b\b\b\b\b\b\b\b\b\b\b\b\b\b\b\b\b\b\b\b\b\b\b\b\b\b\b\b\b\b\b\b\b\b\b\b\b\b\b\b\b\r450/450 [==============================] - 2s 5ms/step - loss: 0.6741 - accuracy: 0.7647 - val_loss: 0.5273 - val_accuracy: 0.8650\n",
            "Epoch 5/25\n",
            "449/450 [============================>.] - ETA: 0s - loss: 0.6022 - accuracy: 0.7900val_microF1 : 0.8575\n",
            "WARNING:tensorflow:Can save best model only with val_microF1 available, skipping.\n"
          ]
        },
        {
          "output_type": "stream",
          "name": "stderr",
          "text": [
            "WARNING:tensorflow:Can save best model only with val_microF1 available, skipping.\n"
          ]
        },
        {
          "output_type": "stream",
          "name": "stdout",
          "text": [
            "\b\b\b\b\b\b\b\b\b\b\b\b\b\b\b\b\b\b\b\b\b\b\b\b\b\b\b\b\b\b\b\b\b\b\b\b\b\b\b\b\b\b\b\b\b\b\b\b\b\b\b\b\b\b\b\b\b\b\b\b\b\b\b\b\b\b\b\b\b\b\b\b\b\b\b\b\b\b\b\b\b\b\b\b\r450/450 [==============================] - 2s 5ms/step - loss: 0.6021 - accuracy: 0.7899 - val_loss: 0.4803 - val_accuracy: 0.8575\n",
            "Epoch 6/25\n",
            "447/450 [============================>.] - ETA: 0s - loss: 0.5589 - accuracy: 0.8077val_microF1 : 0.87\n",
            "WARNING:tensorflow:Can save best model only with val_microF1 available, skipping.\n"
          ]
        },
        {
          "output_type": "stream",
          "name": "stderr",
          "text": [
            "WARNING:tensorflow:Can save best model only with val_microF1 available, skipping.\n"
          ]
        },
        {
          "output_type": "stream",
          "name": "stdout",
          "text": [
            "\b\b\b\b\b\b\b\b\b\b\b\b\b\b\b\b\b\b\b\b\b\b\b\b\b\b\b\b\b\b\b\b\b\b\b\b\b\b\b\b\b\b\b\b\b\b\b\b\b\b\b\b\b\b\b\b\b\b\b\b\b\b\b\b\b\b\b\b\b\b\b\b\b\b\b\b\b\b\b\b\b\b\b\b\r450/450 [==============================] - 3s 6ms/step - loss: 0.5601 - accuracy: 0.8071 - val_loss: 0.4157 - val_accuracy: 0.8700\n",
            "Epoch 7/25\n",
            "450/450 [==============================] - ETA: 0s - loss: 0.5233 - accuracy: 0.8217val_microF1 : 0.8675\n",
            "WARNING:tensorflow:Can save best model only with val_microF1 available, skipping.\n"
          ]
        },
        {
          "output_type": "stream",
          "name": "stderr",
          "text": [
            "WARNING:tensorflow:Can save best model only with val_microF1 available, skipping.\n"
          ]
        },
        {
          "output_type": "stream",
          "name": "stdout",
          "text": [
            "\b\b\b\b\b\b\b\b\b\b\b\b\b\b\b\b\b\b\b\b\b\b\b\b\b\b\b\b\b\b\b\b\b\b\b\b\b\b\b\b\b\b\b\b\b\b\b\b\b\b\b\b\b\b\b\b\b\b\b\b\b\b\b\b\b\b\b\b\b\b\b\b\b\b\b\b\b\b\b\b\b\b\b\b\r450/450 [==============================] - 4s 9ms/step - loss: 0.5233 - accuracy: 0.8217 - val_loss: 0.3915 - val_accuracy: 0.8675\n",
            "Epoch 8/25\n",
            "445/450 [============================>.] - ETA: 0s - loss: 0.4883 - accuracy: 0.8322val_microF1 : 0.9025\n",
            "WARNING:tensorflow:Can save best model only with val_microF1 available, skipping.\n"
          ]
        },
        {
          "output_type": "stream",
          "name": "stderr",
          "text": [
            "WARNING:tensorflow:Can save best model only with val_microF1 available, skipping.\n"
          ]
        },
        {
          "output_type": "stream",
          "name": "stdout",
          "text": [
            "\b\b\b\b\b\b\b\b\b\b\b\b\b\b\b\b\b\b\b\b\b\b\b\b\b\b\b\b\b\b\b\b\b\b\b\b\b\b\b\b\b\b\b\b\b\b\b\b\b\b\b\b\b\b\b\b\b\b\b\b\b\b\b\b\b\b\b\b\b\b\b\b\b\b\b\b\b\b\b\b\b\b\b\b\r450/450 [==============================] - 3s 7ms/step - loss: 0.4884 - accuracy: 0.8322 - val_loss: 0.3593 - val_accuracy: 0.9025\n",
            "Epoch 9/25\n",
            "444/450 [============================>.] - ETA: 0s - loss: 0.4761 - accuracy: 0.8359val_microF1 : 0.8825\n",
            "WARNING:tensorflow:Can save best model only with val_microF1 available, skipping.\n"
          ]
        },
        {
          "output_type": "stream",
          "name": "stderr",
          "text": [
            "WARNING:tensorflow:Can save best model only with val_microF1 available, skipping.\n"
          ]
        },
        {
          "output_type": "stream",
          "name": "stdout",
          "text": [
            "\b\b\b\b\b\b\b\b\b\b\b\b\b\b\b\b\b\b\b\b\b\b\b\b\b\b\b\b\b\b\b\b\b\b\b\b\b\b\b\b\b\b\b\b\b\b\b\b\b\b\b\b\b\b\b\b\b\b\b\b\b\b\b\b\b\b\b\b\b\b\b\b\b\b\b\b\b\b\b\b\b\b\b\b\r450/450 [==============================] - 2s 5ms/step - loss: 0.4760 - accuracy: 0.8361 - val_loss: 0.3491 - val_accuracy: 0.8825\n",
            "Epoch 10/25\n",
            "309/450 [===================>..........] - ETA: 0s - loss: 0.4546 - accuracy: 0.8415"
          ]
        },
        {
          "output_type": "error",
          "ename": "KeyboardInterrupt",
          "evalue": "ignored",
          "traceback": [
            "\u001b[0;31m---------------------------------------------------------------------------\u001b[0m",
            "\u001b[0;31mKeyboardInterrupt\u001b[0m                         Traceback (most recent call last)",
            "\u001b[0;32m<ipython-input-109-a25d96665e3f>\u001b[0m in \u001b[0;36m<module>\u001b[0;34m()\u001b[0m\n\u001b[1;32m      1\u001b[0m \u001b[0mmodel4\u001b[0m\u001b[0;34m.\u001b[0m\u001b[0mcompile\u001b[0m\u001b[0;34m(\u001b[0m\u001b[0moptimizer\u001b[0m\u001b[0;34m=\u001b[0m\u001b[0mtf\u001b[0m\u001b[0;34m.\u001b[0m\u001b[0mkeras\u001b[0m\u001b[0;34m.\u001b[0m\u001b[0moptimizers\u001b[0m\u001b[0;34m.\u001b[0m\u001b[0mAdam\u001b[0m\u001b[0;34m(\u001b[0m\u001b[0;36m0.001\u001b[0m\u001b[0;34m)\u001b[0m\u001b[0;34m,\u001b[0m\u001b[0mloss\u001b[0m\u001b[0;34m=\u001b[0m\u001b[0;34m'sparse_categorical_crossentropy'\u001b[0m\u001b[0;34m,\u001b[0m\u001b[0mmetrics\u001b[0m\u001b[0;34m=\u001b[0m\u001b[0;34m[\u001b[0m\u001b[0;34m'accuracy'\u001b[0m\u001b[0;34m]\u001b[0m\u001b[0;34m)\u001b[0m\u001b[0;34m\u001b[0m\u001b[0;34m\u001b[0m\u001b[0m\n\u001b[1;32m      2\u001b[0m \u001b[0mcallbacks\u001b[0m\u001b[0;34m=\u001b[0m\u001b[0;34m[\u001b[0m\u001b[0mMetrics\u001b[0m\u001b[0;34m(\u001b[0m\u001b[0;34m(\u001b[0m\u001b[0mX_test_spectrogram\u001b[0m\u001b[0;34m,\u001b[0m\u001b[0my_test\u001b[0m\u001b[0;34m)\u001b[0m\u001b[0;34m)\u001b[0m\u001b[0;34m,\u001b[0m\u001b[0mModelCheckpoint\u001b[0m\u001b[0;34m(\u001b[0m\u001b[0mfilepath\u001b[0m\u001b[0;34m=\u001b[0m\u001b[0;34m'best_model4.h5'\u001b[0m\u001b[0;34m,\u001b[0m\u001b[0mmonitor\u001b[0m\u001b[0;34m=\u001b[0m\u001b[0;34m'val_microF1'\u001b[0m\u001b[0;34m,\u001b[0m\u001b[0mmode\u001b[0m\u001b[0;34m=\u001b[0m\u001b[0;34m'max'\u001b[0m\u001b[0;34m,\u001b[0m\u001b[0msave_best_only\u001b[0m\u001b[0;34m=\u001b[0m\u001b[0;32mTrue\u001b[0m\u001b[0;34m,\u001b[0m\u001b[0msave_weights_only\u001b[0m\u001b[0;34m=\u001b[0m\u001b[0;32mTrue\u001b[0m\u001b[0;34m)\u001b[0m\u001b[0;34m]\u001b[0m\u001b[0;34m\u001b[0m\u001b[0;34m\u001b[0m\u001b[0m\n\u001b[0;32m----> 3\u001b[0;31m \u001b[0mmodel4\u001b[0m\u001b[0;34m.\u001b[0m\u001b[0mfit\u001b[0m\u001b[0;34m(\u001b[0m\u001b[0mX_train_spectrogram\u001b[0m\u001b[0;34m,\u001b[0m\u001b[0my_train\u001b[0m\u001b[0;34m,\u001b[0m\u001b[0mepochs\u001b[0m\u001b[0;34m=\u001b[0m\u001b[0;36m25\u001b[0m\u001b[0;34m,\u001b[0m\u001b[0mvalidation_data\u001b[0m\u001b[0;34m=\u001b[0m\u001b[0;34m(\u001b[0m\u001b[0mX_test_spectrogram\u001b[0m\u001b[0;34m,\u001b[0m\u001b[0my_test\u001b[0m\u001b[0;34m)\u001b[0m\u001b[0;34m,\u001b[0m\u001b[0mcallbacks\u001b[0m\u001b[0;34m=\u001b[0m\u001b[0mcallbacks\u001b[0m\u001b[0;34m)\u001b[0m\u001b[0;34m\u001b[0m\u001b[0;34m\u001b[0m\u001b[0m\n\u001b[0m",
            "\u001b[0;32m/usr/local/lib/python3.7/dist-packages/keras/utils/traceback_utils.py\u001b[0m in \u001b[0;36merror_handler\u001b[0;34m(*args, **kwargs)\u001b[0m\n\u001b[1;32m     62\u001b[0m     \u001b[0mfiltered_tb\u001b[0m \u001b[0;34m=\u001b[0m \u001b[0;32mNone\u001b[0m\u001b[0;34m\u001b[0m\u001b[0;34m\u001b[0m\u001b[0m\n\u001b[1;32m     63\u001b[0m     \u001b[0;32mtry\u001b[0m\u001b[0;34m:\u001b[0m\u001b[0;34m\u001b[0m\u001b[0;34m\u001b[0m\u001b[0m\n\u001b[0;32m---> 64\u001b[0;31m       \u001b[0;32mreturn\u001b[0m \u001b[0mfn\u001b[0m\u001b[0;34m(\u001b[0m\u001b[0;34m*\u001b[0m\u001b[0margs\u001b[0m\u001b[0;34m,\u001b[0m \u001b[0;34m**\u001b[0m\u001b[0mkwargs\u001b[0m\u001b[0;34m)\u001b[0m\u001b[0;34m\u001b[0m\u001b[0;34m\u001b[0m\u001b[0m\n\u001b[0m\u001b[1;32m     65\u001b[0m     \u001b[0;32mexcept\u001b[0m \u001b[0mException\u001b[0m \u001b[0;32mas\u001b[0m \u001b[0me\u001b[0m\u001b[0;34m:\u001b[0m  \u001b[0;31m# pylint: disable=broad-except\u001b[0m\u001b[0;34m\u001b[0m\u001b[0;34m\u001b[0m\u001b[0m\n\u001b[1;32m     66\u001b[0m       \u001b[0mfiltered_tb\u001b[0m \u001b[0;34m=\u001b[0m \u001b[0m_process_traceback_frames\u001b[0m\u001b[0;34m(\u001b[0m\u001b[0me\u001b[0m\u001b[0;34m.\u001b[0m\u001b[0m__traceback__\u001b[0m\u001b[0;34m)\u001b[0m\u001b[0;34m\u001b[0m\u001b[0;34m\u001b[0m\u001b[0m\n",
            "\u001b[0;32m/usr/local/lib/python3.7/dist-packages/keras/engine/training.py\u001b[0m in \u001b[0;36mfit\u001b[0;34m(self, x, y, batch_size, epochs, verbose, callbacks, validation_split, validation_data, shuffle, class_weight, sample_weight, initial_epoch, steps_per_epoch, validation_steps, validation_batch_size, validation_freq, max_queue_size, workers, use_multiprocessing)\u001b[0m\n\u001b[1;32m   1382\u001b[0m                 _r=1):\n\u001b[1;32m   1383\u001b[0m               \u001b[0mcallbacks\u001b[0m\u001b[0;34m.\u001b[0m\u001b[0mon_train_batch_begin\u001b[0m\u001b[0;34m(\u001b[0m\u001b[0mstep\u001b[0m\u001b[0;34m)\u001b[0m\u001b[0;34m\u001b[0m\u001b[0;34m\u001b[0m\u001b[0m\n\u001b[0;32m-> 1384\u001b[0;31m               \u001b[0mtmp_logs\u001b[0m \u001b[0;34m=\u001b[0m \u001b[0mself\u001b[0m\u001b[0;34m.\u001b[0m\u001b[0mtrain_function\u001b[0m\u001b[0;34m(\u001b[0m\u001b[0miterator\u001b[0m\u001b[0;34m)\u001b[0m\u001b[0;34m\u001b[0m\u001b[0;34m\u001b[0m\u001b[0m\n\u001b[0m\u001b[1;32m   1385\u001b[0m               \u001b[0;32mif\u001b[0m \u001b[0mdata_handler\u001b[0m\u001b[0;34m.\u001b[0m\u001b[0mshould_sync\u001b[0m\u001b[0;34m:\u001b[0m\u001b[0;34m\u001b[0m\u001b[0;34m\u001b[0m\u001b[0m\n\u001b[1;32m   1386\u001b[0m                 \u001b[0mcontext\u001b[0m\u001b[0;34m.\u001b[0m\u001b[0masync_wait\u001b[0m\u001b[0;34m(\u001b[0m\u001b[0;34m)\u001b[0m\u001b[0;34m\u001b[0m\u001b[0;34m\u001b[0m\u001b[0m\n",
            "\u001b[0;32m/usr/local/lib/python3.7/dist-packages/tensorflow/python/util/traceback_utils.py\u001b[0m in \u001b[0;36merror_handler\u001b[0;34m(*args, **kwargs)\u001b[0m\n\u001b[1;32m    148\u001b[0m     \u001b[0mfiltered_tb\u001b[0m \u001b[0;34m=\u001b[0m \u001b[0;32mNone\u001b[0m\u001b[0;34m\u001b[0m\u001b[0;34m\u001b[0m\u001b[0m\n\u001b[1;32m    149\u001b[0m     \u001b[0;32mtry\u001b[0m\u001b[0;34m:\u001b[0m\u001b[0;34m\u001b[0m\u001b[0;34m\u001b[0m\u001b[0m\n\u001b[0;32m--> 150\u001b[0;31m       \u001b[0;32mreturn\u001b[0m \u001b[0mfn\u001b[0m\u001b[0;34m(\u001b[0m\u001b[0;34m*\u001b[0m\u001b[0margs\u001b[0m\u001b[0;34m,\u001b[0m \u001b[0;34m**\u001b[0m\u001b[0mkwargs\u001b[0m\u001b[0;34m)\u001b[0m\u001b[0;34m\u001b[0m\u001b[0;34m\u001b[0m\u001b[0m\n\u001b[0m\u001b[1;32m    151\u001b[0m     \u001b[0;32mexcept\u001b[0m \u001b[0mException\u001b[0m \u001b[0;32mas\u001b[0m \u001b[0me\u001b[0m\u001b[0;34m:\u001b[0m\u001b[0;34m\u001b[0m\u001b[0;34m\u001b[0m\u001b[0m\n\u001b[1;32m    152\u001b[0m       \u001b[0mfiltered_tb\u001b[0m \u001b[0;34m=\u001b[0m \u001b[0m_process_traceback_frames\u001b[0m\u001b[0;34m(\u001b[0m\u001b[0me\u001b[0m\u001b[0;34m.\u001b[0m\u001b[0m__traceback__\u001b[0m\u001b[0;34m)\u001b[0m\u001b[0;34m\u001b[0m\u001b[0;34m\u001b[0m\u001b[0m\n",
            "\u001b[0;32m/usr/local/lib/python3.7/dist-packages/tensorflow/python/eager/def_function.py\u001b[0m in \u001b[0;36m__call__\u001b[0;34m(self, *args, **kwds)\u001b[0m\n\u001b[1;32m    913\u001b[0m \u001b[0;34m\u001b[0m\u001b[0m\n\u001b[1;32m    914\u001b[0m       \u001b[0;32mwith\u001b[0m \u001b[0mOptionalXlaContext\u001b[0m\u001b[0;34m(\u001b[0m\u001b[0mself\u001b[0m\u001b[0;34m.\u001b[0m\u001b[0m_jit_compile\u001b[0m\u001b[0;34m)\u001b[0m\u001b[0;34m:\u001b[0m\u001b[0;34m\u001b[0m\u001b[0;34m\u001b[0m\u001b[0m\n\u001b[0;32m--> 915\u001b[0;31m         \u001b[0mresult\u001b[0m \u001b[0;34m=\u001b[0m \u001b[0mself\u001b[0m\u001b[0;34m.\u001b[0m\u001b[0m_call\u001b[0m\u001b[0;34m(\u001b[0m\u001b[0;34m*\u001b[0m\u001b[0margs\u001b[0m\u001b[0;34m,\u001b[0m \u001b[0;34m**\u001b[0m\u001b[0mkwds\u001b[0m\u001b[0;34m)\u001b[0m\u001b[0;34m\u001b[0m\u001b[0;34m\u001b[0m\u001b[0m\n\u001b[0m\u001b[1;32m    916\u001b[0m \u001b[0;34m\u001b[0m\u001b[0m\n\u001b[1;32m    917\u001b[0m       \u001b[0mnew_tracing_count\u001b[0m \u001b[0;34m=\u001b[0m \u001b[0mself\u001b[0m\u001b[0;34m.\u001b[0m\u001b[0mexperimental_get_tracing_count\u001b[0m\u001b[0;34m(\u001b[0m\u001b[0;34m)\u001b[0m\u001b[0;34m\u001b[0m\u001b[0;34m\u001b[0m\u001b[0m\n",
            "\u001b[0;32m/usr/local/lib/python3.7/dist-packages/tensorflow/python/eager/def_function.py\u001b[0m in \u001b[0;36m_call\u001b[0;34m(self, *args, **kwds)\u001b[0m\n\u001b[1;32m    945\u001b[0m       \u001b[0;31m# In this case we have created variables on the first call, so we run the\u001b[0m\u001b[0;34m\u001b[0m\u001b[0;34m\u001b[0m\u001b[0;34m\u001b[0m\u001b[0m\n\u001b[1;32m    946\u001b[0m       \u001b[0;31m# defunned version which is guaranteed to never create variables.\u001b[0m\u001b[0;34m\u001b[0m\u001b[0;34m\u001b[0m\u001b[0;34m\u001b[0m\u001b[0m\n\u001b[0;32m--> 947\u001b[0;31m       \u001b[0;32mreturn\u001b[0m \u001b[0mself\u001b[0m\u001b[0;34m.\u001b[0m\u001b[0m_stateless_fn\u001b[0m\u001b[0;34m(\u001b[0m\u001b[0;34m*\u001b[0m\u001b[0margs\u001b[0m\u001b[0;34m,\u001b[0m \u001b[0;34m**\u001b[0m\u001b[0mkwds\u001b[0m\u001b[0;34m)\u001b[0m  \u001b[0;31m# pylint: disable=not-callable\u001b[0m\u001b[0;34m\u001b[0m\u001b[0;34m\u001b[0m\u001b[0m\n\u001b[0m\u001b[1;32m    948\u001b[0m     \u001b[0;32melif\u001b[0m \u001b[0mself\u001b[0m\u001b[0;34m.\u001b[0m\u001b[0m_stateful_fn\u001b[0m \u001b[0;32mis\u001b[0m \u001b[0;32mnot\u001b[0m \u001b[0;32mNone\u001b[0m\u001b[0;34m:\u001b[0m\u001b[0;34m\u001b[0m\u001b[0;34m\u001b[0m\u001b[0m\n\u001b[1;32m    949\u001b[0m       \u001b[0;31m# Release the lock early so that multiple threads can perform the call\u001b[0m\u001b[0;34m\u001b[0m\u001b[0;34m\u001b[0m\u001b[0;34m\u001b[0m\u001b[0m\n",
            "\u001b[0;32m/usr/local/lib/python3.7/dist-packages/tensorflow/python/eager/function.py\u001b[0m in \u001b[0;36m__call__\u001b[0;34m(self, *args, **kwargs)\u001b[0m\n\u001b[1;32m   2955\u001b[0m        filtered_flat_args) = self._maybe_define_function(args, kwargs)\n\u001b[1;32m   2956\u001b[0m     return graph_function._call_flat(\n\u001b[0;32m-> 2957\u001b[0;31m         filtered_flat_args, captured_inputs=graph_function.captured_inputs)  # pylint: disable=protected-access\n\u001b[0m\u001b[1;32m   2958\u001b[0m \u001b[0;34m\u001b[0m\u001b[0m\n\u001b[1;32m   2959\u001b[0m   \u001b[0;34m@\u001b[0m\u001b[0mproperty\u001b[0m\u001b[0;34m\u001b[0m\u001b[0;34m\u001b[0m\u001b[0m\n",
            "\u001b[0;32m/usr/local/lib/python3.7/dist-packages/tensorflow/python/eager/function.py\u001b[0m in \u001b[0;36m_call_flat\u001b[0;34m(self, args, captured_inputs, cancellation_manager)\u001b[0m\n\u001b[1;32m   1852\u001b[0m       \u001b[0;31m# No tape is watching; skip to running the function.\u001b[0m\u001b[0;34m\u001b[0m\u001b[0;34m\u001b[0m\u001b[0;34m\u001b[0m\u001b[0m\n\u001b[1;32m   1853\u001b[0m       return self._build_call_outputs(self._inference_function.call(\n\u001b[0;32m-> 1854\u001b[0;31m           ctx, args, cancellation_manager=cancellation_manager))\n\u001b[0m\u001b[1;32m   1855\u001b[0m     forward_backward = self._select_forward_and_backward_functions(\n\u001b[1;32m   1856\u001b[0m         \u001b[0margs\u001b[0m\u001b[0;34m,\u001b[0m\u001b[0;34m\u001b[0m\u001b[0;34m\u001b[0m\u001b[0m\n",
            "\u001b[0;32m/usr/local/lib/python3.7/dist-packages/tensorflow/python/eager/function.py\u001b[0m in \u001b[0;36mcall\u001b[0;34m(self, ctx, args, cancellation_manager)\u001b[0m\n\u001b[1;32m    502\u001b[0m               \u001b[0minputs\u001b[0m\u001b[0;34m=\u001b[0m\u001b[0margs\u001b[0m\u001b[0;34m,\u001b[0m\u001b[0;34m\u001b[0m\u001b[0;34m\u001b[0m\u001b[0m\n\u001b[1;32m    503\u001b[0m               \u001b[0mattrs\u001b[0m\u001b[0;34m=\u001b[0m\u001b[0mattrs\u001b[0m\u001b[0;34m,\u001b[0m\u001b[0;34m\u001b[0m\u001b[0;34m\u001b[0m\u001b[0m\n\u001b[0;32m--> 504\u001b[0;31m               ctx=ctx)\n\u001b[0m\u001b[1;32m    505\u001b[0m         \u001b[0;32melse\u001b[0m\u001b[0;34m:\u001b[0m\u001b[0;34m\u001b[0m\u001b[0;34m\u001b[0m\u001b[0m\n\u001b[1;32m    506\u001b[0m           outputs = execute.execute_with_cancellation(\n",
            "\u001b[0;32m/usr/local/lib/python3.7/dist-packages/tensorflow/python/eager/execute.py\u001b[0m in \u001b[0;36mquick_execute\u001b[0;34m(op_name, num_outputs, inputs, attrs, ctx, name)\u001b[0m\n\u001b[1;32m     53\u001b[0m     \u001b[0mctx\u001b[0m\u001b[0;34m.\u001b[0m\u001b[0mensure_initialized\u001b[0m\u001b[0;34m(\u001b[0m\u001b[0;34m)\u001b[0m\u001b[0;34m\u001b[0m\u001b[0;34m\u001b[0m\u001b[0m\n\u001b[1;32m     54\u001b[0m     tensors = pywrap_tfe.TFE_Py_Execute(ctx._handle, device_name, op_name,\n\u001b[0;32m---> 55\u001b[0;31m                                         inputs, attrs, num_outputs)\n\u001b[0m\u001b[1;32m     56\u001b[0m   \u001b[0;32mexcept\u001b[0m \u001b[0mcore\u001b[0m\u001b[0;34m.\u001b[0m\u001b[0m_NotOkStatusException\u001b[0m \u001b[0;32mas\u001b[0m \u001b[0me\u001b[0m\u001b[0;34m:\u001b[0m\u001b[0;34m\u001b[0m\u001b[0;34m\u001b[0m\u001b[0m\n\u001b[1;32m     57\u001b[0m     \u001b[0;32mif\u001b[0m \u001b[0mname\u001b[0m \u001b[0;32mis\u001b[0m \u001b[0;32mnot\u001b[0m \u001b[0;32mNone\u001b[0m\u001b[0;34m:\u001b[0m\u001b[0;34m\u001b[0m\u001b[0;34m\u001b[0m\u001b[0m\n",
            "\u001b[0;31mKeyboardInterrupt\u001b[0m: "
          ]
        }
      ]
    },
    {
      "cell_type": "code",
      "source": [
        "model4.save_weights('/content/drive/MyDrive/Spoken digit/model4.h5')"
      ],
      "metadata": {
        "id": "Fy3gnslEs16f"
      },
      "execution_count": 110,
      "outputs": []
    }
  ]
}